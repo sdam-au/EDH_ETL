{
 "cells": [
  {
   "cell_type": "code",
   "execution_count": 1,
   "metadata": {
    "colab": {
     "base_uri": "https://localhost:8080/",
     "height": 1000
    },
    "colab_type": "code",
    "id": "ysNNoibJHqOH",
    "outputId": "76dedb1e-a99c-4a4c-b810-6326b1053085"
   },
   "outputs": [],
   "source": [
    "### REQUIREMENTS\n",
    "import numpy as np\n",
    "import math\n",
    "import pandas as pd\n",
    "\n",
    "import sys\n",
    "### we do a lot of requests during the scrapping. Some of them with requests package, some of them with urllib\n",
    "import requests\n",
    "from bs4 import BeautifulSoup\n",
    "\n",
    "# to avoid errors, we sometime use time.sleep(N) before retrying a request\n",
    "import time\n",
    "# the input data have typically a json structure\n",
    "import json\n",
    "import getpass\n",
    "import io\n",
    "\n",
    "import datetime as dt\n",
    "# for simple paralel computing:\n",
    "from concurrent.futures import ThreadPoolExecutor\n",
    "\n",
    "import sddk"
   ]
  },
  {
   "cell_type": "code",
   "execution_count": 36,
   "metadata": {},
   "outputs": [],
   "source": [
    "import geopandas"
   ]
  },
  {
   "cell_type": "code",
   "execution_count": 2,
   "metadata": {
    "colab": {
     "base_uri": "https://localhost:8080/",
     "height": 85
    },
    "colab_type": "code",
    "id": "kHVL8s-M035V",
    "outputId": "ada467cc-61c6-4801-ae8c-95cf32499c9e"
   },
   "outputs": [
    {
     "name": "stdout",
     "output_type": "stream",
     "text": [
      "sciencedata.dk username (format '123456@au.dk'): 648597@au.dk\n",
      "sciencedata.dk password: ········\n",
      "connection with shared folder established with you as its owner\n",
      "endpoint variable has been configured to: https://sciencedata.dk/files/SDAM_root/\n"
     ]
    }
   ],
   "source": [
    "### configure session and groupurl\n",
    "conf = sddk.configure(\"SDAM_root\", \"648597@au.dk\")"
   ]
  },
  {
   "cell_type": "code",
   "execution_count": 52,
   "metadata": {},
   "outputs": [
    {
     "data": {
      "text/plain": [
       "<Response [200]>"
      ]
     },
     "execution_count": 52,
     "metadata": {},
     "output_type": "execute_result"
    }
   ],
   "source": [
    "resp = requests.get(\"https://edh-www.adw.uni-heidelberg.de/download/edhGeographicData.json\", headers=headers)\n",
    "resp"
   ]
  },
  {
   "cell_type": "code",
   "execution_count": 68,
   "metadata": {},
   "outputs": [
    {
     "ename": "AttributeError",
     "evalue": "module 'pandas' has no attribute 'read'",
     "output_type": "error",
     "traceback": [
      "\u001b[0;31m---------------------------------------------------------------------------\u001b[0m",
      "\u001b[0;31mAttributeError\u001b[0m                            Traceback (most recent call last)",
      "\u001b[0;32m<ipython-input-68-010b516f0c15>\u001b[0m in \u001b[0;36m<module>\u001b[0;34m\u001b[0m\n\u001b[0;32m----> 1\u001b[0;31m \u001b[0medh_geo\u001b[0m \u001b[0;34m=\u001b[0m \u001b[0mpd\u001b[0m\u001b[0;34m.\u001b[0m\u001b[0mread\u001b[0m\u001b[0;34m(\u001b[0m\u001b[0mio\u001b[0m\u001b[0;34m.\u001b[0m\u001b[0mBytesIO\u001b[0m\u001b[0;34m(\u001b[0m\u001b[0mresp\u001b[0m\u001b[0;34m.\u001b[0m\u001b[0mcontent\u001b[0m\u001b[0;34m)\u001b[0m\u001b[0;34m)\u001b[0m\u001b[0;34m\u001b[0m\u001b[0;34m\u001b[0m\u001b[0m\n\u001b[0m",
      "\u001b[0;32m/srv/conda/envs/notebook/lib/python3.7/site-packages/pandas/__init__.py\u001b[0m in \u001b[0;36m__getattr__\u001b[0;34m(name)\u001b[0m\n\u001b[1;32m    256\u001b[0m             \u001b[0;32mreturn\u001b[0m \u001b[0m_SparseArray\u001b[0m\u001b[0;34m\u001b[0m\u001b[0;34m\u001b[0m\u001b[0m\n\u001b[1;32m    257\u001b[0m \u001b[0;34m\u001b[0m\u001b[0m\n\u001b[0;32m--> 258\u001b[0;31m         \u001b[0;32mraise\u001b[0m \u001b[0mAttributeError\u001b[0m\u001b[0;34m(\u001b[0m\u001b[0;34mf\"module 'pandas' has no attribute '{name}'\"\u001b[0m\u001b[0;34m)\u001b[0m\u001b[0;34m\u001b[0m\u001b[0;34m\u001b[0m\u001b[0m\n\u001b[0m\u001b[1;32m    259\u001b[0m \u001b[0;34m\u001b[0m\u001b[0m\n\u001b[1;32m    260\u001b[0m \u001b[0;34m\u001b[0m\u001b[0m\n",
      "\u001b[0;31mAttributeError\u001b[0m: module 'pandas' has no attribute 'read'"
     ]
    }
   ],
   "source": [
    "edh_geo = pd.read(io.BytesIO(resp.content))"
   ]
  },
  {
   "cell_type": "code",
   "execution_count": 59,
   "metadata": {},
   "outputs": [
    {
     "data": {
      "text/html": [
       "<div>\n",
       "<style scoped>\n",
       "    .dataframe tbody tr th:only-of-type {\n",
       "        vertical-align: middle;\n",
       "    }\n",
       "\n",
       "    .dataframe tbody tr th {\n",
       "        vertical-align: top;\n",
       "    }\n",
       "\n",
       "    .dataframe thead th {\n",
       "        text-align: right;\n",
       "    }\n",
       "</style>\n",
       "<table border=\"1\" class=\"dataframe\">\n",
       "  <thead>\n",
       "    <tr style=\"text-align: right;\">\n",
       "      <th></th>\n",
       "      <th>pleiades_uri</th>\n",
       "      <th>trismegistos_geo_uri</th>\n",
       "      <th>ancient_findspot</th>\n",
       "      <th>uri</th>\n",
       "      <th>modern_findspot</th>\n",
       "      <th>geonames_uri</th>\n",
       "      <th>findspot_(village/street)</th>\n",
       "      <th>geometry</th>\n",
       "    </tr>\n",
       "  </thead>\n",
       "  <tbody>\n",
       "    <tr>\n",
       "      <th>0</th>\n",
       "      <td>https://pleiades.stoa.org/places/540639</td>\n",
       "      <td>https://www.trismegistos.org/place/15743</td>\n",
       "      <td>Anthedon</td>\n",
       "      <td>https://edh-www.adw.uni-heidelberg.de/edh/geog...</td>\n",
       "      <td>None</td>\n",
       "      <td>None</td>\n",
       "      <td>None</td>\n",
       "      <td>POINT (23.45165 38.49769)</td>\n",
       "    </tr>\n",
       "    <tr>\n",
       "      <th>1</th>\n",
       "      <td>https://pleiades.stoa.org/places/570316</td>\n",
       "      <td>https://www.trismegistos.org/place/15746</td>\n",
       "      <td>Isthmia</td>\n",
       "      <td>https://edh-www.adw.uni-heidelberg.de/edh/geog...</td>\n",
       "      <td>None</td>\n",
       "      <td>None</td>\n",
       "      <td>None</td>\n",
       "      <td>POINT (22.99266 37.91585)</td>\n",
       "    </tr>\n",
       "    <tr>\n",
       "      <th>2</th>\n",
       "      <td>None</td>\n",
       "      <td>https://www.trismegistos.org/place/1851</td>\n",
       "      <td>Lebadea</td>\n",
       "      <td>https://edh-www.adw.uni-heidelberg.de/edh/geog...</td>\n",
       "      <td>None</td>\n",
       "      <td>None</td>\n",
       "      <td>None</td>\n",
       "      <td>POINT (23.27334 38.22126)</td>\n",
       "    </tr>\n",
       "    <tr>\n",
       "      <th>3</th>\n",
       "      <td>None</td>\n",
       "      <td>https://www.trismegistos.org/place/1851</td>\n",
       "      <td>Mantinea</td>\n",
       "      <td>https://edh-www.adw.uni-heidelberg.de/edh/geog...</td>\n",
       "      <td>None</td>\n",
       "      <td>None</td>\n",
       "      <td>None</td>\n",
       "      <td>POINT (23.27334 38.22126)</td>\n",
       "    </tr>\n",
       "    <tr>\n",
       "      <th>4</th>\n",
       "      <td>https://pleiades.stoa.org/places/321678</td>\n",
       "      <td>https://www.trismegistos.org/place/1327</td>\n",
       "      <td>Megalopolis</td>\n",
       "      <td>https://edh-www.adw.uni-heidelberg.de/edh/geog...</td>\n",
       "      <td>None</td>\n",
       "      <td>None</td>\n",
       "      <td>None</td>\n",
       "      <td>POINT (22.87611 38.43582)</td>\n",
       "    </tr>\n",
       "  </tbody>\n",
       "</table>\n",
       "</div>"
      ],
      "text/plain": [
       "                              pleiades_uri  \\\n",
       "0  https://pleiades.stoa.org/places/540639   \n",
       "1  https://pleiades.stoa.org/places/570316   \n",
       "2                                     None   \n",
       "3                                     None   \n",
       "4  https://pleiades.stoa.org/places/321678   \n",
       "\n",
       "                       trismegistos_geo_uri ancient_findspot  \\\n",
       "0  https://www.trismegistos.org/place/15743         Anthedon   \n",
       "1  https://www.trismegistos.org/place/15746          Isthmia   \n",
       "2   https://www.trismegistos.org/place/1851          Lebadea   \n",
       "3   https://www.trismegistos.org/place/1851         Mantinea   \n",
       "4   https://www.trismegistos.org/place/1327      Megalopolis   \n",
       "\n",
       "                                                 uri modern_findspot  \\\n",
       "0  https://edh-www.adw.uni-heidelberg.de/edh/geog...            None   \n",
       "1  https://edh-www.adw.uni-heidelberg.de/edh/geog...            None   \n",
       "2  https://edh-www.adw.uni-heidelberg.de/edh/geog...            None   \n",
       "3  https://edh-www.adw.uni-heidelberg.de/edh/geog...            None   \n",
       "4  https://edh-www.adw.uni-heidelberg.de/edh/geog...            None   \n",
       "\n",
       "  geonames_uri findspot_(village/street)                   geometry  \n",
       "0         None                      None  POINT (23.45165 38.49769)  \n",
       "1         None                      None  POINT (22.99266 37.91585)  \n",
       "2         None                      None  POINT (23.27334 38.22126)  \n",
       "3         None                      None  POINT (23.27334 38.22126)  \n",
       "4         None                      None  POINT (22.87611 38.43582)  "
      ]
     },
     "execution_count": 59,
     "metadata": {},
     "output_type": "execute_result"
    }
   ],
   "source": [
    "edh_geo.head(5)"
   ]
  },
  {
   "cell_type": "code",
   "execution_count": 61,
   "metadata": {},
   "outputs": [],
   "source": [
    "geo_data_df = edh_geo.set_index(\"uri\")"
   ]
  },
  {
   "cell_type": "code",
   "execution_count": 62,
   "metadata": {},
   "outputs": [
    {
     "data": {
      "text/html": [
       "<div>\n",
       "<style scoped>\n",
       "    .dataframe tbody tr th:only-of-type {\n",
       "        vertical-align: middle;\n",
       "    }\n",
       "\n",
       "    .dataframe tbody tr th {\n",
       "        vertical-align: top;\n",
       "    }\n",
       "\n",
       "    .dataframe thead th {\n",
       "        text-align: right;\n",
       "    }\n",
       "</style>\n",
       "<table border=\"1\" class=\"dataframe\">\n",
       "  <thead>\n",
       "    <tr style=\"text-align: right;\">\n",
       "      <th></th>\n",
       "      <th>pleiades_uri</th>\n",
       "      <th>trismegistos_geo_uri</th>\n",
       "      <th>ancient_findspot</th>\n",
       "      <th>modern_findspot</th>\n",
       "      <th>geonames_uri</th>\n",
       "      <th>findspot_(village/street)</th>\n",
       "      <th>geometry</th>\n",
       "    </tr>\n",
       "    <tr>\n",
       "      <th>uri</th>\n",
       "      <th></th>\n",
       "      <th></th>\n",
       "      <th></th>\n",
       "      <th></th>\n",
       "      <th></th>\n",
       "      <th></th>\n",
       "      <th></th>\n",
       "    </tr>\n",
       "  </thead>\n",
       "  <tbody>\n",
       "    <tr>\n",
       "      <th>https://edh-www.adw.uni-heidelberg.de/edh/geographie/0</th>\n",
       "      <td>https://pleiades.stoa.org/places/540639</td>\n",
       "      <td>https://www.trismegistos.org/place/15743</td>\n",
       "      <td>Anthedon</td>\n",
       "      <td>None</td>\n",
       "      <td>None</td>\n",
       "      <td>None</td>\n",
       "      <td>POINT (23.45165 38.49769)</td>\n",
       "    </tr>\n",
       "    <tr>\n",
       "      <th>https://edh-www.adw.uni-heidelberg.de/edh/geographie/3</th>\n",
       "      <td>https://pleiades.stoa.org/places/570316</td>\n",
       "      <td>https://www.trismegistos.org/place/15746</td>\n",
       "      <td>Isthmia</td>\n",
       "      <td>None</td>\n",
       "      <td>None</td>\n",
       "      <td>None</td>\n",
       "      <td>POINT (22.99266 37.91585)</td>\n",
       "    </tr>\n",
       "    <tr>\n",
       "      <th>https://edh-www.adw.uni-heidelberg.de/edh/geographie/4</th>\n",
       "      <td>None</td>\n",
       "      <td>https://www.trismegistos.org/place/1851</td>\n",
       "      <td>Lebadea</td>\n",
       "      <td>None</td>\n",
       "      <td>None</td>\n",
       "      <td>None</td>\n",
       "      <td>POINT (23.27334 38.22126)</td>\n",
       "    </tr>\n",
       "    <tr>\n",
       "      <th>https://edh-www.adw.uni-heidelberg.de/edh/geographie/5</th>\n",
       "      <td>None</td>\n",
       "      <td>https://www.trismegistos.org/place/1851</td>\n",
       "      <td>Mantinea</td>\n",
       "      <td>None</td>\n",
       "      <td>None</td>\n",
       "      <td>None</td>\n",
       "      <td>POINT (23.27334 38.22126)</td>\n",
       "    </tr>\n",
       "    <tr>\n",
       "      <th>https://edh-www.adw.uni-heidelberg.de/edh/geographie/6</th>\n",
       "      <td>https://pleiades.stoa.org/places/321678</td>\n",
       "      <td>https://www.trismegistos.org/place/1327</td>\n",
       "      <td>Megalopolis</td>\n",
       "      <td>None</td>\n",
       "      <td>None</td>\n",
       "      <td>None</td>\n",
       "      <td>POINT (22.87611 38.43582)</td>\n",
       "    </tr>\n",
       "  </tbody>\n",
       "</table>\n",
       "</div>"
      ],
      "text/plain": [
       "                                                                               pleiades_uri  \\\n",
       "uri                                                                                           \n",
       "https://edh-www.adw.uni-heidelberg.de/edh/geogr...  https://pleiades.stoa.org/places/540639   \n",
       "https://edh-www.adw.uni-heidelberg.de/edh/geogr...  https://pleiades.stoa.org/places/570316   \n",
       "https://edh-www.adw.uni-heidelberg.de/edh/geogr...                                     None   \n",
       "https://edh-www.adw.uni-heidelberg.de/edh/geogr...                                     None   \n",
       "https://edh-www.adw.uni-heidelberg.de/edh/geogr...  https://pleiades.stoa.org/places/321678   \n",
       "\n",
       "                                                                        trismegistos_geo_uri  \\\n",
       "uri                                                                                            \n",
       "https://edh-www.adw.uni-heidelberg.de/edh/geogr...  https://www.trismegistos.org/place/15743   \n",
       "https://edh-www.adw.uni-heidelberg.de/edh/geogr...  https://www.trismegistos.org/place/15746   \n",
       "https://edh-www.adw.uni-heidelberg.de/edh/geogr...   https://www.trismegistos.org/place/1851   \n",
       "https://edh-www.adw.uni-heidelberg.de/edh/geogr...   https://www.trismegistos.org/place/1851   \n",
       "https://edh-www.adw.uni-heidelberg.de/edh/geogr...   https://www.trismegistos.org/place/1327   \n",
       "\n",
       "                                                   ancient_findspot  \\\n",
       "uri                                                                   \n",
       "https://edh-www.adw.uni-heidelberg.de/edh/geogr...         Anthedon   \n",
       "https://edh-www.adw.uni-heidelberg.de/edh/geogr...          Isthmia   \n",
       "https://edh-www.adw.uni-heidelberg.de/edh/geogr...          Lebadea   \n",
       "https://edh-www.adw.uni-heidelberg.de/edh/geogr...         Mantinea   \n",
       "https://edh-www.adw.uni-heidelberg.de/edh/geogr...      Megalopolis   \n",
       "\n",
       "                                                   modern_findspot  \\\n",
       "uri                                                                  \n",
       "https://edh-www.adw.uni-heidelberg.de/edh/geogr...            None   \n",
       "https://edh-www.adw.uni-heidelberg.de/edh/geogr...            None   \n",
       "https://edh-www.adw.uni-heidelberg.de/edh/geogr...            None   \n",
       "https://edh-www.adw.uni-heidelberg.de/edh/geogr...            None   \n",
       "https://edh-www.adw.uni-heidelberg.de/edh/geogr...            None   \n",
       "\n",
       "                                                   geonames_uri  \\\n",
       "uri                                                               \n",
       "https://edh-www.adw.uni-heidelberg.de/edh/geogr...         None   \n",
       "https://edh-www.adw.uni-heidelberg.de/edh/geogr...         None   \n",
       "https://edh-www.adw.uni-heidelberg.de/edh/geogr...         None   \n",
       "https://edh-www.adw.uni-heidelberg.de/edh/geogr...         None   \n",
       "https://edh-www.adw.uni-heidelberg.de/edh/geogr...         None   \n",
       "\n",
       "                                                   findspot_(village/street)  \\\n",
       "uri                                                                            \n",
       "https://edh-www.adw.uni-heidelberg.de/edh/geogr...                      None   \n",
       "https://edh-www.adw.uni-heidelberg.de/edh/geogr...                      None   \n",
       "https://edh-www.adw.uni-heidelberg.de/edh/geogr...                      None   \n",
       "https://edh-www.adw.uni-heidelberg.de/edh/geogr...                      None   \n",
       "https://edh-www.adw.uni-heidelberg.de/edh/geogr...                      None   \n",
       "\n",
       "                                                                     geometry  \n",
       "uri                                                                            \n",
       "https://edh-www.adw.uni-heidelberg.de/edh/geogr...  POINT (23.45165 38.49769)  \n",
       "https://edh-www.adw.uni-heidelberg.de/edh/geogr...  POINT (22.99266 37.91585)  \n",
       "https://edh-www.adw.uni-heidelberg.de/edh/geogr...  POINT (23.27334 38.22126)  \n",
       "https://edh-www.adw.uni-heidelberg.de/edh/geogr...  POINT (23.27334 38.22126)  \n",
       "https://edh-www.adw.uni-heidelberg.de/edh/geogr...  POINT (22.87611 38.43582)  "
      ]
     },
     "execution_count": 62,
     "metadata": {},
     "output_type": "execute_result"
    }
   ],
   "source": [
    "geo_data_df.head(5)"
   ]
  },
  {
   "cell_type": "code",
   "execution_count": null,
   "metadata": {},
   "outputs": [],
   "source": [
    "pd."
   ]
  },
  {
   "cell_type": "code",
   "execution_count": 64,
   "metadata": {},
   "outputs": [
    {
     "data": {
      "text/plain": [
       "<Response [204]>"
      ]
     },
     "execution_count": 64,
     "metadata": {},
     "output_type": "execute_result"
    }
   ],
   "source": [
    "conf[0].put(conf[1] + \"SDAM_data/EDH/EDH_geographies_raw.json\")"
   ]
  },
  {
   "cell_type": "code",
   "execution_count": null,
   "metadata": {},
   "outputs": [],
   "source": []
  },
  {
   "cell_type": "code",
   "execution_count": null,
   "metadata": {},
   "outputs": [],
   "source": []
  },
  {
   "cell_type": "markdown",
   "metadata": {
    "colab_type": "text",
    "id": "w2ETiHJcwwiP"
   },
   "source": [
    "# Geographies on the province basis"
   ]
  },
  {
   "cell_type": "code",
   "execution_count": 5,
   "metadata": {
    "colab": {
     "base_uri": "https://localhost:8080/",
     "height": 55
    },
    "colab_type": "code",
    "id": "MGDpoX-EcGjD",
    "outputId": "650babff-947c-4e27-ae76-7bfd5917b08d"
   },
   "outputs": [
    {
     "name": "stdout",
     "output_type": "stream",
     "text": [
      "{'provinces': {'Ach': 'Achaia', 'Aeg': 'Aegyptus', 'Aem': 'Aemilia (Regio VIII)', 'Afr': 'Africa Proconsularis', 'AlC': 'Alpes Cottiae', 'AlG': 'Alpes Graiae', 'AlM': 'Alpes Maritimae', 'AlP': 'Alpes \n"
     ]
    }
   ],
   "source": [
    "### extract names of provinces\n",
    "headers = {'User-Agent': ''}\n",
    "response = requests.get(\"https://edh-www.adw.uni-heidelberg.de/data/api/terms/province\", headers=headers)\n",
    "response\n",
    "json_data = response.json()\n",
    "print(str(json_data)[:200])"
   ]
  },
  {
   "cell_type": "code",
   "execution_count": 6,
   "metadata": {},
   "outputs": [
    {
     "data": {
      "text/plain": [
       "dict_keys(['Ach', 'Aeg', 'Aem', 'Afr', 'AlC', 'AlG', 'AlM', 'AlP', 'ApC', 'Aqu', 'Ara', 'Arm', 'Asi', 'Ass', 'Bae', 'Bar', 'Bel', 'BiP', 'BrL', 'Bri', 'Cap', 'Cil', 'Cor', 'Cre', 'Cyp', 'Cyr', 'Dac', 'Dal', 'Epi', 'Etr', 'Gal', 'GeI', 'GeS', 'HiC', 'Inc', 'Iud', 'LaC', 'Lig', 'Lug', 'Lus', 'LyP', 'MaC', 'MaT', 'Mak', 'Mes', 'MoI', 'MoS', 'Nar', 'Nor', 'Num', 'PaI', 'PaS', 'Pic', 'Rae', 'ReB', 'Rom', 'Sam', 'Sar', 'Sic', 'Syr', 'Thr', 'Tra', 'Tri', 'Umb', 'Val', 'VeH'])"
      ]
     },
     "execution_count": 6,
     "metadata": {},
     "output_type": "execute_result"
    }
   ],
   "source": [
    "json_data[\"provinces\"].keys()"
   ]
  },
  {
   "cell_type": "code",
   "execution_count": 25,
   "metadata": {},
   "outputs": [
    {
     "data": {
      "text/plain": [
       "30536"
      ]
     },
     "execution_count": 25,
     "metadata": {},
     "output_type": "execute_result"
    }
   ],
   "source": [
    "resp = requests.get(\"https://edh-www.adw.uni-heidelberg.de/data/api/geography?limit=1\", headers=headers)\n",
    "total = resp.json()[\"total\"]\n",
    "total"
   ]
  },
  {
   "cell_type": "code",
   "execution_count": 33,
   "metadata": {},
   "outputs": [
    {
     "data": {
      "text/plain": [
       "10000"
      ]
     },
     "execution_count": 33,
     "metadata": {},
     "output_type": "execute_result"
    }
   ],
   "source": [
    "resp = requests.get(\"https://edh-www.adw.uni-heidelberg.de/data/api/geography?limit=\" + str(10000), headers=headers)\n",
    "items = resp.json()[\"items\"]\n",
    "len(items)"
   ]
  },
  {
   "cell_type": "code",
   "execution_count": null,
   "metadata": {
    "colab": {
     "base_uri": "https://localhost:8080/",
     "height": 1000
    },
    "colab_type": "code",
    "id": "hHfLfvIMcG7j",
    "outputId": "2d1c0217-103a-4f22-e0e8-1c816d41b3de"
   },
   "outputs": [
    {
     "name": "stdout",
     "output_type": "stream",
     "text": [
      "Ach 183\n",
      "Aeg 65\n",
      "Aem 162\n",
      "Afr 1400\n",
      "AlC 59\n",
      "AlG 31\n",
      "AlM 173\n",
      "AlP 79\n",
      "ApC 204\n",
      "Aqu 212\n",
      "Ara 103\n",
      "Arm 2\n",
      "Asi 182\n",
      "Ass 0\n",
      "Bae 1305\n",
      "Bar 89\n",
      "Bel 429\n",
      "BiP 105\n",
      "BrL 79\n",
      "Bri 1950\n",
      "Cap 31\n",
      "Cil 48\n",
      "Cor 15\n",
      "Cre 29\n",
      "Cyp 21\n",
      "Cyr 24\n",
      "Dac 996\n",
      "Dal 2194\n",
      "Epi 77\n",
      "Etr 356\n",
      "Gal 89\n",
      "GeI 1064\n",
      "GeS 2661\n",
      "HiC 2553\n",
      "Inc 7\n",
      "Iud 83\n",
      "LaC 654\n",
      "Lig 131\n",
      "Lug 254\n",
      "Lus 746\n",
      "LyP 37\n",
      "MaC 298\n",
      "MaT 43\n",
      "Mak 434\n",
      "Mes 9\n",
      "MoI 888\n",
      "MoS 790\n",
      "Nar 635\n",
      "Nor 1504\n",
      "Num 333\n",
      "PaI 1316\n",
      "PaS 1623\n",
      "Pic 85\n",
      "Rae 729\n",
      "ReB 22\n",
      "Rom 734\n",
      "Sam 313\n",
      "Sar 81\n",
      "Sic 47\n",
      "Syr 154\n",
      "Thr 257\n",
      "Tra 111\n",
      "Tri 0\n",
      "Umb 212\n",
      "Val 0\n",
      "VeH 479\n",
      "CPU times: user 1.75 s, sys: 143 ms, total: 1.89 s\n",
      "Wall time: 2min 19s\n"
     ]
    }
   ],
   "source": [
    "###  generate a list of provinces, resp. their abbreviations\n",
    "%%time\n",
    "\n",
    "json_data = requests.get(\"https://edh-www.adw.uni-heidelberg.de/data/api/terms/province\").json()\n",
    "provinces = json_data[\"provinces\"].keys()\n",
    "\n",
    "### make the basic URL form\n",
    "URL_form_geo = \"https://edh-www.adw.uni-heidelberg.de/data/api/geography/search?\"\n",
    "\n",
    "### parse all find spot for each province \n",
    "### at them to the list\n",
    "geo_data = []\n",
    "for province in provinces:\n",
    "  total = requests.get(URL_form_geo + \"province=\" + province).json()[\"total\"]\n",
    "  response = requests.get(URL_form_geo + \"province=\" + province + \"&limit=\" + str(total))\n",
    "  geo_data.extend(response.json()[\"items\"])\n",
    "  print(province, total)"
   ]
  },
  {
   "cell_type": "code",
   "execution_count": null,
   "metadata": {
    "colab": {
     "base_uri": "https://localhost:8080/",
     "height": 35
    },
    "colab_type": "code",
    "id": "RpvQ2Jv5cHE5",
    "outputId": "7e1fc510-6fd7-4979-c989-f7f83e3579c1"
   },
   "outputs": [
    {
     "data": {
      "text/plain": [
       "29979"
      ]
     },
     "execution_count": 7,
     "metadata": {
      "tags": []
     },
     "output_type": "execute_result"
    }
   ],
   "source": [
    "### total amount of findspots\n",
    "len(geo_data)"
   ]
  },
  {
   "cell_type": "code",
   "execution_count": null,
   "metadata": {
    "colab": {
     "base_uri": "https://localhost:8080/",
     "height": 386
    },
    "colab_type": "code",
    "id": "HOhuYn6hdg0J",
    "outputId": "0aa66ffc-1908-48e9-a1ef-aaf764d566c8"
   },
   "outputs": [
    {
     "data": {
      "text/html": [
       "<div>\n",
       "<style scoped>\n",
       "    .dataframe tbody tr th:only-of-type {\n",
       "        vertical-align: middle;\n",
       "    }\n",
       "\n",
       "    .dataframe tbody tr th {\n",
       "        vertical-align: top;\n",
       "    }\n",
       "\n",
       "    .dataframe thead th {\n",
       "        text-align: right;\n",
       "    }\n",
       "</style>\n",
       "<table border=\"1\" class=\"dataframe\">\n",
       "  <thead>\n",
       "    <tr style=\"text-align: right;\">\n",
       "      <th></th>\n",
       "      <th>country</th>\n",
       "      <th>province</th>\n",
       "      <th>last_update</th>\n",
       "      <th>id</th>\n",
       "      <th>find_spot_ancient</th>\n",
       "      <th>coordinates</th>\n",
       "      <th>region</th>\n",
       "      <th>find_spot_modern</th>\n",
       "      <th>find_spot</th>\n",
       "      <th>pleiades_uri</th>\n",
       "      <th>geonames_uri</th>\n",
       "    </tr>\n",
       "    <tr>\n",
       "      <th>uri</th>\n",
       "      <th></th>\n",
       "      <th></th>\n",
       "      <th></th>\n",
       "      <th></th>\n",
       "      <th></th>\n",
       "      <th></th>\n",
       "      <th></th>\n",
       "      <th></th>\n",
       "      <th></th>\n",
       "      <th></th>\n",
       "      <th></th>\n",
       "    </tr>\n",
       "  </thead>\n",
       "  <tbody>\n",
       "    <tr>\n",
       "      <th>https://edh-www.adw.uni-heidelberg.de/edh/geographie/10</th>\n",
       "      <td>Greece</td>\n",
       "      <td>Achaia</td>\n",
       "      <td>2011-07-14</td>\n",
       "      <td>10</td>\n",
       "      <td>Ptoion</td>\n",
       "      <td>37.05,25.19</td>\n",
       "      <td>NaN</td>\n",
       "      <td>NaN</td>\n",
       "      <td>NaN</td>\n",
       "      <td>NaN</td>\n",
       "      <td>NaN</td>\n",
       "    </tr>\n",
       "    <tr>\n",
       "      <th>https://edh-www.adw.uni-heidelberg.de/edh/geographie/100</th>\n",
       "      <td>Greece</td>\n",
       "      <td>Achaia</td>\n",
       "      <td>2012-03-20</td>\n",
       "      <td>100</td>\n",
       "      <td>Athenae</td>\n",
       "      <td>37.983175,23.716647</td>\n",
       "      <td>Attikí</td>\n",
       "      <td>Athínai</td>\n",
       "      <td>Kerameikos</td>\n",
       "      <td>https://pleiades.stoa.org/places/579885</td>\n",
       "      <td>NaN</td>\n",
       "    </tr>\n",
       "    <tr>\n",
       "      <th>https://edh-www.adw.uni-heidelberg.de/edh/geographie/101</th>\n",
       "      <td>Greece</td>\n",
       "      <td>Achaia</td>\n",
       "      <td>2012-03-20</td>\n",
       "      <td>101</td>\n",
       "      <td>Athenae</td>\n",
       "      <td>37.983175,23.716647</td>\n",
       "      <td>Attikí</td>\n",
       "      <td>Athínai</td>\n",
       "      <td>Kerameikos bei Kirche Haghia Triada</td>\n",
       "      <td>https://pleiades.stoa.org/places/579885</td>\n",
       "      <td>NaN</td>\n",
       "    </tr>\n",
       "    <tr>\n",
       "      <th>https://edh-www.adw.uni-heidelberg.de/edh/geographie/102</th>\n",
       "      <td>Greece</td>\n",
       "      <td>Achaia</td>\n",
       "      <td>2012-03-20</td>\n",
       "      <td>102</td>\n",
       "      <td>Colonia Augusta Aroe Patrae</td>\n",
       "      <td>38.251123,21.741943</td>\n",
       "      <td>Dytikí Elláda</td>\n",
       "      <td>Pátrai</td>\n",
       "      <td>Kirche, sekundär verwendet</td>\n",
       "      <td>NaN</td>\n",
       "      <td>NaN</td>\n",
       "    </tr>\n",
       "    <tr>\n",
       "      <th>https://edh-www.adw.uni-heidelberg.de/edh/geographie/103</th>\n",
       "      <td>Greece</td>\n",
       "      <td>Achaia</td>\n",
       "      <td>2012-03-20</td>\n",
       "      <td>103</td>\n",
       "      <td>Colonia Laus Iulia Corinthus</td>\n",
       "      <td>37.939865,22.928467</td>\n",
       "      <td>Pelopónissos</td>\n",
       "      <td>Kórinthos</td>\n",
       "      <td>Kranion</td>\n",
       "      <td>NaN</td>\n",
       "      <td>NaN</td>\n",
       "    </tr>\n",
       "  </tbody>\n",
       "</table>\n",
       "</div>"
      ],
      "text/plain": [
       "                                                   country  ... geonames_uri\n",
       "uri                                                         ...             \n",
       "https://edh-www.adw.uni-heidelberg.de/edh/geogr...  Greece  ...          NaN\n",
       "https://edh-www.adw.uni-heidelberg.de/edh/geogr...  Greece  ...          NaN\n",
       "https://edh-www.adw.uni-heidelberg.de/edh/geogr...  Greece  ...          NaN\n",
       "https://edh-www.adw.uni-heidelberg.de/edh/geogr...  Greece  ...          NaN\n",
       "https://edh-www.adw.uni-heidelberg.de/edh/geogr...  Greece  ...          NaN\n",
       "\n",
       "[5 rows x 11 columns]"
      ]
     },
     "execution_count": 8,
     "metadata": {
      "tags": []
     },
     "output_type": "execute_result"
    }
   ],
   "source": [
    "geo_data_df = pd.DataFrame(geo_data)\n",
    "geo_data_df.set_index(\"uri\", inplace=True)\n",
    "geo_data_df.head(5)"
   ]
  },
  {
   "cell_type": "markdown",
   "metadata": {
    "colab_type": "text",
    "id": "bO2NRXCld71V"
   },
   "source": [
    "## Upload the data to sciencedata.dk"
   ]
  },
  {
   "cell_type": "code",
   "execution_count": null,
   "metadata": {
    "colab": {
     "base_uri": "https://localhost:8080/",
     "height": 35
    },
    "colab_type": "code",
    "id": "i4_7MD9IdYKC",
    "outputId": "59221689-215a-4ae5-eab3-c29e8325975f"
   },
   "outputs": [
    {
     "data": {
      "text/plain": [
       "<Response [201]>"
      ]
     },
     "execution_count": 11,
     "metadata": {
      "tags": []
     },
     "output_type": "execute_result"
    }
   ],
   "source": [
    "### put your dataframe data into this folder\n",
    "sddl.write_file(\"SDAM_data/EDH/EDH_geographies_raw.json\", \"df\", conf)"
   ]
  }
 ],
 "metadata": {
  "colab": {
   "collapsed_sections": [],
   "include_colab_link": true,
   "name": "1_3_py_MERGING_API_GEO_and_XML.ipynb",
   "provenance": []
  },
  "kernelspec": {
   "display_name": "Python 3",
   "language": "python",
   "name": "python3"
  },
  "language_info": {
   "codemirror_mode": {
    "name": "ipython",
    "version": 3
   },
   "file_extension": ".py",
   "mimetype": "text/x-python",
   "name": "python",
   "nbconvert_exporter": "python",
   "pygments_lexer": "ipython3",
   "version": "3.7.8"
  }
 },
 "nbformat": 4,
 "nbformat_minor": 1
}
