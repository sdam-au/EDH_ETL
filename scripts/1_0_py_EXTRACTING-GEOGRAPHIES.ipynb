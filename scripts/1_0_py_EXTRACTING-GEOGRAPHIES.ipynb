{
 "cells": [
  {
   "cell_type": "code",
   "execution_count": 1,
   "metadata": {
    "colab": {
     "base_uri": "https://localhost:8080/",
     "height": 1000
    },
    "colab_type": "code",
    "id": "ysNNoibJHqOH",
    "outputId": "76dedb1e-a99c-4a4c-b810-6326b1053085"
   },
   "outputs": [],
   "source": [
    "### REQUIREMENTS\n",
    "import numpy as np\n",
    "import math\n",
    "import pandas as pd\n",
    "\n",
    "import sys\n",
    "### we do a lot of requests during the scrapping. Some of them with requests package, some of them with urllib\n",
    "import requests\n",
    "\n",
    "# to avoid errors, we sometime use time.sleep(N) before retrying a request\n",
    "import time\n",
    "# the input data have typically a json structure\n",
    "import json\n",
    "import io\n",
    "\n",
    "import sddk"
   ]
  },
  {
   "cell_type": "code",
   "execution_count": 2,
   "metadata": {
    "colab": {
     "base_uri": "https://localhost:8080/",
     "height": 85
    },
    "colab_type": "code",
    "id": "kHVL8s-M035V",
    "outputId": "ada467cc-61c6-4801-ae8c-95cf32499c9e"
   },
   "outputs": [
    {
     "name": "stdout",
     "output_type": "stream",
     "text": [
      "sciencedata.dk username (format '123456@au.dk'): 648597@au.dk\n",
      "sciencedata.dk password: ········\n",
      "connection with shared folder established with you as its owner\n",
      "endpoint variable has been configured to: https://sciencedata.dk/files/SDAM_root/\n"
     ]
    }
   ],
   "source": [
    "### configure session and groupurl\n",
    "conf = sddk.configure(\"SDAM_root\", \"648597@au.dk\")"
   ]
  },
  {
   "cell_type": "code",
   "execution_count": 3,
   "metadata": {},
   "outputs": [
    {
     "data": {
      "text/plain": [
       "<Response [200]>"
      ]
     },
     "execution_count": 3,
     "metadata": {},
     "output_type": "execute_result"
    }
   ],
   "source": [
    "# request geojson with geographies\n",
    "resp = requests.get(\"https://edh-www.adw.uni-heidelberg.de/download/edhGeographicData.json\", headers={'User-Agent': ''})\n",
    "resp"
   ]
  },
  {
   "cell_type": "code",
   "execution_count": 4,
   "metadata": {},
   "outputs": [
    {
     "data": {
      "text/plain": [
       "[{'geometry': {'coordinates': [23.451654999, 38.497692999], 'type': 'Point'},\n",
       "  'properties': {'ancient_findspot': 'Anthedon',\n",
       "   'trismegistos_geo_uri': 'https://www.trismegistos.org/place/15743',\n",
       "   'pleiades_uri': 'https://pleiades.stoa.org/places/540639',\n",
       "   'uri': 'https://edh-www.adw.uni-heidelberg.de/edh/geographie/0'},\n",
       "  'type': 'Feature'},\n",
       " {'type': 'Feature',\n",
       "  'properties': {'uri': 'https://edh-www.adw.uni-heidelberg.de/edh/geographie/3',\n",
       "   'ancient_findspot': 'Isthmia',\n",
       "   'pleiades_uri': 'https://pleiades.stoa.org/places/570316',\n",
       "   'trismegistos_geo_uri': 'https://www.trismegistos.org/place/15746'},\n",
       "  'geometry': {'coordinates': [22.992664, 37.9158514], 'type': 'Point'}},\n",
       " {'type': 'Feature',\n",
       "  'properties': {'trismegistos_geo_uri': 'https://www.trismegistos.org/place/1851',\n",
       "   'ancient_findspot': 'Lebadea',\n",
       "   'uri': 'https://edh-www.adw.uni-heidelberg.de/edh/geographie/4'},\n",
       "  'geometry': {'type': 'Point', 'coordinates': [23.273345, 38.221257]}},\n",
       " {'geometry': {'coordinates': [23.273345, 38.221257], 'type': 'Point'},\n",
       "  'properties': {'ancient_findspot': 'Mantinea',\n",
       "   'trismegistos_geo_uri': 'https://www.trismegistos.org/place/1851',\n",
       "   'uri': 'https://edh-www.adw.uni-heidelberg.de/edh/geographie/5'},\n",
       "  'type': 'Feature'},\n",
       " {'geometry': {'coordinates': [22.876113, 38.435817999], 'type': 'Point'},\n",
       "  'type': 'Feature',\n",
       "  'properties': {'pleiades_uri': 'https://pleiades.stoa.org/places/321678',\n",
       "   'trismegistos_geo_uri': 'https://www.trismegistos.org/place/1327',\n",
       "   'ancient_findspot': 'Megalopolis',\n",
       "   'uri': 'https://edh-www.adw.uni-heidelberg.de/edh/geographie/6'}},\n",
       " {'properties': {'uri': 'https://edh-www.adw.uni-heidelberg.de/edh/geographie/7',\n",
       "   'pleiades_uri': 'https://pleiades.stoa.org/places/536106',\n",
       "   'trismegistos_geo_uri': 'https://www.trismegistos.org/place/15751',\n",
       "   'ancient_findspot': 'Melos'},\n",
       "  'type': 'Feature',\n",
       "  'geometry': {'type': 'Point', 'coordinates': [22.992664, 37.9158514]}},\n",
       " {'geometry': {'coordinates': [23.273345, 38.221257], 'type': 'Point'},\n",
       "  'type': 'Feature',\n",
       "  'properties': {'ancient_findspot': 'Opus',\n",
       "   'trismegistos_geo_uri': 'https://www.trismegistos.org/place/1851',\n",
       "   'uri': 'https://edh-www.adw.uni-heidelberg.de/edh/geographie/8'}},\n",
       " {'geometry': {'coordinates': [25.19, 37.049999999], 'type': 'Point'},\n",
       "  'properties': {'uri': 'https://edh-www.adw.uni-heidelberg.de/edh/geographie/9',\n",
       "   'pleiades_uri': 'https://pleiades.stoa.org/places/599868',\n",
       "   'trismegistos_geo_uri': 'https://www.trismegistos.org/place/1613',\n",
       "   'ancient_findspot': 'Paros'},\n",
       "  'type': 'Feature'},\n",
       " {'geometry': {'type': 'Point', 'coordinates': [25.19, 37.05]},\n",
       "  'type': 'Feature',\n",
       "  'properties': {'trismegistos_geo_uri': 'https://www.trismegistos.org/place/1613',\n",
       "   'ancient_findspot': 'Ptoion',\n",
       "   'uri': 'https://edh-www.adw.uni-heidelberg.de/edh/geographie/10'}},\n",
       " {'geometry': {'type': 'Point', 'coordinates': [25.228999999, 37.408999999]},\n",
       "  'properties': {'ancient_findspot': 'Rheneia',\n",
       "   'pleiades_uri': 'https://pleiades.stoa.org/places/599919',\n",
       "   'trismegistos_geo_uri': 'https://www.trismegistos.org/place/2051',\n",
       "   'uri': 'https://edh-www.adw.uni-heidelberg.de/edh/geographie/11'},\n",
       "  'type': 'Feature'}]"
      ]
     },
     "execution_count": 4,
     "metadata": {},
     "output_type": "execute_result"
    }
   ],
   "source": [
    "resp.json()[\"features\"][:10]"
   ]
  },
  {
   "cell_type": "code",
   "execution_count": 5,
   "metadata": {},
   "outputs": [
    {
     "data": {
      "text/plain": [
       "29656"
      ]
     },
     "execution_count": 5,
     "metadata": {},
     "output_type": "execute_result"
    }
   ],
   "source": [
    "len(resp.json()[\"features\"])"
   ]
  },
  {
   "cell_type": "code",
   "execution_count": 5,
   "metadata": {},
   "outputs": [],
   "source": [
    "geo_uri_dict = {} # dictionary arranged by uris\n",
    "for feature in resp.json()[\"features\"]:\n",
    "    try:\n",
    "        geo_uri_dict[feature[\"properties\"][\"uri\"].rpartition(\"/\")[2]] = feature\n",
    "    except:\n",
    "        pass"
   ]
  },
  {
   "cell_type": "code",
   "execution_count": 12,
   "metadata": {},
   "outputs": [
    {
     "data": {
      "text/plain": [
       "{'geometry': {'coordinates': [23.451654999, 38.497692999], 'type': 'Point'},\n",
       " 'properties': {'ancient_findspot': 'Anthedon',\n",
       "  'uri': 'https://edh-www.adw.uni-heidelberg.de/edh/geographie/0',\n",
       "  'pleiades_uri': 'https://pleiades.stoa.org/places/540639',\n",
       "  'trismegistos_geo_uri': 'https://www.trismegistos.org/place/15743'},\n",
       " 'type': 'Feature'}"
      ]
     },
     "execution_count": 12,
     "metadata": {},
     "output_type": "execute_result"
    }
   ],
   "source": [
    "# check how it works\n",
    "geo_uri_dict[\"0\"]"
   ]
  },
  {
   "cell_type": "code",
   "execution_count": 13,
   "metadata": {},
   "outputs": [
    {
     "data": {
      "text/plain": [
       "[23.451654999, 38.497692999]"
      ]
     },
     "execution_count": 13,
     "metadata": {},
     "output_type": "execute_result"
    }
   ],
   "source": [
    "geo_uri_dict[\"0\"][\"geometry\"][\"coordinates\"]"
   ]
  },
  {
   "cell_type": "code",
   "execution_count": 15,
   "metadata": {},
   "outputs": [
    {
     "name": "stdout",
     "output_type": "stream",
     "text": [
      "Your <class 'dict'> object has been succefully written as \"https://sciencedata.dk/files/SDAM_root/EDH_geo_dict_2020-09-15.json\"\n"
     ]
    }
   ],
   "source": [
    "sddk.write_file(\"SDAM_data/EDH/EDH_geo_dict_2020-09-15.json\", geo_uri_dict, conf)"
   ]
  },
  {
   "cell_type": "code",
   "execution_count": null,
   "metadata": {},
   "outputs": [],
   "source": []
  }
 ],
 "metadata": {
  "colab": {
   "collapsed_sections": [],
   "include_colab_link": true,
   "name": "1_3_py_MERGING_API_GEO_and_XML.ipynb",
   "provenance": []
  },
  "kernelspec": {
   "display_name": "Python 3",
   "language": "python",
   "name": "python3"
  },
  "language_info": {
   "codemirror_mode": {
    "name": "ipython",
    "version": 3
   },
   "file_extension": ".py",
   "mimetype": "text/x-python",
   "name": "python",
   "nbconvert_exporter": "python",
   "pygments_lexer": "ipython3",
   "version": "3.6.9"
  }
 },
 "nbformat": 4,
 "nbformat_minor": 1
}
