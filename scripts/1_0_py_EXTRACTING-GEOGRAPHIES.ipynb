{
 "cells": [
  {
   "cell_type": "code",
   "execution_count": 2,
   "metadata": {
    "colab": {
     "base_uri": "https://localhost:8080/",
     "height": 1000
    },
    "colab_type": "code",
    "id": "ysNNoibJHqOH",
    "outputId": "76dedb1e-a99c-4a4c-b810-6326b1053085",
    "pycharm": {
     "name": "#%%\n"
    }
   },
   "outputs": [],
   "source": [
    "### REQUIREMENTS\n",
    "import requests\n",
    "import sddk\n",
    "import json"
   ]
  },
  {
   "cell_type": "code",
   "execution_count": 3,
   "metadata": {
    "pycharm": {
     "name": "#%%\n"
    }
   },
   "outputs": [
    {
     "data": {
      "text/plain": "<Response [200]>"
     },
     "execution_count": 3,
     "metadata": {},
     "output_type": "execute_result"
    }
   ],
   "source": [
    "# request geojson with geographies\n",
    "resp = requests.get(\"https://edh-www.adw.uni-heidelberg.de/download/edhGeographicData.json\", headers={'User-Agent': ''})\n",
    "resp"
   ]
  },
  {
   "cell_type": "code",
   "execution_count": 4,
   "metadata": {
    "pycharm": {
     "name": "#%%\n"
    }
   },
   "outputs": [
    {
     "data": {
      "text/plain": "[{'properties': {'pleiades_uri': 'https://pleiades.stoa.org/places/540639',\n   'uri': 'https://edh-www.adw.uni-heidelberg.de/edh/geographie/0',\n   'ancient_findspot': 'Anthedon',\n   'trismegistos_geo_uri': 'https://www.trismegistos.org/place/15743'},\n  'geometry': {'coordinates': [23.451654999, 38.497692999], 'type': 'Point'},\n  'type': 'Feature'},\n {'properties': {'pleiades_uri': 'https://pleiades.stoa.org/places/570316',\n   'uri': 'https://edh-www.adw.uni-heidelberg.de/edh/geographie/3',\n   'ancient_findspot': 'Isthmia',\n   'trismegistos_geo_uri': 'https://www.trismegistos.org/place/15746'},\n  'geometry': {'type': 'Point', 'coordinates': [22.992664, 37.9158514]},\n  'type': 'Feature'},\n {'geometry': {'coordinates': [23.273345, 38.221257], 'type': 'Point'},\n  'properties': {'uri': 'https://edh-www.adw.uni-heidelberg.de/edh/geographie/4',\n   'trismegistos_geo_uri': 'https://www.trismegistos.org/place/1851',\n   'ancient_findspot': 'Lebadea'},\n  'type': 'Feature'},\n {'properties': {'ancient_findspot': 'Mantinea',\n   'trismegistos_geo_uri': 'https://www.trismegistos.org/place/1851',\n   'uri': 'https://edh-www.adw.uni-heidelberg.de/edh/geographie/5'},\n  'geometry': {'coordinates': [23.273345, 38.221257], 'type': 'Point'},\n  'type': 'Feature'},\n {'type': 'Feature',\n  'properties': {'trismegistos_geo_uri': 'https://www.trismegistos.org/place/1327',\n   'ancient_findspot': 'Megalopolis',\n   'pleiades_uri': 'https://pleiades.stoa.org/places/321678',\n   'uri': 'https://edh-www.adw.uni-heidelberg.de/edh/geographie/6'},\n  'geometry': {'type': 'Point', 'coordinates': [22.876113, 38.435817999]}},\n {'type': 'Feature',\n  'geometry': {'type': 'Point', 'coordinates': [22.992664, 37.9158514]},\n  'properties': {'uri': 'https://edh-www.adw.uni-heidelberg.de/edh/geographie/7',\n   'pleiades_uri': 'https://pleiades.stoa.org/places/536106',\n   'trismegistos_geo_uri': 'https://www.trismegistos.org/place/15751',\n   'ancient_findspot': 'Melos'}},\n {'geometry': {'type': 'Point', 'coordinates': [23.273345, 38.221257]},\n  'properties': {'uri': 'https://edh-www.adw.uni-heidelberg.de/edh/geographie/8',\n   'trismegistos_geo_uri': 'https://www.trismegistos.org/place/1851',\n   'ancient_findspot': 'Opus'},\n  'type': 'Feature'},\n {'geometry': {'type': 'Point', 'coordinates': [25.19, 37.049999999]},\n  'properties': {'pleiades_uri': 'https://pleiades.stoa.org/places/599868',\n   'uri': 'https://edh-www.adw.uni-heidelberg.de/edh/geographie/9',\n   'ancient_findspot': 'Paros',\n   'trismegistos_geo_uri': 'https://www.trismegistos.org/place/1613'},\n  'type': 'Feature'},\n {'properties': {'trismegistos_geo_uri': 'https://www.trismegistos.org/place/1613',\n   'ancient_findspot': 'Ptoion',\n   'uri': 'https://edh-www.adw.uni-heidelberg.de/edh/geographie/10'},\n  'geometry': {'coordinates': [25.19, 37.05], 'type': 'Point'},\n  'type': 'Feature'},\n {'type': 'Feature',\n  'properties': {'ancient_findspot': 'Rheneia',\n   'trismegistos_geo_uri': 'https://www.trismegistos.org/place/2051',\n   'uri': 'https://edh-www.adw.uni-heidelberg.de/edh/geographie/11',\n   'pleiades_uri': 'https://pleiades.stoa.org/places/599919'},\n  'geometry': {'type': 'Point', 'coordinates': [25.228999999, 37.408999999]}}]"
     },
     "execution_count": 4,
     "metadata": {},
     "output_type": "execute_result"
    }
   ],
   "source": [
    "resp.json()[\"features\"][:10]"
   ]
  },
  {
   "cell_type": "code",
   "execution_count": 5,
   "metadata": {
    "pycharm": {
     "name": "#%%\n"
    }
   },
   "outputs": [
    {
     "data": {
      "text/plain": "29861"
     },
     "execution_count": 5,
     "metadata": {},
     "output_type": "execute_result"
    }
   ],
   "source": [
    "len(resp.json()[\"features\"])"
   ]
  },
  {
   "cell_type": "code",
   "execution_count": 6,
   "metadata": {
    "pycharm": {
     "name": "#%%\n"
    }
   },
   "outputs": [],
   "source": [
    "geo_uri_dict = {} # dictionary arranged by uris\n",
    "for feature in resp.json()[\"features\"]:\n",
    "    try:\n",
    "        geo_uri_dict[feature[\"properties\"][\"pleiades_uri\"].rpartition(\"/\")[2]] = feature\n",
    "    except:\n",
    "        pass"
   ]
  },
  {
   "cell_type": "code",
   "execution_count": 8,
   "metadata": {
    "pycharm": {
     "name": "#%%\n"
    }
   },
   "outputs": [
    {
     "data": {
      "text/plain": "{'type': 'Feature',\n 'properties': {'uri': 'https://edh-www.adw.uni-heidelberg.de/edh/geographie/12346',\n  'pleiades_uri': 'https://pleiades.stoa.org/places/432808',\n  'findspot_(village/street)': 'Via Campana antica',\n  'modern_findspot': 'Cuma',\n  'trismegistos_geo_uri': 'https://www.trismegistos.org/place/14437',\n  'ancient_findspot': 'Cumae'},\n 'geometry': {'coordinates': [14.0550756, 40.8471577], 'type': 'Point'}}"
     },
     "execution_count": 8,
     "metadata": {},
     "output_type": "execute_result"
    }
   ],
   "source": [
    "# check how it works\n",
    "geo_uri_dict[\"432808\"]"
   ]
  },
  {
   "cell_type": "code",
   "execution_count": 9,
   "outputs": [],
   "source": [
    "# save it locally for future usage\n",
    "json.dump(geo_uri_dict, open(\"../data/large_data/geo_uri_dict.json\", \"w\"))\n",
    "# to load it back:\n",
    "# geo_uri_dict = json.load(open(\"../data/large_data/geo_uri_dict.json\", \"r\"))"
   ],
   "metadata": {
    "collapsed": false,
    "pycharm": {
     "name": "#%%\n"
    }
   }
  },
  {
   "cell_type": "code",
   "execution_count": 10,
   "outputs": [
    {
     "name": "stdout",
     "output_type": "stream",
     "text": [
      "connection with shared folder established with you as its owner\n",
      "endpoint variable has been configured to: https://sciencedata.dk/files/SDAM_root/SDAM_data/EDH/\n"
     ]
    }
   ],
   "source": [
    "### to save it to sciencedata:\n",
    "s = sddk.cloudSession(\"sciencedata.dk\", \"SDAM_root/SDAM_data/EDH\", \"648597@au.dk\")"
   ],
   "metadata": {
    "collapsed": false,
    "pycharm": {
     "name": "#%%\n"
    }
   }
  },
  {
   "cell_type": "code",
   "execution_count": 11,
   "outputs": [
    {
     "name": "stdout",
     "output_type": "stream",
     "text": [
      "A file with the same name (\"EDH_geo_dict_2022-04-28.json\") already exists in this location.\n",
      "Your <class 'dict'> object has been succesfully written as \"https://sciencedata.dk/files/SDAM_root/SDAM_data/EDH/EDH_geo_dict_2022-04-28.json\"\n"
     ]
    }
   ],
   "source": [
    "s.write_file(\"EDH_geo_dict_2022-04-28.json\", geo_uri_dict)"
   ],
   "metadata": {
    "collapsed": false,
    "pycharm": {
     "name": "#%%\n"
    }
   }
  },
  {
   "cell_type": "code",
   "execution_count": null,
   "outputs": [],
   "source": [],
   "metadata": {
    "collapsed": false,
    "pycharm": {
     "name": "#%%\n"
    }
   }
  }
 ],
 "metadata": {
  "colab": {
   "collapsed_sections": [],
   "include_colab_link": true,
   "name": "1_3_py_MERGING_API_GEO_and_XML.ipynb",
   "provenance": []
  },
  "kernelspec": {
   "display_name": "Python 3",
   "language": "python",
   "name": "python3"
  },
  "language_info": {
   "codemirror_mode": {
    "name": "ipython",
    "version": 3
   },
   "file_extension": ".py",
   "mimetype": "text/x-python",
   "name": "python",
   "nbconvert_exporter": "python",
   "pygments_lexer": "ipython3",
   "version": "3.6.9"
  }
 },
 "nbformat": 4,
 "nbformat_minor": 1
}