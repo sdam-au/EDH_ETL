{
 "cells": [
  {
   "cell_type": "markdown",
   "metadata": {},
   "source": [
    "The easiest option is to read the data to python is to use link to the file located in a public folder on sciencedata.dk, which might be accessed even without sciencedata credentials."
   ]
  },
  {
   "cell_type": "code",
   "execution_count": 5,
   "metadata": {
    "ExecuteTime": {
     "start_time": "2023-04-26T16:47:40.742271Z",
     "end_time": "2023-04-26T16:47:40.781387Z"
    }
   },
   "outputs": [],
   "source": [
    "import pandas as pd\n",
    "import requests"
   ]
  },
  {
   "cell_type": "markdown",
   "source": [
    "# a) requests & pandas"
   ],
   "metadata": {
    "collapsed": false
   }
  },
  {
   "cell_type": "code",
   "execution_count": 14,
   "metadata": {
    "ExecuteTime": {
     "start_time": "2023-04-26T17:53:55.460720Z",
     "end_time": "2023-04-26T17:54:25.080050Z"
    }
   },
   "outputs": [
    {
     "data": {
      "text/plain": "<Response [200]>"
     },
     "execution_count": 14,
     "metadata": {},
     "output_type": "execute_result"
    }
   ],
   "source": [
    "# make the request\n",
    "filename = \"EDH_text_cleaned_2023-04-26.json\"\n",
    "#filename = \"EDH_attrs_cleaned_2020-09-30.json\"\n",
    "public_folder_id = \"b6b6afdb969d378b70929e86e58ad975\"\n",
    "resp = requests.get(\"https://sciencedata.dk/public/\" + public_folder_id + \"/\" + filename)\n",
    "resp # look at the response: 200 means valid"
   ]
  },
  {
   "cell_type": "code",
   "execution_count": 13,
   "metadata": {
    "ExecuteTime": {
     "start_time": "2023-04-26T17:53:51.532444Z",
     "end_time": "2023-04-26T17:53:51.535153Z"
    }
   },
   "outputs": [
    {
     "data": {
      "text/plain": "{'Date': 'Wed, 26 Apr 2023 15:53:50 GMT', 'Server': 'Apache', 'Access-Control-Allow-Origin': '*', 'Expires': 'Thu, 19 Nov 1981 08:52:00 GMT', 'Cache-Control': 'no-store, no-cache, must-revalidate, post-check=0, pre-check=0', 'Pragma': 'no-cache', 'Strict-Transport-Security': 'max-age=31536000', 'X-XSS-Protection': '1; mode=block', 'X-Content-Type-Options': 'nosniff', 'Content-Security-Policy': \"script-src 'self' http://*.google.com https://*.deic.dk https://*.sciencedata.dk https://sciencedata.dk https://kube.sciencedata.dk https://kube.sciencedata.dk:8443 'unsafe-inline' 'unsafe-eval' http://*.googleapis.com https://*.googleapis.com https://*.google.com https://*.gstatic.com https://code.jquery.com https://d3js.org https://cdnjs.cloudflare.com https://unpkg.com https://maxcdn.bootstrapcdn.com https://kube.sciencedata.dk https://kube.sciencedata.dk:8443 https://*.deic.dk https://*.sciencedata.dk https://sciencedata.dk; style-src 'self' 'unsafe-inline' http://*.googleapis.com https://*.googleapis.com https://*.google.com https://*.gstatic.com https://code.jquery.com https://maxcdn.bootstrapcdn.com https://kube.sciencedata.dk https://kube.sciencedata.dk:8443 https://*.deic.dk https://*.sciencedata.dk https://sciencedata.dk\", 'X-Robots-Tag': 'none', 'Access-Control-Allow-Headers': '*', 'Content-Length': '310', 'Keep-Alive': 'timeout=10, max=200', 'Connection': 'Keep-Alive', 'Content-Type': 'application/xml; charset=utf-8'}"
     },
     "execution_count": 13,
     "metadata": {},
     "output_type": "execute_result"
    }
   ],
   "source": [
    "resp.headers"
   ]
  },
  {
   "cell_type": "code",
   "execution_count": 8,
   "metadata": {
    "ExecuteTime": {
     "start_time": "2023-04-26T16:48:10.262412Z",
     "end_time": "2023-04-26T16:48:10.866983Z"
    }
   },
   "outputs": [
    {
     "data": {
      "text/plain": "                                          commentary country    depth  \\\n0  (C): 2. Hälfte 1. - Anfang 2. Jh. - AE; Ende 1...   Italy     2 cm   \n1                            AE 1983: Breite: 35 cm.   Italy       {}   \n2  (B): [S]isenna ist falscher Kasus; folgende Er...   Spain  (12) cm   \n3  Material: lokaler grauer Kalkstein. (B): Stylo...   Spain    18 cm   \n4                (B): Z. 3: C(ai) l(ibertae) Tyches.   Italy       {}   \n\n                                     diplomatic_text findspot_ancient  \\\n0  D M / NONIAE P F OPTATAE / ET C IVLIO ARTEMONI...       Cumae, bei   \n1            C SEXTIVS PARIS / QVI VIXIT / ANNIS LXX             Roma   \n2  [ ]VMMIO [ ] / [ ]ISENNA[ ] / [ ] XV[ ] / [ ] / [               {}   \n3  [ ]AVS[ ]LLA / M PORCI NIGRI SER / DOMINAE VEN...    Ipolcobulcula   \n4  [ ] L SVCCESSVS / [ ] L L IRENAEVS / [ ] C L T...             Roma   \n\n  findspot_modern   height        id language last_update  ...  \\\n0       Cuma, bei    33 cm  HD000001        L  2014-04-07  ...   \n1            Roma    28 cm  HD000002        L  2014-04-07  ...   \n2         Tomares  (37) cm  HD000003        L  2006-08-31  ...   \n3       Carcabuey  (39) cm  HD000004        L  2015-03-27  ...   \n4            Roma       {}  HD000005        L  2010-01-04  ...   \n\n  modern_region_clean modern_region_certainty findspot_modern_clean  \\\n0            Campania                 Certain             Cuma, bei   \n1               Lazio                 Certain                  Roma   \n2             Sevilla                 Certain               Tomares   \n3             Córdoba                 Certain             Carcabuey   \n4               Lazio                 Certain                  Roma   \n\n  findspot_modern_certainty                        findspot_clean  \\\n0                   Certain                                  NULL   \n1                   Certain  Via Nomentana, S. Alessandro, Kirche   \n2                   Certain                                  NULL   \n3                   Certain                                  NULL   \n4                   Certain          Via Cupa (ehem. Vigna Nardi)   \n\n  findspot_certainty origdate_text_clean  \\\n0               NULL      71 AD - 130 AD   \n1            Certain      51 AD - 200 AD   \n2               NULL     131 AD - 170 AD   \n3               NULL     151 AD - 200 AD   \n4            Certain       1 AD - 200 AD   \n\n                             clean_text_conservative  \\\n0  D M Noniae P f Optatae et C Iulio Artemoni par...   \n1                C Sextius Paris qui vixit annis LXX   \n2                                    ummio isenna Xv   \n3  AVSLLA M Porci Nigri ser dominae Veneri aram p...   \n4    l Successus L l Irenaeus C l Tyches unt renti f   \n\n                        clean_text_interpretive_word  \\\n0  Dis Manibus Noniae Publi filiae Optatae et Cai...   \n1            Caius Sextius Paris qui vixit annis LXX   \n2  Publio Mummio Publi filio Galeria Sisennae Rut...   \n3  AVS LLA Marci Porci Nigri serva dominae Veneri...   \n4  libertus Successus Luci libertus Irenaeus Cai ...   \n\n                    clean_text_interpretive_sentence  \n0  Dis Manibus Noniae Publi filiae Optatae et Cai...  \n1            Caius Sextius Paris qui vixit annis LXX  \n2  Publio Mummio Publi filio Galeria Sisennae Rut...  \n3  AVS LLA Marci Porci Nigri serva dominae Veneri...  \n4  libertus Successus Luci libertus Irenaeus Cai ...  \n\n[5 rows x 69 columns]",
      "text/html": "<div>\n<style scoped>\n    .dataframe tbody tr th:only-of-type {\n        vertical-align: middle;\n    }\n\n    .dataframe tbody tr th {\n        vertical-align: top;\n    }\n\n    .dataframe thead th {\n        text-align: right;\n    }\n</style>\n<table border=\"1\" class=\"dataframe\">\n  <thead>\n    <tr style=\"text-align: right;\">\n      <th></th>\n      <th>commentary</th>\n      <th>country</th>\n      <th>depth</th>\n      <th>diplomatic_text</th>\n      <th>findspot_ancient</th>\n      <th>findspot_modern</th>\n      <th>height</th>\n      <th>id</th>\n      <th>language</th>\n      <th>last_update</th>\n      <th>...</th>\n      <th>modern_region_clean</th>\n      <th>modern_region_certainty</th>\n      <th>findspot_modern_clean</th>\n      <th>findspot_modern_certainty</th>\n      <th>findspot_clean</th>\n      <th>findspot_certainty</th>\n      <th>origdate_text_clean</th>\n      <th>clean_text_conservative</th>\n      <th>clean_text_interpretive_word</th>\n      <th>clean_text_interpretive_sentence</th>\n    </tr>\n  </thead>\n  <tbody>\n    <tr>\n      <th>0</th>\n      <td>(C): 2. Hälfte 1. - Anfang 2. Jh. - AE; Ende 1...</td>\n      <td>Italy</td>\n      <td>2 cm</td>\n      <td>D M / NONIAE P F OPTATAE / ET C IVLIO ARTEMONI...</td>\n      <td>Cumae, bei</td>\n      <td>Cuma, bei</td>\n      <td>33 cm</td>\n      <td>HD000001</td>\n      <td>L</td>\n      <td>2014-04-07</td>\n      <td>...</td>\n      <td>Campania</td>\n      <td>Certain</td>\n      <td>Cuma, bei</td>\n      <td>Certain</td>\n      <td>NULL</td>\n      <td>NULL</td>\n      <td>71 AD - 130 AD</td>\n      <td>D M Noniae P f Optatae et C Iulio Artemoni par...</td>\n      <td>Dis Manibus Noniae Publi filiae Optatae et Cai...</td>\n      <td>Dis Manibus Noniae Publi filiae Optatae et Cai...</td>\n    </tr>\n    <tr>\n      <th>1</th>\n      <td>AE 1983: Breite: 35 cm.</td>\n      <td>Italy</td>\n      <td>{}</td>\n      <td>C SEXTIVS PARIS / QVI VIXIT / ANNIS LXX</td>\n      <td>Roma</td>\n      <td>Roma</td>\n      <td>28 cm</td>\n      <td>HD000002</td>\n      <td>L</td>\n      <td>2014-04-07</td>\n      <td>...</td>\n      <td>Lazio</td>\n      <td>Certain</td>\n      <td>Roma</td>\n      <td>Certain</td>\n      <td>Via Nomentana, S. Alessandro, Kirche</td>\n      <td>Certain</td>\n      <td>51 AD - 200 AD</td>\n      <td>C Sextius Paris qui vixit annis LXX</td>\n      <td>Caius Sextius Paris qui vixit annis LXX</td>\n      <td>Caius Sextius Paris qui vixit annis LXX</td>\n    </tr>\n    <tr>\n      <th>2</th>\n      <td>(B): [S]isenna ist falscher Kasus; folgende Er...</td>\n      <td>Spain</td>\n      <td>(12) cm</td>\n      <td>[ ]VMMIO [ ] / [ ]ISENNA[ ] / [ ] XV[ ] / [ ] / [</td>\n      <td>{}</td>\n      <td>Tomares</td>\n      <td>(37) cm</td>\n      <td>HD000003</td>\n      <td>L</td>\n      <td>2006-08-31</td>\n      <td>...</td>\n      <td>Sevilla</td>\n      <td>Certain</td>\n      <td>Tomares</td>\n      <td>Certain</td>\n      <td>NULL</td>\n      <td>NULL</td>\n      <td>131 AD - 170 AD</td>\n      <td>ummio isenna Xv</td>\n      <td>Publio Mummio Publi filio Galeria Sisennae Rut...</td>\n      <td>Publio Mummio Publi filio Galeria Sisennae Rut...</td>\n    </tr>\n    <tr>\n      <th>3</th>\n      <td>Material: lokaler grauer Kalkstein. (B): Stylo...</td>\n      <td>Spain</td>\n      <td>18 cm</td>\n      <td>[ ]AVS[ ]LLA / M PORCI NIGRI SER / DOMINAE VEN...</td>\n      <td>Ipolcobulcula</td>\n      <td>Carcabuey</td>\n      <td>(39) cm</td>\n      <td>HD000004</td>\n      <td>L</td>\n      <td>2015-03-27</td>\n      <td>...</td>\n      <td>Córdoba</td>\n      <td>Certain</td>\n      <td>Carcabuey</td>\n      <td>Certain</td>\n      <td>NULL</td>\n      <td>NULL</td>\n      <td>151 AD - 200 AD</td>\n      <td>AVSLLA M Porci Nigri ser dominae Veneri aram p...</td>\n      <td>AVS LLA Marci Porci Nigri serva dominae Veneri...</td>\n      <td>AVS LLA Marci Porci Nigri serva dominae Veneri...</td>\n    </tr>\n    <tr>\n      <th>4</th>\n      <td>(B): Z. 3: C(ai) l(ibertae) Tyches.</td>\n      <td>Italy</td>\n      <td>{}</td>\n      <td>[ ] L SVCCESSVS / [ ] L L IRENAEVS / [ ] C L T...</td>\n      <td>Roma</td>\n      <td>Roma</td>\n      <td>{}</td>\n      <td>HD000005</td>\n      <td>L</td>\n      <td>2010-01-04</td>\n      <td>...</td>\n      <td>Lazio</td>\n      <td>Certain</td>\n      <td>Roma</td>\n      <td>Certain</td>\n      <td>Via Cupa (ehem. Vigna Nardi)</td>\n      <td>Certain</td>\n      <td>1 AD - 200 AD</td>\n      <td>l Successus L l Irenaeus C l Tyches unt renti f</td>\n      <td>libertus Successus Luci libertus Irenaeus Cai ...</td>\n      <td>libertus Successus Luci libertus Irenaeus Cai ...</td>\n    </tr>\n  </tbody>\n</table>\n<p>5 rows × 69 columns</p>\n</div>"
     },
     "execution_count": 8,
     "metadata": {},
     "output_type": "execute_result"
    }
   ],
   "source": [
    "# interpret response content as json and transform it into pandas DataFrame object\n",
    "EDH_cleaned = pd.DataFrame(resp.json())\n",
    "# look at first five rows\n",
    "EDH_cleaned.head(5)"
   ]
  },
  {
   "cell_type": "code",
   "execution_count": 9,
   "metadata": {
    "ExecuteTime": {
     "start_time": "2023-04-26T16:48:10.868492Z",
     "end_time": "2023-04-26T16:48:10.870933Z"
    }
   },
   "outputs": [
    {
     "data": {
      "text/plain": "(81883, 69)"
     },
     "execution_count": 9,
     "metadata": {},
     "output_type": "execute_result"
    }
   ],
   "source": [
    "EDH_cleaned.shape"
   ]
  },
  {
   "cell_type": "code",
   "execution_count": 10,
   "outputs": [
    {
     "data": {
      "text/plain": "                                              commentary  country    depth  \\\n0      (C): 2. Hälfte 1. - Anfang 2. Jh. - AE; Ende 1...    Italy     2 cm   \n1                                AE 1983: Breite: 35 cm.    Italy       {}   \n2      (B): [S]isenna ist falscher Kasus; folgende Er...    Spain  (12) cm   \n3      Material: lokaler grauer Kalkstein. (B): Stylo...    Spain    18 cm   \n4                    (B): Z. 3: C(ai) l(ibertae) Tyches.    Italy       {}   \n...                                                  ...      ...      ...   \n81878  Scherbe eines Terra-Sigillata-Tellers (Typ Dra...  Germany       {}   \n81879                    Inschriftträger: Gewichtsstein.  Germany    24 cm   \n81880                                                 {}  Germany   (9) cm   \n81881                                                 {}  Germany   (8) cm   \n81882                                                 {}  Germany    29 cm   \n\n                                         diplomatic_text  \\\n0      D M / NONIAE P F OPTATAE / ET C IVLIO ARTEMONI...   \n1                C SEXTIVS PARIS / QVI VIXIT / ANNIS LXX   \n2      [ ]VMMIO [ ] / [ ]ISENNA[ ] / [ ] XV[ ] / [ ] / [   \n3      [ ]AVS[ ]LLA / M PORCI NIGRI SER / DOMINAE VEN...   \n4      [ ] L SVCCESSVS / [ ] L L IRENAEVS / [ ] C L T...   \n...                                                  ...   \n81878                                              BRIGI   \n81879                                               LXII   \n81880                            ] / ING[ ] / GAI[ ] / [   \n81881                                   ] / [ ]RO[ ] / [   \n81882  ] / [ ]VA / [ ]VS PA / [ ]NTV[ ] / [ ]MPER[ ] ...   \n\n                         findspot_ancient findspot_modern   height        id  \\\n0                              Cumae, bei       Cuma, bei    33 cm  HD000001   \n1                                    Roma            Roma    28 cm  HD000002   \n2                                      {}         Tomares  (37) cm  HD000003   \n3                           Ipolcobulcula       Carcabuey  (39) cm  HD000004   \n4                                    Roma            Roma       {}  HD000005   \n...                                   ...             ...      ...       ...   \n81878  Grinario (Civitas Sumelocennensis)          Köngen       {}  HD082824   \n81879                                  {}        Nideggen    19 cm  HD082825   \n81880                                  {}         Gangelt  (24) cm  HD082826   \n81881                                  {}        Nideggen   (8) cm  HD082827   \n81882                                  {}          Kerpen  (53) cm  HD082828   \n\n      language last_update  ...  modern_region_clean modern_region_certainty  \\\n0            L  2014-04-07  ...             Campania                 Certain   \n1            L  2014-04-07  ...                Lazio                 Certain   \n2            L  2006-08-31  ...              Sevilla                 Certain   \n3            L  2015-03-27  ...              Córdoba                 Certain   \n4            L  2010-01-04  ...                Lazio                 Certain   \n...        ...         ...  ...                  ...                     ...   \n81878        L  2021-11-05  ...    Baden-Württemberg                 Certain   \n81879        L  2021-12-07  ...  Nordrhein-Westfalen                 Certain   \n81880        L  2021-12-07  ...  Nordrhein-Westfalen                 Certain   \n81881        L  2021-12-07  ...  Nordrhein-Westfalen                 Certain   \n81882        L  2021-12-07  ...  Nordrhein-Westfalen                 Certain   \n\n      findspot_modern_clean findspot_modern_certainty  \\\n0                 Cuma, bei                   Certain   \n1                      Roma                   Certain   \n2                   Tomares                   Certain   \n3                 Carcabuey                   Certain   \n4                      Roma                   Certain   \n...                     ...                       ...   \n81878                Köngen                   Certain   \n81879              Nideggen                   Certain   \n81880               Gangelt                   Certain   \n81881              Nideggen                   Certain   \n81882                Kerpen                   Certain   \n\n                                          findspot_clean findspot_certainty  \\\n0                                                   NULL               NULL   \n1                   Via Nomentana, S. Alessandro, Kirche            Certain   \n2                                                   NULL               NULL   \n3                                                   NULL               NULL   \n4                           Via Cupa (ehem. Vigna Nardi)            Certain   \n...                                                  ...                ...   \n81878                                               NULL               NULL   \n81879  Wollersheim, {Burg Gödersheim}, bei, Pützberg,...            Certain   \n81880               Breberen, {S. Maternus, Pfarrkirche}            Certain   \n81881         Abenden, Kirchberg, {Tempelbezirk}, Hof II            Certain   \n81882                      Blatzheim, 'auf dem Emmerich'            Certain   \n\n      origdate_text_clean                            clean_text_conservative  \\\n0          71 AD - 130 AD  D M Noniae P f Optatae et C Iulio Artemoni par...   \n1          51 AD - 200 AD                C Sextius Paris qui vixit annis LXX   \n2         131 AD - 170 AD                                    ummio isenna Xv   \n3         151 AD - 200 AD  AVSLLA M Porci Nigri ser dominae Veneri aram p...   \n4           1 AD - 200 AD    l Successus L l Irenaeus C l Tyches unt renti f   \n...                   ...                                                ...   \n81878     101 AD - 200 AD                                              Brigi   \n81879       1 AD - 300 AD                                               LXII   \n81880       1 AD - 300 AD                                            ING GAI   \n81881     151 AD - 250 AD                                                 RO   \n81882     151 AD - 250 AD                             ua us Pantu mper s s l   \n\n                            clean_text_interpretive_word  \\\n0      Dis Manibus Noniae Publi filiae Optatae et Cai...   \n1                Caius Sextius Paris qui vixit annis LXX   \n2      Publio Mummio Publi filio Galeria Sisennae Rut...   \n3      AVS LLA Marci Porci Nigri serva dominae Veneri...   \n4      libertus Successus Luci libertus Irenaeus Cai ...   \n...                                                  ...   \n81878                                              Brigi   \n81879                                               LXII   \n81880                                            ING GAI   \n81881                                                 RO   \n81882  ua us Pa ntus ex imperio ipsarum votum suscept...   \n\n                        clean_text_interpretive_sentence  \n0      Dis Manibus Noniae Publi filiae Optatae et Cai...  \n1                Caius Sextius Paris qui vixit annis LXX  \n2      Publio Mummio Publi filio Galeria Sisennae Rut...  \n3      AVS LLA Marci Porci Nigri serva dominae Veneri...  \n4      libertus Successus Luci libertus Irenaeus Cai ...  \n...                                                  ...  \n81878                                              Brigi  \n81879                                               LXII  \n81880                                            ING GAI  \n81881                                                 RO  \n81882  ua us Pa ntus ex imperio ipsarum votum suscept...  \n\n[81883 rows x 69 columns]",
      "text/html": "<div>\n<style scoped>\n    .dataframe tbody tr th:only-of-type {\n        vertical-align: middle;\n    }\n\n    .dataframe tbody tr th {\n        vertical-align: top;\n    }\n\n    .dataframe thead th {\n        text-align: right;\n    }\n</style>\n<table border=\"1\" class=\"dataframe\">\n  <thead>\n    <tr style=\"text-align: right;\">\n      <th></th>\n      <th>commentary</th>\n      <th>country</th>\n      <th>depth</th>\n      <th>diplomatic_text</th>\n      <th>findspot_ancient</th>\n      <th>findspot_modern</th>\n      <th>height</th>\n      <th>id</th>\n      <th>language</th>\n      <th>last_update</th>\n      <th>...</th>\n      <th>modern_region_clean</th>\n      <th>modern_region_certainty</th>\n      <th>findspot_modern_clean</th>\n      <th>findspot_modern_certainty</th>\n      <th>findspot_clean</th>\n      <th>findspot_certainty</th>\n      <th>origdate_text_clean</th>\n      <th>clean_text_conservative</th>\n      <th>clean_text_interpretive_word</th>\n      <th>clean_text_interpretive_sentence</th>\n    </tr>\n  </thead>\n  <tbody>\n    <tr>\n      <th>0</th>\n      <td>(C): 2. Hälfte 1. - Anfang 2. Jh. - AE; Ende 1...</td>\n      <td>Italy</td>\n      <td>2 cm</td>\n      <td>D M / NONIAE P F OPTATAE / ET C IVLIO ARTEMONI...</td>\n      <td>Cumae, bei</td>\n      <td>Cuma, bei</td>\n      <td>33 cm</td>\n      <td>HD000001</td>\n      <td>L</td>\n      <td>2014-04-07</td>\n      <td>...</td>\n      <td>Campania</td>\n      <td>Certain</td>\n      <td>Cuma, bei</td>\n      <td>Certain</td>\n      <td>NULL</td>\n      <td>NULL</td>\n      <td>71 AD - 130 AD</td>\n      <td>D M Noniae P f Optatae et C Iulio Artemoni par...</td>\n      <td>Dis Manibus Noniae Publi filiae Optatae et Cai...</td>\n      <td>Dis Manibus Noniae Publi filiae Optatae et Cai...</td>\n    </tr>\n    <tr>\n      <th>1</th>\n      <td>AE 1983: Breite: 35 cm.</td>\n      <td>Italy</td>\n      <td>{}</td>\n      <td>C SEXTIVS PARIS / QVI VIXIT / ANNIS LXX</td>\n      <td>Roma</td>\n      <td>Roma</td>\n      <td>28 cm</td>\n      <td>HD000002</td>\n      <td>L</td>\n      <td>2014-04-07</td>\n      <td>...</td>\n      <td>Lazio</td>\n      <td>Certain</td>\n      <td>Roma</td>\n      <td>Certain</td>\n      <td>Via Nomentana, S. Alessandro, Kirche</td>\n      <td>Certain</td>\n      <td>51 AD - 200 AD</td>\n      <td>C Sextius Paris qui vixit annis LXX</td>\n      <td>Caius Sextius Paris qui vixit annis LXX</td>\n      <td>Caius Sextius Paris qui vixit annis LXX</td>\n    </tr>\n    <tr>\n      <th>2</th>\n      <td>(B): [S]isenna ist falscher Kasus; folgende Er...</td>\n      <td>Spain</td>\n      <td>(12) cm</td>\n      <td>[ ]VMMIO [ ] / [ ]ISENNA[ ] / [ ] XV[ ] / [ ] / [</td>\n      <td>{}</td>\n      <td>Tomares</td>\n      <td>(37) cm</td>\n      <td>HD000003</td>\n      <td>L</td>\n      <td>2006-08-31</td>\n      <td>...</td>\n      <td>Sevilla</td>\n      <td>Certain</td>\n      <td>Tomares</td>\n      <td>Certain</td>\n      <td>NULL</td>\n      <td>NULL</td>\n      <td>131 AD - 170 AD</td>\n      <td>ummio isenna Xv</td>\n      <td>Publio Mummio Publi filio Galeria Sisennae Rut...</td>\n      <td>Publio Mummio Publi filio Galeria Sisennae Rut...</td>\n    </tr>\n    <tr>\n      <th>3</th>\n      <td>Material: lokaler grauer Kalkstein. (B): Stylo...</td>\n      <td>Spain</td>\n      <td>18 cm</td>\n      <td>[ ]AVS[ ]LLA / M PORCI NIGRI SER / DOMINAE VEN...</td>\n      <td>Ipolcobulcula</td>\n      <td>Carcabuey</td>\n      <td>(39) cm</td>\n      <td>HD000004</td>\n      <td>L</td>\n      <td>2015-03-27</td>\n      <td>...</td>\n      <td>Córdoba</td>\n      <td>Certain</td>\n      <td>Carcabuey</td>\n      <td>Certain</td>\n      <td>NULL</td>\n      <td>NULL</td>\n      <td>151 AD - 200 AD</td>\n      <td>AVSLLA M Porci Nigri ser dominae Veneri aram p...</td>\n      <td>AVS LLA Marci Porci Nigri serva dominae Veneri...</td>\n      <td>AVS LLA Marci Porci Nigri serva dominae Veneri...</td>\n    </tr>\n    <tr>\n      <th>4</th>\n      <td>(B): Z. 3: C(ai) l(ibertae) Tyches.</td>\n      <td>Italy</td>\n      <td>{}</td>\n      <td>[ ] L SVCCESSVS / [ ] L L IRENAEVS / [ ] C L T...</td>\n      <td>Roma</td>\n      <td>Roma</td>\n      <td>{}</td>\n      <td>HD000005</td>\n      <td>L</td>\n      <td>2010-01-04</td>\n      <td>...</td>\n      <td>Lazio</td>\n      <td>Certain</td>\n      <td>Roma</td>\n      <td>Certain</td>\n      <td>Via Cupa (ehem. Vigna Nardi)</td>\n      <td>Certain</td>\n      <td>1 AD - 200 AD</td>\n      <td>l Successus L l Irenaeus C l Tyches unt renti f</td>\n      <td>libertus Successus Luci libertus Irenaeus Cai ...</td>\n      <td>libertus Successus Luci libertus Irenaeus Cai ...</td>\n    </tr>\n    <tr>\n      <th>...</th>\n      <td>...</td>\n      <td>...</td>\n      <td>...</td>\n      <td>...</td>\n      <td>...</td>\n      <td>...</td>\n      <td>...</td>\n      <td>...</td>\n      <td>...</td>\n      <td>...</td>\n      <td>...</td>\n      <td>...</td>\n      <td>...</td>\n      <td>...</td>\n      <td>...</td>\n      <td>...</td>\n      <td>...</td>\n      <td>...</td>\n      <td>...</td>\n      <td>...</td>\n      <td>...</td>\n    </tr>\n    <tr>\n      <th>81878</th>\n      <td>Scherbe eines Terra-Sigillata-Tellers (Typ Dra...</td>\n      <td>Germany</td>\n      <td>{}</td>\n      <td>BRIGI</td>\n      <td>Grinario (Civitas Sumelocennensis)</td>\n      <td>Köngen</td>\n      <td>{}</td>\n      <td>HD082824</td>\n      <td>L</td>\n      <td>2021-11-05</td>\n      <td>...</td>\n      <td>Baden-Württemberg</td>\n      <td>Certain</td>\n      <td>Köngen</td>\n      <td>Certain</td>\n      <td>NULL</td>\n      <td>NULL</td>\n      <td>101 AD - 200 AD</td>\n      <td>Brigi</td>\n      <td>Brigi</td>\n      <td>Brigi</td>\n    </tr>\n    <tr>\n      <th>81879</th>\n      <td>Inschriftträger: Gewichtsstein.</td>\n      <td>Germany</td>\n      <td>24 cm</td>\n      <td>LXII</td>\n      <td>{}</td>\n      <td>Nideggen</td>\n      <td>19 cm</td>\n      <td>HD082825</td>\n      <td>L</td>\n      <td>2021-12-07</td>\n      <td>...</td>\n      <td>Nordrhein-Westfalen</td>\n      <td>Certain</td>\n      <td>Nideggen</td>\n      <td>Certain</td>\n      <td>Wollersheim, {Burg Gödersheim}, bei, Pützberg,...</td>\n      <td>Certain</td>\n      <td>1 AD - 300 AD</td>\n      <td>LXII</td>\n      <td>LXII</td>\n      <td>LXII</td>\n    </tr>\n    <tr>\n      <th>81880</th>\n      <td>{}</td>\n      <td>Germany</td>\n      <td>(9) cm</td>\n      <td>] / ING[ ] / GAI[ ] / [</td>\n      <td>{}</td>\n      <td>Gangelt</td>\n      <td>(24) cm</td>\n      <td>HD082826</td>\n      <td>L</td>\n      <td>2021-12-07</td>\n      <td>...</td>\n      <td>Nordrhein-Westfalen</td>\n      <td>Certain</td>\n      <td>Gangelt</td>\n      <td>Certain</td>\n      <td>Breberen, {S. Maternus, Pfarrkirche}</td>\n      <td>Certain</td>\n      <td>1 AD - 300 AD</td>\n      <td>ING GAI</td>\n      <td>ING GAI</td>\n      <td>ING GAI</td>\n    </tr>\n    <tr>\n      <th>81881</th>\n      <td>{}</td>\n      <td>Germany</td>\n      <td>(8) cm</td>\n      <td>] / [ ]RO[ ] / [</td>\n      <td>{}</td>\n      <td>Nideggen</td>\n      <td>(8) cm</td>\n      <td>HD082827</td>\n      <td>L</td>\n      <td>2021-12-07</td>\n      <td>...</td>\n      <td>Nordrhein-Westfalen</td>\n      <td>Certain</td>\n      <td>Nideggen</td>\n      <td>Certain</td>\n      <td>Abenden, Kirchberg, {Tempelbezirk}, Hof II</td>\n      <td>Certain</td>\n      <td>151 AD - 250 AD</td>\n      <td>RO</td>\n      <td>RO</td>\n      <td>RO</td>\n    </tr>\n    <tr>\n      <th>81882</th>\n      <td>{}</td>\n      <td>Germany</td>\n      <td>29 cm</td>\n      <td>] / [ ]VA / [ ]VS PA / [ ]NTV[ ] / [ ]MPER[ ] ...</td>\n      <td>{}</td>\n      <td>Kerpen</td>\n      <td>(53) cm</td>\n      <td>HD082828</td>\n      <td>L</td>\n      <td>2021-12-07</td>\n      <td>...</td>\n      <td>Nordrhein-Westfalen</td>\n      <td>Certain</td>\n      <td>Kerpen</td>\n      <td>Certain</td>\n      <td>Blatzheim, 'auf dem Emmerich'</td>\n      <td>Certain</td>\n      <td>151 AD - 250 AD</td>\n      <td>ua us Pantu mper s s l</td>\n      <td>ua us Pa ntus ex imperio ipsarum votum suscept...</td>\n      <td>ua us Pa ntus ex imperio ipsarum votum suscept...</td>\n    </tr>\n  </tbody>\n</table>\n<p>81883 rows × 69 columns</p>\n</div>"
     },
     "execution_count": 10,
     "metadata": {},
     "output_type": "execute_result"
    }
   ],
   "source": [
    "xEDH_cleaned"
   ],
   "metadata": {
    "collapsed": false,
    "ExecuteTime": {
     "start_time": "2023-04-26T16:48:15.876029Z",
     "end_time": "2023-04-26T16:48:16.030619Z"
    }
   }
  },
  {
   "cell_type": "code",
   "execution_count": 11,
   "outputs": [],
   "source": [
    "# the API returns the two variables incorrectly, so we have to replace them here\n",
    "\n",
    "not_before = EDH_cleaned[\"not_after\"]\n",
    "not_after = EDH_cleaned[\"not_before\"]\n",
    "\n",
    "EDH_cleaned[\"not_after\"] = not_before\n",
    "EDH_cleaned[\"not_before\"] = not_after"
   ],
   "metadata": {
    "collapsed": false,
    "ExecuteTime": {
     "start_time": "2023-04-26T16:50:13.790761Z",
     "end_time": "2023-04-26T16:50:14.097170Z"
    }
   }
  },
  {
   "cell_type": "code",
   "execution_count": null,
   "metadata": {},
   "outputs": [],
   "source": [
    "# unfortunetely, many individual cell values are formatted as onee-element-lists\n",
    "# so we have to extract them before moving further...."
   ]
  },
  {
   "cell_type": "markdown",
   "metadata": {},
   "source": [
    "# sddk (>=2.7)\n",
    "(also implictly relies on requests and pandas)"
   ]
  },
  {
   "cell_type": "code",
   "execution_count": 1,
   "metadata": {},
   "outputs": [
    {
     "name": "stdout",
     "output_type": "stream",
     "text": [
      "reading file located in a public folder\n"
     ]
    },
    {
     "data": {
      "text/html": [
       "<div>\n",
       "<style scoped>\n",
       "    .dataframe tbody tr th:only-of-type {\n",
       "        vertical-align: middle;\n",
       "    }\n",
       "\n",
       "    .dataframe tbody tr th {\n",
       "        vertical-align: top;\n",
       "    }\n",
       "\n",
       "    .dataframe thead th {\n",
       "        text-align: right;\n",
       "    }\n",
       "</style>\n",
       "<table border=\"1\" class=\"dataframe\">\n",
       "  <thead>\n",
       "    <tr style=\"text-align: right;\">\n",
       "      <th></th>\n",
       "      <th>responsible_individual</th>\n",
       "      <th>type_of_inscription</th>\n",
       "      <th>letter_size</th>\n",
       "      <th>not_after</th>\n",
       "      <th>literature</th>\n",
       "      <th>work_status</th>\n",
       "      <th>height</th>\n",
       "      <th>diplomatic_text</th>\n",
       "      <th>people</th>\n",
       "      <th>depth</th>\n",
       "      <th>...</th>\n",
       "      <th>country_certainty</th>\n",
       "      <th>findspot_ancient_clean</th>\n",
       "      <th>findspot_ancient_certainty</th>\n",
       "      <th>modern_region_clean</th>\n",
       "      <th>modern_region_certainty</th>\n",
       "      <th>findspot_modern_clean</th>\n",
       "      <th>findspot_modern_certainty</th>\n",
       "      <th>findspot_clean</th>\n",
       "      <th>findspot_certainty</th>\n",
       "      <th>origdate_text_clean</th>\n",
       "    </tr>\n",
       "  </thead>\n",
       "  <tbody>\n",
       "    <tr>\n",
       "      <th>0</th>\n",
       "      <td>Feraudi</td>\n",
       "      <td>epitaph</td>\n",
       "      <td>3.2-2 cm</td>\n",
       "      <td>0130</td>\n",
       "      <td>AE 1983, 0192.; M. Annecchino, Puteoli 4/5, 19...</td>\n",
       "      <td>provisional</td>\n",
       "      <td>33 cm</td>\n",
       "      <td>D M / NONIAE P F OPTATAE / ET C IVLIO ARTEMONI...</td>\n",
       "      <td>[{'name': 'Noniae P.f. Optatae', 'cognomen': '...</td>\n",
       "      <td>2.7 cm</td>\n",
       "      <td>...</td>\n",
       "      <td>Certain</td>\n",
       "      <td>Cumae</td>\n",
       "      <td>Estimated</td>\n",
       "      <td>Campania</td>\n",
       "      <td>Certain</td>\n",
       "      <td>Cuma, bei</td>\n",
       "      <td>Certain</td>\n",
       "      <td>NULL</td>\n",
       "      <td>NULL</td>\n",
       "      <td>71 AD – 130 AD</td>\n",
       "    </tr>\n",
       "    <tr>\n",
       "      <th>1</th>\n",
       "      <td>Feraudi</td>\n",
       "      <td>epitaph</td>\n",
       "      <td>4 cm</td>\n",
       "      <td>0200</td>\n",
       "      <td>AE 1983, 0080. (A); A. Ferrua, RAL 36, 1981, 1...</td>\n",
       "      <td>no image</td>\n",
       "      <td>28 cm</td>\n",
       "      <td>C SEXTIVS PARIS / QVI VIXIT / ANNIS LXX</td>\n",
       "      <td>[{'nomen': 'Sextius', 'praenomen': 'C.', 'pers...</td>\n",
       "      <td>{}</td>\n",
       "      <td>...</td>\n",
       "      <td>Certain</td>\n",
       "      <td>Roma</td>\n",
       "      <td>Certain</td>\n",
       "      <td>Lazio</td>\n",
       "      <td>Certain</td>\n",
       "      <td>Roma</td>\n",
       "      <td>Certain</td>\n",
       "      <td>Via Nomentana, S. Alessandro, Kirche</td>\n",
       "      <td>Certain</td>\n",
       "      <td>51 AD – 200 AD</td>\n",
       "    </tr>\n",
       "    <tr>\n",
       "      <th>2</th>\n",
       "      <td>Feraudi</td>\n",
       "      <td>honorific inscription</td>\n",
       "      <td>4.5-3 cm</td>\n",
       "      <td>0170</td>\n",
       "      <td>AE 1983, 0518. (B); J. González, ZPE 52, 1983,...</td>\n",
       "      <td>provisional</td>\n",
       "      <td>(37) cm</td>\n",
       "      <td>[ ]VMMIO [ ] / [ ]ISENNA[ ] / [ ] XV[ ] / [ ] / [</td>\n",
       "      <td>[{'nomen': 'Mummius+', 'gender': 'male', 'prae...</td>\n",
       "      <td>(12) cm</td>\n",
       "      <td>...</td>\n",
       "      <td>Certain</td>\n",
       "      <td>NULL</td>\n",
       "      <td>NULL</td>\n",
       "      <td>Sevilla</td>\n",
       "      <td>Certain</td>\n",
       "      <td>Tomares</td>\n",
       "      <td>Certain</td>\n",
       "      <td>NULL</td>\n",
       "      <td>NULL</td>\n",
       "      <td>131 AD – 170 AD</td>\n",
       "    </tr>\n",
       "    <tr>\n",
       "      <th>3</th>\n",
       "      <td>Gräf</td>\n",
       "      <td>votive inscription</td>\n",
       "      <td>2.5 cm</td>\n",
       "      <td>0200</td>\n",
       "      <td>AE 1983, 0533. (B); A.U. Stylow, Gerión 1, 198...</td>\n",
       "      <td>checked with photo</td>\n",
       "      <td>(39) cm</td>\n",
       "      <td>[ ]AVS[ ]LLA / M PORCI NIGRI SER / DOMINAE VEN...</td>\n",
       "      <td>[{'name': '[---?]AV(?)S(?)[---]L(?)L(?)A M. Po...</td>\n",
       "      <td>18 cm</td>\n",
       "      <td>...</td>\n",
       "      <td>Certain</td>\n",
       "      <td>Ipolcobulcula</td>\n",
       "      <td>Certain</td>\n",
       "      <td>Córdoba</td>\n",
       "      <td>Certain</td>\n",
       "      <td>Carcabuey</td>\n",
       "      <td>Certain</td>\n",
       "      <td>NULL</td>\n",
       "      <td>NULL</td>\n",
       "      <td>151 AD – 200 AD</td>\n",
       "    </tr>\n",
       "    <tr>\n",
       "      <th>4</th>\n",
       "      <td>Feraudi</td>\n",
       "      <td>epitaph</td>\n",
       "      <td>{}</td>\n",
       "      <td>0200</td>\n",
       "      <td>AE 1983, 0078. (B); A. Ferrua, RAL 36, 1981, 1...</td>\n",
       "      <td>no image</td>\n",
       "      <td>{}</td>\n",
       "      <td>[ ] L SVCCESSVS / [ ] L L IRENAEVS / [ ] C L T...</td>\n",
       "      <td>[{'person_id': '1', 'name': '[---]l. Successus...</td>\n",
       "      <td>{}</td>\n",
       "      <td>...</td>\n",
       "      <td>Certain</td>\n",
       "      <td>Roma</td>\n",
       "      <td>Certain</td>\n",
       "      <td>Lazio</td>\n",
       "      <td>Certain</td>\n",
       "      <td>Roma</td>\n",
       "      <td>Certain</td>\n",
       "      <td>Via Cupa (ehem. Vigna Nardi)</td>\n",
       "      <td>Certain</td>\n",
       "      <td>1 AD – 200 AD</td>\n",
       "    </tr>\n",
       "  </tbody>\n",
       "</table>\n",
       "<p>5 rows × 71 columns</p>\n",
       "</div>"
      ],
      "text/plain": [
       "  responsible_individual    type_of_inscription letter_size not_after  \\\n",
       "0                Feraudi                epitaph    3.2-2 cm      0130   \n",
       "1                Feraudi                epitaph        4 cm      0200   \n",
       "2                Feraudi  honorific inscription    4.5-3 cm      0170   \n",
       "3                   Gräf     votive inscription      2.5 cm      0200   \n",
       "4                Feraudi                epitaph          {}      0200   \n",
       "\n",
       "                                          literature         work_status  \\\n",
       "0  AE 1983, 0192.; M. Annecchino, Puteoli 4/5, 19...         provisional   \n",
       "1  AE 1983, 0080. (A); A. Ferrua, RAL 36, 1981, 1...            no image   \n",
       "2  AE 1983, 0518. (B); J. González, ZPE 52, 1983,...         provisional   \n",
       "3  AE 1983, 0533. (B); A.U. Stylow, Gerión 1, 198...  checked with photo   \n",
       "4  AE 1983, 0078. (B); A. Ferrua, RAL 36, 1981, 1...            no image   \n",
       "\n",
       "    height                                    diplomatic_text  \\\n",
       "0    33 cm  D M / NONIAE P F OPTATAE / ET C IVLIO ARTEMONI...   \n",
       "1    28 cm            C SEXTIVS PARIS / QVI VIXIT / ANNIS LXX   \n",
       "2  (37) cm  [ ]VMMIO [ ] / [ ]ISENNA[ ] / [ ] XV[ ] / [ ] / [   \n",
       "3  (39) cm  [ ]AVS[ ]LLA / M PORCI NIGRI SER / DOMINAE VEN...   \n",
       "4       {}  [ ] L SVCCESSVS / [ ] L L IRENAEVS / [ ] C L T...   \n",
       "\n",
       "                                              people    depth  ...  \\\n",
       "0  [{'name': 'Noniae P.f. Optatae', 'cognomen': '...   2.7 cm  ...   \n",
       "1  [{'nomen': 'Sextius', 'praenomen': 'C.', 'pers...       {}  ...   \n",
       "2  [{'nomen': 'Mummius+', 'gender': 'male', 'prae...  (12) cm  ...   \n",
       "3  [{'name': '[---?]AV(?)S(?)[---]L(?)L(?)A M. Po...    18 cm  ...   \n",
       "4  [{'person_id': '1', 'name': '[---]l. Successus...       {}  ...   \n",
       "\n",
       "  country_certainty findspot_ancient_clean findspot_ancient_certainty  \\\n",
       "0           Certain                  Cumae                  Estimated   \n",
       "1           Certain                   Roma                    Certain   \n",
       "2           Certain                   NULL                       NULL   \n",
       "3           Certain          Ipolcobulcula                    Certain   \n",
       "4           Certain                   Roma                    Certain   \n",
       "\n",
       "  modern_region_clean modern_region_certainty findspot_modern_clean  \\\n",
       "0            Campania                 Certain             Cuma, bei   \n",
       "1               Lazio                 Certain                  Roma   \n",
       "2             Sevilla                 Certain               Tomares   \n",
       "3             Córdoba                 Certain             Carcabuey   \n",
       "4               Lazio                 Certain                  Roma   \n",
       "\n",
       "  findspot_modern_certainty                        findspot_clean  \\\n",
       "0                   Certain                                  NULL   \n",
       "1                   Certain  Via Nomentana, S. Alessandro, Kirche   \n",
       "2                   Certain                                  NULL   \n",
       "3                   Certain                                  NULL   \n",
       "4                   Certain          Via Cupa (ehem. Vigna Nardi)   \n",
       "\n",
       "  findspot_certainty origdate_text_clean  \n",
       "0               NULL      71 AD – 130 AD  \n",
       "1            Certain      51 AD – 200 AD  \n",
       "2               NULL     131 AD – 170 AD  \n",
       "3               NULL     151 AD – 200 AD  \n",
       "4            Certain       1 AD – 200 AD  \n",
       "\n",
       "[5 rows x 71 columns]"
      ]
     },
     "execution_count": 1,
     "metadata": {},
     "output_type": "execute_result"
    }
   ],
   "source": [
    "import sddk\n",
    "\n",
    "publicfolder = \"b6b6afdb969d378b70929e86e58ad975\"\n",
    "EDH_cleaned = sddk.read_file(\"EEDH_text_cleaned_2022-11-03.json\", publicfolder)\n",
    "EDH_cleaned.head(5)"
   ]
  },
  {
   "cell_type": "code",
   "execution_count": 3,
   "metadata": {},
   "outputs": [
    {
     "data": {
      "text/plain": [
       "(81476, 71)"
      ]
     },
     "execution_count": 3,
     "metadata": {},
     "output_type": "execute_result"
    }
   ],
   "source": [
    "EDH_cleaned.shape"
   ]
  },
  {
   "cell_type": "markdown",
   "source": [
    "# Reading local copy"
   ],
   "metadata": {
    "collapsed": false
   }
  },
  {
   "cell_type": "code",
   "execution_count": 2,
   "metadata": {},
   "outputs": [],
   "source": [
    "EDH_cleaned = pd.read_json(\"../data/large_data/EDH_text_cleaned_2022-11-03.json\")"
   ]
  },
  {
   "cell_type": "code",
   "execution_count": 3,
   "outputs": [
    {
     "data": {
      "text/plain": "                                          commentary country    depth  \\\n0  (C): 2. Hälfte 1. - Anfang 2. Jh. - AE; Ende 1...   Italy     2 cm   \n1                            AE 1983: Breite: 35 cm.   Italy       {}   \n2  (B): [S]isenna ist falscher Kasus; folgende Er...   Spain  (12) cm   \n3  Material: lokaler grauer Kalkstein. (B): Stylo...   Spain    18 cm   \n4                (B): Z. 3: C(ai) l(ibertae) Tyches.   Italy       {}   \n\n                                     diplomatic_text findspot_ancient  \\\n0  D M / NONIAE P F OPTATAE / ET C IVLIO ARTEMONI...       Cumae, bei   \n1            C SEXTIVS PARIS / QVI VIXIT / ANNIS LXX             Roma   \n2  [ ]VMMIO [ ] / [ ]ISENNA[ ] / [ ] XV[ ] / [ ] / [               {}   \n3  [ ]AVS[ ]LLA / M PORCI NIGRI SER / DOMINAE VEN...    Ipolcobulcula   \n4  [ ] L SVCCESSVS / [ ] L L IRENAEVS / [ ] C L T...             Roma   \n\n  findspot_modern   height        id language last_update  ...  \\\n0       Cuma, bei    33 cm  HD000001        L  2014-04-07  ...   \n1            Roma    28 cm  HD000002        L  2014-04-07  ...   \n2         Tomares  (37) cm  HD000003        L  2006-08-31  ...   \n3       Carcabuey  (39) cm  HD000004        L  2015-03-27  ...   \n4            Roma       {}  HD000005        L  2010-01-04  ...   \n\n  modern_region_clean modern_region_certainty findspot_modern_clean  \\\n0            Campania                 Certain             Cuma, bei   \n1               Lazio                 Certain                  Roma   \n2             Sevilla                 Certain               Tomares   \n3             Córdoba                 Certain             Carcabuey   \n4               Lazio                 Certain                  Roma   \n\n  findspot_modern_certainty                        findspot_clean  \\\n0                   Certain                                  NULL   \n1                   Certain  Via Nomentana, S. Alessandro, Kirche   \n2                   Certain                                  NULL   \n3                   Certain                                  NULL   \n4                   Certain          Via Cupa (ehem. Vigna Nardi)   \n\n  findspot_certainty origdate_text_clean  \\\n0               NULL      71 AD - 130 AD   \n1            Certain      51 AD - 200 AD   \n2               NULL     131 AD - 170 AD   \n3               NULL     151 AD - 200 AD   \n4            Certain       1 AD - 200 AD   \n\n                             clean_text_conservative  \\\n0  D M Noniae P f Optatae et C Iulio Artemoni par...   \n1                C Sextius Paris qui vixit annis LXX   \n2                                    ummio isenna Xv   \n3  AVSLLA M Porci Nigri ser dominae Veneri aram p...   \n4    l Successus L l Irenaeus C l Tyches unt renti f   \n\n                        clean_text_interpretive_word  \\\n0  Dis Manibus Noniae Publi filiae Optatae et Cai...   \n1            Caius Sextius Paris qui vixit annis LXX   \n2  Publio Mummio Publi filio Galeria Sisennae Rut...   \n3  AVS LLA Marci Porci Nigri serva dominae Veneri...   \n4  libertus Successus Luci libertus Irenaeus Cai ...   \n\n                    clean_text_interpretive_sentence  \n0  Dis Manibus Noniae Publi filiae Optatae et Cai...  \n1            Caius Sextius Paris qui vixit annis LXX  \n2  Publio Mummio Publi filio Galeria Sisennae Rut...  \n3  AVS LLA Marci Porci Nigri serva dominae Veneri...  \n4  libertus Successus Luci libertus Irenaeus Cai ...  \n\n[5 rows x 69 columns]",
      "text/html": "<div>\n<style scoped>\n    .dataframe tbody tr th:only-of-type {\n        vertical-align: middle;\n    }\n\n    .dataframe tbody tr th {\n        vertical-align: top;\n    }\n\n    .dataframe thead th {\n        text-align: right;\n    }\n</style>\n<table border=\"1\" class=\"dataframe\">\n  <thead>\n    <tr style=\"text-align: right;\">\n      <th></th>\n      <th>commentary</th>\n      <th>country</th>\n      <th>depth</th>\n      <th>diplomatic_text</th>\n      <th>findspot_ancient</th>\n      <th>findspot_modern</th>\n      <th>height</th>\n      <th>id</th>\n      <th>language</th>\n      <th>last_update</th>\n      <th>...</th>\n      <th>modern_region_clean</th>\n      <th>modern_region_certainty</th>\n      <th>findspot_modern_clean</th>\n      <th>findspot_modern_certainty</th>\n      <th>findspot_clean</th>\n      <th>findspot_certainty</th>\n      <th>origdate_text_clean</th>\n      <th>clean_text_conservative</th>\n      <th>clean_text_interpretive_word</th>\n      <th>clean_text_interpretive_sentence</th>\n    </tr>\n  </thead>\n  <tbody>\n    <tr>\n      <th>0</th>\n      <td>(C): 2. Hälfte 1. - Anfang 2. Jh. - AE; Ende 1...</td>\n      <td>Italy</td>\n      <td>2 cm</td>\n      <td>D M / NONIAE P F OPTATAE / ET C IVLIO ARTEMONI...</td>\n      <td>Cumae, bei</td>\n      <td>Cuma, bei</td>\n      <td>33 cm</td>\n      <td>HD000001</td>\n      <td>L</td>\n      <td>2014-04-07</td>\n      <td>...</td>\n      <td>Campania</td>\n      <td>Certain</td>\n      <td>Cuma, bei</td>\n      <td>Certain</td>\n      <td>NULL</td>\n      <td>NULL</td>\n      <td>71 AD - 130 AD</td>\n      <td>D M Noniae P f Optatae et C Iulio Artemoni par...</td>\n      <td>Dis Manibus Noniae Publi filiae Optatae et Cai...</td>\n      <td>Dis Manibus Noniae Publi filiae Optatae et Cai...</td>\n    </tr>\n    <tr>\n      <th>1</th>\n      <td>AE 1983: Breite: 35 cm.</td>\n      <td>Italy</td>\n      <td>{}</td>\n      <td>C SEXTIVS PARIS / QVI VIXIT / ANNIS LXX</td>\n      <td>Roma</td>\n      <td>Roma</td>\n      <td>28 cm</td>\n      <td>HD000002</td>\n      <td>L</td>\n      <td>2014-04-07</td>\n      <td>...</td>\n      <td>Lazio</td>\n      <td>Certain</td>\n      <td>Roma</td>\n      <td>Certain</td>\n      <td>Via Nomentana, S. Alessandro, Kirche</td>\n      <td>Certain</td>\n      <td>51 AD - 200 AD</td>\n      <td>C Sextius Paris qui vixit annis LXX</td>\n      <td>Caius Sextius Paris qui vixit annis LXX</td>\n      <td>Caius Sextius Paris qui vixit annis LXX</td>\n    </tr>\n    <tr>\n      <th>2</th>\n      <td>(B): [S]isenna ist falscher Kasus; folgende Er...</td>\n      <td>Spain</td>\n      <td>(12) cm</td>\n      <td>[ ]VMMIO [ ] / [ ]ISENNA[ ] / [ ] XV[ ] / [ ] / [</td>\n      <td>{}</td>\n      <td>Tomares</td>\n      <td>(37) cm</td>\n      <td>HD000003</td>\n      <td>L</td>\n      <td>2006-08-31</td>\n      <td>...</td>\n      <td>Sevilla</td>\n      <td>Certain</td>\n      <td>Tomares</td>\n      <td>Certain</td>\n      <td>NULL</td>\n      <td>NULL</td>\n      <td>131 AD - 170 AD</td>\n      <td>ummio isenna Xv</td>\n      <td>Publio Mummio Publi filio Galeria Sisennae Rut...</td>\n      <td>Publio Mummio Publi filio Galeria Sisennae Rut...</td>\n    </tr>\n    <tr>\n      <th>3</th>\n      <td>Material: lokaler grauer Kalkstein. (B): Stylo...</td>\n      <td>Spain</td>\n      <td>18 cm</td>\n      <td>[ ]AVS[ ]LLA / M PORCI NIGRI SER / DOMINAE VEN...</td>\n      <td>Ipolcobulcula</td>\n      <td>Carcabuey</td>\n      <td>(39) cm</td>\n      <td>HD000004</td>\n      <td>L</td>\n      <td>2015-03-27</td>\n      <td>...</td>\n      <td>Córdoba</td>\n      <td>Certain</td>\n      <td>Carcabuey</td>\n      <td>Certain</td>\n      <td>NULL</td>\n      <td>NULL</td>\n      <td>151 AD - 200 AD</td>\n      <td>AVSLLA M Porci Nigri ser dominae Veneri aram p...</td>\n      <td>AVS LLA Marci Porci Nigri serva dominae Veneri...</td>\n      <td>AVS LLA Marci Porci Nigri serva dominae Veneri...</td>\n    </tr>\n    <tr>\n      <th>4</th>\n      <td>(B): Z. 3: C(ai) l(ibertae) Tyches.</td>\n      <td>Italy</td>\n      <td>{}</td>\n      <td>[ ] L SVCCESSVS / [ ] L L IRENAEVS / [ ] C L T...</td>\n      <td>Roma</td>\n      <td>Roma</td>\n      <td>{}</td>\n      <td>HD000005</td>\n      <td>L</td>\n      <td>2010-01-04</td>\n      <td>...</td>\n      <td>Lazio</td>\n      <td>Certain</td>\n      <td>Roma</td>\n      <td>Certain</td>\n      <td>Via Cupa (ehem. Vigna Nardi)</td>\n      <td>Certain</td>\n      <td>1 AD - 200 AD</td>\n      <td>l Successus L l Irenaeus C l Tyches unt renti f</td>\n      <td>libertus Successus Luci libertus Irenaeus Cai ...</td>\n      <td>libertus Successus Luci libertus Irenaeus Cai ...</td>\n    </tr>\n  </tbody>\n</table>\n<p>5 rows × 69 columns</p>\n</div>"
     },
     "execution_count": 3,
     "metadata": {},
     "output_type": "execute_result"
    }
   ],
   "source": [
    "EDH_cleaned.head(5)"
   ],
   "metadata": {
    "collapsed": false
   }
  },
  {
   "cell_type": "code",
   "execution_count": null,
   "outputs": [],
   "source": [],
   "metadata": {
    "collapsed": false
   }
  }
 ],
 "metadata": {
  "colab": {
   "authorship_tag": "ABX9TyOKWnvxv3tTbNERCRAysPtc",
   "include_colab_link": true,
   "name": "WORKING_WITH_CLEANED_TEXTS.ipynb",
   "provenance": []
  },
  "kernelspec": {
   "display_name": "Python 3",
   "language": "python",
   "name": "python3"
  },
  "language_info": {
   "codemirror_mode": {
    "name": "ipython",
    "version": 3
   },
   "file_extension": ".py",
   "mimetype": "text/x-python",
   "name": "python",
   "nbconvert_exporter": "python",
   "pygments_lexer": "ipython3",
   "version": "3.6.9"
  }
 },
 "nbformat": 4,
 "nbformat_minor": 1
}
