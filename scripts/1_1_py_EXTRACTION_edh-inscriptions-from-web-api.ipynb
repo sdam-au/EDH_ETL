{
 "cells": [
  {
   "cell_type": "markdown",
   "metadata": {
    "colab_type": "text",
    "id": "q32fsw4Is1-r"
   },
   "source": [
    "# INTRODUCTION\n",
    "\n",
    "This notebook explores the potential of the Epigraphic Database Heidelberg web API , [EDH API](https://edh-www.adw.uni-heidelberg.de/data/api) in combination with sciencedata.dk as a datastorage (see more about our current progress in using sciencedata.dk [here](https://docs.google.com/document/d/1sojHsxkcAbZH9DpWFuHDomQwTZHPQv_WaAxO_erP6FE/edit?usp=sharing)).\n",
    "\n",
    "The ambition here is to use cloud based solutions as much as possible, without any dependence on local machines. At the same time, we do not like to rely completely upon google services. "
   ]
  },
  {
   "cell_type": "code",
   "execution_count": 1,
   "metadata": {
    "colab": {
     "base_uri": "https://localhost:8080/",
     "height": 124
    },
    "colab_type": "code",
    "executionInfo": {
     "elapsed": 6754,
     "status": "ok",
     "timestamp": 1576832615122,
     "user": {
      "displayName": "Vojtěch Kaše",
      "photoUrl": "https://lh3.googleusercontent.com/a-/AAuE7mAxTlnyE78QMWq7qNrhY8cMOVti0SJqAGwQEptYkQ=s64",
      "userId": "01399835024022498543"
     },
     "user_tz": -60
    },
    "id": "WQUp4ta7sNIO",
    "outputId": "ade6d7a1-19d0-4acb-bc57-2ec757dd6940"
   },
   "outputs": [
    {
     "name": "stdout",
     "output_type": "stream",
     "text": [
      "Looking in indexes: https://test.pypi.org/simple/\n",
      "Collecting sddk\n",
      "  Downloading https://test-files.pythonhosted.org/packages/65/8b/d682c15a7335215ac119538ad8455b408cd7e8be4f6614678888dd2c88ed/sddk-0.0.7-py3-none-any.whl\n",
      "Installing collected packages: sddk\n",
      "Successfully installed sddk-0.0.7\n"
     ]
    }
   ],
   "source": [
    "### REQUIREMENTS\n",
    "import numpy as np\n",
    "import math\n",
    "import pandas as pd\n",
    "\n",
    "import sys\n",
    "### we do a lot of requests during the scrapping. Some of them with requests package, some of them with urllib\n",
    "import requests\n",
    "from urllib.request import urlopen \n",
    "from urllib.parse import quote  \n",
    "from bs4 import BeautifulSoup\n",
    "import xml.etree.cElementTree as ET\n",
    "\n",
    "# to avoid errors, we sometime use time.sleep(N) before retrying a request\n",
    "import time\n",
    "# the input data have typically a json structure\n",
    "import json\n",
    "import getpass\n",
    "\n",
    "import datetime as dt\n",
    "# for simple paralel computing:\n",
    "from concurrent.futures import ThreadPoolExecutor\n",
    "### google drive\n",
    "from google.colab import drive\n",
    "#import gspread\n",
    "#from gspread_dataframe import get_as_dataframe, set_with_dataframe\n",
    "\n",
    "!pip install --ignore-installed --index-url https://test.pypi.org/simple/ --no-deps sddk ### our own package under construction, always install to have up-to-date version\n",
    "import sddk"
   ]
  },
  {
   "cell_type": "markdown",
   "metadata": {
    "colab_type": "text",
    "id": "2cK0r3WVvOH3"
   },
   "source": [
    "## configure session and url"
   ]
  },
  {
   "cell_type": "code",
   "execution_count": 2,
   "metadata": {
    "colab": {
     "base_uri": "https://localhost:8080/",
     "height": 104
    },
    "colab_type": "code",
    "executionInfo": {
     "elapsed": 21355,
     "status": "ok",
     "timestamp": 1576832629741,
     "user": {
      "displayName": "Vojtěch Kaše",
      "photoUrl": "https://lh3.googleusercontent.com/a-/AAuE7mAxTlnyE78QMWq7qNrhY8cMOVti0SJqAGwQEptYkQ=s64",
      "userId": "01399835024022498543"
     },
     "user_tz": -60
    },
    "id": "8uTwTHVboJdw",
    "outputId": "a5e6f708-310f-41b2-cdcb-62cf4036ca25"
   },
   "outputs": [
    {
     "name": "stdout",
     "output_type": "stream",
     "text": [
      "sciencedata.dk username (format '123456@au.dk'): 648597@au.dk\n",
      "sciencedata.dk password: ··········\n",
      "personal connection established\n",
      "group connection established with you as owner\n",
      "endpoint for requests has been configured to: https://sciencedata.dk/files/SDAM_root/\n"
     ]
    }
   ],
   "source": [
    "### configure session and url\n",
    "### in the case of \"SDAM_root\", the group owner is Vojtech with username 648597@au.dk\n",
    "s, sddk_url = sddk.configure_session_and_url(\"SDAM_root\")"
   ]
  },
  {
   "cell_type": "markdown",
   "metadata": {
    "colab_type": "text",
    "id": "7vbOZNxTmnyn"
   },
   "source": [
    "# EDH via API"
   ]
  },
  {
   "cell_type": "markdown",
   "metadata": {
    "colab_type": "text",
    "id": "n5fg08Azup1p"
   },
   "source": [
    "The basis form of an request is as follows:\n",
    "```\n",
    "https://edh-www.adw.uni-heidelberg.de/data/api/inscriptions/search?\n",
    "```\n",
    "With this, to create query based on inscription number, you have to specify the paramenter **hd_nr**, like here:\n",
    "\n",
    "```\n",
    "https://edh-www.adw.uni-heidelberg.de/data/api/inscriptions/search?hd_nr=1\n",
    "```\n",
    " (Feel free to explore this in web browser).\n",
    "\n",
    "Here we use the function ```requests.get()``` to make our requests from python."
   ]
  },
  {
   "cell_type": "markdown",
   "metadata": {
    "colab_type": "text",
    "id": "SDsje3X_2tks"
   },
   "source": [
    "## One inscription query example"
   ]
  },
  {
   "cell_type": "code",
   "execution_count": 0,
   "metadata": {
    "colab": {
     "base_uri": "https://localhost:8080/",
     "height": 88
    },
    "colab_type": "code",
    "executionInfo": {
     "elapsed": 1229,
     "status": "ok",
     "timestamp": 1574426980054,
     "user": {
      "displayName": "Vojtěch Kaše",
      "photoUrl": "https://lh3.googleusercontent.com/a-/AAuE7mAxTlnyE78QMWq7qNrhY8cMOVti0SJqAGwQEptYkQ=s64",
      "userId": "01399835024022498543"
     },
     "user_tz": -60
    },
    "id": "uoIgDXaSuEFz",
    "outputId": "0fb2c418-3f37-4f8d-f2ac-3493881ac1ce"
   },
   "outputs": [
    {
     "name": "stdout",
     "output_type": "stream",
     "text": [
      "{'total': 1, 'items': [{'province_label': 'Hispania citerior', 'modern_region': 'Soria', 'findspot_ancient': 'Uxama', 'transcription': 'D[---] / ANELI[---] / BERVE[---] / P[---]IT[------', 'commentary': ' Text in vier Zeilen, nahezu unlesbar.', 'id': 'HD000100', 'literature': 'AE 1983, 0597.; C. García Merino, in: Homenaje al Prof. Martin Almagro Basch 3 (Madrid 1983) 355, Nr. 2; lám. 1, 2. - AE 1983.', 'uri': 'https://edh-www.adw.uni-heidelberg.de/edh/inschrift/HD000100', 'language': 'Latin', 'findspot_modern': 'El Burgo de Osma', 'work_status': 'provisional', 'edh_geography_uri': 'https://edh-www.adw.uni-heidelberg.de/edh/geographie/9371', 'last_update': '2015-05-21', 'diplomatic_text': 'D[ ] / ANELI[ ] / BERVE[ ] / P[ ]IT[', 'trismegistos_uri': 'https://www.trismegistos.org/text/226731', 'country': 'Spain', 'responsible_individual': 'Gräf', 'type_of_monument': 'stele'}], 'limit': '20'}\n",
      "CPU times: user 15.5 ms, sys: 95 µs, total: 15.6 ms\n",
      "Wall time: 854 ms\n"
     ]
    }
   ],
   "source": [
    "%%time\n",
    "inscription_number = 100\n",
    "URL_form = \"https://edh-www.adw.uni-heidelberg.de/data/api/inscriptions/search?\"\n",
    "\n",
    "response = requests.get(URL_form + \"hd_nr=\" + str(inscription_number))\n",
    "response\n",
    "json_data = response.json()\n",
    "print(json_data)"
   ]
  },
  {
   "cell_type": "code",
   "execution_count": 0,
   "metadata": {
    "colab": {
     "base_uri": "https://localhost:8080/",
     "height": 202
    },
    "colab_type": "code",
    "executionInfo": {
     "elapsed": 522,
     "status": "ok",
     "timestamp": 1574426966559,
     "user": {
      "displayName": "Vojtěch Kaše",
      "photoUrl": "https://lh3.googleusercontent.com/a-/AAuE7mAxTlnyE78QMWq7qNrhY8cMOVti0SJqAGwQEptYkQ=s64",
      "userId": "01399835024022498543"
     },
     "user_tz": -60
    },
    "id": "jHuwYXn9xCnh",
    "outputId": "4c7f2335-ffcf-48b6-bfda-d03ca636b2fa"
   },
   "outputs": [
    {
     "name": "stdout",
     "output_type": "stream",
     "text": [
      "CPU times: user 2.87 ms, sys: 0 ns, total: 2.87 ms\n",
      "Wall time: 2.82 ms\n"
     ]
    },
    {
     "data": {
      "text/html": [
       "<div>\n",
       "<style scoped>\n",
       "    .dataframe tbody tr th:only-of-type {\n",
       "        vertical-align: middle;\n",
       "    }\n",
       "\n",
       "    .dataframe tbody tr th {\n",
       "        vertical-align: top;\n",
       "    }\n",
       "\n",
       "    .dataframe thead th {\n",
       "        text-align: right;\n",
       "    }\n",
       "</style>\n",
       "<table border=\"1\" class=\"dataframe\">\n",
       "  <thead>\n",
       "    <tr style=\"text-align: right;\">\n",
       "      <th></th>\n",
       "      <th>findspot_ancient</th>\n",
       "      <th>findspot_modern</th>\n",
       "      <th>id</th>\n",
       "      <th>diplomatic_text</th>\n",
       "      <th>uri</th>\n",
       "      <th>edh_geography_uri</th>\n",
       "      <th>literature</th>\n",
       "      <th>trismegistos_uri</th>\n",
       "      <th>work_status</th>\n",
       "      <th>province_label</th>\n",
       "      <th>type_of_monument</th>\n",
       "      <th>language</th>\n",
       "      <th>last_update</th>\n",
       "      <th>modern_region</th>\n",
       "      <th>transcription</th>\n",
       "      <th>commentary</th>\n",
       "      <th>responsible_individual</th>\n",
       "      <th>country</th>\n",
       "    </tr>\n",
       "  </thead>\n",
       "  <tbody>\n",
       "    <tr>\n",
       "      <th>0</th>\n",
       "      <td>Uxama</td>\n",
       "      <td>El Burgo de Osma</td>\n",
       "      <td>HD000100</td>\n",
       "      <td>D[ ] / ANELI[ ] / BERVE[ ] / P[ ]IT[</td>\n",
       "      <td>https://edh-www.adw.uni-heidelberg.de/edh/insc...</td>\n",
       "      <td>https://edh-www.adw.uni-heidelberg.de/edh/geog...</td>\n",
       "      <td>AE 1983, 0597.; C. García Merino, in: Homenaje...</td>\n",
       "      <td>https://www.trismegistos.org/text/226731</td>\n",
       "      <td>provisional</td>\n",
       "      <td>Hispania citerior</td>\n",
       "      <td>stele</td>\n",
       "      <td>Latin</td>\n",
       "      <td>2015-05-21</td>\n",
       "      <td>Soria</td>\n",
       "      <td>D[---] / ANELI[---] / BERVE[---] / P[---]IT[--...</td>\n",
       "      <td>Text in vier Zeilen, nahezu unlesbar.</td>\n",
       "      <td>Gräf</td>\n",
       "      <td>Spain</td>\n",
       "    </tr>\n",
       "  </tbody>\n",
       "</table>\n",
       "</div>"
      ],
      "text/plain": [
       "  findspot_ancient   findspot_modern  ... responsible_individual country\n",
       "0            Uxama  El Burgo de Osma  ...                   Gräf   Spain\n",
       "\n",
       "[1 rows x 18 columns]"
      ]
     },
     "execution_count": 5,
     "metadata": {
      "tags": []
     },
     "output_type": "execute_result"
    }
   ],
   "source": [
    "### the actual data are part of the tag \"items\"\n",
    "%%time \n",
    "pd.DataFrame(json_data[\"items\"]) \n"
   ]
  },
  {
   "cell_type": "markdown",
   "metadata": {
    "colab_type": "text",
    "id": "DL10-VHtkMMC"
   },
   "source": [
    "# Version 1: Extracting inscriptions one by one (using simple paralel computing)"
   ]
  },
  {
   "cell_type": "code",
   "execution_count": 0,
   "metadata": {
    "colab": {},
    "colab_type": "code",
    "id": "6d5PfKCPSqi9"
   },
   "outputs": [],
   "source": [
    "def get_inscription_data(num):\n",
    "  try:\n",
    "    response = requests.get(URL_form + \"hd_nr=\" + str(num))\n",
    "    json_data_items = response.json()[\"items\"]\n",
    "  except:\n",
    "    time.sleep(1)\n",
    "    try:\n",
    "      response = requests.get(URL_form + \"hd_nr=\" + str(num))\n",
    "      json_data_items = response.json()[\"items\"]\n",
    "    except:\n",
    "      json_data_items = [{}]\n",
    "  return json_data_items[0]\n",
    "\n",
    "for num in range(1, 10):\n",
    "  print(get_inscription_data(num))"
   ]
  },
  {
   "cell_type": "code",
   "execution_count": 0,
   "metadata": {
    "colab": {},
    "colab_type": "code",
    "id": "Y9sgZ-KCk4fS"
   },
   "outputs": [],
   "source": [
    "### parallel computing\n",
    "from concurrent.futures import ThreadPoolExecutor"
   ]
  },
  {
   "cell_type": "code",
   "execution_count": 0,
   "metadata": {
    "colab": {
     "base_uri": "https://localhost:8080/",
     "height": 52
    },
    "colab_type": "code",
    "executionInfo": {
     "elapsed": 170263,
     "status": "ok",
     "timestamp": 1576771251267,
     "user": {
      "displayName": "",
      "photoUrl": "",
      "userId": ""
     },
     "user_tz": -60
    },
    "id": "XT1ivZcL304Y",
    "outputId": "83ddd64b-c16f-49dc-c331-548338fba078"
   },
   "outputs": [
    {
     "name": "stdout",
     "output_type": "stream",
     "text": [
      "CPU times: user 2.23 s, sys: 113 ms, total: 2.34 s\n",
      "Wall time: 2min 48s\n"
     ]
    }
   ],
   "source": [
    "#### TEST without paralel computing:\n",
    "\n",
    "%%time\n",
    "all_inscriptions = []\n",
    "for num in range(1,200): \n",
    "  currently_parsed = get_inscription_data(num)\n",
    "  all_inscriptions.extend(currently_parsed)"
   ]
  },
  {
   "cell_type": "code",
   "execution_count": 0,
   "metadata": {
    "colab": {
     "base_uri": "https://localhost:8080/",
     "height": 52
    },
    "colab_type": "code",
    "executionInfo": {
     "elapsed": 13976,
     "status": "ok",
     "timestamp": 1576770924513,
     "user": {
      "displayName": "",
      "photoUrl": "",
      "userId": ""
     },
     "user_tz": -60
    },
    "id": "9lrUIWrGk-iD",
    "outputId": "ca8895de-5a28-4560-81bb-4f73e3418846"
   },
   "outputs": [
    {
     "name": "stdout",
     "output_type": "stream",
     "text": [
      "CPU times: user 3.76 s, sys: 257 ms, total: 4.02 s\n",
      "Wall time: 13.2 s\n"
     ]
    }
   ],
   "source": [
    "### TEST with paralel computing\n",
    "###to make N requests in paralel, we first have to generate a range of ranges: [1,2,3], [4,5,6], [7,8,9]\n",
    "%%time\n",
    "all_inscriptions = []\n",
    "for num in range(1,200, 100): \n",
    "  actual_nums = list(range(num, num+100))\n",
    "  with ThreadPoolExecutor(max_workers=100) as pool:\n",
    "    currently_parsed = list(pool.map(get_inscription_data,actual_nums))\n",
    "  all_inscriptions.extend(currently_parsed)"
   ]
  },
  {
   "cell_type": "markdown",
   "metadata": {
    "colab_type": "text",
    "id": "5Blwzf6X5ChL"
   },
   "source": [
    "ok, the testing clearly demonstrate that using 100 workers in paralel is about 10 times faster. Let's scale it up for the whole dataset"
   ]
  },
  {
   "cell_type": "code",
   "execution_count": 0,
   "metadata": {
    "colab": {
     "base_uri": "https://localhost:8080/",
     "height": 52
    },
    "colab_type": "code",
    "executionInfo": {
     "elapsed": 620,
     "status": "ok",
     "timestamp": 1576781229252,
     "user": {
      "displayName": "Vojtěch Kaše",
      "photoUrl": "https://lh3.googleusercontent.com/a-/AAuE7mAxTlnyE78QMWq7qNrhY8cMOVti0SJqAGwQEptYkQ=s64",
      "userId": "01399835024022498543"
     },
     "user_tz": -60
    },
    "id": "cRRszRXl0y8o",
    "outputId": "446582fe-8a5f-48d2-b915-342418debbf8"
   },
   "outputs": [
    {
     "name": "stdout",
     "output_type": "stream",
     "text": [
      "CPU times: user 32min 3s, sys: 2min 34s, total: 34min 38s\n",
      "Wall time: 1h 50min 50s\n"
     ]
    }
   ],
   "source": [
    "### main run of the function\n",
    "\n",
    "%%time\n",
    "all_inscriptions = []\n",
    "for num in range(1,90000, 200): \n",
    "  actual_nums = list(range(num, num+200))\n",
    "  with ThreadPoolExecutor(max_workers=300) as pool:\n",
    "    currently_parsed = list(pool.map(get_inscription_data,actual_nums))\n",
    "  all_inscriptions.extend(currently_parsed)"
   ]
  },
  {
   "cell_type": "code",
   "execution_count": 0,
   "metadata": {
    "colab": {},
    "colab_type": "code",
    "id": "hD10qnvE5gp5"
   },
   "outputs": [],
   "source": [
    "inscriptions_data_df = pd.DataFrame(all_inscriptions)"
   ]
  },
  {
   "cell_type": "code",
   "execution_count": 5,
   "metadata": {
    "colab": {
     "base_uri": "https://localhost:8080/",
     "height": 1000
    },
    "colab_type": "code",
    "executionInfo": {
     "elapsed": 1027,
     "status": "ok",
     "timestamp": 1576832757790,
     "user": {
      "displayName": "Vojtěch Kaše",
      "photoUrl": "https://lh3.googleusercontent.com/a-/AAuE7mAxTlnyE78QMWq7qNrhY8cMOVti0SJqAGwQEptYkQ=s64",
      "userId": "01399835024022498543"
     },
     "user_tz": -60
    },
    "id": "EOqDyKm1jhKc",
    "outputId": "641eaeda-416d-4f13-e1f5-9c7187af4468"
   },
   "outputs": [
    {
     "data": {
      "text/html": [
       "<div>\n",
       "<style scoped>\n",
       "    .dataframe tbody tr th:only-of-type {\n",
       "        vertical-align: middle;\n",
       "    }\n",
       "\n",
       "    .dataframe tbody tr th {\n",
       "        vertical-align: top;\n",
       "    }\n",
       "\n",
       "    .dataframe thead th {\n",
       "        text-align: right;\n",
       "    }\n",
       "</style>\n",
       "<table border=\"1\" class=\"dataframe\">\n",
       "  <thead>\n",
       "    <tr style=\"text-align: right;\">\n",
       "      <th></th>\n",
       "      <th>diplomatic_text</th>\n",
       "      <th>literature</th>\n",
       "      <th>trismegistos_uri</th>\n",
       "      <th>id</th>\n",
       "      <th>findspot_ancient</th>\n",
       "      <th>not_before</th>\n",
       "      <th>type_of_inscription</th>\n",
       "      <th>work_status</th>\n",
       "      <th>edh_geography_uri</th>\n",
       "      <th>not_after</th>\n",
       "      <th>country</th>\n",
       "      <th>province_label</th>\n",
       "      <th>transcription</th>\n",
       "      <th>material</th>\n",
       "      <th>height</th>\n",
       "      <th>width</th>\n",
       "      <th>findspot_modern</th>\n",
       "      <th>depth</th>\n",
       "      <th>commentary</th>\n",
       "      <th>uri</th>\n",
       "      <th>responsible_individual</th>\n",
       "      <th>last_update</th>\n",
       "      <th>language</th>\n",
       "      <th>modern_region</th>\n",
       "      <th>letter_size</th>\n",
       "      <th>type_of_monument</th>\n",
       "      <th>people</th>\n",
       "      <th>year_of_find</th>\n",
       "      <th>findspot</th>\n",
       "      <th>present_location</th>\n",
       "      <th>external_image_uris</th>\n",
       "      <th>religion</th>\n",
       "      <th>fotos</th>\n",
       "      <th>geography</th>\n",
       "      <th>military</th>\n",
       "      <th>social_economic_legal_history</th>\n",
       "    </tr>\n",
       "  </thead>\n",
       "  <tbody>\n",
       "    <tr>\n",
       "      <th>0</th>\n",
       "      <td>D M / NONIAE P F OPTATAE / ET C IVLIO ARTEMONI...</td>\n",
       "      <td>AE 1983, 0192.; M. Annecchino, Puteoli 4/5, 19...</td>\n",
       "      <td>https://www.trismegistos.org/text/251193</td>\n",
       "      <td>HD000001</td>\n",
       "      <td>Cumae, bei</td>\n",
       "      <td>0071</td>\n",
       "      <td>epitaph</td>\n",
       "      <td>provisional</td>\n",
       "      <td>https://edh-www.adw.uni-heidelberg.de/edh/geog...</td>\n",
       "      <td>0130</td>\n",
       "      <td>Italy</td>\n",
       "      <td>Latium et Campania (Regio I)</td>\n",
       "      <td>D(is) M(anibus) / Noniae P(ubli) f(iliae) Opta...</td>\n",
       "      <td>Marmor, geädert / farbig</td>\n",
       "      <td>33 cm</td>\n",
       "      <td>34 cm</td>\n",
       "      <td>Cuma, bei</td>\n",
       "      <td>2.7 cm</td>\n",
       "      <td>(C): 2. Hälfte 1. - Anfang 2. Jh. - AE; Ende ...</td>\n",
       "      <td>https://edh-www.adw.uni-heidelberg.de/edh/insc...</td>\n",
       "      <td>Feraudi</td>\n",
       "      <td>2014-04-07</td>\n",
       "      <td>Latin</td>\n",
       "      <td>Campania</td>\n",
       "      <td>3.2-2 cm</td>\n",
       "      <td>tabula</td>\n",
       "      <td>[{'cognomen': 'Optata', 'person_id': '1', 'gen...</td>\n",
       "      <td>None</td>\n",
       "      <td>None</td>\n",
       "      <td>None</td>\n",
       "      <td>None</td>\n",
       "      <td>None</td>\n",
       "      <td>None</td>\n",
       "      <td>None</td>\n",
       "      <td>None</td>\n",
       "      <td>None</td>\n",
       "    </tr>\n",
       "    <tr>\n",
       "      <th>1</th>\n",
       "      <td>C SEXTIVS PARIS / QVI VIXIT / ANNIS LXX</td>\n",
       "      <td>AE 1983, 0080. (A); A. Ferrua, RAL 36, 1981, 1...</td>\n",
       "      <td>https://www.trismegistos.org/text/265631</td>\n",
       "      <td>HD000002</td>\n",
       "      <td>Roma</td>\n",
       "      <td>0051</td>\n",
       "      <td>epitaph</td>\n",
       "      <td>no image</td>\n",
       "      <td>https://edh-www.adw.uni-heidelberg.de/edh/geog...</td>\n",
       "      <td>0200</td>\n",
       "      <td>Italy</td>\n",
       "      <td>Roma</td>\n",
       "      <td>C(aius) Sextius Paris / qui vixit / annis LXX</td>\n",
       "      <td>marble: rocks - metamorphic rocks</td>\n",
       "      <td>28 cm</td>\n",
       "      <td>85 cm</td>\n",
       "      <td>Roma</td>\n",
       "      <td>None</td>\n",
       "      <td>AE 1983: Breite: 35 cm.</td>\n",
       "      <td>https://edh-www.adw.uni-heidelberg.de/edh/insc...</td>\n",
       "      <td>Feraudi</td>\n",
       "      <td>2014-04-07</td>\n",
       "      <td>Latin</td>\n",
       "      <td>Lazio</td>\n",
       "      <td>4 cm</td>\n",
       "      <td>tabula</td>\n",
       "      <td>[{'age: years': '70', 'cognomen': 'Paris', 'ge...</td>\n",
       "      <td>1937</td>\n",
       "      <td>Via Nomentana, S. Alessandro, Kirche</td>\n",
       "      <td>None</td>\n",
       "      <td>None</td>\n",
       "      <td>None</td>\n",
       "      <td>None</td>\n",
       "      <td>None</td>\n",
       "      <td>None</td>\n",
       "      <td>None</td>\n",
       "    </tr>\n",
       "    <tr>\n",
       "      <th>2</th>\n",
       "      <td>[ ]VMMIO [ ] / [ ]ISENNA[ ] / [ ] XV[ ] / [ ] / [</td>\n",
       "      <td>AE 1983, 0518. (B); J. González, ZPE 52, 1983,...</td>\n",
       "      <td>https://www.trismegistos.org/text/220675</td>\n",
       "      <td>HD000003</td>\n",
       "      <td>None</td>\n",
       "      <td>0131</td>\n",
       "      <td>honorific inscription</td>\n",
       "      <td>provisional</td>\n",
       "      <td>https://edh-www.adw.uni-heidelberg.de/edh/geog...</td>\n",
       "      <td>0170</td>\n",
       "      <td>Spain</td>\n",
       "      <td>Baetica</td>\n",
       "      <td>[P(ublio) M]ummio [P(ubli) f(ilio)] / [Gal(eri...</td>\n",
       "      <td>marble: rocks - metamorphic rocks</td>\n",
       "      <td>(37) cm</td>\n",
       "      <td>(34) cm</td>\n",
       "      <td>Tomares</td>\n",
       "      <td>(12) cm</td>\n",
       "      <td>(B): [S]isenna ist falscher Kasus; folgende E...</td>\n",
       "      <td>https://edh-www.adw.uni-heidelberg.de/edh/insc...</td>\n",
       "      <td>Feraudi</td>\n",
       "      <td>2006-08-31</td>\n",
       "      <td>Latin</td>\n",
       "      <td>Sevilla</td>\n",
       "      <td>4.5-3 cm</td>\n",
       "      <td>statue base</td>\n",
       "      <td>[{'nomen': 'Mummius+', 'cognomen': 'Sisenna+ R...</td>\n",
       "      <td>before 1975</td>\n",
       "      <td>None</td>\n",
       "      <td>Sevilla, Privatbesitz</td>\n",
       "      <td>None</td>\n",
       "      <td>None</td>\n",
       "      <td>None</td>\n",
       "      <td>None</td>\n",
       "      <td>None</td>\n",
       "      <td>None</td>\n",
       "    </tr>\n",
       "    <tr>\n",
       "      <th>3</th>\n",
       "      <td>[ ]AVS[ ]LLA / M PORCI NIGRI SER / DOMINAE VEN...</td>\n",
       "      <td>AE 1983, 0533. (B); A.U. Stylow, Gerión 1, 198...</td>\n",
       "      <td>https://www.trismegistos.org/text/222102</td>\n",
       "      <td>HD000004</td>\n",
       "      <td>Ipolcobulcula</td>\n",
       "      <td>0151</td>\n",
       "      <td>votive inscription</td>\n",
       "      <td>checked with photo</td>\n",
       "      <td>https://edh-www.adw.uni-heidelberg.de/edh/geog...</td>\n",
       "      <td>0200</td>\n",
       "      <td>Spain</td>\n",
       "      <td>Baetica</td>\n",
       "      <td>[---?]AV(?)S(?)[---]L(?)L(?)A / M(arci) Porci ...</td>\n",
       "      <td>limestone: rocks - clastic sediments</td>\n",
       "      <td>(39) cm</td>\n",
       "      <td>27 cm</td>\n",
       "      <td>Carcabuey</td>\n",
       "      <td>18 cm</td>\n",
       "      <td>Material: lokaler grauer Kalkstein. (B): Styl...</td>\n",
       "      <td>https://edh-www.adw.uni-heidelberg.de/edh/insc...</td>\n",
       "      <td>Gräf</td>\n",
       "      <td>2015-03-27</td>\n",
       "      <td>Latin</td>\n",
       "      <td>Córdoba</td>\n",
       "      <td>2.5 cm</td>\n",
       "      <td>altar</td>\n",
       "      <td>[{'cognomen': '[---]', 'status': 'slaves', 'pe...</td>\n",
       "      <td>before 1979</td>\n",
       "      <td>None</td>\n",
       "      <td>Carcabuey, Grupo Escolar</td>\n",
       "      <td>[http://cil-old.bbaw.de/test06/bilder/datenban...</td>\n",
       "      <td>names of pagan deities</td>\n",
       "      <td>None</td>\n",
       "      <td>None</td>\n",
       "      <td>None</td>\n",
       "      <td>None</td>\n",
       "    </tr>\n",
       "    <tr>\n",
       "      <th>4</th>\n",
       "      <td>[ ] L SVCCESSVS / [ ] L L IRENAEVS / [ ] C L T...</td>\n",
       "      <td>AE 1983, 0078. (B); A. Ferrua, RAL 36, 1981, 1...</td>\n",
       "      <td>https://www.trismegistos.org/text/265629</td>\n",
       "      <td>HD000005</td>\n",
       "      <td>Roma</td>\n",
       "      <td>0001</td>\n",
       "      <td>epitaph</td>\n",
       "      <td>no image</td>\n",
       "      <td>https://edh-www.adw.uni-heidelberg.de/edh/geog...</td>\n",
       "      <td>0200</td>\n",
       "      <td>Italy</td>\n",
       "      <td>Roma</td>\n",
       "      <td>[---] l(ibertus) Successus / [---] L(uci) l(ib...</td>\n",
       "      <td>None</td>\n",
       "      <td>None</td>\n",
       "      <td>None</td>\n",
       "      <td>Roma</td>\n",
       "      <td>None</td>\n",
       "      <td>(B): Z. 3: C(ai) l(ibertae) Tyches.</td>\n",
       "      <td>https://edh-www.adw.uni-heidelberg.de/edh/insc...</td>\n",
       "      <td>Feraudi</td>\n",
       "      <td>2010-01-04</td>\n",
       "      <td>Latin</td>\n",
       "      <td>Lazio</td>\n",
       "      <td>None</td>\n",
       "      <td>stele</td>\n",
       "      <td>[{'status': 'freedmen / freedwomen', 'name': '...</td>\n",
       "      <td>None</td>\n",
       "      <td>Via Cupa (ehem. Vigna Nardi)</td>\n",
       "      <td>None</td>\n",
       "      <td>None</td>\n",
       "      <td>None</td>\n",
       "      <td>None</td>\n",
       "      <td>None</td>\n",
       "      <td>None</td>\n",
       "      <td>None</td>\n",
       "    </tr>\n",
       "    <tr>\n",
       "      <th>5</th>\n",
       "      <td>D M S / / MEMMIA AVCTIN[ ] / AN LXX PIA IN SVI...</td>\n",
       "      <td>AE 1983, 0524. (B); P. Rodríguez Oliva - R. At...</td>\n",
       "      <td>https://www.trismegistos.org/text/222924</td>\n",
       "      <td>HD000006</td>\n",
       "      <td>Sabora, bei</td>\n",
       "      <td>0071</td>\n",
       "      <td>epitaph</td>\n",
       "      <td>checked with photo</td>\n",
       "      <td>https://edh-www.adw.uni-heidelberg.de/edh/geog...</td>\n",
       "      <td>0150</td>\n",
       "      <td>Spain</td>\n",
       "      <td>Baetica</td>\n",
       "      <td>D(is) M(anibus) s(acrum) // Memmia Auctin[a] /...</td>\n",
       "      <td>limestone: rocks - clastic sediments</td>\n",
       "      <td>145 cm</td>\n",
       "      <td>60 cm</td>\n",
       "      <td>Cañete la Real</td>\n",
       "      <td>15 cm</td>\n",
       "      <td>Der Stein ist aus 2 aneinanderpassenden Fragm...</td>\n",
       "      <td>https://edh-www.adw.uni-heidelberg.de/edh/insc...</td>\n",
       "      <td>Gräf</td>\n",
       "      <td>2011-06-10</td>\n",
       "      <td>Latin</td>\n",
       "      <td>Málaga</td>\n",
       "      <td>7-4 cm</td>\n",
       "      <td>stele</td>\n",
       "      <td>[{'age: years': '70', 'person_id': '1', 'gende...</td>\n",
       "      <td>1974</td>\n",
       "      <td>Huerta Nueva</td>\n",
       "      <td>Cañete la Real</td>\n",
       "      <td>None</td>\n",
       "      <td>None</td>\n",
       "      <td>None</td>\n",
       "      <td>None</td>\n",
       "      <td>None</td>\n",
       "      <td>None</td>\n",
       "    </tr>\n",
       "    <tr>\n",
       "      <th>6</th>\n",
       "      <td>CLODIA M F</td>\n",
       "      <td>AE 1983, 0033. (C); G. Pisani Sartorio, in: G....</td>\n",
       "      <td>https://www.trismegistos.org/text/265588</td>\n",
       "      <td>HD000007</td>\n",
       "      <td>Roma</td>\n",
       "      <td>-0100</td>\n",
       "      <td>epitaph</td>\n",
       "      <td>checked with photo</td>\n",
       "      <td>https://edh-www.adw.uni-heidelberg.de/edh/geog...</td>\n",
       "      <td>-0051</td>\n",
       "      <td>Italy</td>\n",
       "      <td>Roma</td>\n",
       "      <td>Clodia M(arci) f(ilia)</td>\n",
       "      <td>travertine: rocks - chemische Sedimente</td>\n",
       "      <td>35 cm</td>\n",
       "      <td>53 cm</td>\n",
       "      <td>Roma</td>\n",
       "      <td>None</td>\n",
       "      <td>(C): Datierung: Zeit Sullas.</td>\n",
       "      <td>https://edh-www.adw.uni-heidelberg.de/edh/insc...</td>\n",
       "      <td>Feraudi</td>\n",
       "      <td>2010-01-04</td>\n",
       "      <td>Latin</td>\n",
       "      <td>Lazio</td>\n",
       "      <td>9 cm</td>\n",
       "      <td>tabula</td>\n",
       "      <td>[{'name': 'Clodia M.f.', 'nomen': 'Clodia', 'p...</td>\n",
       "      <td>None</td>\n",
       "      <td>Via Nomentana, Tor Lupara</td>\n",
       "      <td>Mentana, Privatbesitz</td>\n",
       "      <td>None</td>\n",
       "      <td>None</td>\n",
       "      <td>None</td>\n",
       "      <td>None</td>\n",
       "      <td>None</td>\n",
       "      <td>None</td>\n",
       "    </tr>\n",
       "    <tr>\n",
       "      <th>7</th>\n",
       "      <td>D M / C SATRIO XANTHO / C SATRI RVFI LIB / DEC...</td>\n",
       "      <td>AE 1983, 0060.; R. Palmieri, in: G. Barbieri (...</td>\n",
       "      <td>https://www.trismegistos.org/text/265611</td>\n",
       "      <td>HD000008</td>\n",
       "      <td>Roma?</td>\n",
       "      <td>0101</td>\n",
       "      <td>epitaph</td>\n",
       "      <td>provisional</td>\n",
       "      <td>https://edh-www.adw.uni-heidelberg.de/edh/geog...</td>\n",
       "      <td>0200</td>\n",
       "      <td>Italy</td>\n",
       "      <td>Roma?</td>\n",
       "      <td>D(is) M(anibus) / C(aio) Satrio Xantho / C(ai)...</td>\n",
       "      <td>marble: rocks - metamorphic rocks</td>\n",
       "      <td>52 cm</td>\n",
       "      <td>65 cm</td>\n",
       "      <td>Roma?</td>\n",
       "      <td>None</td>\n",
       "      <td>Tafel aus mehreren anpassenden Fragmenten zus...</td>\n",
       "      <td>https://edh-www.adw.uni-heidelberg.de/edh/insc...</td>\n",
       "      <td>Feraudi</td>\n",
       "      <td>2013-12-03</td>\n",
       "      <td>Latin</td>\n",
       "      <td>Lazio?</td>\n",
       "      <td>4-2 cm</td>\n",
       "      <td>tabula</td>\n",
       "      <td>[{'person_id': '1', 'gender': 'male', 'nomen':...</td>\n",
       "      <td>None</td>\n",
       "      <td>None</td>\n",
       "      <td>Mentana, Privatbesitz</td>\n",
       "      <td>None</td>\n",
       "      <td>None</td>\n",
       "      <td>[https://edh-www.adw.uni-heidelberg.de/fotos/F...</td>\n",
       "      <td>None</td>\n",
       "      <td>None</td>\n",
       "      <td>None</td>\n",
       "    </tr>\n",
       "    <tr>\n",
       "      <th>8</th>\n",
       "      <td>ABCDEFX</td>\n",
       "      <td>AE 1983, 0632.; M.W.C. Hassall - R.S.O. Tomlin...</td>\n",
       "      <td>https://www.trismegistos.org/text/168722</td>\n",
       "      <td>HD000009</td>\n",
       "      <td>Aquae Sulis</td>\n",
       "      <td>0201</td>\n",
       "      <td>defixio</td>\n",
       "      <td>checked with drawing</td>\n",
       "      <td>https://edh-www.adw.uni-heidelberg.de/edh/geog...</td>\n",
       "      <td>0300</td>\n",
       "      <td>United Kingdom</td>\n",
       "      <td>Britannia</td>\n",
       "      <td>ABCDEFX</td>\n",
       "      <td>Blei, Zinn</td>\n",
       "      <td>5.2 cm</td>\n",
       "      <td>6.5 cm</td>\n",
       "      <td>Bath</td>\n",
       "      <td>None</td>\n",
       "      <td>Material: Blei-Zinn-Kupfer-Legierung. Viellei...</td>\n",
       "      <td>https://edh-www.adw.uni-heidelberg.de/edh/insc...</td>\n",
       "      <td>Cowey</td>\n",
       "      <td>2019-03-29</td>\n",
       "      <td>Latin</td>\n",
       "      <td>Somerset</td>\n",
       "      <td>None</td>\n",
       "      <td>tessera</td>\n",
       "      <td>None</td>\n",
       "      <td>1979</td>\n",
       "      <td>Römisches Bad, Sacred Spring</td>\n",
       "      <td>Bath, Roman Baths Mus.</td>\n",
       "      <td>None</td>\n",
       "      <td>magic/spells</td>\n",
       "      <td>None</td>\n",
       "      <td>None</td>\n",
       "      <td>None</td>\n",
       "      <td>None</td>\n",
       "    </tr>\n",
       "    <tr>\n",
       "      <th>9</th>\n",
       "      <td>D M / L ASINI POLI / SECVNDVS / ET ORPHAEVS / ...</td>\n",
       "      <td>AE 1983, 0410. (B); G.A. Mansuelli, Epigraphic...</td>\n",
       "      <td>https://www.trismegistos.org/text/244297</td>\n",
       "      <td>HD000010</td>\n",
       "      <td>Ariminum</td>\n",
       "      <td>0101</td>\n",
       "      <td>epitaph</td>\n",
       "      <td>checked with photo</td>\n",
       "      <td>https://edh-www.adw.uni-heidelberg.de/edh/geog...</td>\n",
       "      <td>0200</td>\n",
       "      <td>Italy</td>\n",
       "      <td>Aemilia (Regio VIII)</td>\n",
       "      <td>D(is) M(anibus) / L(uci) Asini Poli / Secundus...</td>\n",
       "      <td>None</td>\n",
       "      <td>46 cm</td>\n",
       "      <td>52.5 cm</td>\n",
       "      <td>Rimini</td>\n",
       "      <td>44 cm</td>\n",
       "      <td>(B): AE 1983: Z. 3/4: Secundus et Orphaeus.</td>\n",
       "      <td>https://edh-www.adw.uni-heidelberg.de/edh/insc...</td>\n",
       "      <td>Gräf</td>\n",
       "      <td>2007-05-16</td>\n",
       "      <td>Latin</td>\n",
       "      <td>Forli</td>\n",
       "      <td>4.2-2.5 cm</td>\n",
       "      <td>urn</td>\n",
       "      <td>[{'nomen': 'Asinius', 'person_id': '1', 'praen...</td>\n",
       "      <td>1936</td>\n",
       "      <td>Friedhof</td>\n",
       "      <td>Rimini, Mus. Arch. Com.</td>\n",
       "      <td>None</td>\n",
       "      <td>None</td>\n",
       "      <td>None</td>\n",
       "      <td>None</td>\n",
       "      <td>None</td>\n",
       "      <td>None</td>\n",
       "    </tr>\n",
       "  </tbody>\n",
       "</table>\n",
       "</div>"
      ],
      "text/plain": [
       "                                     diplomatic_text  ... social_economic_legal_history\n",
       "0  D M / NONIAE P F OPTATAE / ET C IVLIO ARTEMONI...  ...                          None\n",
       "1            C SEXTIVS PARIS / QVI VIXIT / ANNIS LXX  ...                          None\n",
       "2  [ ]VMMIO [ ] / [ ]ISENNA[ ] / [ ] XV[ ] / [ ] / [  ...                          None\n",
       "3  [ ]AVS[ ]LLA / M PORCI NIGRI SER / DOMINAE VEN...  ...                          None\n",
       "4  [ ] L SVCCESSVS / [ ] L L IRENAEVS / [ ] C L T...  ...                          None\n",
       "5  D M S / / MEMMIA AVCTIN[ ] / AN LXX PIA IN SVI...  ...                          None\n",
       "6                                         CLODIA M F  ...                          None\n",
       "7  D M / C SATRIO XANTHO / C SATRI RVFI LIB / DEC...  ...                          None\n",
       "8                                            ABCDEFX  ...                          None\n",
       "9  D M / L ASINI POLI / SECVNDVS / ET ORPHAEVS / ...  ...                          None\n",
       "\n",
       "[10 rows x 36 columns]"
      ]
     },
     "execution_count": 5,
     "metadata": {
      "tags": []
     },
     "output_type": "execute_result"
    }
   ],
   "source": [
    "inscriptions_data_df.head"
   ]
  },
  {
   "cell_type": "code",
   "execution_count": 0,
   "metadata": {
    "colab": {},
    "colab_type": "code",
    "id": "-GyMnzcgjhXy"
   },
   "outputs": [],
   "source": [
    "inscriptions_data_df = inscriptions_data_df[inscriptions_data_df[\"id\"].notnull()]"
   ]
  },
  {
   "cell_type": "markdown",
   "metadata": {
    "colab_type": "text",
    "id": "bjYqDa87gFd7"
   },
   "source": [
    "# Upload the data to sciencedata.dk shared folder"
   ]
  },
  {
   "cell_type": "code",
   "execution_count": 10,
   "metadata": {
    "colab": {
     "base_uri": "https://localhost:8080/",
     "height": 35
    },
    "colab_type": "code",
    "executionInfo": {
     "elapsed": 7903,
     "status": "ok",
     "timestamp": 1576833609005,
     "user": {
      "displayName": "Vojtěch Kaše",
      "photoUrl": "https://lh3.googleusercontent.com/a-/AAuE7mAxTlnyE78QMWq7qNrhY8cMOVti0SJqAGwQEptYkQ=s64",
      "userId": "01399835024022498543"
     },
     "user_tz": -60
    },
    "id": "7cuU7NVR0a1T",
    "outputId": "838071fc-b963-4187-f5b9-b9da5f1b6b51"
   },
   "outputs": [
    {
     "data": {
      "text/plain": [
       "<Response [204]>"
      ]
     },
     "execution_count": 10,
     "metadata": {
      "tags": []
     },
     "output_type": "execute_result"
    }
   ],
   "source": [
    "s.put(sddk_url + \"SDAM_data/EDH/EDH_onebyone.json\", data=inscriptions_data_df.to_json())"
   ]
  },
  {
   "cell_type": "markdown",
   "metadata": {
    "colab_type": "text",
    "id": "M-3ayKNA24MZ"
   },
   "source": [
    "## Version 2: Extracting inscription on the basis of provinces (simpler and faster, but does not return all data)"
   ]
  },
  {
   "cell_type": "code",
   "execution_count": 0,
   "metadata": {
    "colab": {
     "base_uri": "https://localhost:8080/",
     "height": 88
    },
    "colab_type": "code",
    "executionInfo": {
     "elapsed": 698,
     "status": "ok",
     "timestamp": 1574427475722,
     "user": {
      "displayName": "Vojtěch Kaše",
      "photoUrl": "https://lh3.googleusercontent.com/a-/AAuE7mAxTlnyE78QMWq7qNrhY8cMOVti0SJqAGwQEptYkQ=s64",
      "userId": "01399835024022498543"
     },
     "user_tz": -60
    },
    "id": "eO9aZSub29Vx",
    "outputId": "9c3602c8-b42f-45f4-bb6f-d0d2872c1053"
   },
   "outputs": [
    {
     "name": "stdout",
     "output_type": "stream",
     "text": [
      "{'provinces': {'Ach': 'Achaia', 'Aeg': 'Aegyptus', 'Aem': 'Aemilia (Regio VIII)', 'Afr': 'Africa Proconsularis', 'AlC': 'Alpes Cottiae', 'AlG': 'Alpes Graiae', 'AlM': 'Alpes Maritimae', 'AlP': 'Alpes \n",
      "CPU times: user 15.6 ms, sys: 974 µs, total: 16.6 ms\n",
      "Wall time: 386 ms\n"
     ]
    }
   ],
   "source": [
    "%%time\n",
    "response = requests.get(\"https://edh-www.adw.uni-heidelberg.de/data/api/terms/province\")\n",
    "response\n",
    "json_data = response.json()\n",
    "print(str(json_data)[:200])"
   ]
  },
  {
   "cell_type": "code",
   "execution_count": 0,
   "metadata": {
    "colab": {
     "base_uri": "https://localhost:8080/",
     "height": 54
    },
    "colab_type": "code",
    "executionInfo": {
     "elapsed": 438,
     "status": "ok",
     "timestamp": 1574427491206,
     "user": {
      "displayName": "Vojtěch Kaše",
      "photoUrl": "https://lh3.googleusercontent.com/a-/AAuE7mAxTlnyE78QMWq7qNrhY8cMOVti0SJqAGwQEptYkQ=s64",
      "userId": "01399835024022498543"
     },
     "user_tz": -60
    },
    "id": "E875bYBq4pY6",
    "outputId": "5b451c7f-5190-4d3e-9ce3-da72da84f333"
   },
   "outputs": [
    {
     "name": "stdout",
     "output_type": "stream",
     "text": [
      "['Ach', 'Aeg', 'Aem', 'Afr', 'AlC', 'AlG', 'AlM', 'AlP', 'ApC', 'Aqu', 'Ara', 'Arm', 'Asi', 'Ass', 'Bae', 'Bar', 'Bel', 'BiP', 'BrL', 'Bri', 'Cap', 'Cil', 'Cor', 'Cre', 'Cyp', 'Cyr', 'Dac', 'Dal', 'Epi', 'Etr', 'Gal', 'GeI', 'GeS', 'HiC', 'Inc', 'Iud', 'LaC', 'Lig', 'Lug', 'Lus', 'LyP', 'MaC', 'MaT', 'Mak', 'Mes', 'MoI', 'MoS', 'Nar', 'Nor', 'Num', 'PaI', 'PaS', 'Pic', 'Rae', 'ReB', 'Rom', 'Sam', 'Sar', 'Sic', 'Syr', 'Thr', 'Tra', 'Tri', 'Umb', 'Val', 'VeH']\n"
     ]
    }
   ],
   "source": [
    "provinces = list(json_data[\"provinces\"].keys())\n",
    "print(provinces)"
   ]
  },
  {
   "cell_type": "markdown",
   "metadata": {
    "colab_type": "text",
    "id": "nLwFK_Gm3HPc"
   },
   "source": [
    "## Get data on the province basis"
   ]
  },
  {
   "cell_type": "code",
   "execution_count": 0,
   "metadata": {
    "colab": {
     "base_uri": "https://localhost:8080/",
     "height": 564
    },
    "colab_type": "code",
    "executionInfo": {
     "elapsed": 2587,
     "status": "ok",
     "timestamp": 1574427382234,
     "user": {
      "displayName": "Vojtěch Kaše",
      "photoUrl": "https://lh3.googleusercontent.com/a-/AAuE7mAxTlnyE78QMWq7qNrhY8cMOVti0SJqAGwQEptYkQ=s64",
      "userId": "01399835024022498543"
     },
     "user_tz": -60
    },
    "id": "Cwm6OdbJww-F",
    "outputId": "3a5d87fc-1037-43b1-cbc3-6f5b14e8e704"
   },
   "outputs": [
    {
     "data": {
      "text/html": [
       "<div>\n",
       "<style scoped>\n",
       "    .dataframe tbody tr th:only-of-type {\n",
       "        vertical-align: middle;\n",
       "    }\n",
       "\n",
       "    .dataframe tbody tr th {\n",
       "        vertical-align: top;\n",
       "    }\n",
       "\n",
       "    .dataframe thead th {\n",
       "        text-align: right;\n",
       "    }\n",
       "</style>\n",
       "<table border=\"1\" class=\"dataframe\">\n",
       "  <thead>\n",
       "    <tr style=\"text-align: right;\">\n",
       "      <th></th>\n",
       "      <th>responsible_individual</th>\n",
       "      <th>last_update</th>\n",
       "      <th>country</th>\n",
       "      <th>findspot_ancient</th>\n",
       "      <th>present_location</th>\n",
       "      <th>trismegistos_uri</th>\n",
       "      <th>modern_region</th>\n",
       "      <th>depth</th>\n",
       "      <th>type_of_inscription</th>\n",
       "      <th>transcription</th>\n",
       "      <th>people</th>\n",
       "      <th>height</th>\n",
       "      <th>language</th>\n",
       "      <th>id</th>\n",
       "      <th>uri</th>\n",
       "      <th>findspot_modern</th>\n",
       "      <th>work_status</th>\n",
       "      <th>commentary</th>\n",
       "      <th>type_of_monument</th>\n",
       "      <th>province_label</th>\n",
       "      <th>findspot</th>\n",
       "      <th>not_after</th>\n",
       "      <th>year_of_find</th>\n",
       "      <th>not_before</th>\n",
       "      <th>literature</th>\n",
       "      <th>edh_geography_uri</th>\n",
       "      <th>diplomatic_text</th>\n",
       "      <th>width</th>\n",
       "      <th>letter_size</th>\n",
       "      <th>fotos</th>\n",
       "      <th>material</th>\n",
       "      <th>religion</th>\n",
       "      <th>geography</th>\n",
       "      <th>social_economic_legal_history</th>\n",
       "      <th>military</th>\n",
       "      <th>external_image_uris</th>\n",
       "    </tr>\n",
       "  </thead>\n",
       "  <tbody>\n",
       "    <tr>\n",
       "      <th>0</th>\n",
       "      <td>Gräf</td>\n",
       "      <td>2009-05-13</td>\n",
       "      <td>Bosnia and Herzegovina</td>\n",
       "      <td>Domavium, bei</td>\n",
       "      <td>Tuzla, Muz. Istočne Bosne</td>\n",
       "      <td>https://www.trismegistos.org/text/181722</td>\n",
       "      <td>Republika Srpska</td>\n",
       "      <td>24 cm</td>\n",
       "      <td>epitaph</td>\n",
       "      <td>D(is) M(anibus) / Severinus / veteranus / vixi...</td>\n",
       "      <td>[{'cognomen': 'Severinus', 'person_id': '1', '...</td>\n",
       "      <td>120 cm</td>\n",
       "      <td>Latin</td>\n",
       "      <td>HD000310</td>\n",
       "      <td>https://edh-www.adw.uni-heidelberg.de/edh/insc...</td>\n",
       "      <td>Bratunac</td>\n",
       "      <td>checked with photo</td>\n",
       "      <td>Oberhalb des Inschriftfeldes eine weibliche u...</td>\n",
       "      <td>stele</td>\n",
       "      <td>Dalmatia</td>\n",
       "      <td>Bosanska ulica, Kamenjak, sekundär verwendet</td>\n",
       "      <td>0400</td>\n",
       "      <td>1955</td>\n",
       "      <td>0301</td>\n",
       "      <td>AE 1983, 0745.; I. Bojanovski, Članci 14, 1982...</td>\n",
       "      <td>https://edh-www.adw.uni-heidelberg.de/edh/geog...</td>\n",
       "      <td>D M / SEVERINVS / VETERANVS / VIXIT AN XIX / T...</td>\n",
       "      <td>48 cm</td>\n",
       "      <td>3 cm</td>\n",
       "      <td>NaN</td>\n",
       "      <td>NaN</td>\n",
       "      <td>NaN</td>\n",
       "      <td>NaN</td>\n",
       "      <td>NaN</td>\n",
       "      <td>NaN</td>\n",
       "      <td>NaN</td>\n",
       "    </tr>\n",
       "    <tr>\n",
       "      <th>1</th>\n",
       "      <td>Gräf</td>\n",
       "      <td>2009-05-13</td>\n",
       "      <td>Bosnia and Herzegovina</td>\n",
       "      <td>Domavium, bei</td>\n",
       "      <td>NaN</td>\n",
       "      <td>https://www.trismegistos.org/text/181723</td>\n",
       "      <td>Republika Srpska</td>\n",
       "      <td>27 cm</td>\n",
       "      <td>epitaph</td>\n",
       "      <td>D(is) [M(anibus) s(acrum)?] / [--]CITI CTO[---...</td>\n",
       "      <td>[{'name': '[---]', 'person_id': '1'}]</td>\n",
       "      <td>(145) cm</td>\n",
       "      <td>Latin</td>\n",
       "      <td>HD000313</td>\n",
       "      <td>https://edh-www.adw.uni-heidelberg.de/edh/insc...</td>\n",
       "      <td>Srebrenica</td>\n",
       "      <td>checked with photo</td>\n",
       "      <td>NaN</td>\n",
       "      <td>stele</td>\n",
       "      <td>Dalmatia</td>\n",
       "      <td>Staroglavice, frühchristliche Kirche</td>\n",
       "      <td>0300</td>\n",
       "      <td>1975</td>\n",
       "      <td>0101</td>\n",
       "      <td>AE 1983, 0746.; I. Bojanovski, Članci 14, 1982...</td>\n",
       "      <td>https://edh-www.adw.uni-heidelberg.de/edh/geog...</td>\n",
       "      <td>D [ ] / [ ]CITI CTO[ ] / RIVS MAR[ ] / [ ]IVS ...</td>\n",
       "      <td>(55) cm</td>\n",
       "      <td>NaN</td>\n",
       "      <td>NaN</td>\n",
       "      <td>NaN</td>\n",
       "      <td>NaN</td>\n",
       "      <td>NaN</td>\n",
       "      <td>NaN</td>\n",
       "      <td>NaN</td>\n",
       "      <td>NaN</td>\n",
       "    </tr>\n",
       "    <tr>\n",
       "      <th>2</th>\n",
       "      <td>Gräf</td>\n",
       "      <td>2008-09-16</td>\n",
       "      <td>Montenegro</td>\n",
       "      <td>Municipium S[---]</td>\n",
       "      <td>NaN</td>\n",
       "      <td>https://www.trismegistos.org/text/181724</td>\n",
       "      <td>NaN</td>\n",
       "      <td>20 cm</td>\n",
       "      <td>epitaph</td>\n",
       "      <td>D(is) M(anibus) s(acrum) / Fl(aviae) Mar/cella...</td>\n",
       "      <td>[{'cognomen': 'Marcella', 'age: years': '34', ...</td>\n",
       "      <td>(145) cm</td>\n",
       "      <td>Latin</td>\n",
       "      <td>HD000316</td>\n",
       "      <td>https://edh-www.adw.uni-heidelberg.de/edh/insc...</td>\n",
       "      <td>Pljevlja</td>\n",
       "      <td>checked with photo</td>\n",
       "      <td>(B): AE 1983: Z. 5/6: Zeilenfall fehlt.</td>\n",
       "      <td>stele</td>\n",
       "      <td>Dalmatia</td>\n",
       "      <td>Komini, Nekropole II, Grab 25/1975</td>\n",
       "      <td>0200</td>\n",
       "      <td>1975</td>\n",
       "      <td>0151</td>\n",
       "      <td>AE 1983, 0747. (B); A. Cermanović-Kuzmanović, ...</td>\n",
       "      <td>https://edh-www.adw.uni-heidelberg.de/edh/geog...</td>\n",
       "      <td>D M S / FL MAR / CELLAE Q V / A XXXIV / NANTIV...</td>\n",
       "      <td>75 cm</td>\n",
       "      <td>6-5 cm</td>\n",
       "      <td>[https://edh-www.adw.uni-heidelberg.de/fotos/F...</td>\n",
       "      <td>NaN</td>\n",
       "      <td>NaN</td>\n",
       "      <td>NaN</td>\n",
       "      <td>NaN</td>\n",
       "      <td>NaN</td>\n",
       "      <td>NaN</td>\n",
       "    </tr>\n",
       "    <tr>\n",
       "      <th>3</th>\n",
       "      <td>Gräf</td>\n",
       "      <td>2012-06-06</td>\n",
       "      <td>Montenegro</td>\n",
       "      <td>Municipium S[---]</td>\n",
       "      <td>NaN</td>\n",
       "      <td>https://www.trismegistos.org/text/181725</td>\n",
       "      <td>NaN</td>\n",
       "      <td>30 cm</td>\n",
       "      <td>epitaph</td>\n",
       "      <td>D(is) M(anibus) s(acrum) / L(ucio) Cipio / Fau...</td>\n",
       "      <td>[{'person_id': '1', 'gender': 'male', 'name': ...</td>\n",
       "      <td>(170) cm</td>\n",
       "      <td>Latin</td>\n",
       "      <td>HD000319</td>\n",
       "      <td>https://edh-www.adw.uni-heidelberg.de/edh/insc...</td>\n",
       "      <td>Pljevlja</td>\n",
       "      <td>checked with photo</td>\n",
       "      <td>Reste von roter Farbe in den Buchstaben.</td>\n",
       "      <td>stele</td>\n",
       "      <td>Dalmatia</td>\n",
       "      <td>Komini, Nekropole II</td>\n",
       "      <td>0230</td>\n",
       "      <td>1975</td>\n",
       "      <td>0151</td>\n",
       "      <td>AE 1983, 0748.; A. Cermanović-Kuzmanović, Star...</td>\n",
       "      <td>https://edh-www.adw.uni-heidelberg.de/edh/geog...</td>\n",
       "      <td>D M S / L CIPIO / FAVSTO ET / FRVNITAE / FIL L...</td>\n",
       "      <td>84 cm</td>\n",
       "      <td>6.9-3.9 cm</td>\n",
       "      <td>[https://edh-www.adw.uni-heidelberg.de/fotos/F...</td>\n",
       "      <td>lime marl / marl: rocks - clastic sediments</td>\n",
       "      <td>NaN</td>\n",
       "      <td>NaN</td>\n",
       "      <td>NaN</td>\n",
       "      <td>NaN</td>\n",
       "      <td>NaN</td>\n",
       "    </tr>\n",
       "    <tr>\n",
       "      <th>4</th>\n",
       "      <td>Gräf</td>\n",
       "      <td>2008-09-16</td>\n",
       "      <td>Montenegro</td>\n",
       "      <td>Municipium S[---]</td>\n",
       "      <td>Pljevlja, Zavičajni Muz.</td>\n",
       "      <td>https://www.trismegistos.org/text/181726</td>\n",
       "      <td>NaN</td>\n",
       "      <td>28 cm</td>\n",
       "      <td>epitaph</td>\n",
       "      <td>Q(uinto) Valerio / Quadra/to an(norum) LXI / L...</td>\n",
       "      <td>[{'cognomen': 'Quadratus', 'age: years': '61',...</td>\n",
       "      <td>(66) cm</td>\n",
       "      <td>Latin</td>\n",
       "      <td>HD000322</td>\n",
       "      <td>https://edh-www.adw.uni-heidelberg.de/edh/insc...</td>\n",
       "      <td>Pljevlja</td>\n",
       "      <td>checked with photo</td>\n",
       "      <td>NaN</td>\n",
       "      <td>stele</td>\n",
       "      <td>Dalmatia</td>\n",
       "      <td>Komini, Nekropole II</td>\n",
       "      <td>0170</td>\n",
       "      <td>1974</td>\n",
       "      <td>0071</td>\n",
       "      <td>AE 1983, 0749.; A. Cermanović-Kuzmanović, Star...</td>\n",
       "      <td>https://edh-www.adw.uni-heidelberg.de/edh/geog...</td>\n",
       "      <td>Q VALERIO / QVADRA / TO AN LXI / L VAL CELER / [</td>\n",
       "      <td>58 cm</td>\n",
       "      <td>6-5 cm</td>\n",
       "      <td>[https://edh-www.adw.uni-heidelberg.de/fotos/F...</td>\n",
       "      <td>NaN</td>\n",
       "      <td>NaN</td>\n",
       "      <td>NaN</td>\n",
       "      <td>NaN</td>\n",
       "      <td>NaN</td>\n",
       "      <td>NaN</td>\n",
       "    </tr>\n",
       "  </tbody>\n",
       "</table>\n",
       "</div>"
      ],
      "text/plain": [
       "  responsible_individual last_update  ... military external_image_uris\n",
       "0                   Gräf  2009-05-13  ...      NaN                 NaN\n",
       "1                   Gräf  2009-05-13  ...      NaN                 NaN\n",
       "2                   Gräf  2008-09-16  ...      NaN                 NaN\n",
       "3                   Gräf  2012-06-06  ...      NaN                 NaN\n",
       "4                   Gräf  2008-09-16  ...      NaN                 NaN\n",
       "\n",
       "[5 rows x 36 columns]"
      ]
     },
     "execution_count": 14,
     "metadata": {
      "tags": []
     },
     "output_type": "execute_result"
    }
   ],
   "source": [
    "### one province example (first page of results, i.e. first 100 inscriptions)\n",
    "province = \"dal\"\n",
    "param = \"province\"\n",
    "\n",
    "### make the request\n",
    "response = requests.get(URL_form + param + \"=\" + province + \"&limit=100\")\n",
    "json_data = response.json()\n",
    "pages = math.ceil(int(json_data[\"total\"]) / int(json_data[\"limit\"]))\n",
    "some_inscriptions = pd.DataFrame(json_data[\"items\"])\n",
    "len(some_inscriptions)\n",
    "some_inscriptions.head(5)\n"
   ]
  },
  {
   "cell_type": "markdown",
   "metadata": {
    "colab_type": "text",
    "id": "YAgKjiuhsH8I"
   },
   "source": [
    "## Main Function: parsing all inscription data\n",
    "(takes about 20 minutes)"
   ]
  },
  {
   "cell_type": "code",
   "execution_count": 0,
   "metadata": {
    "colab": {
     "base_uri": "https://localhost:8080/",
     "height": 1000
    },
    "colab_type": "code",
    "executionInfo": {
     "elapsed": 751253,
     "status": "ok",
     "timestamp": 1574428255169,
     "user": {
      "displayName": "Vojtěch Kaše",
      "photoUrl": "https://lh3.googleusercontent.com/a-/AAuE7mAxTlnyE78QMWq7qNrhY8cMOVti0SJqAGwQEptYkQ=s64",
      "userId": "01399835024022498543"
     },
     "user_tz": -60
    },
    "id": "XtEXW-5JcxzD",
    "outputId": "209fb9a4-f766-41d7-94d6-f95a2feceb25"
   },
   "outputs": [
    {
     "name": "stdout",
     "output_type": "stream",
     "text": [
      "Ach 1285\n",
      "Aeg 167\n",
      "Aem 211\n",
      "Afr 4452\n",
      "AlC 475\n",
      "AlG 76\n",
      "AlM 413\n",
      "AlP 201\n",
      "ApC 761\n",
      "Aqu 426\n",
      "Ara 234\n",
      "Arm 3\n",
      "Asi 491\n",
      "Ass 0\n",
      "Bae 3016\n",
      "Bar 181\n",
      "Bel 1668\n",
      "BiP 289\n",
      "BrL 246\n",
      "Bri 4363\n",
      "Cap 62\n",
      "Cil 74\n",
      "Cor 46\n",
      "Cre 66\n",
      "Cyp 34\n",
      "Cyr 88\n",
      "Dac 3545\n",
      "Dal 7653\n",
      "Epi 138\n",
      "Etr 652\n",
      "Gal 208\n",
      "GeI 2760\n",
      "GeS 6085\n",
      "HiC 4687\n",
      "Inc 382\n",
      "Iud 187\n",
      "LaC 2600\n",
      "Lig 145\n",
      "Lug 594\n",
      "Lus 1583\n",
      "LyP 61\n",
      "MaC 1124\n",
      "MaT 290\n",
      "Mak 1321\n",
      "Mes 12\n",
      "MoI 1938\n",
      "MoS 1475\n",
      "Nar 1401\n",
      "Nor 2736\n",
      "Num 2644\n",
      "PaI 3136\n",
      "PaS 4259\n",
      "Pic 171\n",
      "Rae 1011\n",
      "ReB 78\n",
      "Rom 4392\n",
      "Sam 649\n",
      "Sar 229\n",
      "Sic 193\n",
      "Syr 405\n",
      "Thr 395\n",
      "Tra 165\n",
      "Tri 0\n",
      "Umb 348\n",
      "Val 0\n",
      "VeH 1156\n",
      "CPU times: user 3.68 s, sys: 438 ms, total: 4.12 s\n",
      "Wall time: 12min 30s\n"
     ]
    }
   ],
   "source": [
    "### over the loop, we will extend the list of items\n",
    "%%time\n",
    "inscriptions_data = []\n",
    "URL_form = \"https://edh-www.adw.uni-heidelberg.de/data/api/inscriptions/search?province=\"\n",
    "\n",
    "for province in provinces:\n",
    "  try:\n",
    "    total = requests.get(URL_form + province).json()[\"total\"]\n",
    "    response = requests.get(URL_form + province + \"&limit=\" + str(total))\n",
    "    inscriptions_data.extend(response.json()[\"items\"])\n",
    "  except:\n",
    "    pass\n",
    "  print(province, total)"
   ]
  },
  {
   "cell_type": "code",
   "execution_count": 0,
   "metadata": {
    "colab": {
     "base_uri": "https://localhost:8080/",
     "height": 34
    },
    "colab_type": "code",
    "executionInfo": {
     "elapsed": 444,
     "status": "ok",
     "timestamp": 1574428377529,
     "user": {
      "displayName": "Vojtěch Kaše",
      "photoUrl": "https://lh3.googleusercontent.com/a-/AAuE7mAxTlnyE78QMWq7qNrhY8cMOVti0SJqAGwQEptYkQ=s64",
      "userId": "01399835024022498543"
     },
     "user_tz": -60
    },
    "id": "Ak3LAxSle0-j",
    "outputId": "9d738035-1664-4592-f554-a264da556c69"
   },
   "outputs": [
    {
     "data": {
      "text/plain": [
       "72483"
      ]
     },
     "execution_count": 20,
     "metadata": {
      "tags": []
     },
     "output_type": "execute_result"
    }
   ],
   "source": [
    "len(inscriptions_data)"
   ]
  },
  {
   "cell_type": "code",
   "execution_count": 0,
   "metadata": {
    "colab": {
     "base_uri": "https://localhost:8080/",
     "height": 51
    },
    "colab_type": "code",
    "executionInfo": {
     "elapsed": 1729,
     "status": "ok",
     "timestamp": 1574431464958,
     "user": {
      "displayName": "Vojtěch Kaše",
      "photoUrl": "https://lh3.googleusercontent.com/a-/AAuE7mAxTlnyE78QMWq7qNrhY8cMOVti0SJqAGwQEptYkQ=s64",
      "userId": "01399835024022498543"
     },
     "user_tz": -60
    },
    "id": "FYl6XN8ebZd_",
    "outputId": "e3c1b4d8-2912-474e-dedc-ab4aafe0dcff"
   },
   "outputs": [
    {
     "name": "stdout",
     "output_type": "stream",
     "text": [
      "CPU times: user 1.08 s, sys: 4.8 ms, total: 1.09 s\n",
      "Wall time: 1.09 s\n"
     ]
    }
   ],
   "source": [
    "%%time\n",
    "inscriptions_data_df = pd.DataFrame(inscriptions_data)"
   ]
  },
  {
   "cell_type": "code",
   "execution_count": 0,
   "metadata": {
    "colab": {
     "base_uri": "https://localhost:8080/",
     "height": 564
    },
    "colab_type": "code",
    "executionInfo": {
     "elapsed": 497,
     "status": "ok",
     "timestamp": 1574431468861,
     "user": {
      "displayName": "Vojtěch Kaše",
      "photoUrl": "https://lh3.googleusercontent.com/a-/AAuE7mAxTlnyE78QMWq7qNrhY8cMOVti0SJqAGwQEptYkQ=s64",
      "userId": "01399835024022498543"
     },
     "user_tz": -60
    },
    "id": "WwDkh1m6dd1o",
    "outputId": "cde8fd5a-c96d-4ca5-acd0-b54394281a5a"
   },
   "outputs": [
    {
     "data": {
      "text/html": [
       "<div>\n",
       "<style scoped>\n",
       "    .dataframe tbody tr th:only-of-type {\n",
       "        vertical-align: middle;\n",
       "    }\n",
       "\n",
       "    .dataframe tbody tr th {\n",
       "        vertical-align: top;\n",
       "    }\n",
       "\n",
       "    .dataframe thead th {\n",
       "        text-align: right;\n",
       "    }\n",
       "</style>\n",
       "<table border=\"1\" class=\"dataframe\">\n",
       "  <thead>\n",
       "    <tr style=\"text-align: right;\">\n",
       "      <th></th>\n",
       "      <th>people</th>\n",
       "      <th>work_status</th>\n",
       "      <th>findspot_modern</th>\n",
       "      <th>last_update</th>\n",
       "      <th>responsible_individual</th>\n",
       "      <th>width</th>\n",
       "      <th>language</th>\n",
       "      <th>literature</th>\n",
       "      <th>height</th>\n",
       "      <th>diplomatic_text</th>\n",
       "      <th>not_before</th>\n",
       "      <th>depth</th>\n",
       "      <th>material</th>\n",
       "      <th>trismegistos_uri</th>\n",
       "      <th>transcription</th>\n",
       "      <th>commentary</th>\n",
       "      <th>edh_geography_uri</th>\n",
       "      <th>country</th>\n",
       "      <th>uri</th>\n",
       "      <th>province_label</th>\n",
       "      <th>modern_region</th>\n",
       "      <th>type_of_monument</th>\n",
       "      <th>present_location</th>\n",
       "      <th>findspot_ancient</th>\n",
       "      <th>not_after</th>\n",
       "      <th>type_of_inscription</th>\n",
       "      <th>id</th>\n",
       "      <th>letter_size</th>\n",
       "      <th>social_economic_legal_history</th>\n",
       "      <th>findspot</th>\n",
       "      <th>year_of_find</th>\n",
       "      <th>geography</th>\n",
       "      <th>religion</th>\n",
       "      <th>fotos</th>\n",
       "      <th>military</th>\n",
       "      <th>external_image_uris</th>\n",
       "    </tr>\n",
       "  </thead>\n",
       "  <tbody>\n",
       "    <tr>\n",
       "      <th>0</th>\n",
       "      <td>[{'name': 'L. Ponponius(!) Rufus', 'age: years...</td>\n",
       "      <td>checked with photo</td>\n",
       "      <td>Roma</td>\n",
       "      <td>2014-10-10</td>\n",
       "      <td>Cowey</td>\n",
       "      <td>19 cm</td>\n",
       "      <td>Greek-Latin</td>\n",
       "      <td>CIG 6916.; AE 1984, 0109. (B); P. Lombardi, Ti...</td>\n",
       "      <td>45 cm</td>\n",
       "      <td>L PONPONIVS RVFVS / VIXIT ANOS XXVII / EIA PON...</td>\n",
       "      <td>0101</td>\n",
       "      <td>5.4 cm</td>\n",
       "      <td>marble: rocks - metamorphic rocks</td>\n",
       "      <td>https://www.trismegistos.org/text/177036</td>\n",
       "      <td>L(ucius) Ponponius(!) Rufus / vixit an(n)os XX...</td>\n",
       "      <td>Wiederverwendung der Tafel als TÃ¼rpfosten. D...</td>\n",
       "      <td>https://edh-www.adw.uni-heidelberg.de/edh/geog...</td>\n",
       "      <td>Italy</td>\n",
       "      <td>https://edh-www.adw.uni-heidelberg.de/edh/insc...</td>\n",
       "      <td>Achaia</td>\n",
       "      <td>Lazio</td>\n",
       "      <td>tabula</td>\n",
       "      <td>Roma, Mus. Naz. Rom.</td>\n",
       "      <td>Kephallenia, aus</td>\n",
       "      <td>0200</td>\n",
       "      <td>epitaph</td>\n",
       "      <td>HD001917</td>\n",
       "      <td>1-2 cm</td>\n",
       "      <td>NaN</td>\n",
       "      <td>NaN</td>\n",
       "      <td>NaN</td>\n",
       "      <td>NaN</td>\n",
       "      <td>NaN</td>\n",
       "      <td>NaN</td>\n",
       "      <td>NaN</td>\n",
       "      <td>NaN</td>\n",
       "    </tr>\n",
       "    <tr>\n",
       "      <th>1</th>\n",
       "      <td>[{'gender': 'male', 'cognomen': 'ÎÎ±Î»Î»ÎµÎ½Ï...</td>\n",
       "      <td>checked with photo</td>\n",
       "      <td>Patrasso - AthÃ­nai, zwischen</td>\n",
       "      <td>2012-03-15</td>\n",
       "      <td>GrÃ¤f</td>\n",
       "      <td>30 cm</td>\n",
       "      <td>Greek-Latin</td>\n",
       "      <td>CIL 03, 00572.; CIL 03, 07306.; IG 02 (2. Aufl...</td>\n",
       "      <td>146 cm</td>\n",
       "      <td>[ ]ΥΤΟΚΡΑΤΟΡΙ / [ ]ΑΙΣΑΡΙ / [[[ ]]] / [ ]ΥΣΕΒΕ...</td>\n",
       "      <td>0395</td>\n",
       "      <td>NaN</td>\n",
       "      <td>Marmor, geÃ¤dert / farbig</td>\n",
       "      <td>https://www.trismegistos.org/text/177037</td>\n",
       "      <td>[Α]ὐτοκράτορι / [Κ]αίσαρι / [[[---]]] / [Ε]ὐσε...</td>\n",
       "      <td>Meilenstein mit zwei griechischen Inschriften...</td>\n",
       "      <td>https://edh-www.adw.uni-heidelberg.de/edh/geog...</td>\n",
       "      <td>Greece</td>\n",
       "      <td>https://edh-www.adw.uni-heidelberg.de/edh/insc...</td>\n",
       "      <td>Achaia</td>\n",
       "      <td>AttikÃ­</td>\n",
       "      <td>mile-/leaguestone</td>\n",
       "      <td>AthÃ­nai, Epigr. Mus.</td>\n",
       "      <td>Athenae, bei</td>\n",
       "      <td>0397</td>\n",
       "      <td>mile-/leaguestone</td>\n",
       "      <td>HD002097</td>\n",
       "      <td>2.7 cm</td>\n",
       "      <td>data available</td>\n",
       "      <td>Dafni, byzantinisches Kloster, bei, sekundÃ¤r ...</td>\n",
       "      <td>NaN</td>\n",
       "      <td>NaN</td>\n",
       "      <td>NaN</td>\n",
       "      <td>NaN</td>\n",
       "      <td>NaN</td>\n",
       "      <td>NaN</td>\n",
       "    </tr>\n",
       "    <tr>\n",
       "      <th>2</th>\n",
       "      <td>NaN</td>\n",
       "      <td>no image</td>\n",
       "      <td>AthÃ­nai</td>\n",
       "      <td>2011-04-04</td>\n",
       "      <td>Cowey</td>\n",
       "      <td>(17) cm</td>\n",
       "      <td>Latin</td>\n",
       "      <td>CIL 03, 06101.; M. Å aÅ¡el Kos, Inscriptiones ...</td>\n",
       "      <td>(15) cm</td>\n",
       "      <td>]S HOSTIVM DEPRESSE[ ] / [ ] CXIIX BELLO MARIT...</td>\n",
       "      <td>-0038</td>\n",
       "      <td>12.5 cm</td>\n",
       "      <td>NaN</td>\n",
       "      <td>https://www.trismegistos.org/text/177038</td>\n",
       "      <td>------ nave]s hostium depresse[rit ---] / [---...</td>\n",
       "      <td>Es handelt sich um ein Elogium fÃ¼r Agrippa. ...</td>\n",
       "      <td>https://edh-www.adw.uni-heidelberg.de/edh/geog...</td>\n",
       "      <td>Greece</td>\n",
       "      <td>https://edh-www.adw.uni-heidelberg.de/edh/insc...</td>\n",
       "      <td>Achaia</td>\n",
       "      <td>AttikÃ­</td>\n",
       "      <td>base</td>\n",
       "      <td>AthÃ­nai, Epigr. Mus.</td>\n",
       "      <td>Athenae</td>\n",
       "      <td>-0012</td>\n",
       "      <td>elogium</td>\n",
       "      <td>HD002919</td>\n",
       "      <td>6.5 cm</td>\n",
       "      <td>NaN</td>\n",
       "      <td>Roma-Augustus Tempel, Akropolis</td>\n",
       "      <td>1866</td>\n",
       "      <td>NaN</td>\n",
       "      <td>NaN</td>\n",
       "      <td>NaN</td>\n",
       "      <td>NaN</td>\n",
       "      <td>NaN</td>\n",
       "    </tr>\n",
       "    <tr>\n",
       "      <th>3</th>\n",
       "      <td>[{'cognomen': 'Traianus Hadrianus', 'gender': ...</td>\n",
       "      <td>checked with photo</td>\n",
       "      <td>AthÃ­nai</td>\n",
       "      <td>2009-11-17</td>\n",
       "      <td>Cowey</td>\n",
       "      <td>76 cm</td>\n",
       "      <td>Greek-Latin</td>\n",
       "      <td>CIL 03, 00548. (B); CIL 03, 07281.; PIR (2. Au...</td>\n",
       "      <td>112 cm</td>\n",
       "      <td>[ ]MP CAES DIVI TRAIANI PAR / THICI FIL DIVI N...</td>\n",
       "      <td>0132</td>\n",
       "      <td>48 cm</td>\n",
       "      <td>NaN</td>\n",
       "      <td>https://www.trismegistos.org/text/177039</td>\n",
       "      <td>[I]mp(eratori) Caes(ari) divi Traiani Par/thic...</td>\n",
       "      <td>(B): Am Anfang von Z. 2 fehlt das TI von nepoti.</td>\n",
       "      <td>https://edh-www.adw.uni-heidelberg.de/edh/geog...</td>\n",
       "      <td>Greece</td>\n",
       "      <td>https://edh-www.adw.uni-heidelberg.de/edh/insc...</td>\n",
       "      <td>Achaia</td>\n",
       "      <td>AttikÃ­</td>\n",
       "      <td>statue base</td>\n",
       "      <td>AthÃ­nai, Epigr. Mus.</td>\n",
       "      <td>Athenae</td>\n",
       "      <td>NaN</td>\n",
       "      <td>honorific inscription</td>\n",
       "      <td>HD002922</td>\n",
       "      <td>NaN</td>\n",
       "      <td>NaN</td>\n",
       "      <td>NaN</td>\n",
       "      <td>NaN</td>\n",
       "      <td>data available</td>\n",
       "      <td>NaN</td>\n",
       "      <td>NaN</td>\n",
       "      <td>NaN</td>\n",
       "      <td>NaN</td>\n",
       "    </tr>\n",
       "    <tr>\n",
       "      <th>4</th>\n",
       "      <td>[{'gender': 'male', 'cognomen': 'Traianus+ Had...</td>\n",
       "      <td>no image</td>\n",
       "      <td>AthÃ­nai</td>\n",
       "      <td>2011-04-04</td>\n",
       "      <td>Cowey</td>\n",
       "      <td>(41) cm</td>\n",
       "      <td>Latin</td>\n",
       "      <td>CIL 03, 06102.; CIL 03, 07283.; AE 1984, 0822....</td>\n",
       "      <td>(20) cm</td>\n",
       "      <td>[ ] / [ ] / [ ]D[ ] / [ ]R P XVI COS III P P [...</td>\n",
       "      <td>0132</td>\n",
       "      <td>(15) cm</td>\n",
       "      <td>marble: rocks - metamorphic rocks</td>\n",
       "      <td>https://www.trismegistos.org/text/177040</td>\n",
       "      <td>[Imp(eratori) Caesari divi Traiani] / [Parthic...</td>\n",
       "      <td>Rekonstruktion des Inschriftentextes nach CIL...</td>\n",
       "      <td>https://edh-www.adw.uni-heidelberg.de/edh/geog...</td>\n",
       "      <td>Greece</td>\n",
       "      <td>https://edh-www.adw.uni-heidelberg.de/edh/insc...</td>\n",
       "      <td>Achaia</td>\n",
       "      <td>AttikÃ­</td>\n",
       "      <td>statue base</td>\n",
       "      <td>AthÃ­nai, Epigr. Mus.</td>\n",
       "      <td>Athenae</td>\n",
       "      <td>NaN</td>\n",
       "      <td>honorific inscription</td>\n",
       "      <td>HD002925</td>\n",
       "      <td>3.8 cm</td>\n",
       "      <td>NaN</td>\n",
       "      <td>\\\"Stoa Hadriani\\\" (CIL)</td>\n",
       "      <td>NaN</td>\n",
       "      <td>data available</td>\n",
       "      <td>NaN</td>\n",
       "      <td>NaN</td>\n",
       "      <td>NaN</td>\n",
       "      <td>NaN</td>\n",
       "    </tr>\n",
       "  </tbody>\n",
       "</table>\n",
       "</div>"
      ],
      "text/plain": [
       "                                              people  ... external_image_uris\n",
       "0  [{'name': 'L. Ponponius(!) Rufus', 'age: years...  ...                 NaN\n",
       "1  [{'gender': 'male', 'cognomen': 'ÎÎ±Î»Î»ÎµÎ½Ï...  ...                 NaN\n",
       "2                                                NaN  ...                 NaN\n",
       "3  [{'cognomen': 'Traianus Hadrianus', 'gender': ...  ...                 NaN\n",
       "4  [{'gender': 'male', 'cognomen': 'Traianus+ Had...  ...                 NaN\n",
       "\n",
       "[5 rows x 36 columns]"
      ]
     },
     "execution_count": 22,
     "metadata": {
      "tags": []
     },
     "output_type": "execute_result"
    }
   ],
   "source": [
    "inscriptions_data_df.head(5)"
   ]
  },
  {
   "cell_type": "markdown",
   "metadata": {
    "colab_type": "text",
    "id": "A_fATkWO4n2J"
   },
   "source": [
    "## Upload the data to your personal folder at sciencedata.dk"
   ]
  },
  {
   "cell_type": "code",
   "execution_count": 0,
   "metadata": {
    "colab": {
     "base_uri": "https://localhost:8080/",
     "height": 51
    },
    "colab_type": "code",
    "executionInfo": {
     "elapsed": 17923,
     "status": "ok",
     "timestamp": 1574431512350,
     "user": {
      "displayName": "Vojtěch Kaše",
      "photoUrl": "https://lh3.googleusercontent.com/a-/AAuE7mAxTlnyE78QMWq7qNrhY8cMOVti0SJqAGwQEptYkQ=s64",
      "userId": "01399835024022498543"
     },
     "user_tz": -60
    },
    "id": "3UjfVhBb_umn",
    "outputId": "cb3ee1d5-6aaf-491b-8ec3-82c09ee4b7df"
   },
   "outputs": [
    {
     "name": "stdout",
     "output_type": "stream",
     "text": [
      "sciencedata.dk username (format '123456@au.dk'):648597@au.dk\n",
      "sciencedata.dk password:··········\n"
     ]
    }
   ],
   "source": [
    "### interactively setup your sciencedata.dk homeurl, username and password\n",
    "sciencedata_homeurl = \"https://sciencedata.dk/files/\"\n",
    "username = input(\"sciencedata.dk username (format '123456@au.dk'):\")\n",
    "password = getpass.getpass(\"sciencedata.dk password:\")\n",
    "\n",
    "### establish a request session\n",
    "s = requests.Session()\n",
    "s.auth = (username, password)"
   ]
  },
  {
   "cell_type": "code",
   "execution_count": 0,
   "metadata": {
    "colab": {
     "base_uri": "https://localhost:8080/",
     "height": 34
    },
    "colab_type": "code",
    "executionInfo": {
     "elapsed": 1327,
     "status": "ok",
     "timestamp": 1574431521487,
     "user": {
      "displayName": "Vojtěch Kaše",
      "photoUrl": "https://lh3.googleusercontent.com/a-/AAuE7mAxTlnyE78QMWq7qNrhY8cMOVti0SJqAGwQEptYkQ=s64",
      "userId": "01399835024022498543"
     },
     "user_tz": -60
    },
    "id": "qO0xDxzP1TX6",
    "outputId": "56fe5173-bd6b-49ad-b8c5-53ebb75d379a"
   },
   "outputs": [
    {
     "data": {
      "text/plain": [
       "<Response [405]>"
      ]
     },
     "execution_count": 24,
     "metadata": {
      "tags": []
     },
     "output_type": "execute_result"
    }
   ],
   "source": [
    "### create new folder (in the case it is not already there)\n",
    "s.request(\"MKCOL\", sciencedata_homeurl + \"personal_folder/EDH_data\") "
   ]
  },
  {
   "cell_type": "code",
   "execution_count": 0,
   "metadata": {
    "colab": {
     "base_uri": "https://localhost:8080/",
     "height": 34
    },
    "colab_type": "code",
    "executionInfo": {
     "elapsed": 2765,
     "status": "ok",
     "timestamp": 1574371563992,
     "user": {
      "displayName": "Vojtěch Kaše",
      "photoUrl": "https://lh3.googleusercontent.com/a-/AAuE7mAxTlnyE78QMWq7qNrhY8cMOVti0SJqAGwQEptYkQ=s64",
      "userId": "01399835024022498543"
     },
     "user_tz": -60
    },
    "id": "ebBqYQ5Wx9nT",
    "outputId": "5acd39c1-088e-4b2f-832c-df8dae3d6b22"
   },
   "outputs": [
    {
     "data": {
      "text/plain": [
       "<Response [201]>"
      ]
     },
     "execution_count": 33,
     "metadata": {
      "tags": []
     },
     "output_type": "execute_result"
    }
   ],
   "source": [
    "### make a README.txt file in the folder\n",
    "s.put(sciencedata_homeurl + \"personal_folder/EDH_data/README.txt\", data=\"This folder will contain all data associated with cleaning the EDH data, extracted either from the API, or from the xml files.\")"
   ]
  },
  {
   "cell_type": "code",
   "execution_count": 0,
   "metadata": {
    "colab": {
     "base_uri": "https://localhost:8080/",
     "height": 34
    },
    "colab_type": "code",
    "executionInfo": {
     "elapsed": 9211,
     "status": "ok",
     "timestamp": 1574431609457,
     "user": {
      "displayName": "Vojtěch Kaše",
      "photoUrl": "https://lh3.googleusercontent.com/a-/AAuE7mAxTlnyE78QMWq7qNrhY8cMOVti0SJqAGwQEptYkQ=s64",
      "userId": "01399835024022498543"
     },
     "user_tz": -60
    },
    "id": "_oS1hqYi1Gcl",
    "outputId": "71670990-6f41-4ad0-9588-5aca0074b712"
   },
   "outputs": [
    {
     "data": {
      "text/plain": [
       "<Response [204]>"
      ]
     },
     "execution_count": 25,
     "metadata": {
      "tags": []
     },
     "output_type": "execute_result"
    }
   ],
   "source": [
    "### put your dataframe data into this folder\n",
    "s.put(sciencedata_homeurl + \"personal_folder/EDH_data/EDH_inscriptions_raw.json\", data=inscriptions_data_df.to_json())"
   ]
  },
  {
   "cell_type": "code",
   "execution_count": 0,
   "metadata": {
    "colab": {},
    "colab_type": "code",
    "id": "DH_Liygte6tK"
   },
   "outputs": [],
   "source": []
  }
 ],
 "metadata": {
  "colab": {
   "collapsed_sections": [],
   "name": "1_1_py_EXTRACTION_edh-inscriptions-from-web-api.ipynb",
   "provenance": [
    {
     "file_id": "1HywCoMjgAv0ck7vla6qhSa_6y0q6_4WN",
     "timestamp": 1574367454831
    }
   ]
  },
  "kernelspec": {
   "display_name": "Python 3",
   "language": "python",
   "name": "python3"
  },
  "language_info": {
   "codemirror_mode": {
    "name": "ipython",
    "version": 3
   },
   "file_extension": ".py",
   "mimetype": "text/x-python",
   "name": "python",
   "nbconvert_exporter": "python",
   "pygments_lexer": "ipython3",
   "version": "3.6.9"
  }
 },
 "nbformat": 4,
 "nbformat_minor": 1
}
