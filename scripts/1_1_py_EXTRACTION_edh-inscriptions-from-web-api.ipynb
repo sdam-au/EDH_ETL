{
 "cells": [
  {
   "cell_type": "markdown",
   "metadata": {
    "colab_type": "text",
    "id": "q32fsw4Is1-r"
   },
   "source": [
    "# INTRODUCTION\n",
    "\n",
    "This notebook explores the potential of the Epigraphic Database Heidelberg web API , [EDH API](https://edh-www.adw.uni-heidelberg.de/data/api) in combination with sciencedata.dk as a datastorage (see more about our current progress in using sciencedata.dk [here](https://docs.google.com/document/d/1sojHsxkcAbZH9DpWFuHDomQwTZHPQv_WaAxO_erP6FE/edit?usp=sharing)).\n",
    "\n",
    "The ambition here is to use cloud based solutions as much as possible, without any dependence on local machines. At the same time, we do not like to rely completely upon google services. "
   ]
  },
  {
   "cell_type": "code",
   "execution_count": 1,
   "metadata": {
    "colab": {
     "base_uri": "https://localhost:8080/",
     "height": 124
    },
    "colab_type": "code",
    "executionInfo": {
     "elapsed": 6754,
     "status": "ok",
     "timestamp": 1576832615122,
     "user": {
      "displayName": "Vojtěch Kaše",
      "photoUrl": "https://lh3.googleusercontent.com/a-/AAuE7mAxTlnyE78QMWq7qNrhY8cMOVti0SJqAGwQEptYkQ=s64",
      "userId": "01399835024022498543"
     },
     "user_tz": -60
    },
    "id": "WQUp4ta7sNIO",
    "outputId": "ade6d7a1-19d0-4acb-bc57-2ec757dd6940"
   },
   "outputs": [],
   "source": [
    "### REQUIREMENTS\n",
    "import numpy as np\n",
    "import math\n",
    "import pandas as pd\n",
    "\n",
    "import sys\n",
    "### we do a lot of requests during the scrapping. Some of them with requests package, some of them with urllib\n",
    "import requests\n",
    "from urllib.request import urlopen \n",
    "from urllib.parse import quote  \n",
    "from bs4 import BeautifulSoup\n",
    "\n",
    "# to avoid errors, we sometime use time.sleep(N) before retrying a request\n",
    "import time\n",
    "# the input data have typically a json structure\n",
    "import json\n",
    "import getpass\n",
    "\n",
    "import datetime as dt\n",
    "# for simple paralel computing:\n",
    "from concurrent.futures import ThreadPoolExecutor\n",
    "### google drive\n",
    "#import gspread\n",
    "#from gspread_dataframe import get_as_dataframe, set_with_dataframe\n",
    "\n",
    "import sddk"
   ]
  },
  {
   "cell_type": "code",
   "execution_count": 47,
   "metadata": {},
   "outputs": [
    {
     "ename": "NameError",
     "evalue": "name 'concurrent' is not defined",
     "output_type": "error",
     "traceback": [
      "\u001b[0;31m---------------------------------------------------------------------------\u001b[0m",
      "\u001b[0;31mNameError\u001b[0m                                 Traceback (most recent call last)",
      "\u001b[0;32m<ipython-input-47-3397304ec296>\u001b[0m in \u001b[0;36m<module>\u001b[0;34m\u001b[0m\n\u001b[0;32m----> 1\u001b[0;31m \u001b[0mconcurrent\u001b[0m\u001b[0;34m.\u001b[0m\u001b[0mfutures\u001b[0m\u001b[0;34m.\u001b[0m\u001b[0m__version__\u001b[0m\u001b[0;34m\u001b[0m\u001b[0;34m\u001b[0m\u001b[0m\n\u001b[0m",
      "\u001b[0;31mNameError\u001b[0m: name 'concurrent' is not defined"
     ]
    }
   ],
   "source": [
    "concurrent.futures.__version__"
   ]
  },
  {
   "cell_type": "markdown",
   "metadata": {
    "colab_type": "text",
    "id": "2cK0r3WVvOH3"
   },
   "source": [
    "## configure session and url"
   ]
  },
  {
   "cell_type": "code",
   "execution_count": 2,
   "metadata": {
    "colab": {
     "base_uri": "https://localhost:8080/",
     "height": 104
    },
    "colab_type": "code",
    "executionInfo": {
     "elapsed": 21355,
     "status": "ok",
     "timestamp": 1576832629741,
     "user": {
      "displayName": "Vojtěch Kaše",
      "photoUrl": "https://lh3.googleusercontent.com/a-/AAuE7mAxTlnyE78QMWq7qNrhY8cMOVti0SJqAGwQEptYkQ=s64",
      "userId": "01399835024022498543"
     },
     "user_tz": -60
    },
    "id": "8uTwTHVboJdw",
    "outputId": "a5e6f708-310f-41b2-cdcb-62cf4036ca25"
   },
   "outputs": [
    {
     "name": "stdout",
     "output_type": "stream",
     "text": [
      "sciencedata.dk username (format '123456@au.dk'): 648597@au.dk\n",
      "sciencedata.dk password: ········\n",
      "connection with shared folder established with you as its owner\n",
      "endpoint variable has been configured to: https://sciencedata.dk/files/SDAM_root/\n"
     ]
    }
   ],
   "source": [
    "### configure session and url\n",
    "### in the case of \"SDAM_root\", the group owner is Vojtech with username 648597@au.dk\n",
    "conf = sddk.configure_session_and_url(\"SDAM_root\", \"6478597@au.dk\")"
   ]
  },
  {
   "cell_type": "markdown",
   "metadata": {
    "colab_type": "text",
    "id": "7vbOZNxTmnyn"
   },
   "source": [
    "# EDH via API"
   ]
  },
  {
   "cell_type": "markdown",
   "metadata": {
    "colab_type": "text",
    "id": "n5fg08Azup1p"
   },
   "source": [
    "The basis form of an request is as follows:\n",
    "```\n",
    "https://edh-www.adw.uni-heidelberg.de/data/api/inscriptions/search?\n",
    "```\n",
    "With this, to create query based on inscription number, you have to specify the paramenter **hd_nr**, like here:\n",
    "\n",
    "```\n",
    "https://edh-www.adw.uni-heidelberg.de/data/api/inscriptions/search?hd_nr=1\n",
    "```\n",
    " (Feel free to explore this in web browser).\n",
    "\n",
    "Here we use the function ```requests.get()``` to make our requests from python."
   ]
  },
  {
   "cell_type": "markdown",
   "metadata": {
    "colab_type": "text",
    "id": "SDsje3X_2tks"
   },
   "source": [
    "## One inscription query example"
   ]
  },
  {
   "cell_type": "code",
   "execution_count": 49,
   "metadata": {},
   "outputs": [
    {
     "name": "stdout",
     "output_type": "stream",
     "text": [
      "{'items': [{'work_status': 'provisional', 'type_of_monument': 'stele', 'id': 'HD000100', 'findspot_ancient': 'Uxama', 'edh_geography_uri': 'https://edh-www.adw.uni-heidelberg.de/edh/geographie/9371', 'uri': 'https://edh-www.adw.uni-heidelberg.de/edh/inschrift/HD000100', 'province_label': 'Hispania citerior', 'responsible_individual': 'Gräf', 'trismegistos_uri': 'https://www.trismegistos.org/text/226731', 'findspot_modern': 'El Burgo de Osma', 'diplomatic_text': 'D[ ] / ANELI[ ] / BERVE[ ] / P[ ]IT[', 'language': 'Latin', 'country': 'Spain', 'modern_region': 'Soria', 'literature': 'AE 1983, 0597.; C. García Merino, in: Homenaje al Prof. Martin Almagro Basch 3 (Madrid 1983) 355, Nr. 2; lám. 1, 2. - AE 1983.', 'commentary': ' Text in vier Zeilen, nahezu unlesbar.', 'transcription': 'D[---] / ANELI[---] / BERVE[---] / P[---]IT[------', 'last_update': '2015-05-21'}], 'total': 1, 'limit': '20'}\n",
      "CPU times: user 29.2 ms, sys: 0 ns, total: 29.2 ms\n",
      "Wall time: 628 ms\n"
     ]
    }
   ],
   "source": [
    "%%time\n",
    "inscription_number = 100\n",
    "headers = {'User-Agent': 'Mozilla/5.0 (Macintosh; Intel Mac OS X 10_11_5) AppleWebKit/537.36 (KHTML, like Gecko) Chrome/50.0.2661.102 Safari/537.36'}\n",
    "\n",
    "\n",
    "URL_form = \"https://edh-www.adw.uni-heidelberg.de/data/api/inscriptions/search?\"\n",
    "\n",
    "response = requests.get(URL_form + \"hd_nr=\" + str(inscription_number), headers=headers)\n",
    "#response\n",
    "json_data = response.json()\n",
    "print(json_data)"
   ]
  },
  {
   "cell_type": "code",
   "execution_count": 0,
   "metadata": {
    "colab": {
     "base_uri": "https://localhost:8080/",
     "height": 88
    },
    "colab_type": "code",
    "executionInfo": {
     "elapsed": 1229,
     "status": "ok",
     "timestamp": 1574426980054,
     "user": {
      "displayName": "Vojtěch Kaše",
      "photoUrl": "https://lh3.googleusercontent.com/a-/AAuE7mAxTlnyE78QMWq7qNrhY8cMOVti0SJqAGwQEptYkQ=s64",
      "userId": "01399835024022498543"
     },
     "user_tz": -60
    },
    "id": "uoIgDXaSuEFz",
    "outputId": "0fb2c418-3f37-4f8d-f2ac-3493881ac1ce"
   },
   "outputs": [
    {
     "name": "stdout",
     "output_type": "stream",
     "text": [
      "{'total': 1, 'items': [{'province_label': 'Hispania citerior', 'modern_region': 'Soria', 'findspot_ancient': 'Uxama', 'transcription': 'D[---] / ANELI[---] / BERVE[---] / P[---]IT[------', 'commentary': ' Text in vier Zeilen, nahezu unlesbar.', 'id': 'HD000100', 'literature': 'AE 1983, 0597.; C. García Merino, in: Homenaje al Prof. Martin Almagro Basch 3 (Madrid 1983) 355, Nr. 2; lám. 1, 2. - AE 1983.', 'uri': 'https://edh-www.adw.uni-heidelberg.de/edh/inschrift/HD000100', 'language': 'Latin', 'findspot_modern': 'El Burgo de Osma', 'work_status': 'provisional', 'edh_geography_uri': 'https://edh-www.adw.uni-heidelberg.de/edh/geographie/9371', 'last_update': '2015-05-21', 'diplomatic_text': 'D[ ] / ANELI[ ] / BERVE[ ] / P[ ]IT[', 'trismegistos_uri': 'https://www.trismegistos.org/text/226731', 'country': 'Spain', 'responsible_individual': 'Gräf', 'type_of_monument': 'stele'}], 'limit': '20'}\n",
      "CPU times: user 15.5 ms, sys: 95 µs, total: 15.6 ms\n",
      "Wall time: 854 ms\n"
     ]
    }
   ],
   "source": [
    "%%time\n",
    "inscription_number = 100\n",
    "URL_form = \"https://edh-www.adw.uni-heidelberg.de/data/api/inscriptions/search?\"\n",
    "\n",
    "response = requests.get(URL_form + \"hd_nr=\" + str(inscription_number))\n",
    "response\n",
    "json_data = response.json()\n",
    "print(json_data)"
   ]
  },
  {
   "cell_type": "code",
   "execution_count": 12,
   "metadata": {},
   "outputs": [
    {
     "name": "stdout",
     "output_type": "stream",
     "text": [
      "CPU times: user 1.05 ms, sys: 11.6 ms, total: 12.7 ms\n",
      "Wall time: 11.6 ms\n"
     ]
    },
    {
     "data": {
      "text/html": [
       "<div>\n",
       "<style scoped>\n",
       "    .dataframe tbody tr th:only-of-type {\n",
       "        vertical-align: middle;\n",
       "    }\n",
       "\n",
       "    .dataframe tbody tr th {\n",
       "        vertical-align: top;\n",
       "    }\n",
       "\n",
       "    .dataframe thead th {\n",
       "        text-align: right;\n",
       "    }\n",
       "</style>\n",
       "<table border=\"1\" class=\"dataframe\">\n",
       "  <thead>\n",
       "    <tr style=\"text-align: right;\">\n",
       "      <th></th>\n",
       "      <th>commentary</th>\n",
       "      <th>language</th>\n",
       "      <th>findspot_ancient</th>\n",
       "      <th>last_update</th>\n",
       "      <th>work_status</th>\n",
       "      <th>modern_region</th>\n",
       "      <th>edh_geography_uri</th>\n",
       "      <th>uri</th>\n",
       "      <th>id</th>\n",
       "      <th>diplomatic_text</th>\n",
       "      <th>trismegistos_uri</th>\n",
       "      <th>findspot_modern</th>\n",
       "      <th>province_label</th>\n",
       "      <th>type_of_monument</th>\n",
       "      <th>country</th>\n",
       "      <th>literature</th>\n",
       "      <th>responsible_individual</th>\n",
       "      <th>transcription</th>\n",
       "    </tr>\n",
       "  </thead>\n",
       "  <tbody>\n",
       "    <tr>\n",
       "      <th>0</th>\n",
       "      <td>Text in vier Zeilen, nahezu unlesbar.</td>\n",
       "      <td>Latin</td>\n",
       "      <td>Uxama</td>\n",
       "      <td>2015-05-21</td>\n",
       "      <td>provisional</td>\n",
       "      <td>Soria</td>\n",
       "      <td>https://edh-www.adw.uni-heidelberg.de/edh/geog...</td>\n",
       "      <td>https://edh-www.adw.uni-heidelberg.de/edh/insc...</td>\n",
       "      <td>HD000100</td>\n",
       "      <td>D[ ] / ANELI[ ] / BERVE[ ] / P[ ]IT[</td>\n",
       "      <td>https://www.trismegistos.org/text/226731</td>\n",
       "      <td>El Burgo de Osma</td>\n",
       "      <td>Hispania citerior</td>\n",
       "      <td>stele</td>\n",
       "      <td>Spain</td>\n",
       "      <td>AE 1983, 0597.; C. García Merino, in: Homenaje...</td>\n",
       "      <td>Gräf</td>\n",
       "      <td>D[---] / ANELI[---] / BERVE[---] / P[---]IT[--...</td>\n",
       "    </tr>\n",
       "  </tbody>\n",
       "</table>\n",
       "</div>"
      ],
      "text/plain": [
       "                               commentary language findspot_ancient  \\\n",
       "0   Text in vier Zeilen, nahezu unlesbar.    Latin            Uxama   \n",
       "\n",
       "  last_update  work_status modern_region  \\\n",
       "0  2015-05-21  provisional         Soria   \n",
       "\n",
       "                                   edh_geography_uri  \\\n",
       "0  https://edh-www.adw.uni-heidelberg.de/edh/geog...   \n",
       "\n",
       "                                                 uri        id  \\\n",
       "0  https://edh-www.adw.uni-heidelberg.de/edh/insc...  HD000100   \n",
       "\n",
       "                        diplomatic_text  \\\n",
       "0  D[ ] / ANELI[ ] / BERVE[ ] / P[ ]IT[   \n",
       "\n",
       "                           trismegistos_uri   findspot_modern  \\\n",
       "0  https://www.trismegistos.org/text/226731  El Burgo de Osma   \n",
       "\n",
       "      province_label type_of_monument country  \\\n",
       "0  Hispania citerior            stele   Spain   \n",
       "\n",
       "                                          literature responsible_individual  \\\n",
       "0  AE 1983, 0597.; C. García Merino, in: Homenaje...                   Gräf   \n",
       "\n",
       "                                       transcription  \n",
       "0  D[---] / ANELI[---] / BERVE[---] / P[---]IT[--...  "
      ]
     },
     "execution_count": 12,
     "metadata": {},
     "output_type": "execute_result"
    }
   ],
   "source": [
    "%%time \n",
    "\n",
    "\n",
    "### the actual data are part of the tag \"items\"\n",
    "pd.DataFrame(json_data[\"items\"]) "
   ]
  },
  {
   "cell_type": "markdown",
   "metadata": {
    "colab_type": "text",
    "id": "DL10-VHtkMMC"
   },
   "source": [
    "# Version 1: Extracting inscriptions one by one (using simple paralel computing)"
   ]
  },
  {
   "cell_type": "code",
   "execution_count": 54,
   "metadata": {
    "colab": {},
    "colab_type": "code",
    "id": "6d5PfKCPSqi9"
   },
   "outputs": [],
   "source": [
    "def get_inscription_data(num):\n",
    "    try:\n",
    "        response = requests.get(URL_form + \"hd_nr=\" + str(num), headers = headers)\n",
    "        json_data_items = response.json()[\"items\"]\n",
    "    except:\n",
    "        time.sleep(1)\n",
    "        try:\n",
    "            response = requests.get(URL_form + \"hd_nr=\" + str(num), headers = headers)\n",
    "            json_data_items = response.json()[\"items\"]\n",
    "        except:\n",
    "            json_data_items = [{}]\n",
    "    return json_data_items"
   ]
  },
  {
   "cell_type": "code",
   "execution_count": 0,
   "metadata": {
    "colab": {
     "base_uri": "https://localhost:8080/",
     "height": 564
    },
    "colab_type": "code",
    "executionInfo": {
     "elapsed": 497,
     "status": "ok",
     "timestamp": 1574431468861,
     "user": {
      "displayName": "Vojtěch Kaše",
      "photoUrl": "https://lh3.googleusercontent.com/a-/AAuE7mAxTlnyE78QMWq7qNrhY8cMOVti0SJqAGwQEptYkQ=s64",
      "userId": "01399835024022498543"
     },
     "user_tz": -60
    },
    "id": "WwDkh1m6dd1o",
    "outputId": "cde8fd5a-c96d-4ca5-acd0-b54394281a5a"
   },
   "outputs": [
    {
     "data": {
      "text/html": [
       "<div>\n",
       "<style scoped>\n",
       "    .dataframe tbody tr th:only-of-type {\n",
       "        vertical-align: middle;\n",
       "    }\n",
       "\n",
       "    .dataframe tbody tr th {\n",
       "        vertical-align: top;\n",
       "    }\n",
       "\n",
       "    .dataframe thead th {\n",
       "        text-align: right;\n",
       "    }\n",
       "</style>\n",
       "<table border=\"1\" class=\"dataframe\">\n",
       "  <thead>\n",
       "    <tr style=\"text-align: right;\">\n",
       "      <th></th>\n",
       "      <th>people</th>\n",
       "      <th>work_status</th>\n",
       "      <th>findspot_modern</th>\n",
       "      <th>last_update</th>\n",
       "      <th>responsible_individual</th>\n",
       "      <th>width</th>\n",
       "      <th>language</th>\n",
       "      <th>literature</th>\n",
       "      <th>height</th>\n",
       "      <th>diplomatic_text</th>\n",
       "      <th>not_before</th>\n",
       "      <th>depth</th>\n",
       "      <th>material</th>\n",
       "      <th>trismegistos_uri</th>\n",
       "      <th>transcription</th>\n",
       "      <th>commentary</th>\n",
       "      <th>edh_geography_uri</th>\n",
       "      <th>country</th>\n",
       "      <th>uri</th>\n",
       "      <th>province_label</th>\n",
       "      <th>modern_region</th>\n",
       "      <th>type_of_monument</th>\n",
       "      <th>present_location</th>\n",
       "      <th>findspot_ancient</th>\n",
       "      <th>not_after</th>\n",
       "      <th>type_of_inscription</th>\n",
       "      <th>id</th>\n",
       "      <th>letter_size</th>\n",
       "      <th>social_economic_legal_history</th>\n",
       "      <th>findspot</th>\n",
       "      <th>year_of_find</th>\n",
       "      <th>geography</th>\n",
       "      <th>religion</th>\n",
       "      <th>fotos</th>\n",
       "      <th>military</th>\n",
       "      <th>external_image_uris</th>\n",
       "    </tr>\n",
       "  </thead>\n",
       "  <tbody>\n",
       "    <tr>\n",
       "      <th>0</th>\n",
       "      <td>[{'name': 'L. Ponponius(!) Rufus', 'age: years...</td>\n",
       "      <td>checked with photo</td>\n",
       "      <td>Roma</td>\n",
       "      <td>2014-10-10</td>\n",
       "      <td>Cowey</td>\n",
       "      <td>19 cm</td>\n",
       "      <td>Greek-Latin</td>\n",
       "      <td>CIG 6916.; AE 1984, 0109. (B); P. Lombardi, Ti...</td>\n",
       "      <td>45 cm</td>\n",
       "      <td>L PONPONIVS RVFVS / VIXIT ANOS XXVII / EIA PON...</td>\n",
       "      <td>0101</td>\n",
       "      <td>5.4 cm</td>\n",
       "      <td>marble: rocks - metamorphic rocks</td>\n",
       "      <td>https://www.trismegistos.org/text/177036</td>\n",
       "      <td>L(ucius) Ponponius(!) Rufus / vixit an(n)os XX...</td>\n",
       "      <td>Wiederverwendung der Tafel als TÃ¼rpfosten. D...</td>\n",
       "      <td>https://edh-www.adw.uni-heidelberg.de/edh/geog...</td>\n",
       "      <td>Italy</td>\n",
       "      <td>https://edh-www.adw.uni-heidelberg.de/edh/insc...</td>\n",
       "      <td>Achaia</td>\n",
       "      <td>Lazio</td>\n",
       "      <td>tabula</td>\n",
       "      <td>Roma, Mus. Naz. Rom.</td>\n",
       "      <td>Kephallenia, aus</td>\n",
       "      <td>0200</td>\n",
       "      <td>epitaph</td>\n",
       "      <td>HD001917</td>\n",
       "      <td>1-2 cm</td>\n",
       "      <td>NaN</td>\n",
       "      <td>NaN</td>\n",
       "      <td>NaN</td>\n",
       "      <td>NaN</td>\n",
       "      <td>NaN</td>\n",
       "      <td>NaN</td>\n",
       "      <td>NaN</td>\n",
       "      <td>NaN</td>\n",
       "    </tr>\n",
       "    <tr>\n",
       "      <th>1</th>\n",
       "      <td>[{'gender': 'male', 'cognomen': 'ÎÎ±Î»Î»ÎµÎ½Ï...</td>\n",
       "      <td>checked with photo</td>\n",
       "      <td>Patrasso - AthÃ­nai, zwischen</td>\n",
       "      <td>2012-03-15</td>\n",
       "      <td>GrÃ¤f</td>\n",
       "      <td>30 cm</td>\n",
       "      <td>Greek-Latin</td>\n",
       "      <td>CIL 03, 00572.; CIL 03, 07306.; IG 02 (2. Aufl...</td>\n",
       "      <td>146 cm</td>\n",
       "      <td>[ ]ΥΤΟΚΡΑΤΟΡΙ / [ ]ΑΙΣΑΡΙ / [[[ ]]] / [ ]ΥΣΕΒΕ...</td>\n",
       "      <td>0395</td>\n",
       "      <td>NaN</td>\n",
       "      <td>Marmor, geÃ¤dert / farbig</td>\n",
       "      <td>https://www.trismegistos.org/text/177037</td>\n",
       "      <td>[Α]ὐτοκράτορι / [Κ]αίσαρι / [[[---]]] / [Ε]ὐσε...</td>\n",
       "      <td>Meilenstein mit zwei griechischen Inschriften...</td>\n",
       "      <td>https://edh-www.adw.uni-heidelberg.de/edh/geog...</td>\n",
       "      <td>Greece</td>\n",
       "      <td>https://edh-www.adw.uni-heidelberg.de/edh/insc...</td>\n",
       "      <td>Achaia</td>\n",
       "      <td>AttikÃ­</td>\n",
       "      <td>mile-/leaguestone</td>\n",
       "      <td>AthÃ­nai, Epigr. Mus.</td>\n",
       "      <td>Athenae, bei</td>\n",
       "      <td>0397</td>\n",
       "      <td>mile-/leaguestone</td>\n",
       "      <td>HD002097</td>\n",
       "      <td>2.7 cm</td>\n",
       "      <td>data available</td>\n",
       "      <td>Dafni, byzantinisches Kloster, bei, sekundÃ¤r ...</td>\n",
       "      <td>NaN</td>\n",
       "      <td>NaN</td>\n",
       "      <td>NaN</td>\n",
       "      <td>NaN</td>\n",
       "      <td>NaN</td>\n",
       "      <td>NaN</td>\n",
       "    </tr>\n",
       "    <tr>\n",
       "      <th>2</th>\n",
       "      <td>NaN</td>\n",
       "      <td>no image</td>\n",
       "      <td>AthÃ­nai</td>\n",
       "      <td>2011-04-04</td>\n",
       "      <td>Cowey</td>\n",
       "      <td>(17) cm</td>\n",
       "      <td>Latin</td>\n",
       "      <td>CIL 03, 06101.; M. Å aÅ¡el Kos, Inscriptiones ...</td>\n",
       "      <td>(15) cm</td>\n",
       "      <td>]S HOSTIVM DEPRESSE[ ] / [ ] CXIIX BELLO MARIT...</td>\n",
       "      <td>-0038</td>\n",
       "      <td>12.5 cm</td>\n",
       "      <td>NaN</td>\n",
       "      <td>https://www.trismegistos.org/text/177038</td>\n",
       "      <td>------ nave]s hostium depresse[rit ---] / [---...</td>\n",
       "      <td>Es handelt sich um ein Elogium fÃ¼r Agrippa. ...</td>\n",
       "      <td>https://edh-www.adw.uni-heidelberg.de/edh/geog...</td>\n",
       "      <td>Greece</td>\n",
       "      <td>https://edh-www.adw.uni-heidelberg.de/edh/insc...</td>\n",
       "      <td>Achaia</td>\n",
       "      <td>AttikÃ­</td>\n",
       "      <td>base</td>\n",
       "      <td>AthÃ­nai, Epigr. Mus.</td>\n",
       "      <td>Athenae</td>\n",
       "      <td>-0012</td>\n",
       "      <td>elogium</td>\n",
       "      <td>HD002919</td>\n",
       "      <td>6.5 cm</td>\n",
       "      <td>NaN</td>\n",
       "      <td>Roma-Augustus Tempel, Akropolis</td>\n",
       "      <td>1866</td>\n",
       "      <td>NaN</td>\n",
       "      <td>NaN</td>\n",
       "      <td>NaN</td>\n",
       "      <td>NaN</td>\n",
       "      <td>NaN</td>\n",
       "    </tr>\n",
       "    <tr>\n",
       "      <th>3</th>\n",
       "      <td>[{'cognomen': 'Traianus Hadrianus', 'gender': ...</td>\n",
       "      <td>checked with photo</td>\n",
       "      <td>AthÃ­nai</td>\n",
       "      <td>2009-11-17</td>\n",
       "      <td>Cowey</td>\n",
       "      <td>76 cm</td>\n",
       "      <td>Greek-Latin</td>\n",
       "      <td>CIL 03, 00548. (B); CIL 03, 07281.; PIR (2. Au...</td>\n",
       "      <td>112 cm</td>\n",
       "      <td>[ ]MP CAES DIVI TRAIANI PAR / THICI FIL DIVI N...</td>\n",
       "      <td>0132</td>\n",
       "      <td>48 cm</td>\n",
       "      <td>NaN</td>\n",
       "      <td>https://www.trismegistos.org/text/177039</td>\n",
       "      <td>[I]mp(eratori) Caes(ari) divi Traiani Par/thic...</td>\n",
       "      <td>(B): Am Anfang von Z. 2 fehlt das TI von nepoti.</td>\n",
       "      <td>https://edh-www.adw.uni-heidelberg.de/edh/geog...</td>\n",
       "      <td>Greece</td>\n",
       "      <td>https://edh-www.adw.uni-heidelberg.de/edh/insc...</td>\n",
       "      <td>Achaia</td>\n",
       "      <td>AttikÃ­</td>\n",
       "      <td>statue base</td>\n",
       "      <td>AthÃ­nai, Epigr. Mus.</td>\n",
       "      <td>Athenae</td>\n",
       "      <td>NaN</td>\n",
       "      <td>honorific inscription</td>\n",
       "      <td>HD002922</td>\n",
       "      <td>NaN</td>\n",
       "      <td>NaN</td>\n",
       "      <td>NaN</td>\n",
       "      <td>NaN</td>\n",
       "      <td>data available</td>\n",
       "      <td>NaN</td>\n",
       "      <td>NaN</td>\n",
       "      <td>NaN</td>\n",
       "      <td>NaN</td>\n",
       "    </tr>\n",
       "    <tr>\n",
       "      <th>4</th>\n",
       "      <td>[{'gender': 'male', 'cognomen': 'Traianus+ Had...</td>\n",
       "      <td>no image</td>\n",
       "      <td>AthÃ­nai</td>\n",
       "      <td>2011-04-04</td>\n",
       "      <td>Cowey</td>\n",
       "      <td>(41) cm</td>\n",
       "      <td>Latin</td>\n",
       "      <td>CIL 03, 06102.; CIL 03, 07283.; AE 1984, 0822....</td>\n",
       "      <td>(20) cm</td>\n",
       "      <td>[ ] / [ ] / [ ]D[ ] / [ ]R P XVI COS III P P [...</td>\n",
       "      <td>0132</td>\n",
       "      <td>(15) cm</td>\n",
       "      <td>marble: rocks - metamorphic rocks</td>\n",
       "      <td>https://www.trismegistos.org/text/177040</td>\n",
       "      <td>[Imp(eratori) Caesari divi Traiani] / [Parthic...</td>\n",
       "      <td>Rekonstruktion des Inschriftentextes nach CIL...</td>\n",
       "      <td>https://edh-www.adw.uni-heidelberg.de/edh/geog...</td>\n",
       "      <td>Greece</td>\n",
       "      <td>https://edh-www.adw.uni-heidelberg.de/edh/insc...</td>\n",
       "      <td>Achaia</td>\n",
       "      <td>AttikÃ­</td>\n",
       "      <td>statue base</td>\n",
       "      <td>AthÃ­nai, Epigr. Mus.</td>\n",
       "      <td>Athenae</td>\n",
       "      <td>NaN</td>\n",
       "      <td>honorific inscription</td>\n",
       "      <td>HD002925</td>\n",
       "      <td>3.8 cm</td>\n",
       "      <td>NaN</td>\n",
       "      <td>\\\"Stoa Hadriani\\\" (CIL)</td>\n",
       "      <td>NaN</td>\n",
       "      <td>data available</td>\n",
       "      <td>NaN</td>\n",
       "      <td>NaN</td>\n",
       "      <td>NaN</td>\n",
       "      <td>NaN</td>\n",
       "    </tr>\n",
       "  </tbody>\n",
       "</table>\n",
       "</div>"
      ],
      "text/plain": [
       "                                              people  ... external_image_uris\n",
       "0  [{'name': 'L. Ponponius(!) Rufus', 'age: years...  ...                 NaN\n",
       "1  [{'gender': 'male', 'cognomen': 'ÎÎ±Î»Î»ÎµÎ½Ï...  ...                 NaN\n",
       "2                                                NaN  ...                 NaN\n",
       "3  [{'cognomen': 'Traianus Hadrianus', 'gender': ...  ...                 NaN\n",
       "4  [{'gender': 'male', 'cognomen': 'Traianus+ Had...  ...                 NaN\n",
       "\n",
       "[5 rows x 36 columns]"
      ]
     },
     "execution_count": 22,
     "metadata": {
      "tags": []
     },
     "output_type": "execute_result"
    }
   ],
   "source": [
    "inscriptions_data_df.head(5)"
   ]
  },
  {
   "cell_type": "code",
   "execution_count": 28,
   "metadata": {
    "colab": {
     "base_uri": "https://localhost:8080/",
     "height": 52
    },
    "colab_type": "code",
    "executionInfo": {
     "elapsed": 170263,
     "status": "ok",
     "timestamp": 1576771251267,
     "user": {
      "displayName": "",
      "photoUrl": "",
      "userId": ""
     },
     "user_tz": -60
    },
    "id": "XT1ivZcL304Y",
    "outputId": "83ddd64b-c16f-49dc-c331-548338fba078"
   },
   "outputs": [
    {
     "name": "stdout",
     "output_type": "stream",
     "text": [
      "CPU times: user 4.97 s, sys: 404 ms, total: 5.37 s\n",
      "Wall time: 2min 15s\n"
     ]
    }
   ],
   "source": [
    "%%time\n",
    "#### TEST without paralel computing:\n",
    "\n",
    "all_inscriptions = []\n",
    "for num in range(1,200): \n",
    "  currently_parsed = get_inscription_data(num)\n",
    "  all_inscriptions.append(currently_parsed)"
   ]
  },
  {
   "cell_type": "code",
   "execution_count": 51,
   "metadata": {
    "colab": {
     "base_uri": "https://localhost:8080/",
     "height": 52
    },
    "colab_type": "code",
    "executionInfo": {
     "elapsed": 13976,
     "status": "ok",
     "timestamp": 1576770924513,
     "user": {
      "displayName": "",
      "photoUrl": "",
      "userId": ""
     },
     "user_tz": -60
    },
    "id": "9lrUIWrGk-iD",
    "outputId": "ca8895de-5a28-4560-81bb-4f73e3418846"
   },
   "outputs": [
    {
     "name": "stdout",
     "output_type": "stream",
     "text": [
      "CPU times: user 5.27 s, sys: 497 ms, total: 5.77 s\n",
      "Wall time: 17.9 s\n"
     ]
    }
   ],
   "source": [
    "%%time\n",
    "\n",
    "### TEST with paralel computing\n",
    "###to make N requests in paralel, we first have to generate a range of ranges: [1,2,3], [4,5,6], [7,8,9]\n",
    "all_inscriptions = []\n",
    "for num in range(1,200, 100): \n",
    "  actual_nums = list(range(num, num+100))\n",
    "  with ThreadPoolExecutor(max_workers=100) as pool:\n",
    "    currently_parsed = list(pool.map(get_inscription_data,actual_nums))\n",
    "  all_inscriptions.extend(currently_parsed)"
   ]
  },
  {
   "cell_type": "markdown",
   "metadata": {
    "colab_type": "text",
    "id": "5Blwzf6X5ChL"
   },
   "source": [
    "ok, the testing clearly demonstrate that using 100 workers in paralel is about 10 times faster. Let's scale it up for the whole dataset"
   ]
  },
  {
   "cell_type": "code",
   "execution_count": null,
   "metadata": {
    "colab": {
     "base_uri": "https://localhost:8080/",
     "height": 52
    },
    "colab_type": "code",
    "executionInfo": {
     "elapsed": 620,
     "status": "ok",
     "timestamp": 1576781229252,
     "user": {
      "displayName": "Vojtěch Kaše",
      "photoUrl": "https://lh3.googleusercontent.com/a-/AAuE7mAxTlnyE78QMWq7qNrhY8cMOVti0SJqAGwQEptYkQ=s64",
      "userId": "01399835024022498543"
     },
     "user_tz": -60
    },
    "id": "cRRszRXl0y8o",
    "outputId": "446582fe-8a5f-48d2-b915-342418debbf8"
   },
   "outputs": [],
   "source": [
    "%%time\n",
    "### main run of the function\n",
    "\n",
    "all_inscriptions = []\n",
    "for num in range(1,90000, 200): \n",
    "    actual_nums = list(range(num, num+200))\n",
    "    with ThreadPoolExecutor(max_workers=300) as pool:\n",
    "        currently_parsed = list(pool.map(get_inscription_data,actual_nums))\n",
    "    all_inscriptions.extend(currently_parsed)"
   ]
  },
  {
   "cell_type": "code",
   "execution_count": null,
   "metadata": {},
   "outputs": [],
   "source": [
    "all_inscriptions_filtered = []\n",
    "for ins in all_inscriptions:\n",
    "    try: all_inscriptions_filtered.append(ins[0])\n",
    "    except: pass #[ins[0] for ins in all_inscriptions if ins != None\n",
    "len(all_inscriptions_filtered) "
   ]
  },
  {
   "cell_type": "code",
   "execution_count": null,
   "metadata": {},
   "outputs": [],
   "source": [
    "inscriptions_data_df = pd.DataFrame(all_inscriptions_filtered)"
   ]
  },
  {
   "cell_type": "code",
   "execution_count": null,
   "metadata": {},
   "outputs": [],
   "source": [
    "# check missing numbers\n",
    "number_set = [n for n in range(1, len(inscriptions_data_df))]\n",
    "ins_ns = [int(ins.partition(\"HD\")[2]) for ins in inscriptions_data_df[\"id\"].tolist()]\n",
    "set(ins_ns) ^ set(number_set)"
   ]
  },
  {
   "cell_type": "code",
   "execution_count": null,
   "metadata": {
    "colab": {
     "base_uri": "https://localhost:8080/",
     "height": 1000
    },
    "colab_type": "code",
    "executionInfo": {
     "elapsed": 1027,
     "status": "ok",
     "timestamp": 1576832757790,
     "user": {
      "displayName": "Vojtěch Kaše",
      "photoUrl": "https://lh3.googleusercontent.com/a-/AAuE7mAxTlnyE78QMWq7qNrhY8cMOVti0SJqAGwQEptYkQ=s64",
      "userId": "01399835024022498543"
     },
     "user_tz": -60
    },
    "id": "EOqDyKm1jhKc",
    "outputId": "641eaeda-416d-4f13-e1f5-9c7187af4468"
   },
   "outputs": [],
   "source": [
    "inscriptions_data_df.head(5)"
   ]
  },
  {
   "cell_type": "code",
   "execution_count": null,
   "metadata": {
    "colab": {},
    "colab_type": "code",
    "id": "-GyMnzcgjhXy"
   },
   "outputs": [],
   "source": [
    "inscriptions_data_df = inscriptions_data_df[inscriptions_data_df[\"id\"].notnull()]\n",
    "len(inscriptions_data_df)"
   ]
  },
  {
   "cell_type": "markdown",
   "metadata": {
    "colab_type": "text",
    "id": "bjYqDa87gFd7"
   },
   "source": [
    "# Upload the data to sciencedata.dk shared folder"
   ]
  },
  {
   "cell_type": "code",
   "execution_count": null,
   "metadata": {
    "colab": {
     "base_uri": "https://localhost:8080/",
     "height": 35
    },
    "colab_type": "code",
    "executionInfo": {
     "elapsed": 7903,
     "status": "ok",
     "timestamp": 1576833609005,
     "user": {
      "displayName": "Vojtěch Kaše",
      "photoUrl": "https://lh3.googleusercontent.com/a-/AAuE7mAxTlnyE78QMWq7qNrhY8cMOVti0SJqAGwQEptYkQ=s64",
      "userId": "01399835024022498543"
     },
     "user_tz": -60
    },
    "id": "7cuU7NVR0a1T",
    "outputId": "838071fc-b963-4187-f5b9-b9da5f1b6b51"
   },
   "outputs": [],
   "source": [
    "sddk.write_file(sddk_url + \"SDAM_data/EDH/EDH_onebyone_2020-09-14.json\", data=inscriptions_data_df.to_json())"
   ]
  },
  {
   "cell_type": "code",
   "execution_count": null,
   "metadata": {},
   "outputs": [],
   "source": []
  }
 ],
 "metadata": {
  "colab": {
   "collapsed_sections": [],
   "name": "1_1_py_EXTRACTION_edh-inscriptions-from-web-api.ipynb",
   "provenance": [
    {
     "file_id": "1HywCoMjgAv0ck7vla6qhSa_6y0q6_4WN",
     "timestamp": 1574367454831
    }
   ]
  },
  "kernelspec": {
   "display_name": "Python 3",
   "language": "python",
   "name": "python3"
  },
  "language_info": {
   "codemirror_mode": {
    "name": "ipython",
    "version": 3
   },
   "file_extension": ".py",
   "mimetype": "text/x-python",
   "name": "python",
   "nbconvert_exporter": "python",
   "pygments_lexer": "ipython3",
   "version": "3.7.8"
  }
 },
 "nbformat": 4,
 "nbformat_minor": 1
}
