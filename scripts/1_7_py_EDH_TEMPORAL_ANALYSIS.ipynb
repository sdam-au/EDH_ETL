{
 "cells": [
  {
   "cell_type": "code",
   "execution_count": 1,
   "metadata": {
    "colab": {
     "base_uri": "https://localhost:8080/",
     "height": 394
    },
    "colab_type": "code",
    "id": "Hayqr5gXwIpz",
    "outputId": "b37437cb-3778-4673-d51f-6d84f35e1ffb"
   },
   "outputs": [],
   "source": [
    "import requests\n",
    "import scipy\n",
    "import matplotlib.pyplot as plt\n",
    "import seaborn as sns\n",
    "import pandas as pd\n",
    "import numpy as np\n",
    "\n",
    "# our own package for reading the data\n",
    "import sddk"
   ]
  },
  {
   "cell_type": "code",
   "execution_count": 13,
   "metadata": {
    "colab": {},
    "colab_type": "code",
    "id": "TRnnZthmypEO"
   },
   "outputs": [],
   "source": [
    "# read and execute our script for modelling dates\n",
    "script_url = \"https://raw.githubusercontent.com/sdam-au/modelling_temporal_uncertainty/master/scripts/modelling_distributions.py\"\n",
    "# execute the script\n",
    "exec(requests.get(script_url).content)"
   ]
  },
  {
   "cell_type": "code",
   "execution_count": 2,
   "metadata": {
    "colab": {
     "base_uri": "https://localhost:8080/",
     "height": 105
    },
    "colab_type": "code",
    "id": "gMSMaiVZwKG7",
    "outputId": "0740c774-2fc6-4ee6-bab1-c318cff94d98"
   },
   "outputs": [
    {
     "name": "stdout",
     "output_type": "stream",
     "text": [
      "sciencedata.dk username (format '123456@au.dk'): 648560@au.dk\n",
      "sciencedata.dk password: ··········\n",
      "connection with shared folder established with you as its ordinary user\n",
      "endpoint variable has been configured to: https://sciencedata.dk/sharingout/648597%40au.dk/SDAM_root/\n"
     ]
    }
   ],
   "source": [
    "conf = sddk.configure(\"SDAM_root\", \"648597@au.dk\")"
   ]
  },
  {
   "cell_type": "code",
   "execution_count": 7,
   "metadata": {
    "colab": {},
    "colab_type": "code",
    "id": "HUVa6HMkwVZ0"
   },
   "outputs": [],
   "source": [
    "# read the EDH dataset from sciencedata.dk\n",
    "EDH = sddk.read_file(\"SDAM_data/EDH/EDH_cleaned_2020-06-26.json\", \"df\", conf)"
   ]
  },
  {
   "cell_type": "code",
   "execution_count": 8,
   "metadata": {
    "colab": {
     "base_uri": "https://localhost:8080/",
     "height": 547
    },
    "colab_type": "code",
    "id": "iwJyD3mxzAPP",
    "outputId": "40cc2289-df13-4ca7-b2a0-2e04c653c0d2"
   },
   "outputs": [
    {
     "data": {
      "text/html": [
       "<div>\n",
       "<style scoped>\n",
       "    .dataframe tbody tr th:only-of-type {\n",
       "        vertical-align: middle;\n",
       "    }\n",
       "\n",
       "    .dataframe tbody tr th {\n",
       "        vertical-align: top;\n",
       "    }\n",
       "\n",
       "    .dataframe thead th {\n",
       "        text-align: right;\n",
       "    }\n",
       "</style>\n",
       "<table border=\"1\" class=\"dataframe\">\n",
       "  <thead>\n",
       "    <tr style=\"text-align: right;\">\n",
       "      <th></th>\n",
       "      <th>diplomatic_text</th>\n",
       "      <th>literature</th>\n",
       "      <th>trismegistos_uri</th>\n",
       "      <th>id</th>\n",
       "      <th>findspot_ancient</th>\n",
       "      <th>not_before</th>\n",
       "      <th>type_of_inscription</th>\n",
       "      <th>work_status</th>\n",
       "      <th>edh_geography_uri</th>\n",
       "      <th>not_after</th>\n",
       "      <th>country</th>\n",
       "      <th>province_label</th>\n",
       "      <th>transcription</th>\n",
       "      <th>material</th>\n",
       "      <th>height</th>\n",
       "      <th>width</th>\n",
       "      <th>findspot_modern</th>\n",
       "      <th>depth</th>\n",
       "      <th>commentary</th>\n",
       "      <th>uri</th>\n",
       "      <th>responsible_individual</th>\n",
       "      <th>last_update</th>\n",
       "      <th>language</th>\n",
       "      <th>modern_region</th>\n",
       "      <th>letter_size</th>\n",
       "      <th>type_of_monument</th>\n",
       "      <th>people</th>\n",
       "      <th>year_of_find</th>\n",
       "      <th>findspot</th>\n",
       "      <th>present_location</th>\n",
       "      <th>external_image_uris</th>\n",
       "      <th>religion</th>\n",
       "      <th>fotos</th>\n",
       "      <th>geography</th>\n",
       "      <th>military</th>\n",
       "      <th>social_economic_legal_history</th>\n",
       "      <th>coordinates</th>\n",
       "      <th>text_cleaned</th>\n",
       "      <th>origdate_text</th>\n",
       "      <th>origdate_attrs</th>\n",
       "      <th>objecttype</th>\n",
       "      <th>province_label_clean</th>\n",
       "      <th>province_label_certainty</th>\n",
       "      <th>type_of_inscription_clean</th>\n",
       "      <th>material_clean</th>\n",
       "      <th>height_cm</th>\n",
       "      <th>width_cm</th>\n",
       "      <th>depth_cm</th>\n",
       "      <th>type_of_monument_clean</th>\n",
       "      <th>type_of_monument_certainty</th>\n",
       "      <th>findspot_ancient_clean</th>\n",
       "      <th>findspot_ancient_certainty</th>\n",
       "      <th>clean_text_conservative</th>\n",
       "      <th>clean_text_interpretive_word</th>\n",
       "      <th>clean_text_interpretive_sentence</th>\n",
       "    </tr>\n",
       "  </thead>\n",
       "  <tbody>\n",
       "    <tr>\n",
       "      <th>0</th>\n",
       "      <td>[D M / NONIAE P F OPTATAE / ET C IVLIO ARTEMON...</td>\n",
       "      <td>[AE 1983, 0192.; M. Annecchino, Puteoli 4/5, 1...</td>\n",
       "      <td>[https://www.trismegistos.org/text/251193]</td>\n",
       "      <td>[HD000001]</td>\n",
       "      <td>[Cumae, bei]</td>\n",
       "      <td>[0071]</td>\n",
       "      <td>[epitaph]</td>\n",
       "      <td>[provisional]</td>\n",
       "      <td>[https://edh-www.adw.uni-heidelberg.de/edh/geo...</td>\n",
       "      <td>[0130]</td>\n",
       "      <td>[Italy]</td>\n",
       "      <td>[Latium et Campania (Regio I)]</td>\n",
       "      <td>[D(is) M(anibus) / Noniae P(ubli) f(iliae) Opt...</td>\n",
       "      <td>[Marmor, geädert / farbig]</td>\n",
       "      <td>[33 cm]</td>\n",
       "      <td>[34 cm]</td>\n",
       "      <td>[Cuma, bei]</td>\n",
       "      <td>[2.7 cm]</td>\n",
       "      <td>[ (C): 2. Hälfte 1. - Anfang 2. Jh. - AE; Ende...</td>\n",
       "      <td>[https://edh-www.adw.uni-heidelberg.de/edh/ins...</td>\n",
       "      <td>[Feraudi]</td>\n",
       "      <td>[2014-04-07]</td>\n",
       "      <td>[Latin]</td>\n",
       "      <td>[Campania]</td>\n",
       "      <td>[3.2-2 cm]</td>\n",
       "      <td>[tabula]</td>\n",
       "      <td>[{'cognomen': 'Optata', 'person_id': '1', 'gen...</td>\n",
       "      <td>{}</td>\n",
       "      <td>{}</td>\n",
       "      <td>{}</td>\n",
       "      <td>{}</td>\n",
       "      <td>{}</td>\n",
       "      <td>{}</td>\n",
       "      <td>{}</td>\n",
       "      <td>{}</td>\n",
       "      <td>{}</td>\n",
       "      <td>[40.8471577,14.0550756]</td>\n",
       "      <td>[Dis Manibus Noniae Publi filiae Optatae et Ca...</td>\n",
       "      <td>[71 AD – 130 AD                            ]</td>\n",
       "      <td>{'notbefore-custom': ['0071'], 'notafter-custo...</td>\n",
       "      <td>[Tafel, 257]</td>\n",
       "      <td>Latium et Campania (Regio I)</td>\n",
       "      <td>Certain</td>\n",
       "      <td>epitaph</td>\n",
       "      <td>Marble</td>\n",
       "      <td>33.0</td>\n",
       "      <td>34.0</td>\n",
       "      <td>2.7</td>\n",
       "      <td>tabula</td>\n",
       "      <td>Certain</td>\n",
       "      <td>Cumae</td>\n",
       "      <td>Estimated</td>\n",
       "      <td>D M Noniae P f Optatae et C Iulio Artemoni par...</td>\n",
       "      <td>Dis Manibus Noniae Publi filiae Optatae et Cai...</td>\n",
       "      <td>Dis Manibus Noniae Publi filiae Optatae et Cai...</td>\n",
       "    </tr>\n",
       "    <tr>\n",
       "      <th>1</th>\n",
       "      <td>[C SEXTIVS PARIS / QVI VIXIT / ANNIS LXX]</td>\n",
       "      <td>[AE 1983, 0080. (A); A. Ferrua, RAL 36, 1981, ...</td>\n",
       "      <td>[https://www.trismegistos.org/text/265631]</td>\n",
       "      <td>[HD000002]</td>\n",
       "      <td>[Roma]</td>\n",
       "      <td>[0051]</td>\n",
       "      <td>[epitaph]</td>\n",
       "      <td>[no image]</td>\n",
       "      <td>[https://edh-www.adw.uni-heidelberg.de/edh/geo...</td>\n",
       "      <td>[0200]</td>\n",
       "      <td>[Italy]</td>\n",
       "      <td>[Roma]</td>\n",
       "      <td>[C(aius) Sextius Paris / qui vixit / annis LXX]</td>\n",
       "      <td>[marble: rocks - metamorphic rocks]</td>\n",
       "      <td>[28 cm]</td>\n",
       "      <td>[85 cm]</td>\n",
       "      <td>[Roma]</td>\n",
       "      <td>{}</td>\n",
       "      <td>[ AE 1983: Breite: 35 cm.]</td>\n",
       "      <td>[https://edh-www.adw.uni-heidelberg.de/edh/ins...</td>\n",
       "      <td>[Feraudi]</td>\n",
       "      <td>[2014-04-07]</td>\n",
       "      <td>[Latin]</td>\n",
       "      <td>[Lazio]</td>\n",
       "      <td>[4 cm]</td>\n",
       "      <td>[tabula]</td>\n",
       "      <td>[{'age: years': '70', 'cognomen': 'Paris', 'ge...</td>\n",
       "      <td>[1937]</td>\n",
       "      <td>[Via Nomentana, S. Alessandro, Kirche]</td>\n",
       "      <td>{}</td>\n",
       "      <td>{}</td>\n",
       "      <td>{}</td>\n",
       "      <td>{}</td>\n",
       "      <td>{}</td>\n",
       "      <td>{}</td>\n",
       "      <td>{}</td>\n",
       "      <td>[41.895466,12.482324]</td>\n",
       "      <td>[Caius Sextius Paris qui vixit annis LXX      ...</td>\n",
       "      <td>[51 AD – 200 AD                            ]</td>\n",
       "      <td>{'notbefore-custom': ['0051'], 'notafter-custo...</td>\n",
       "      <td>[Tafel, 257]</td>\n",
       "      <td>Roma</td>\n",
       "      <td>Certain</td>\n",
       "      <td>epitaph</td>\n",
       "      <td>Marble</td>\n",
       "      <td>28.0</td>\n",
       "      <td>85.0</td>\n",
       "      <td>NaN</td>\n",
       "      <td>tabula</td>\n",
       "      <td>Certain</td>\n",
       "      <td>Roma</td>\n",
       "      <td>Certain</td>\n",
       "      <td>C Sextius Paris qui vixit annis LXX</td>\n",
       "      <td>Caius Sextius Paris qui vixit annis LXX</td>\n",
       "      <td>Caius Sextius Paris qui vixit annis LXX</td>\n",
       "    </tr>\n",
       "    <tr>\n",
       "      <th>2</th>\n",
       "      <td>[[ ]VMMIO [ ] / [ ]ISENNA[ ] / [ ] XV[ ] / [ ]...</td>\n",
       "      <td>[AE 1983, 0518. (B); J. González, ZPE 52, 1983...</td>\n",
       "      <td>[https://www.trismegistos.org/text/220675]</td>\n",
       "      <td>[HD000003]</td>\n",
       "      <td>{}</td>\n",
       "      <td>[0131]</td>\n",
       "      <td>[honorific inscription]</td>\n",
       "      <td>[provisional]</td>\n",
       "      <td>[https://edh-www.adw.uni-heidelberg.de/edh/geo...</td>\n",
       "      <td>[0170]</td>\n",
       "      <td>[Spain]</td>\n",
       "      <td>[Baetica]</td>\n",
       "      <td>[[P(ublio) M]ummio [P(ubli) f(ilio)] / [Gal(er...</td>\n",
       "      <td>[marble: rocks - metamorphic rocks]</td>\n",
       "      <td>[(37) cm]</td>\n",
       "      <td>[(34) cm]</td>\n",
       "      <td>[Tomares]</td>\n",
       "      <td>[(12) cm]</td>\n",
       "      <td>[ (B): [S]isenna ist falscher Kasus; folgende ...</td>\n",
       "      <td>[https://edh-www.adw.uni-heidelberg.de/edh/ins...</td>\n",
       "      <td>[Feraudi]</td>\n",
       "      <td>[2006-08-31]</td>\n",
       "      <td>[Latin]</td>\n",
       "      <td>[Sevilla]</td>\n",
       "      <td>[4.5-3 cm]</td>\n",
       "      <td>[statue base]</td>\n",
       "      <td>[{'nomen': 'Mummius+', 'cognomen': 'Sisenna+ R...</td>\n",
       "      <td>[before 1975]</td>\n",
       "      <td>{}</td>\n",
       "      <td>[Sevilla, Privatbesitz]</td>\n",
       "      <td>{}</td>\n",
       "      <td>{}</td>\n",
       "      <td>{}</td>\n",
       "      <td>{}</td>\n",
       "      <td>{}</td>\n",
       "      <td>{}</td>\n",
       "      <td>[37.37281,-6.04589]</td>\n",
       "      <td>[Publio Mummio Publi filio Galeria Sisennae Ru...</td>\n",
       "      <td>[131 AD – 170 AD                            ]</td>\n",
       "      <td>{'notbefore-custom': ['0131'], 'notafter-custo...</td>\n",
       "      <td>[Statuenbasis, 57]</td>\n",
       "      <td>Baetica</td>\n",
       "      <td>Certain</td>\n",
       "      <td>honorific inscription</td>\n",
       "      <td>Marble</td>\n",
       "      <td>37.0</td>\n",
       "      <td>34.0</td>\n",
       "      <td>12.0</td>\n",
       "      <td>statue base</td>\n",
       "      <td>Certain</td>\n",
       "      <td>NULL</td>\n",
       "      <td>NULL</td>\n",
       "      <td>ummio isenna Xv</td>\n",
       "      <td>Publio Mummio Publi filio Galeria Sisennae Rut...</td>\n",
       "      <td>Publio Mummio Publi filio Galeria Sisennae Rut...</td>\n",
       "    </tr>\n",
       "    <tr>\n",
       "      <th>3</th>\n",
       "      <td>[[ ]AVS[ ]LLA / M PORCI NIGRI SER / DOMINAE VE...</td>\n",
       "      <td>[AE 1983, 0533. (B); A.U. Stylow, Gerión 1, 19...</td>\n",
       "      <td>[https://www.trismegistos.org/text/222102]</td>\n",
       "      <td>[HD000004]</td>\n",
       "      <td>[Ipolcobulcula]</td>\n",
       "      <td>[0151]</td>\n",
       "      <td>[votive inscription]</td>\n",
       "      <td>[checked with photo]</td>\n",
       "      <td>[https://edh-www.adw.uni-heidelberg.de/edh/geo...</td>\n",
       "      <td>[0200]</td>\n",
       "      <td>[Spain]</td>\n",
       "      <td>[Baetica]</td>\n",
       "      <td>[[---?]AV(?)S(?)[---]L(?)L(?)A / M(arci) Porci...</td>\n",
       "      <td>[limestone: rocks - clastic sediments]</td>\n",
       "      <td>[(39) cm]</td>\n",
       "      <td>[27 cm]</td>\n",
       "      <td>[Carcabuey]</td>\n",
       "      <td>[18 cm]</td>\n",
       "      <td>[ Material: lokaler grauer Kalkstein. (B): Sty...</td>\n",
       "      <td>[https://edh-www.adw.uni-heidelberg.de/edh/ins...</td>\n",
       "      <td>[Gräf]</td>\n",
       "      <td>[2015-03-27]</td>\n",
       "      <td>[Latin]</td>\n",
       "      <td>[Córdoba]</td>\n",
       "      <td>[2.5 cm]</td>\n",
       "      <td>[altar]</td>\n",
       "      <td>[{'cognomen': '[---]', 'status': 'slaves', 'pe...</td>\n",
       "      <td>[before 1979]</td>\n",
       "      <td>{}</td>\n",
       "      <td>[Carcabuey, Grupo Escolar]</td>\n",
       "      <td>[http://cil-old.bbaw.de/test06/bilder/datenban...</td>\n",
       "      <td>[names of pagan deities]</td>\n",
       "      <td>{}</td>\n",
       "      <td>{}</td>\n",
       "      <td>{}</td>\n",
       "      <td>{}</td>\n",
       "      <td>[37.4442,-4.27471]</td>\n",
       "      <td>[AVSLLA Marci Porci Nigri serva dominae Veneri...</td>\n",
       "      <td>[151 AD – 200 AD                            ]</td>\n",
       "      <td>{'notbefore-custom': ['0151'], 'notafter-custo...</td>\n",
       "      <td>[Altar, 29]</td>\n",
       "      <td>Baetica</td>\n",
       "      <td>Certain</td>\n",
       "      <td>votive inscription</td>\n",
       "      <td>Limestone</td>\n",
       "      <td>39.0</td>\n",
       "      <td>27.0</td>\n",
       "      <td>18.0</td>\n",
       "      <td>altar</td>\n",
       "      <td>Certain</td>\n",
       "      <td>Ipolcobulcula</td>\n",
       "      <td>Certain</td>\n",
       "      <td>AVSLLA M Porci Nigri ser dominae Veneri aram p...</td>\n",
       "      <td>AVS LLA Marci Porci Nigri serva dominae Veneri...</td>\n",
       "      <td>AVS LLA Marci Porci Nigri serva dominae Veneri...</td>\n",
       "    </tr>\n",
       "    <tr>\n",
       "      <th>4</th>\n",
       "      <td>[[ ] L SVCCESSVS / [ ] L L IRENAEVS / [ ] C L ...</td>\n",
       "      <td>[AE 1983, 0078. (B); A. Ferrua, RAL 36, 1981, ...</td>\n",
       "      <td>[https://www.trismegistos.org/text/265629]</td>\n",
       "      <td>[HD000005]</td>\n",
       "      <td>[Roma]</td>\n",
       "      <td>[0001]</td>\n",
       "      <td>[epitaph]</td>\n",
       "      <td>[no image]</td>\n",
       "      <td>[https://edh-www.adw.uni-heidelberg.de/edh/geo...</td>\n",
       "      <td>[0200]</td>\n",
       "      <td>[Italy]</td>\n",
       "      <td>[Roma]</td>\n",
       "      <td>[[---] l(ibertus) Successus / [---] L(uci) l(i...</td>\n",
       "      <td>{}</td>\n",
       "      <td>{}</td>\n",
       "      <td>{}</td>\n",
       "      <td>[Roma]</td>\n",
       "      <td>{}</td>\n",
       "      <td>[ (B): Z. 3: C(ai) l(ibertae) Tyches.]</td>\n",
       "      <td>[https://edh-www.adw.uni-heidelberg.de/edh/ins...</td>\n",
       "      <td>[Feraudi]</td>\n",
       "      <td>[2010-01-04]</td>\n",
       "      <td>[Latin]</td>\n",
       "      <td>[Lazio]</td>\n",
       "      <td>{}</td>\n",
       "      <td>[stele]</td>\n",
       "      <td>[{'status': 'freedmen / freedwomen', 'name': '...</td>\n",
       "      <td>{}</td>\n",
       "      <td>[Via Cupa (ehem. Vigna Nardi)]</td>\n",
       "      <td>{}</td>\n",
       "      <td>{}</td>\n",
       "      <td>{}</td>\n",
       "      <td>{}</td>\n",
       "      <td>{}</td>\n",
       "      <td>{}</td>\n",
       "      <td>{}</td>\n",
       "      <td>[41.895466,12.482324]</td>\n",
       "      <td>[ libertus Successus  Luci libertus Irenaeus  ...</td>\n",
       "      <td>[1 AD – 200 AD                            ]</td>\n",
       "      <td>{'notbefore-custom': ['0001'], 'notafter-custo...</td>\n",
       "      <td>[Stele, 250]</td>\n",
       "      <td>Roma</td>\n",
       "      <td>Certain</td>\n",
       "      <td>epitaph</td>\n",
       "      <td>NA</td>\n",
       "      <td>NaN</td>\n",
       "      <td>NaN</td>\n",
       "      <td>NaN</td>\n",
       "      <td>stele</td>\n",
       "      <td>Certain</td>\n",
       "      <td>Roma</td>\n",
       "      <td>Certain</td>\n",
       "      <td>l Successus L l Irenaeus C l Tyches unt renti f</td>\n",
       "      <td>libertus Successus Luci libertus Irenaeus Cai ...</td>\n",
       "      <td>libertus Successus Luci libertus Irenaeus Cai ...</td>\n",
       "    </tr>\n",
       "  </tbody>\n",
       "</table>\n",
       "</div>"
      ],
      "text/plain": [
       "                                     diplomatic_text  ...                   clean_text_interpretive_sentence\n",
       "0  [D M / NONIAE P F OPTATAE / ET C IVLIO ARTEMON...  ...  Dis Manibus Noniae Publi filiae Optatae et Cai...\n",
       "1          [C SEXTIVS PARIS / QVI VIXIT / ANNIS LXX]  ...            Caius Sextius Paris qui vixit annis LXX\n",
       "2  [[ ]VMMIO [ ] / [ ]ISENNA[ ] / [ ] XV[ ] / [ ]...  ...  Publio Mummio Publi filio Galeria Sisennae Rut...\n",
       "3  [[ ]AVS[ ]LLA / M PORCI NIGRI SER / DOMINAE VE...  ...  AVS LLA Marci Porci Nigri serva dominae Veneri...\n",
       "4  [[ ] L SVCCESSVS / [ ] L L IRENAEVS / [ ] C L ...  ...  libertus Successus Luci libertus Irenaeus Cai ...\n",
       "\n",
       "[5 rows x 55 columns]"
      ]
     },
     "execution_count": 8,
     "metadata": {
      "tags": []
     },
     "output_type": "execute_result"
    }
   ],
   "source": [
    "EDH.head(5)"
   ]
  },
  {
   "cell_type": "code",
   "execution_count": 10,
   "metadata": {
    "colab": {
     "base_uri": "https://localhost:8080/",
     "height": 34
    },
    "colab_type": "code",
    "id": "udTOHjd1zzrR",
    "outputId": "27ce9af0-b961-4a75-c86c-77105b89cac1"
   },
   "outputs": [
    {
     "data": {
      "text/plain": [
       "80270"
      ]
     },
     "execution_count": 10,
     "metadata": {
      "tags": []
     },
     "output_type": "execute_result"
    }
   ],
   "source": [
    "### how many of the inscriptions have at least one date\n",
    "len(EDH[(EDH[\"not_before\"].notnull()) | (EDH[\"not_after\"].notnull())])"
   ]
  },
  {
   "cell_type": "markdown",
   "metadata": {
    "colab_type": "text",
    "id": "PFtscJrr0Axy"
   },
   "source": [
    "# Generate random dates for the whole dataset"
   ]
  },
  {
   "cell_type": "code",
   "execution_count": 17,
   "metadata": {
    "colab": {},
    "colab_type": "code",
    "id": "sorLfYQ31xNn"
   },
   "outputs": [],
   "source": [
    "def lists_to_values(list_or_value):\n",
    "  if isinstance(list_or_value, list):\n",
    "    value = list_or_value[0]\n",
    "  else: \n",
    "    value = list_or_value\n",
    "  return value\n",
    "for column in EDH.columns:\n",
    "  EDH[column] = EDH.apply(lambda row: lists_to_values(row[column]), axis=1)"
   ]
  },
  {
   "cell_type": "code",
   "execution_count": 18,
   "metadata": {
    "colab": {
     "base_uri": "https://localhost:8080/",
     "height": 51
    },
    "colab_type": "code",
    "id": "HsgFbx4L0EtK",
    "outputId": "7b5d4c31-4c33-47ff-9ccd-b3acafb95796"
   },
   "outputs": [
    {
     "name": "stdout",
     "output_type": "stream",
     "text": [
      "CPU times: user 40.1 s, sys: 950 ms, total: 41.1 s\n",
      "Wall time: 41.1 s\n"
     ]
    }
   ],
   "source": [
    "%%time\n",
    "# generate a list of 1000 random dates for each inscription in the dataset\n",
    "# takes approx. 90 seconds in Google colab\n",
    "EDH[\"random_dates\"] =EDH.apply(lambda row: model_date(row[\"not_before\"], row[\"not_after\"], size=1000,), axis=1)"
   ]
  },
  {
   "cell_type": "code",
   "execution_count": 19,
   "metadata": {
    "colab": {
     "base_uri": "https://localhost:8080/",
     "height": 547
    },
    "colab_type": "code",
    "id": "HTGHDo2e0Zaf",
    "outputId": "ee309157-3978-40e8-9bd6-492c2ce47cfe"
   },
   "outputs": [
    {
     "data": {
      "text/html": [
       "<div>\n",
       "<style scoped>\n",
       "    .dataframe tbody tr th:only-of-type {\n",
       "        vertical-align: middle;\n",
       "    }\n",
       "\n",
       "    .dataframe tbody tr th {\n",
       "        vertical-align: top;\n",
       "    }\n",
       "\n",
       "    .dataframe thead th {\n",
       "        text-align: right;\n",
       "    }\n",
       "</style>\n",
       "<table border=\"1\" class=\"dataframe\">\n",
       "  <thead>\n",
       "    <tr style=\"text-align: right;\">\n",
       "      <th></th>\n",
       "      <th>diplomatic_text</th>\n",
       "      <th>literature</th>\n",
       "      <th>trismegistos_uri</th>\n",
       "      <th>id</th>\n",
       "      <th>findspot_ancient</th>\n",
       "      <th>not_before</th>\n",
       "      <th>type_of_inscription</th>\n",
       "      <th>work_status</th>\n",
       "      <th>edh_geography_uri</th>\n",
       "      <th>not_after</th>\n",
       "      <th>country</th>\n",
       "      <th>province_label</th>\n",
       "      <th>transcription</th>\n",
       "      <th>material</th>\n",
       "      <th>height</th>\n",
       "      <th>width</th>\n",
       "      <th>findspot_modern</th>\n",
       "      <th>depth</th>\n",
       "      <th>commentary</th>\n",
       "      <th>uri</th>\n",
       "      <th>responsible_individual</th>\n",
       "      <th>last_update</th>\n",
       "      <th>language</th>\n",
       "      <th>modern_region</th>\n",
       "      <th>letter_size</th>\n",
       "      <th>type_of_monument</th>\n",
       "      <th>people</th>\n",
       "      <th>year_of_find</th>\n",
       "      <th>findspot</th>\n",
       "      <th>present_location</th>\n",
       "      <th>external_image_uris</th>\n",
       "      <th>religion</th>\n",
       "      <th>fotos</th>\n",
       "      <th>geography</th>\n",
       "      <th>military</th>\n",
       "      <th>social_economic_legal_history</th>\n",
       "      <th>coordinates</th>\n",
       "      <th>text_cleaned</th>\n",
       "      <th>origdate_text</th>\n",
       "      <th>origdate_attrs</th>\n",
       "      <th>objecttype</th>\n",
       "      <th>province_label_clean</th>\n",
       "      <th>province_label_certainty</th>\n",
       "      <th>type_of_inscription_clean</th>\n",
       "      <th>material_clean</th>\n",
       "      <th>height_cm</th>\n",
       "      <th>width_cm</th>\n",
       "      <th>depth_cm</th>\n",
       "      <th>type_of_monument_clean</th>\n",
       "      <th>type_of_monument_certainty</th>\n",
       "      <th>findspot_ancient_clean</th>\n",
       "      <th>findspot_ancient_certainty</th>\n",
       "      <th>clean_text_conservative</th>\n",
       "      <th>clean_text_interpretive_word</th>\n",
       "      <th>clean_text_interpretive_sentence</th>\n",
       "      <th>random_dates</th>\n",
       "    </tr>\n",
       "  </thead>\n",
       "  <tbody>\n",
       "    <tr>\n",
       "      <th>0</th>\n",
       "      <td>D M / NONIAE P F OPTATAE / ET C IVLIO ARTEMONI...</td>\n",
       "      <td>AE 1983, 0192.; M. Annecchino, Puteoli 4/5, 19...</td>\n",
       "      <td>https://www.trismegistos.org/text/251193</td>\n",
       "      <td>HD000001</td>\n",
       "      <td>Cumae, bei</td>\n",
       "      <td>0071</td>\n",
       "      <td>epitaph</td>\n",
       "      <td>provisional</td>\n",
       "      <td>https://edh-www.adw.uni-heidelberg.de/edh/geog...</td>\n",
       "      <td>0130</td>\n",
       "      <td>Italy</td>\n",
       "      <td>Latium et Campania (Regio I)</td>\n",
       "      <td>D(is) M(anibus) / Noniae P(ubli) f(iliae) Opta...</td>\n",
       "      <td>Marmor, geädert / farbig</td>\n",
       "      <td>33 cm</td>\n",
       "      <td>34 cm</td>\n",
       "      <td>Cuma, bei</td>\n",
       "      <td>2.7 cm</td>\n",
       "      <td>(C): 2. Hälfte 1. - Anfang 2. Jh. - AE; Ende ...</td>\n",
       "      <td>https://edh-www.adw.uni-heidelberg.de/edh/insc...</td>\n",
       "      <td>Feraudi</td>\n",
       "      <td>2014-04-07</td>\n",
       "      <td>Latin</td>\n",
       "      <td>Campania</td>\n",
       "      <td>3.2-2 cm</td>\n",
       "      <td>tabula</td>\n",
       "      <td>{'cognomen': 'Optata', 'person_id': '1', 'gend...</td>\n",
       "      <td>{}</td>\n",
       "      <td>{}</td>\n",
       "      <td>{}</td>\n",
       "      <td>{}</td>\n",
       "      <td>{}</td>\n",
       "      <td>{}</td>\n",
       "      <td>{}</td>\n",
       "      <td>{}</td>\n",
       "      <td>{}</td>\n",
       "      <td>40.8471577,14.0550756</td>\n",
       "      <td>Dis Manibus Noniae Publi filiae Optatae et Cai...</td>\n",
       "      <td>71 AD – 130 AD</td>\n",
       "      <td>{'notbefore-custom': ['0071'], 'notafter-custo...</td>\n",
       "      <td>Tafel</td>\n",
       "      <td>Latium et Campania (Regio I)</td>\n",
       "      <td>Certain</td>\n",
       "      <td>epitaph</td>\n",
       "      <td>Marble</td>\n",
       "      <td>33.0</td>\n",
       "      <td>34.0</td>\n",
       "      <td>2.7</td>\n",
       "      <td>tabula</td>\n",
       "      <td>Certain</td>\n",
       "      <td>Cumae</td>\n",
       "      <td>Estimated</td>\n",
       "      <td>D M Noniae P f Optatae et C Iulio Artemoni par...</td>\n",
       "      <td>Dis Manibus Noniae Publi filiae Optatae et Cai...</td>\n",
       "      <td>Dis Manibus Noniae Publi filiae Optatae et Cai...</td>\n",
       "      <td>[119, 101, 83, 119, 74, 94, 112, 96, 96, 110, ...</td>\n",
       "    </tr>\n",
       "    <tr>\n",
       "      <th>1</th>\n",
       "      <td>C SEXTIVS PARIS / QVI VIXIT / ANNIS LXX</td>\n",
       "      <td>AE 1983, 0080. (A); A. Ferrua, RAL 36, 1981, 1...</td>\n",
       "      <td>https://www.trismegistos.org/text/265631</td>\n",
       "      <td>HD000002</td>\n",
       "      <td>Roma</td>\n",
       "      <td>0051</td>\n",
       "      <td>epitaph</td>\n",
       "      <td>no image</td>\n",
       "      <td>https://edh-www.adw.uni-heidelberg.de/edh/geog...</td>\n",
       "      <td>0200</td>\n",
       "      <td>Italy</td>\n",
       "      <td>Roma</td>\n",
       "      <td>C(aius) Sextius Paris / qui vixit / annis LXX</td>\n",
       "      <td>marble: rocks - metamorphic rocks</td>\n",
       "      <td>28 cm</td>\n",
       "      <td>85 cm</td>\n",
       "      <td>Roma</td>\n",
       "      <td>{}</td>\n",
       "      <td>AE 1983: Breite: 35 cm.</td>\n",
       "      <td>https://edh-www.adw.uni-heidelberg.de/edh/insc...</td>\n",
       "      <td>Feraudi</td>\n",
       "      <td>2014-04-07</td>\n",
       "      <td>Latin</td>\n",
       "      <td>Lazio</td>\n",
       "      <td>4 cm</td>\n",
       "      <td>tabula</td>\n",
       "      <td>{'age: years': '70', 'cognomen': 'Paris', 'gen...</td>\n",
       "      <td>1937</td>\n",
       "      <td>Via Nomentana, S. Alessandro, Kirche</td>\n",
       "      <td>{}</td>\n",
       "      <td>{}</td>\n",
       "      <td>{}</td>\n",
       "      <td>{}</td>\n",
       "      <td>{}</td>\n",
       "      <td>{}</td>\n",
       "      <td>{}</td>\n",
       "      <td>41.895466,12.482324</td>\n",
       "      <td>Caius Sextius Paris qui vixit annis LXX       ...</td>\n",
       "      <td>51 AD – 200 AD</td>\n",
       "      <td>{'notbefore-custom': ['0051'], 'notafter-custo...</td>\n",
       "      <td>Tafel</td>\n",
       "      <td>Roma</td>\n",
       "      <td>Certain</td>\n",
       "      <td>epitaph</td>\n",
       "      <td>Marble</td>\n",
       "      <td>28.0</td>\n",
       "      <td>85.0</td>\n",
       "      <td>NaN</td>\n",
       "      <td>tabula</td>\n",
       "      <td>Certain</td>\n",
       "      <td>Roma</td>\n",
       "      <td>Certain</td>\n",
       "      <td>C Sextius Paris qui vixit annis LXX</td>\n",
       "      <td>Caius Sextius Paris qui vixit annis LXX</td>\n",
       "      <td>Caius Sextius Paris qui vixit annis LXX</td>\n",
       "      <td>[167, 52, 102, 174, 122, 135, 64, 151, 161, 19...</td>\n",
       "    </tr>\n",
       "    <tr>\n",
       "      <th>2</th>\n",
       "      <td>[ ]VMMIO [ ] / [ ]ISENNA[ ] / [ ] XV[ ] / [ ] / [</td>\n",
       "      <td>AE 1983, 0518. (B); J. González, ZPE 52, 1983,...</td>\n",
       "      <td>https://www.trismegistos.org/text/220675</td>\n",
       "      <td>HD000003</td>\n",
       "      <td>{}</td>\n",
       "      <td>0131</td>\n",
       "      <td>honorific inscription</td>\n",
       "      <td>provisional</td>\n",
       "      <td>https://edh-www.adw.uni-heidelberg.de/edh/geog...</td>\n",
       "      <td>0170</td>\n",
       "      <td>Spain</td>\n",
       "      <td>Baetica</td>\n",
       "      <td>[P(ublio) M]ummio [P(ubli) f(ilio)] / [Gal(eri...</td>\n",
       "      <td>marble: rocks - metamorphic rocks</td>\n",
       "      <td>(37) cm</td>\n",
       "      <td>(34) cm</td>\n",
       "      <td>Tomares</td>\n",
       "      <td>(12) cm</td>\n",
       "      <td>(B): [S]isenna ist falscher Kasus; folgende E...</td>\n",
       "      <td>https://edh-www.adw.uni-heidelberg.de/edh/insc...</td>\n",
       "      <td>Feraudi</td>\n",
       "      <td>2006-08-31</td>\n",
       "      <td>Latin</td>\n",
       "      <td>Sevilla</td>\n",
       "      <td>4.5-3 cm</td>\n",
       "      <td>statue base</td>\n",
       "      <td>{'nomen': 'Mummius+', 'cognomen': 'Sisenna+ Ru...</td>\n",
       "      <td>before 1975</td>\n",
       "      <td>{}</td>\n",
       "      <td>Sevilla, Privatbesitz</td>\n",
       "      <td>{}</td>\n",
       "      <td>{}</td>\n",
       "      <td>{}</td>\n",
       "      <td>{}</td>\n",
       "      <td>{}</td>\n",
       "      <td>{}</td>\n",
       "      <td>37.37281,-6.04589</td>\n",
       "      <td>Publio Mummio Publi filio Galeria Sisennae Rut...</td>\n",
       "      <td>131 AD – 170 AD</td>\n",
       "      <td>{'notbefore-custom': ['0131'], 'notafter-custo...</td>\n",
       "      <td>Statuenbasis</td>\n",
       "      <td>Baetica</td>\n",
       "      <td>Certain</td>\n",
       "      <td>honorific inscription</td>\n",
       "      <td>Marble</td>\n",
       "      <td>37.0</td>\n",
       "      <td>34.0</td>\n",
       "      <td>12.0</td>\n",
       "      <td>statue base</td>\n",
       "      <td>Certain</td>\n",
       "      <td>NULL</td>\n",
       "      <td>NULL</td>\n",
       "      <td>ummio isenna Xv</td>\n",
       "      <td>Publio Mummio Publi filio Galeria Sisennae Rut...</td>\n",
       "      <td>Publio Mummio Publi filio Galeria Sisennae Rut...</td>\n",
       "      <td>[153, 153, 158, 137, 147, 147, 135, 133, 168, ...</td>\n",
       "    </tr>\n",
       "    <tr>\n",
       "      <th>3</th>\n",
       "      <td>[ ]AVS[ ]LLA / M PORCI NIGRI SER / DOMINAE VEN...</td>\n",
       "      <td>AE 1983, 0533. (B); A.U. Stylow, Gerión 1, 198...</td>\n",
       "      <td>https://www.trismegistos.org/text/222102</td>\n",
       "      <td>HD000004</td>\n",
       "      <td>Ipolcobulcula</td>\n",
       "      <td>0151</td>\n",
       "      <td>votive inscription</td>\n",
       "      <td>checked with photo</td>\n",
       "      <td>https://edh-www.adw.uni-heidelberg.de/edh/geog...</td>\n",
       "      <td>0200</td>\n",
       "      <td>Spain</td>\n",
       "      <td>Baetica</td>\n",
       "      <td>[---?]AV(?)S(?)[---]L(?)L(?)A / M(arci) Porci ...</td>\n",
       "      <td>limestone: rocks - clastic sediments</td>\n",
       "      <td>(39) cm</td>\n",
       "      <td>27 cm</td>\n",
       "      <td>Carcabuey</td>\n",
       "      <td>18 cm</td>\n",
       "      <td>Material: lokaler grauer Kalkstein. (B): Styl...</td>\n",
       "      <td>https://edh-www.adw.uni-heidelberg.de/edh/insc...</td>\n",
       "      <td>Gräf</td>\n",
       "      <td>2015-03-27</td>\n",
       "      <td>Latin</td>\n",
       "      <td>Córdoba</td>\n",
       "      <td>2.5 cm</td>\n",
       "      <td>altar</td>\n",
       "      <td>{'cognomen': '[---]', 'status': 'slaves', 'per...</td>\n",
       "      <td>before 1979</td>\n",
       "      <td>{}</td>\n",
       "      <td>Carcabuey, Grupo Escolar</td>\n",
       "      <td>http://cil-old.bbaw.de/test06/bilder/datenbank...</td>\n",
       "      <td>names of pagan deities</td>\n",
       "      <td>{}</td>\n",
       "      <td>{}</td>\n",
       "      <td>{}</td>\n",
       "      <td>{}</td>\n",
       "      <td>37.4442,-4.27471</td>\n",
       "      <td>AVSLLA Marci Porci Nigri serva dominae Veneri ...</td>\n",
       "      <td>151 AD – 200 AD</td>\n",
       "      <td>{'notbefore-custom': ['0151'], 'notafter-custo...</td>\n",
       "      <td>Altar</td>\n",
       "      <td>Baetica</td>\n",
       "      <td>Certain</td>\n",
       "      <td>votive inscription</td>\n",
       "      <td>Limestone</td>\n",
       "      <td>39.0</td>\n",
       "      <td>27.0</td>\n",
       "      <td>18.0</td>\n",
       "      <td>altar</td>\n",
       "      <td>Certain</td>\n",
       "      <td>Ipolcobulcula</td>\n",
       "      <td>Certain</td>\n",
       "      <td>AVSLLA M Porci Nigri ser dominae Veneri aram p...</td>\n",
       "      <td>AVS LLA Marci Porci Nigri serva dominae Veneri...</td>\n",
       "      <td>AVS LLA Marci Porci Nigri serva dominae Veneri...</td>\n",
       "      <td>[178, 181, 173, 173, 180, 189, 169, 160, 183, ...</td>\n",
       "    </tr>\n",
       "    <tr>\n",
       "      <th>4</th>\n",
       "      <td>[ ] L SVCCESSVS / [ ] L L IRENAEVS / [ ] C L T...</td>\n",
       "      <td>AE 1983, 0078. (B); A. Ferrua, RAL 36, 1981, 1...</td>\n",
       "      <td>https://www.trismegistos.org/text/265629</td>\n",
       "      <td>HD000005</td>\n",
       "      <td>Roma</td>\n",
       "      <td>0001</td>\n",
       "      <td>epitaph</td>\n",
       "      <td>no image</td>\n",
       "      <td>https://edh-www.adw.uni-heidelberg.de/edh/geog...</td>\n",
       "      <td>0200</td>\n",
       "      <td>Italy</td>\n",
       "      <td>Roma</td>\n",
       "      <td>[---] l(ibertus) Successus / [---] L(uci) l(ib...</td>\n",
       "      <td>{}</td>\n",
       "      <td>{}</td>\n",
       "      <td>{}</td>\n",
       "      <td>Roma</td>\n",
       "      <td>{}</td>\n",
       "      <td>(B): Z. 3: C(ai) l(ibertae) Tyches.</td>\n",
       "      <td>https://edh-www.adw.uni-heidelberg.de/edh/insc...</td>\n",
       "      <td>Feraudi</td>\n",
       "      <td>2010-01-04</td>\n",
       "      <td>Latin</td>\n",
       "      <td>Lazio</td>\n",
       "      <td>{}</td>\n",
       "      <td>stele</td>\n",
       "      <td>{'status': 'freedmen / freedwomen', 'name': '[...</td>\n",
       "      <td>{}</td>\n",
       "      <td>Via Cupa (ehem. Vigna Nardi)</td>\n",
       "      <td>{}</td>\n",
       "      <td>{}</td>\n",
       "      <td>{}</td>\n",
       "      <td>{}</td>\n",
       "      <td>{}</td>\n",
       "      <td>{}</td>\n",
       "      <td>{}</td>\n",
       "      <td>41.895466,12.482324</td>\n",
       "      <td>libertus Successus  Luci libertus Irenaeus  C...</td>\n",
       "      <td>1 AD – 200 AD</td>\n",
       "      <td>{'notbefore-custom': ['0001'], 'notafter-custo...</td>\n",
       "      <td>Stele</td>\n",
       "      <td>Roma</td>\n",
       "      <td>Certain</td>\n",
       "      <td>epitaph</td>\n",
       "      <td>NA</td>\n",
       "      <td>NaN</td>\n",
       "      <td>NaN</td>\n",
       "      <td>NaN</td>\n",
       "      <td>stele</td>\n",
       "      <td>Certain</td>\n",
       "      <td>Roma</td>\n",
       "      <td>Certain</td>\n",
       "      <td>l Successus L l Irenaeus C l Tyches unt renti f</td>\n",
       "      <td>libertus Successus Luci libertus Irenaeus Cai ...</td>\n",
       "      <td>libertus Successus Luci libertus Irenaeus Cai ...</td>\n",
       "      <td>[28, 91, 44, 99, 34, 2, 125, 24, 135, 39, 53, ...</td>\n",
       "    </tr>\n",
       "  </tbody>\n",
       "</table>\n",
       "</div>"
      ],
      "text/plain": [
       "                                     diplomatic_text  ...                                       random_dates\n",
       "0  D M / NONIAE P F OPTATAE / ET C IVLIO ARTEMONI...  ...  [119, 101, 83, 119, 74, 94, 112, 96, 96, 110, ...\n",
       "1            C SEXTIVS PARIS / QVI VIXIT / ANNIS LXX  ...  [167, 52, 102, 174, 122, 135, 64, 151, 161, 19...\n",
       "2  [ ]VMMIO [ ] / [ ]ISENNA[ ] / [ ] XV[ ] / [ ] / [  ...  [153, 153, 158, 137, 147, 147, 135, 133, 168, ...\n",
       "3  [ ]AVS[ ]LLA / M PORCI NIGRI SER / DOMINAE VEN...  ...  [178, 181, 173, 173, 180, 189, 169, 160, 183, ...\n",
       "4  [ ] L SVCCESSVS / [ ] L L IRENAEVS / [ ] C L T...  ...  [28, 91, 44, 99, 34, 2, 125, 24, 135, 39, 53, ...\n",
       "\n",
       "[5 rows x 56 columns]"
      ]
     },
     "execution_count": 19,
     "metadata": {
      "tags": []
     },
     "output_type": "execute_result"
    }
   ],
   "source": [
    "EDH.head(5)"
   ]
  },
  {
   "cell_type": "markdown",
   "metadata": {
    "colab_type": "text",
    "id": "y7K-pPaeAGNR"
   },
   "source": [
    "# EDH dataset overview"
   ]
  },
  {
   "cell_type": "code",
   "execution_count": 20,
   "metadata": {
    "colab": {
     "base_uri": "https://localhost:8080/",
     "height": 34
    },
    "colab_type": "code",
    "id": "eXmZTM6pAJoL",
    "outputId": "5f121469-837b-4c16-f04f-f98292f5c828"
   },
   "outputs": [
    {
     "data": {
      "text/plain": [
       "80270"
      ]
     },
     "execution_count": 20,
     "metadata": {
      "tags": []
     },
     "output_type": "execute_result"
    }
   ],
   "source": [
    "len(EDH)"
   ]
  },
  {
   "cell_type": "code",
   "execution_count": 21,
   "metadata": {
    "colab": {
     "base_uri": "https://localhost:8080/",
     "height": 34
    },
    "colab_type": "code",
    "id": "XgJ9Zz2EAMYd",
    "outputId": "198505a1-27b4-48fc-ce9a-06c5ec4b547c"
   },
   "outputs": [
    {
     "data": {
      "text/plain": [
       "57782"
      ]
     },
     "execution_count": 21,
     "metadata": {
      "tags": []
     },
     "output_type": "execute_result"
    }
   ],
   "source": [
    "len(EDH[EDH[\"random_dates\"].notna()])"
   ]
  },
  {
   "cell_type": "code",
   "execution_count": 23,
   "metadata": {
    "colab": {
     "base_uri": "https://localhost:8080/",
     "height": 34
    },
    "colab_type": "code",
    "id": "pYQ3nmj6AYQ0",
    "outputId": "1d10cdad-904c-41e3-93af-c6d366d36a96"
   },
   "outputs": [
    {
     "data": {
      "text/plain": [
       "71.98455213653918"
      ]
     },
     "execution_count": 23,
     "metadata": {
      "tags": []
     },
     "output_type": "execute_result"
    }
   ],
   "source": [
    "# how many % are dated / generated random numbers\n",
    "len(EDH[EDH[\"random_dates\"].notna()]) / len(EDH)*100"
   ]
  },
  {
   "cell_type": "code",
   "execution_count": null,
   "metadata": {},
   "outputs": [],
   "source": [
    "# filter for dated\n",
    "EDH_dated = EDH[EDH[\"not_before\"].notnull()]"
   ]
  },
  {
   "cell_type": "code",
   "execution_count": 32,
   "metadata": {
    "colab": {
     "base_uri": "https://localhost:8080/",
     "height": 357
    },
    "colab_type": "code",
    "id": "smImBU7YAkCf",
    "outputId": "08cc4bb7-11ce-45e4-8252-2059c3432912"
   },
   "outputs": [
    {
     "ename": "TypeError",
     "evalue": "ignored",
     "output_type": "error",
     "traceback": [
      "\u001b[0;31m---------------------------------------------------------------------------\u001b[0m",
      "\u001b[0;31mTypeError\u001b[0m                                 Traceback (most recent call last)",
      "\u001b[0;32m<ipython-input-32-8e5ab844ea66>\u001b[0m in \u001b[0;36m<module>\u001b[0;34m()\u001b[0m\n\u001b[0;32m----> 1\u001b[0;31m \u001b[0mlen\u001b[0m\u001b[0;34m(\u001b[0m\u001b[0mEDH\u001b[0m\u001b[0;34m[\u001b[0m\u001b[0;34m(\u001b[0m\u001b[0mEDH\u001b[0m\u001b[0;34m[\u001b[0m\u001b[0;34m\"not_before\"\u001b[0m\u001b[0;34m]\u001b[0m \u001b[0;34m>=\u001b[0m \u001b[0;34m-\u001b[0m\u001b[0;36m100\u001b[0m\u001b[0;34m)\u001b[0m \u001b[0;34m&\u001b[0m \u001b[0;34m(\u001b[0m\u001b[0mEDH\u001b[0m\u001b[0;34m[\u001b[0m\u001b[0;34m\"not_before\"\u001b[0m\u001b[0;34m]\u001b[0m \u001b[0;34m<=\u001b[0m \u001b[0;36m100\u001b[0m\u001b[0;34m)\u001b[0m\u001b[0;34m]\u001b[0m\u001b[0;34m)\u001b[0m\u001b[0;34m\u001b[0m\u001b[0;34m\u001b[0m\u001b[0m\n\u001b[0m",
      "\u001b[0;32m/usr/local/lib/python3.6/dist-packages/pandas/core/ops/common.py\u001b[0m in \u001b[0;36mnew_method\u001b[0;34m(self, other)\u001b[0m\n\u001b[1;32m     62\u001b[0m         \u001b[0mother\u001b[0m \u001b[0;34m=\u001b[0m \u001b[0mitem_from_zerodim\u001b[0m\u001b[0;34m(\u001b[0m\u001b[0mother\u001b[0m\u001b[0;34m)\u001b[0m\u001b[0;34m\u001b[0m\u001b[0;34m\u001b[0m\u001b[0m\n\u001b[1;32m     63\u001b[0m \u001b[0;34m\u001b[0m\u001b[0m\n\u001b[0;32m---> 64\u001b[0;31m         \u001b[0;32mreturn\u001b[0m \u001b[0mmethod\u001b[0m\u001b[0;34m(\u001b[0m\u001b[0mself\u001b[0m\u001b[0;34m,\u001b[0m \u001b[0mother\u001b[0m\u001b[0;34m)\u001b[0m\u001b[0;34m\u001b[0m\u001b[0;34m\u001b[0m\u001b[0m\n\u001b[0m\u001b[1;32m     65\u001b[0m \u001b[0;34m\u001b[0m\u001b[0m\n\u001b[1;32m     66\u001b[0m     \u001b[0;32mreturn\u001b[0m \u001b[0mnew_method\u001b[0m\u001b[0;34m\u001b[0m\u001b[0;34m\u001b[0m\u001b[0m\n",
      "\u001b[0;32m/usr/local/lib/python3.6/dist-packages/pandas/core/ops/__init__.py\u001b[0m in \u001b[0;36mwrapper\u001b[0;34m(self, other)\u001b[0m\n\u001b[1;32m    527\u001b[0m         \u001b[0mrvalues\u001b[0m \u001b[0;34m=\u001b[0m \u001b[0mextract_array\u001b[0m\u001b[0;34m(\u001b[0m\u001b[0mother\u001b[0m\u001b[0;34m,\u001b[0m \u001b[0mextract_numpy\u001b[0m\u001b[0;34m=\u001b[0m\u001b[0;32mTrue\u001b[0m\u001b[0;34m)\u001b[0m\u001b[0;34m\u001b[0m\u001b[0;34m\u001b[0m\u001b[0m\n\u001b[1;32m    528\u001b[0m \u001b[0;34m\u001b[0m\u001b[0m\n\u001b[0;32m--> 529\u001b[0;31m         \u001b[0mres_values\u001b[0m \u001b[0;34m=\u001b[0m \u001b[0mcomparison_op\u001b[0m\u001b[0;34m(\u001b[0m\u001b[0mlvalues\u001b[0m\u001b[0;34m,\u001b[0m \u001b[0mrvalues\u001b[0m\u001b[0;34m,\u001b[0m \u001b[0mop\u001b[0m\u001b[0;34m)\u001b[0m\u001b[0;34m\u001b[0m\u001b[0;34m\u001b[0m\u001b[0m\n\u001b[0m\u001b[1;32m    530\u001b[0m \u001b[0;34m\u001b[0m\u001b[0m\n\u001b[1;32m    531\u001b[0m         \u001b[0;32mreturn\u001b[0m \u001b[0m_construct_result\u001b[0m\u001b[0;34m(\u001b[0m\u001b[0mself\u001b[0m\u001b[0;34m,\u001b[0m \u001b[0mres_values\u001b[0m\u001b[0;34m,\u001b[0m \u001b[0mindex\u001b[0m\u001b[0;34m=\u001b[0m\u001b[0mself\u001b[0m\u001b[0;34m.\u001b[0m\u001b[0mindex\u001b[0m\u001b[0;34m,\u001b[0m \u001b[0mname\u001b[0m\u001b[0;34m=\u001b[0m\u001b[0mres_name\u001b[0m\u001b[0;34m)\u001b[0m\u001b[0;34m\u001b[0m\u001b[0;34m\u001b[0m\u001b[0m\n",
      "\u001b[0;32m/usr/local/lib/python3.6/dist-packages/pandas/core/ops/array_ops.py\u001b[0m in \u001b[0;36mcomparison_op\u001b[0;34m(left, right, op)\u001b[0m\n\u001b[1;32m    245\u001b[0m \u001b[0;34m\u001b[0m\u001b[0m\n\u001b[1;32m    246\u001b[0m     \u001b[0;32melif\u001b[0m \u001b[0mis_object_dtype\u001b[0m\u001b[0;34m(\u001b[0m\u001b[0mlvalues\u001b[0m\u001b[0;34m.\u001b[0m\u001b[0mdtype\u001b[0m\u001b[0;34m)\u001b[0m\u001b[0;34m:\u001b[0m\u001b[0;34m\u001b[0m\u001b[0;34m\u001b[0m\u001b[0m\n\u001b[0;32m--> 247\u001b[0;31m         \u001b[0mres_values\u001b[0m \u001b[0;34m=\u001b[0m \u001b[0mcomp_method_OBJECT_ARRAY\u001b[0m\u001b[0;34m(\u001b[0m\u001b[0mop\u001b[0m\u001b[0;34m,\u001b[0m \u001b[0mlvalues\u001b[0m\u001b[0;34m,\u001b[0m \u001b[0mrvalues\u001b[0m\u001b[0;34m)\u001b[0m\u001b[0;34m\u001b[0m\u001b[0;34m\u001b[0m\u001b[0m\n\u001b[0m\u001b[1;32m    248\u001b[0m \u001b[0;34m\u001b[0m\u001b[0m\n\u001b[1;32m    249\u001b[0m     \u001b[0;32melse\u001b[0m\u001b[0;34m:\u001b[0m\u001b[0;34m\u001b[0m\u001b[0;34m\u001b[0m\u001b[0m\n",
      "\u001b[0;32m/usr/local/lib/python3.6/dist-packages/pandas/core/ops/array_ops.py\u001b[0m in \u001b[0;36mcomp_method_OBJECT_ARRAY\u001b[0;34m(op, x, y)\u001b[0m\n\u001b[1;32m     55\u001b[0m         \u001b[0mresult\u001b[0m \u001b[0;34m=\u001b[0m \u001b[0mlibops\u001b[0m\u001b[0;34m.\u001b[0m\u001b[0mvec_compare\u001b[0m\u001b[0;34m(\u001b[0m\u001b[0mx\u001b[0m\u001b[0;34m.\u001b[0m\u001b[0mravel\u001b[0m\u001b[0;34m(\u001b[0m\u001b[0;34m)\u001b[0m\u001b[0;34m,\u001b[0m \u001b[0my\u001b[0m\u001b[0;34m,\u001b[0m \u001b[0mop\u001b[0m\u001b[0;34m)\u001b[0m\u001b[0;34m\u001b[0m\u001b[0;34m\u001b[0m\u001b[0m\n\u001b[1;32m     56\u001b[0m     \u001b[0;32melse\u001b[0m\u001b[0;34m:\u001b[0m\u001b[0;34m\u001b[0m\u001b[0;34m\u001b[0m\u001b[0m\n\u001b[0;32m---> 57\u001b[0;31m         \u001b[0mresult\u001b[0m \u001b[0;34m=\u001b[0m \u001b[0mlibops\u001b[0m\u001b[0;34m.\u001b[0m\u001b[0mscalar_compare\u001b[0m\u001b[0;34m(\u001b[0m\u001b[0mx\u001b[0m\u001b[0;34m.\u001b[0m\u001b[0mravel\u001b[0m\u001b[0;34m(\u001b[0m\u001b[0;34m)\u001b[0m\u001b[0;34m,\u001b[0m \u001b[0my\u001b[0m\u001b[0;34m,\u001b[0m \u001b[0mop\u001b[0m\u001b[0;34m)\u001b[0m\u001b[0;34m\u001b[0m\u001b[0;34m\u001b[0m\u001b[0m\n\u001b[0m\u001b[1;32m     58\u001b[0m     \u001b[0;32mreturn\u001b[0m \u001b[0mresult\u001b[0m\u001b[0;34m.\u001b[0m\u001b[0mreshape\u001b[0m\u001b[0;34m(\u001b[0m\u001b[0mx\u001b[0m\u001b[0;34m.\u001b[0m\u001b[0mshape\u001b[0m\u001b[0;34m)\u001b[0m\u001b[0;34m\u001b[0m\u001b[0;34m\u001b[0m\u001b[0m\n\u001b[1;32m     59\u001b[0m \u001b[0;34m\u001b[0m\u001b[0m\n",
      "\u001b[0;32mpandas/_libs/ops.pyx\u001b[0m in \u001b[0;36mpandas._libs.ops.scalar_compare\u001b[0;34m()\u001b[0m\n",
      "\u001b[0;31mTypeError\u001b[0m: '>=' not supported between instances of 'str' and 'int'"
     ]
    }
   ],
   "source": [
    "len(EDH_dated[(EDH_dated[\"not_before\"] >= -100) & (EDH_dated[\"not_before\"] <= 100)])"
   ]
  },
  {
   "cell_type": "code",
   "execution_count": 29,
   "metadata": {
    "colab": {
     "base_uri": "https://localhost:8080/",
     "height": 34
    },
    "colab_type": "code",
    "id": "FcLjah2_NccQ",
    "outputId": "e69286df-da0b-4414-e50c-70138bdac164"
   },
   "outputs": [
    {
     "data": {
      "text/plain": [
       "0"
      ]
     },
     "execution_count": 29,
     "metadata": {
      "tags": []
     },
     "output_type": "execute_result"
    }
   ],
   "source": [
    "# post quem\n",
    "post = EDH[EDH[\"not_before\"].notna() & (EDH[\"not_after\"].isna())]\n",
    "len(post)"
   ]
  },
  {
   "cell_type": "code",
   "execution_count": 30,
   "metadata": {
    "colab": {
     "base_uri": "https://localhost:8080/",
     "height": 34
    },
    "colab_type": "code",
    "id": "sqiHYdeuNi1W",
    "outputId": "bdb26f0e-8b50-4327-acd6-22cea209ec23"
   },
   "outputs": [
    {
     "data": {
      "text/plain": [
       "0"
      ]
     },
     "execution_count": 30,
     "metadata": {
      "tags": []
     },
     "output_type": "execute_result"
    }
   ],
   "source": [
    "#ante quem\n",
    "ante = EDH[EDH[\"not_after\"].notna() & (EDH[\"not_before\"].isna())]\n",
    "len(ante)"
   ]
  },
  {
   "cell_type": "code",
   "execution_count": 33,
   "metadata": {
    "colab": {
     "base_uri": "https://localhost:8080/",
     "height": 34
    },
    "colab_type": "code",
    "id": "q2kUofstN6a4",
    "outputId": "815ef883-1d8c-497b-9251-9cb5ad978918"
   },
   "outputs": [
    {
     "data": {
      "text/plain": [
       "80270"
      ]
     },
     "execution_count": 33,
     "metadata": {
      "tags": []
     },
     "output_type": "execute_result"
    }
   ],
   "source": [
    "ranges = EDH[EDH[\"not_after\"].notna() & (EDH[\"not_before\"].notna())]\n",
    "len(ranges)"
   ]
  },
  {
   "cell_type": "code",
   "execution_count": 35,
   "metadata": {
    "colab": {},
    "colab_type": "code",
    "id": "-ZPyVmKYOCv5"
   },
   "outputs": [],
   "source": [
    "def get_duration(start, stop):\n",
    "  try:\n",
    "    duration = abs(int(start) - int(stop)) + 1\n",
    "    if 0 in range(int(start),  int(stop)):\n",
    "      duration = duration - 1\n",
    "  except:\n",
    "    duration = np.nan\n",
    "  return duration\n",
    "  \n",
    "\n",
    "EDH[\"duration\"] = EDH.apply(lambda row: get_duration(row[\"not_before\"], row[\"not_after\"]), axis=1)"
   ]
  },
  {
   "cell_type": "code",
   "execution_count": 37,
   "metadata": {
    "colab": {
     "base_uri": "https://localhost:8080/",
     "height": 267
    },
    "colab_type": "code",
    "id": "ycUQbznROPkk",
    "outputId": "ba0eb387-56d8-4361-8735-76df7054a066"
   },
   "outputs": [
    {
     "data": {
      "text/html": [
       "<div>\n",
       "<style scoped>\n",
       "    .dataframe tbody tr th:only-of-type {\n",
       "        vertical-align: middle;\n",
       "    }\n",
       "\n",
       "    .dataframe tbody tr th {\n",
       "        vertical-align: top;\n",
       "    }\n",
       "\n",
       "    .dataframe thead th {\n",
       "        text-align: right;\n",
       "    }\n",
       "</style>\n",
       "<table border=\"1\" class=\"dataframe\">\n",
       "  <thead>\n",
       "    <tr style=\"text-align: right;\">\n",
       "      <th></th>\n",
       "      <th>diplomatic_text</th>\n",
       "      <th>literature</th>\n",
       "      <th>trismegistos_uri</th>\n",
       "      <th>id</th>\n",
       "      <th>findspot_ancient</th>\n",
       "      <th>not_before</th>\n",
       "      <th>type_of_inscription</th>\n",
       "      <th>work_status</th>\n",
       "      <th>edh_geography_uri</th>\n",
       "      <th>not_after</th>\n",
       "      <th>country</th>\n",
       "      <th>province_label</th>\n",
       "      <th>transcription</th>\n",
       "      <th>material</th>\n",
       "      <th>height</th>\n",
       "      <th>width</th>\n",
       "      <th>findspot_modern</th>\n",
       "      <th>depth</th>\n",
       "      <th>commentary</th>\n",
       "      <th>uri</th>\n",
       "      <th>responsible_individual</th>\n",
       "      <th>last_update</th>\n",
       "      <th>language</th>\n",
       "      <th>modern_region</th>\n",
       "      <th>letter_size</th>\n",
       "      <th>type_of_monument</th>\n",
       "      <th>people</th>\n",
       "      <th>year_of_find</th>\n",
       "      <th>findspot</th>\n",
       "      <th>present_location</th>\n",
       "      <th>external_image_uris</th>\n",
       "      <th>religion</th>\n",
       "      <th>fotos</th>\n",
       "      <th>geography</th>\n",
       "      <th>military</th>\n",
       "      <th>social_economic_legal_history</th>\n",
       "      <th>coordinates</th>\n",
       "      <th>text_cleaned</th>\n",
       "      <th>origdate_text</th>\n",
       "      <th>origdate_attrs</th>\n",
       "      <th>objecttype</th>\n",
       "      <th>province_label_clean</th>\n",
       "      <th>province_label_certainty</th>\n",
       "      <th>type_of_inscription_clean</th>\n",
       "      <th>material_clean</th>\n",
       "      <th>height_cm</th>\n",
       "      <th>width_cm</th>\n",
       "      <th>depth_cm</th>\n",
       "      <th>type_of_monument_clean</th>\n",
       "      <th>type_of_monument_certainty</th>\n",
       "      <th>findspot_ancient_clean</th>\n",
       "      <th>findspot_ancient_certainty</th>\n",
       "      <th>clean_text_conservative</th>\n",
       "      <th>clean_text_interpretive_word</th>\n",
       "      <th>clean_text_interpretive_sentence</th>\n",
       "      <th>random_dates</th>\n",
       "      <th>duration</th>\n",
       "    </tr>\n",
       "  </thead>\n",
       "  <tbody>\n",
       "    <tr>\n",
       "      <th>0</th>\n",
       "      <td>D M / NONIAE P F OPTATAE / ET C IVLIO ARTEMONI...</td>\n",
       "      <td>AE 1983, 0192.; M. Annecchino, Puteoli 4/5, 19...</td>\n",
       "      <td>https://www.trismegistos.org/text/251193</td>\n",
       "      <td>HD000001</td>\n",
       "      <td>Cumae, bei</td>\n",
       "      <td>0071</td>\n",
       "      <td>epitaph</td>\n",
       "      <td>provisional</td>\n",
       "      <td>https://edh-www.adw.uni-heidelberg.de/edh/geog...</td>\n",
       "      <td>0130</td>\n",
       "      <td>Italy</td>\n",
       "      <td>Latium et Campania (Regio I)</td>\n",
       "      <td>D(is) M(anibus) / Noniae P(ubli) f(iliae) Opta...</td>\n",
       "      <td>Marmor, geädert / farbig</td>\n",
       "      <td>33 cm</td>\n",
       "      <td>34 cm</td>\n",
       "      <td>Cuma, bei</td>\n",
       "      <td>2.7 cm</td>\n",
       "      <td>(C): 2. Hälfte 1. - Anfang 2. Jh. - AE; Ende ...</td>\n",
       "      <td>https://edh-www.adw.uni-heidelberg.de/edh/insc...</td>\n",
       "      <td>Feraudi</td>\n",
       "      <td>2014-04-07</td>\n",
       "      <td>Latin</td>\n",
       "      <td>Campania</td>\n",
       "      <td>3.2-2 cm</td>\n",
       "      <td>tabula</td>\n",
       "      <td>{'cognomen': 'Optata', 'person_id': '1', 'gend...</td>\n",
       "      <td>{}</td>\n",
       "      <td>{}</td>\n",
       "      <td>{}</td>\n",
       "      <td>{}</td>\n",
       "      <td>{}</td>\n",
       "      <td>{}</td>\n",
       "      <td>{}</td>\n",
       "      <td>{}</td>\n",
       "      <td>{}</td>\n",
       "      <td>40.8471577,14.0550756</td>\n",
       "      <td>Dis Manibus Noniae Publi filiae Optatae et Cai...</td>\n",
       "      <td>71 AD – 130 AD</td>\n",
       "      <td>{'notbefore-custom': ['0071'], 'notafter-custo...</td>\n",
       "      <td>Tafel</td>\n",
       "      <td>Latium et Campania (Regio I)</td>\n",
       "      <td>Certain</td>\n",
       "      <td>epitaph</td>\n",
       "      <td>Marble</td>\n",
       "      <td>33.0</td>\n",
       "      <td>34.0</td>\n",
       "      <td>2.7</td>\n",
       "      <td>tabula</td>\n",
       "      <td>Certain</td>\n",
       "      <td>Cumae</td>\n",
       "      <td>Estimated</td>\n",
       "      <td>D M Noniae P f Optatae et C Iulio Artemoni par...</td>\n",
       "      <td>Dis Manibus Noniae Publi filiae Optatae et Cai...</td>\n",
       "      <td>Dis Manibus Noniae Publi filiae Optatae et Cai...</td>\n",
       "      <td>[119, 101, 83, 119, 74, 94, 112, 96, 96, 110, ...</td>\n",
       "      <td>60.0</td>\n",
       "    </tr>\n",
       "    <tr>\n",
       "      <th>1</th>\n",
       "      <td>C SEXTIVS PARIS / QVI VIXIT / ANNIS LXX</td>\n",
       "      <td>AE 1983, 0080. (A); A. Ferrua, RAL 36, 1981, 1...</td>\n",
       "      <td>https://www.trismegistos.org/text/265631</td>\n",
       "      <td>HD000002</td>\n",
       "      <td>Roma</td>\n",
       "      <td>0051</td>\n",
       "      <td>epitaph</td>\n",
       "      <td>no image</td>\n",
       "      <td>https://edh-www.adw.uni-heidelberg.de/edh/geog...</td>\n",
       "      <td>0200</td>\n",
       "      <td>Italy</td>\n",
       "      <td>Roma</td>\n",
       "      <td>C(aius) Sextius Paris / qui vixit / annis LXX</td>\n",
       "      <td>marble: rocks - metamorphic rocks</td>\n",
       "      <td>28 cm</td>\n",
       "      <td>85 cm</td>\n",
       "      <td>Roma</td>\n",
       "      <td>{}</td>\n",
       "      <td>AE 1983: Breite: 35 cm.</td>\n",
       "      <td>https://edh-www.adw.uni-heidelberg.de/edh/insc...</td>\n",
       "      <td>Feraudi</td>\n",
       "      <td>2014-04-07</td>\n",
       "      <td>Latin</td>\n",
       "      <td>Lazio</td>\n",
       "      <td>4 cm</td>\n",
       "      <td>tabula</td>\n",
       "      <td>{'age: years': '70', 'cognomen': 'Paris', 'gen...</td>\n",
       "      <td>1937</td>\n",
       "      <td>Via Nomentana, S. Alessandro, Kirche</td>\n",
       "      <td>{}</td>\n",
       "      <td>{}</td>\n",
       "      <td>{}</td>\n",
       "      <td>{}</td>\n",
       "      <td>{}</td>\n",
       "      <td>{}</td>\n",
       "      <td>{}</td>\n",
       "      <td>41.895466,12.482324</td>\n",
       "      <td>Caius Sextius Paris qui vixit annis LXX       ...</td>\n",
       "      <td>51 AD – 200 AD</td>\n",
       "      <td>{'notbefore-custom': ['0051'], 'notafter-custo...</td>\n",
       "      <td>Tafel</td>\n",
       "      <td>Roma</td>\n",
       "      <td>Certain</td>\n",
       "      <td>epitaph</td>\n",
       "      <td>Marble</td>\n",
       "      <td>28.0</td>\n",
       "      <td>85.0</td>\n",
       "      <td>NaN</td>\n",
       "      <td>tabula</td>\n",
       "      <td>Certain</td>\n",
       "      <td>Roma</td>\n",
       "      <td>Certain</td>\n",
       "      <td>C Sextius Paris qui vixit annis LXX</td>\n",
       "      <td>Caius Sextius Paris qui vixit annis LXX</td>\n",
       "      <td>Caius Sextius Paris qui vixit annis LXX</td>\n",
       "      <td>[167, 52, 102, 174, 122, 135, 64, 151, 161, 19...</td>\n",
       "      <td>150.0</td>\n",
       "    </tr>\n",
       "  </tbody>\n",
       "</table>\n",
       "</div>"
      ],
      "text/plain": [
       "                                     diplomatic_text  ... duration\n",
       "0  D M / NONIAE P F OPTATAE / ET C IVLIO ARTEMONI...  ...     60.0\n",
       "1            C SEXTIVS PARIS / QVI VIXIT / ANNIS LXX  ...    150.0\n",
       "\n",
       "[2 rows x 57 columns]"
      ]
     },
     "execution_count": 37,
     "metadata": {
      "tags": []
     },
     "output_type": "execute_result"
    }
   ],
   "source": [
    "EDH.head(2)"
   ]
  },
  {
   "cell_type": "code",
   "execution_count": 44,
   "metadata": {
    "colab": {
     "base_uri": "https://localhost:8080/",
     "height": 314
    },
    "colab_type": "code",
    "id": "oGvZeJjLOarR",
    "outputId": "89c6dee7-666f-4c04-99b3-e42df4e1c656"
   },
   "outputs": [
    {
     "data": {
      "text/plain": [
       "Text(0.5, 1.0, '')"
      ]
     },
     "execution_count": 44,
     "metadata": {
      "tags": []
     },
     "output_type": "execute_result"
    },
    {
     "data": {
      "image/png": "[encoded data removed]",
      "text/plain": [
       "<Figure size 432x288 with 1 Axes>"
      ]
     },
     "metadata": {
      "needs_background": "light",
      "tags": []
     },
     "output_type": "display_data"
    }
   ],
   "source": [
    "fig, ax = plt.subplots(figsize=(6, 4), tight_layout=True)\n",
    "sns.distplot(EDH[\"duration\"], kde=False, bins=range(-10, 650,25), ax=ax)\n",
    "ax.set_title(\"\")"
   ]
  },
  {
   "cell_type": "code",
   "execution_count": 45,
   "metadata": {
    "colab": {
     "base_uri": "https://localhost:8080/",
     "height": 54
    },
    "colab_type": "code",
    "id": "BvePbvMvOwkg",
    "outputId": "28e98779-18bf-4345-c09d-d85be8b62eba"
   },
   "outputs": [
    {
     "name": "stdout",
     "output_type": "stream",
     "text": [
      "Your <class 'matplotlib.figure.Figure'> object has been succefully written as \"https://sciencedata.dk/sharingout/648597%40au.dk/SDAM_root/SDAM_data/temporal_uncertainty/EDH_ranges_hist.png\"\n"
     ]
    }
   ],
   "source": [
    "sddk.write_file(\"SDAM_data/temporal_uncertainty/EDH_ranges_hist.png\", fig, conf)"
   ]
  },
  {
   "cell_type": "markdown",
   "metadata": {
    "colab_type": "text",
    "id": "lyS9Y-8EO3P5"
   },
   "source": [
    "# Simulations with complete dataset"
   ]
  },
  {
   "cell_type": "code",
   "execution_count": 51,
   "metadata": {
    "colab": {
     "base_uri": "https://localhost:8080/",
     "height": 51
    },
    "colab_type": "code",
    "id": "rXVxjh92O364",
    "outputId": "7749ec89-be86-43c1-94b6-9369ab1e1539"
   },
   "outputs": [
    {
     "name": "stdout",
     "output_type": "stream",
     "text": [
      "CPU times: user 39.6 s, sys: 428 ms, total: 40 s\n",
      "Wall time: 40.1 s\n"
     ]
    }
   ],
   "source": [
    "%%time\n",
    "EDH_complete_simulations = timeblocks_from_randoms(EDH, \"random_dates\", [-1000, 1000, 50])"
   ]
  },
  {
   "cell_type": "code",
   "execution_count": 52,
   "metadata": {
    "colab": {
     "base_uri": "https://localhost:8080/",
     "height": 697
    },
    "colab_type": "code",
    "id": "_z_vhF48PGso",
    "outputId": "6b150e12-5ba7-4285-e7f1-2a92556a21cc"
   },
   "outputs": [
    {
     "data": {
      "text/plain": [
       "[((-1000, -951), 0),\n",
       " ((-950, -901), 0),\n",
       " ((-900, -851), 0),\n",
       " ((-850, -801), 0),\n",
       " ((-800, -751), 0),\n",
       " ((-750, -701), 0),\n",
       " ((-700, -651), 0),\n",
       " ((-650, -601), 0),\n",
       " ((-600, -551), 0),\n",
       " ((-550, -501), 1),\n",
       " ((-500, -451), 0),\n",
       " ((-450, -401), 0),\n",
       " ((-400, -351), 2),\n",
       " ((-350, -301), 3),\n",
       " ((-300, -251), 9),\n",
       " ((-250, -201), 16),\n",
       " ((-200, -151), 38),\n",
       " ((-150, -101), 74),\n",
       " ((-100, -51), 230),\n",
       " ((-50, -1), 1029),\n",
       " ((1, 50), 4776),\n",
       " ((51, 100), 6406),\n",
       " ((101, 150), 10090),\n",
       " ((151, 200), 12526),\n",
       " ((201, 250), 11192),\n",
       " ((251, 300), 5997),\n",
       " ((301, 350), 1593),\n",
       " ((351, 400), 1374),\n",
       " ((401, 450), 738),\n",
       " ((451, 500), 598),\n",
       " ((501, 550), 416),\n",
       " ((551, 600), 383),\n",
       " ((601, 650), 139),\n",
       " ((651, 700), 98),\n",
       " ((701, 750), 21),\n",
       " ((751, 800), 7),\n",
       " ((801, 850), 2),\n",
       " ((851, 900), 1),\n",
       " ((901, 950), 1),\n",
       " ((951, 1000), 1)]"
      ]
     },
     "execution_count": 52,
     "metadata": {
      "tags": []
     },
     "output_type": "execute_result"
    }
   ],
   "source": [
    "EDH_complete_simulations[1]"
   ]
  },
  {
   "cell_type": "code",
   "execution_count": 53,
   "metadata": {
    "colab": {},
    "colab_type": "code",
    "id": "yvRtP_DfPJNh"
   },
   "outputs": [],
   "source": [
    "def desc_stat_from_simulations(simulations):\n",
    "  tups_desc = []\n",
    "  for n in range(len(simulations[0])):\n",
    "    values = [sim[n][1] for sim in simulations]\n",
    "    tups_desc.append((simulations[0][n][0], np.min(values), np.max(values), np.mean(values), np.median(values)))\n",
    "  tups_desc_df = pd.DataFrame(tups_desc)\n",
    "  tups_desc_df.columns = [\"temp_block\", \"min\", \"max\", \"mean\", \"median\"]\n",
    "  return tups_desc_df"
   ]
  },
  {
   "cell_type": "code",
   "execution_count": 54,
   "metadata": {
    "colab": {
     "base_uri": "https://localhost:8080/",
     "height": 1000
    },
    "colab_type": "code",
    "id": "3_UNwJq6PLJc",
    "outputId": "747dac57-7c92-4cc1-f78b-375d0ca6847d"
   },
   "outputs": [
    {
     "data": {
      "text/html": [
       "<div>\n",
       "<style scoped>\n",
       "    .dataframe tbody tr th:only-of-type {\n",
       "        vertical-align: middle;\n",
       "    }\n",
       "\n",
       "    .dataframe tbody tr th {\n",
       "        vertical-align: top;\n",
       "    }\n",
       "\n",
       "    .dataframe thead th {\n",
       "        text-align: right;\n",
       "    }\n",
       "</style>\n",
       "<table border=\"1\" class=\"dataframe\">\n",
       "  <thead>\n",
       "    <tr style=\"text-align: right;\">\n",
       "      <th></th>\n",
       "      <th>min</th>\n",
       "      <th>max</th>\n",
       "      <th>mean</th>\n",
       "      <th>median</th>\n",
       "    </tr>\n",
       "    <tr>\n",
       "      <th>temp_block</th>\n",
       "      <th></th>\n",
       "      <th></th>\n",
       "      <th></th>\n",
       "      <th></th>\n",
       "    </tr>\n",
       "  </thead>\n",
       "  <tbody>\n",
       "    <tr>\n",
       "      <th>(-1000, -951)</th>\n",
       "      <td>0</td>\n",
       "      <td>0</td>\n",
       "      <td>0.000</td>\n",
       "      <td>0.0</td>\n",
       "    </tr>\n",
       "    <tr>\n",
       "      <th>(-950, -901)</th>\n",
       "      <td>0</td>\n",
       "      <td>0</td>\n",
       "      <td>0.000</td>\n",
       "      <td>0.0</td>\n",
       "    </tr>\n",
       "    <tr>\n",
       "      <th>(-900, -851)</th>\n",
       "      <td>0</td>\n",
       "      <td>0</td>\n",
       "      <td>0.000</td>\n",
       "      <td>0.0</td>\n",
       "    </tr>\n",
       "    <tr>\n",
       "      <th>(-850, -801)</th>\n",
       "      <td>0</td>\n",
       "      <td>0</td>\n",
       "      <td>0.000</td>\n",
       "      <td>0.0</td>\n",
       "    </tr>\n",
       "    <tr>\n",
       "      <th>(-800, -751)</th>\n",
       "      <td>0</td>\n",
       "      <td>0</td>\n",
       "      <td>0.000</td>\n",
       "      <td>0.0</td>\n",
       "    </tr>\n",
       "    <tr>\n",
       "      <th>(-750, -701)</th>\n",
       "      <td>0</td>\n",
       "      <td>0</td>\n",
       "      <td>0.000</td>\n",
       "      <td>0.0</td>\n",
       "    </tr>\n",
       "    <tr>\n",
       "      <th>(-700, -651)</th>\n",
       "      <td>0</td>\n",
       "      <td>0</td>\n",
       "      <td>0.000</td>\n",
       "      <td>0.0</td>\n",
       "    </tr>\n",
       "    <tr>\n",
       "      <th>(-650, -601)</th>\n",
       "      <td>0</td>\n",
       "      <td>0</td>\n",
       "      <td>0.000</td>\n",
       "      <td>0.0</td>\n",
       "    </tr>\n",
       "    <tr>\n",
       "      <th>(-600, -551)</th>\n",
       "      <td>0</td>\n",
       "      <td>0</td>\n",
       "      <td>0.000</td>\n",
       "      <td>0.0</td>\n",
       "    </tr>\n",
       "    <tr>\n",
       "      <th>(-550, -501)</th>\n",
       "      <td>1</td>\n",
       "      <td>1</td>\n",
       "      <td>1.000</td>\n",
       "      <td>1.0</td>\n",
       "    </tr>\n",
       "    <tr>\n",
       "      <th>(-500, -451)</th>\n",
       "      <td>0</td>\n",
       "      <td>0</td>\n",
       "      <td>0.000</td>\n",
       "      <td>0.0</td>\n",
       "    </tr>\n",
       "    <tr>\n",
       "      <th>(-450, -401)</th>\n",
       "      <td>0</td>\n",
       "      <td>1</td>\n",
       "      <td>0.499</td>\n",
       "      <td>0.0</td>\n",
       "    </tr>\n",
       "    <tr>\n",
       "      <th>(-400, -351)</th>\n",
       "      <td>1</td>\n",
       "      <td>2</td>\n",
       "      <td>1.501</td>\n",
       "      <td>2.0</td>\n",
       "    </tr>\n",
       "    <tr>\n",
       "      <th>(-350, -301)</th>\n",
       "      <td>2</td>\n",
       "      <td>3</td>\n",
       "      <td>2.500</td>\n",
       "      <td>2.5</td>\n",
       "    </tr>\n",
       "    <tr>\n",
       "      <th>(-300, -251)</th>\n",
       "      <td>3</td>\n",
       "      <td>17</td>\n",
       "      <td>9.533</td>\n",
       "      <td>10.0</td>\n",
       "    </tr>\n",
       "    <tr>\n",
       "      <th>(-250, -201)</th>\n",
       "      <td>9</td>\n",
       "      <td>25</td>\n",
       "      <td>16.450</td>\n",
       "      <td>16.0</td>\n",
       "    </tr>\n",
       "    <tr>\n",
       "      <th>(-200, -151)</th>\n",
       "      <td>27</td>\n",
       "      <td>50</td>\n",
       "      <td>38.076</td>\n",
       "      <td>38.0</td>\n",
       "    </tr>\n",
       "    <tr>\n",
       "      <th>(-150, -101)</th>\n",
       "      <td>57</td>\n",
       "      <td>86</td>\n",
       "      <td>71.393</td>\n",
       "      <td>71.0</td>\n",
       "    </tr>\n",
       "    <tr>\n",
       "      <th>(-100, -51)</th>\n",
       "      <td>194</td>\n",
       "      <td>253</td>\n",
       "      <td>224.400</td>\n",
       "      <td>224.0</td>\n",
       "    </tr>\n",
       "    <tr>\n",
       "      <th>(-50, -1)</th>\n",
       "      <td>977</td>\n",
       "      <td>1082</td>\n",
       "      <td>1025.291</td>\n",
       "      <td>1025.0</td>\n",
       "    </tr>\n",
       "    <tr>\n",
       "      <th>(1, 50)</th>\n",
       "      <td>4717</td>\n",
       "      <td>5001</td>\n",
       "      <td>4848.778</td>\n",
       "      <td>4847.5</td>\n",
       "    </tr>\n",
       "    <tr>\n",
       "      <th>(51, 100)</th>\n",
       "      <td>6299</td>\n",
       "      <td>6606</td>\n",
       "      <td>6446.256</td>\n",
       "      <td>6446.0</td>\n",
       "    </tr>\n",
       "    <tr>\n",
       "      <th>(101, 150)</th>\n",
       "      <td>9816</td>\n",
       "      <td>10333</td>\n",
       "      <td>10111.984</td>\n",
       "      <td>10112.0</td>\n",
       "    </tr>\n",
       "    <tr>\n",
       "      <th>(151, 200)</th>\n",
       "      <td>12196</td>\n",
       "      <td>12692</td>\n",
       "      <td>12441.355</td>\n",
       "      <td>12441.0</td>\n",
       "    </tr>\n",
       "    <tr>\n",
       "      <th>(201, 250)</th>\n",
       "      <td>10945</td>\n",
       "      <td>11369</td>\n",
       "      <td>11181.259</td>\n",
       "      <td>11182.0</td>\n",
       "    </tr>\n",
       "    <tr>\n",
       "      <th>(251, 300)</th>\n",
       "      <td>5798</td>\n",
       "      <td>6170</td>\n",
       "      <td>5979.767</td>\n",
       "      <td>5981.0</td>\n",
       "    </tr>\n",
       "    <tr>\n",
       "      <th>(301, 350)</th>\n",
       "      <td>1529</td>\n",
       "      <td>1697</td>\n",
       "      <td>1621.634</td>\n",
       "      <td>1621.0</td>\n",
       "    </tr>\n",
       "    <tr>\n",
       "      <th>(351, 400)</th>\n",
       "      <td>1265</td>\n",
       "      <td>1409</td>\n",
       "      <td>1333.581</td>\n",
       "      <td>1332.0</td>\n",
       "    </tr>\n",
       "    <tr>\n",
       "      <th>(401, 450)</th>\n",
       "      <td>661</td>\n",
       "      <td>796</td>\n",
       "      <td>736.907</td>\n",
       "      <td>736.0</td>\n",
       "    </tr>\n",
       "    <tr>\n",
       "      <th>(451, 500)</th>\n",
       "      <td>534</td>\n",
       "      <td>646</td>\n",
       "      <td>584.008</td>\n",
       "      <td>584.0</td>\n",
       "    </tr>\n",
       "    <tr>\n",
       "      <th>(501, 550)</th>\n",
       "      <td>365</td>\n",
       "      <td>460</td>\n",
       "      <td>416.125</td>\n",
       "      <td>416.0</td>\n",
       "    </tr>\n",
       "    <tr>\n",
       "      <th>(551, 600)</th>\n",
       "      <td>336</td>\n",
       "      <td>441</td>\n",
       "      <td>394.200</td>\n",
       "      <td>394.0</td>\n",
       "    </tr>\n",
       "    <tr>\n",
       "      <th>(601, 650)</th>\n",
       "      <td>103</td>\n",
       "      <td>152</td>\n",
       "      <td>127.068</td>\n",
       "      <td>127.0</td>\n",
       "    </tr>\n",
       "    <tr>\n",
       "      <th>(651, 700)</th>\n",
       "      <td>87</td>\n",
       "      <td>135</td>\n",
       "      <td>109.220</td>\n",
       "      <td>109.0</td>\n",
       "    </tr>\n",
       "    <tr>\n",
       "      <th>(701, 750)</th>\n",
       "      <td>16</td>\n",
       "      <td>36</td>\n",
       "      <td>25.983</td>\n",
       "      <td>26.0</td>\n",
       "    </tr>\n",
       "    <tr>\n",
       "      <th>(751, 800)</th>\n",
       "      <td>2</td>\n",
       "      <td>16</td>\n",
       "      <td>8.601</td>\n",
       "      <td>9.0</td>\n",
       "    </tr>\n",
       "    <tr>\n",
       "      <th>(801, 850)</th>\n",
       "      <td>0</td>\n",
       "      <td>5</td>\n",
       "      <td>1.770</td>\n",
       "      <td>2.0</td>\n",
       "    </tr>\n",
       "    <tr>\n",
       "      <th>(851, 900)</th>\n",
       "      <td>0</td>\n",
       "      <td>2</td>\n",
       "      <td>0.549</td>\n",
       "      <td>1.0</td>\n",
       "    </tr>\n",
       "    <tr>\n",
       "      <th>(901, 950)</th>\n",
       "      <td>1</td>\n",
       "      <td>2</td>\n",
       "      <td>1.061</td>\n",
       "      <td>1.0</td>\n",
       "    </tr>\n",
       "    <tr>\n",
       "      <th>(951, 1000)</th>\n",
       "      <td>0</td>\n",
       "      <td>1</td>\n",
       "      <td>0.057</td>\n",
       "      <td>0.0</td>\n",
       "    </tr>\n",
       "  </tbody>\n",
       "</table>\n",
       "</div>"
      ],
      "text/plain": [
       "                 min    max       mean   median\n",
       "temp_block                                     \n",
       "(-1000, -951)      0      0      0.000      0.0\n",
       "(-950, -901)       0      0      0.000      0.0\n",
       "(-900, -851)       0      0      0.000      0.0\n",
       "(-850, -801)       0      0      0.000      0.0\n",
       "(-800, -751)       0      0      0.000      0.0\n",
       "(-750, -701)       0      0      0.000      0.0\n",
       "(-700, -651)       0      0      0.000      0.0\n",
       "(-650, -601)       0      0      0.000      0.0\n",
       "(-600, -551)       0      0      0.000      0.0\n",
       "(-550, -501)       1      1      1.000      1.0\n",
       "(-500, -451)       0      0      0.000      0.0\n",
       "(-450, -401)       0      1      0.499      0.0\n",
       "(-400, -351)       1      2      1.501      2.0\n",
       "(-350, -301)       2      3      2.500      2.5\n",
       "(-300, -251)       3     17      9.533     10.0\n",
       "(-250, -201)       9     25     16.450     16.0\n",
       "(-200, -151)      27     50     38.076     38.0\n",
       "(-150, -101)      57     86     71.393     71.0\n",
       "(-100, -51)      194    253    224.400    224.0\n",
       "(-50, -1)        977   1082   1025.291   1025.0\n",
       "(1, 50)         4717   5001   4848.778   4847.5\n",
       "(51, 100)       6299   6606   6446.256   6446.0\n",
       "(101, 150)      9816  10333  10111.984  10112.0\n",
       "(151, 200)     12196  12692  12441.355  12441.0\n",
       "(201, 250)     10945  11369  11181.259  11182.0\n",
       "(251, 300)      5798   6170   5979.767   5981.0\n",
       "(301, 350)      1529   1697   1621.634   1621.0\n",
       "(351, 400)      1265   1409   1333.581   1332.0\n",
       "(401, 450)       661    796    736.907    736.0\n",
       "(451, 500)       534    646    584.008    584.0\n",
       "(501, 550)       365    460    416.125    416.0\n",
       "(551, 600)       336    441    394.200    394.0\n",
       "(601, 650)       103    152    127.068    127.0\n",
       "(651, 700)        87    135    109.220    109.0\n",
       "(701, 750)        16     36     25.983     26.0\n",
       "(751, 800)         2     16      8.601      9.0\n",
       "(801, 850)         0      5      1.770      2.0\n",
       "(851, 900)         0      2      0.549      1.0\n",
       "(901, 950)         1      2      1.061      1.0\n",
       "(951, 1000)        0      1      0.057      0.0"
      ]
     },
     "execution_count": 54,
     "metadata": {
      "tags": []
     },
     "output_type": "execute_result"
    }
   ],
   "source": [
    "sims_by_blocks = desc_stat_from_simulations(EDH_complete_simulations)\n",
    "sims_by_blocks.set_index(\"temp_block\", inplace=True)\n",
    "sims_by_blocks"
   ]
  },
  {
   "cell_type": "code",
   "execution_count": 55,
   "metadata": {
    "colab": {},
    "colab_type": "code",
    "id": "Bb5hE5w6POTJ"
   },
   "outputs": [],
   "source": [
    "from pandas.plotting import table"
   ]
  },
  {
   "cell_type": "code",
   "execution_count": 56,
   "metadata": {
    "colab": {
     "base_uri": "https://localhost:8080/",
     "height": 570
    },
    "colab_type": "code",
    "id": "0AZ-gTzoPPwo",
    "outputId": "9a3151d4-763c-4db6-ee79-ab0f78ae3f2d"
   },
   "outputs": [
    {
     "data": {
      "image/png": "[encoded data removed]",
      "text/plain": [
       "<Figure size 576x432 with 1 Axes>"
      ]
     },
     "metadata": {
      "needs_background": "light",
      "tags": []
     },
     "output_type": "display_data"
    }
   ],
   "source": [
    "fig, ax = plt.subplots(figsize=(8,6), tight_layout=True)\n",
    "ax.xaxis.set_visible(False)  # hide the x axis\n",
    "ax.yaxis.set_visible(False)  # hide the y axis\n",
    "ax.set_frame_on(False)\n",
    "tabla = table(ax, sims_by_blocks, loc='upper right', colWidths=[0.2]*len(sims_by_blocks.columns))\n",
    "tabla.auto_set_font_size(False) # Activate set fontsize manually\n",
    "tabla.set_fontsize(12) # if ++fontsize is necessary ++colWidths\n",
    "tabla.scale(1.2, 1.2) "
   ]
  },
  {
   "cell_type": "code",
   "execution_count": 57,
   "metadata": {
    "colab": {
     "base_uri": "https://localhost:8080/",
     "height": 34
    },
    "colab_type": "code",
    "id": "J3XAWy7QPUkt",
    "outputId": "06c018c8-28b3-418d-80b4-073bec3db453"
   },
   "outputs": [
    {
     "name": "stdout",
     "output_type": "stream",
     "text": [
      "Your <class 'matplotlib.figure.Figure'> object has been succefully written as \"https://sciencedata.dk/sharingout/648597%40au.dk/SDAM_root/SDAM_data/temporal_uncertainty/EDH_sims_by_blocks.png\"\n"
     ]
    }
   ],
   "source": [
    "sddk.write_file(\"SDAM_data/temporal_uncertainty/EDH_sims_by_blocks.png\", fig, conf)"
   ]
  },
  {
   "cell_type": "code",
   "execution_count": 58,
   "metadata": {
    "colab": {
     "base_uri": "https://localhost:8080/",
     "height": 34
    },
    "colab_type": "code",
    "id": "0EjDNhj0Plxa",
    "outputId": "7b59b8ad-8411-4a25-ad98-7ca956e11303"
   },
   "outputs": [
    {
     "name": "stdout",
     "output_type": "stream",
     "text": [
      "Your <class 'pandas.core.frame.DataFrame'> object has been succefully written as \"https://sciencedata.dk/sharingout/648597%40au.dk/SDAM_root/SDAM_data/temporal_uncertainty/EDH_sims_by_blocks.csv\"\n"
     ]
    }
   ],
   "source": [
    "sddk.write_file(\"SDAM_data/temporal_uncertainty/EDH_sims_by_blocks.csv\", sims_by_blocks, conf)"
   ]
  },
  {
   "cell_type": "code",
   "execution_count": 59,
   "metadata": {
    "colab": {
     "base_uri": "https://localhost:8080/",
     "height": 34
    },
    "colab_type": "code",
    "id": "Ar3prnejPoyA",
    "outputId": "b2065504-7e5d-4369-94b2-838a6a3de69b"
   },
   "outputs": [
    {
     "data": {
      "text/plain": [
       "1000"
      ]
     },
     "execution_count": 59,
     "metadata": {
      "tags": []
     },
     "output_type": "execute_result"
    }
   ],
   "source": [
    "# compare in how many instances is there less inscriptions for the first half of the 2nd c. than for the second half.\n",
    "len([sim for sim in EDH_complete_simulations if sim[18][1] < sim[19][1]])"
   ]
  },
  {
   "cell_type": "code",
   "execution_count": 60,
   "metadata": {
    "colab": {
     "base_uri": "https://localhost:8080/",
     "height": 163
    },
    "colab_type": "code",
    "id": "ndYOwrrtPrUO",
    "outputId": "f0507a75-d618-48d7-ded5-3f9ce2f2cb2c"
   },
   "outputs": [
    {
     "ename": "NameError",
     "evalue": "ignored",
     "output_type": "error",
     "traceback": [
      "\u001b[0;31m---------------------------------------------------------------------------\u001b[0m",
      "\u001b[0;31mNameError\u001b[0m                                 Traceback (most recent call last)",
      "\u001b[0;32m<ipython-input-60-4bae1c33a815>\u001b[0m in \u001b[0;36m<module>\u001b[0;34m()\u001b[0m\n\u001b[0;32m----> 1\u001b[0;31m \u001b[0mlen\u001b[0m\u001b[0;34m(\u001b[0m\u001b[0;34m[\u001b[0m\u001b[0mdate\u001b[0m \u001b[0;32mfor\u001b[0m \u001b[0mdate\u001b[0m \u001b[0;32min\u001b[0m \u001b[0mEDH_date_avr\u001b[0m \u001b[0;32mif\u001b[0m \u001b[0;32mnot\u001b[0m \u001b[0mnp\u001b[0m\u001b[0;34m.\u001b[0m\u001b[0misnan\u001b[0m\u001b[0;34m(\u001b[0m\u001b[0mdate\u001b[0m\u001b[0;34m)\u001b[0m\u001b[0;34m]\u001b[0m\u001b[0;34m)\u001b[0m\u001b[0;34m\u001b[0m\u001b[0;34m\u001b[0m\u001b[0m\n\u001b[0m",
      "\u001b[0;31mNameError\u001b[0m: name 'EDH_date_avr' is not defined"
     ]
    }
   ],
   "source": [
    "len([date for date in EDH_date_avr if not np.isnan(date)])"
   ]
  }
 ],
 "metadata": {
  "colab": {
   "authorship_tag": "ABX9TyNfFjbuS5ZuEiYrmfE+XEIF",
   "collapsed_sections": [],
   "include_colab_link": true,
   "name": "1_7_py_EDH_TEMPORAL_ANALYSIS.ipynb",
   "provenance": []
  },
  "kernelspec": {
   "display_name": "Python 3",
   "language": "python",
   "name": "python3"
  },
  "language_info": {
   "codemirror_mode": {
    "name": "ipython",
    "version": 3
   },
   "file_extension": ".py",
   "mimetype": "text/x-python",
   "name": "python",
   "nbconvert_exporter": "python",
   "pygments_lexer": "ipython3",
   "version": "3.7.8"
  }
 },
 "nbformat": 4,
 "nbformat_minor": 1
}
