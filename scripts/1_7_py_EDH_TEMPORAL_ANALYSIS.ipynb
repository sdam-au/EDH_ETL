{
  "nbformat": 4,
  "nbformat_minor": 0,
  "metadata": {
    "colab": {
      "name": "1_7_py_EDH_TEMPORAL_ANALYSIS.ipynb",
      "provenance": [],
      "collapsed_sections": []
    },
    "kernelspec": {
      "name": "python3",
      "display_name": "Python 3"
    }
  },
  "cells": [
    {
      "cell_type": "markdown",
      "metadata": {
        "id": "lWRhp6IEwEmH",
        "colab_type": "text"
      },
      "source": [
        "Requirements\n"
      ]
    },
    {
      "cell_type": "code",
      "metadata": {
        "id": "Hayqr5gXwIpz",
        "colab_type": "code",
        "colab": {
          "base_uri": "https://localhost:8080/",
          "height": 374
        },
        "outputId": "825ab29e-c932-437c-d678-9e00c9023a9a"
      },
      "source": [
        "import matplotlib.pyplot as plt\n",
        "import seaborn as sns\n",
        "import numpy as np\n",
        "import pandas as pd\n",
        "\n",
        "!pip install sddk\n",
        "import sddk"
      ],
      "execution_count": 1,
      "outputs": [
        {
          "output_type": "stream",
          "text": [
            "/usr/local/lib/python3.6/dist-packages/statsmodels/tools/_testing.py:19: FutureWarning: pandas.util.testing is deprecated. Use the functions in the public API at pandas.testing instead.\n",
            "  import pandas.util.testing as tm\n"
          ],
          "name": "stderr"
        },
        {
          "output_type": "stream",
          "text": [
            "Collecting sddk\n",
            "  Downloading https://files.pythonhosted.org/packages/bf/96/3ae43f2d8ac06fc16ba111916970e5a1f3b96a3e41732fa3f099e2e5cd1c/sddk-2.6-py3-none-any.whl\n",
            "Requirement already satisfied: pandas in /usr/local/lib/python3.6/dist-packages (from sddk) (1.0.5)\n",
            "Requirement already satisfied: numpy in /usr/local/lib/python3.6/dist-packages (from sddk) (1.18.5)\n",
            "Requirement already satisfied: pyarrow in /usr/local/lib/python3.6/dist-packages (from sddk) (0.14.1)\n",
            "Requirement already satisfied: requests in /usr/local/lib/python3.6/dist-packages (from sddk) (2.23.0)\n",
            "Requirement already satisfied: matplotlib in /usr/local/lib/python3.6/dist-packages (from sddk) (3.2.2)\n",
            "Requirement already satisfied: python-dateutil>=2.6.1 in /usr/local/lib/python3.6/dist-packages (from pandas->sddk) (2.8.1)\n",
            "Requirement already satisfied: pytz>=2017.2 in /usr/local/lib/python3.6/dist-packages (from pandas->sddk) (2018.9)\n",
            "Requirement already satisfied: six>=1.0.0 in /usr/local/lib/python3.6/dist-packages (from pyarrow->sddk) (1.15.0)\n",
            "Requirement already satisfied: certifi>=2017.4.17 in /usr/local/lib/python3.6/dist-packages (from requests->sddk) (2020.6.20)\n",
            "Requirement already satisfied: idna<3,>=2.5 in /usr/local/lib/python3.6/dist-packages (from requests->sddk) (2.10)\n",
            "Requirement already satisfied: chardet<4,>=3.0.2 in /usr/local/lib/python3.6/dist-packages (from requests->sddk) (3.0.4)\n",
            "Requirement already satisfied: urllib3!=1.25.0,!=1.25.1,<1.26,>=1.21.1 in /usr/local/lib/python3.6/dist-packages (from requests->sddk) (1.24.3)\n",
            "Requirement already satisfied: pyparsing!=2.0.4,!=2.1.2,!=2.1.6,>=2.0.1 in /usr/local/lib/python3.6/dist-packages (from matplotlib->sddk) (2.4.7)\n",
            "Requirement already satisfied: kiwisolver>=1.0.1 in /usr/local/lib/python3.6/dist-packages (from matplotlib->sddk) (1.2.0)\n",
            "Requirement already satisfied: cycler>=0.10 in /usr/local/lib/python3.6/dist-packages (from matplotlib->sddk) (0.10.0)\n",
            "Installing collected packages: sddk\n",
            "Successfully installed sddk-2.6\n"
          ],
          "name": "stdout"
        }
      ]
    },
    {
      "cell_type": "code",
      "metadata": {
        "id": "gMSMaiVZwKG7",
        "colab_type": "code",
        "colab": {
          "base_uri": "https://localhost:8080/",
          "height": 85
        },
        "outputId": "8efb061b-7310-4cf6-a143-df927b7bd919"
      },
      "source": [
        "conf = sddk.configure(\"SDAM_root\", \"648597@au.dk\")"
      ],
      "execution_count": 2,
      "outputs": [
        {
          "output_type": "stream",
          "text": [
            "sciencedata.dk username (format '123456@au.dk'): 648560@au.dk\n",
            "sciencedata.dk password: ··········\n",
            "connection with shared folder established with you as its ordinary user\n",
            "endpoint variable has been configured to: https://sciencedata.dk/sharingout/648597%40au.dk/SDAM_root/\n"
          ],
          "name": "stdout"
        }
      ]
    },
    {
      "cell_type": "code",
      "metadata": {
        "id": "HUVa6HMkwVZ0",
        "colab_type": "code",
        "colab": {}
      },
      "source": [
        "# read the EDH dataset from sciencedata.dk\n",
        "EDH = sddk.read_file(\"SDAM_data/EDH/EDH_cleaned_2020-06-26.json\", \"df\", conf)"
      ],
      "execution_count": 3,
      "outputs": []
    },
    {
      "cell_type": "code",
      "metadata": {
        "id": "9eaBIaZIwYxY",
        "colab_type": "code",
        "colab": {}
      },
      "source": [
        "def lists_to_values(list_or_value):\n",
        "  if isinstance(list_or_value, list):\n",
        "    value = list_or_value[0]\n",
        "  else: \n",
        "    value = list_or_value\n",
        "  return value\n",
        "for column in EDH.columns:\n",
        "  EDH[column] = EDH.apply(lambda row: lists_to_values(row[column]), axis=1)"
      ],
      "execution_count": 4,
      "outputs": []
    },
    {
      "cell_type": "code",
      "metadata": {
        "id": "-e3yZJ2wwaU7",
        "colab_type": "code",
        "colab": {
          "base_uri": "https://localhost:8080/",
          "height": 547
        },
        "outputId": "6b1d40ad-80f4-42c1-8716-5811fb91523a"
      },
      "source": [
        "EDH.head(5)"
      ],
      "execution_count": 5,
      "outputs": [
        {
          "output_type": "execute_result",
          "data": {
            "text/html": [
              "<div>\n",
              "<style scoped>\n",
              "    .dataframe tbody tr th:only-of-type {\n",
              "        vertical-align: middle;\n",
              "    }\n",
              "\n",
              "    .dataframe tbody tr th {\n",
              "        vertical-align: top;\n",
              "    }\n",
              "\n",
              "    .dataframe thead th {\n",
              "        text-align: right;\n",
              "    }\n",
              "</style>\n",
              "<table border=\"1\" class=\"dataframe\">\n",
              "  <thead>\n",
              "    <tr style=\"text-align: right;\">\n",
              "      <th></th>\n",
              "      <th>diplomatic_text</th>\n",
              "      <th>literature</th>\n",
              "      <th>trismegistos_uri</th>\n",
              "      <th>id</th>\n",
              "      <th>findspot_ancient</th>\n",
              "      <th>not_before</th>\n",
              "      <th>type_of_inscription</th>\n",
              "      <th>work_status</th>\n",
              "      <th>edh_geography_uri</th>\n",
              "      <th>not_after</th>\n",
              "      <th>country</th>\n",
              "      <th>province_label</th>\n",
              "      <th>transcription</th>\n",
              "      <th>material</th>\n",
              "      <th>height</th>\n",
              "      <th>width</th>\n",
              "      <th>findspot_modern</th>\n",
              "      <th>depth</th>\n",
              "      <th>commentary</th>\n",
              "      <th>uri</th>\n",
              "      <th>responsible_individual</th>\n",
              "      <th>last_update</th>\n",
              "      <th>language</th>\n",
              "      <th>modern_region</th>\n",
              "      <th>letter_size</th>\n",
              "      <th>type_of_monument</th>\n",
              "      <th>people</th>\n",
              "      <th>year_of_find</th>\n",
              "      <th>findspot</th>\n",
              "      <th>present_location</th>\n",
              "      <th>external_image_uris</th>\n",
              "      <th>religion</th>\n",
              "      <th>fotos</th>\n",
              "      <th>geography</th>\n",
              "      <th>military</th>\n",
              "      <th>social_economic_legal_history</th>\n",
              "      <th>coordinates</th>\n",
              "      <th>text_cleaned</th>\n",
              "      <th>origdate_text</th>\n",
              "      <th>origdate_attrs</th>\n",
              "      <th>objecttype</th>\n",
              "      <th>province_label_clean</th>\n",
              "      <th>province_label_certainty</th>\n",
              "      <th>type_of_inscription_clean</th>\n",
              "      <th>material_clean</th>\n",
              "      <th>height_cm</th>\n",
              "      <th>width_cm</th>\n",
              "      <th>depth_cm</th>\n",
              "      <th>type_of_monument_clean</th>\n",
              "      <th>type_of_monument_certainty</th>\n",
              "      <th>findspot_ancient_clean</th>\n",
              "      <th>findspot_ancient_certainty</th>\n",
              "      <th>clean_text_conservative</th>\n",
              "      <th>clean_text_interpretive_word</th>\n",
              "      <th>clean_text_interpretive_sentence</th>\n",
              "    </tr>\n",
              "  </thead>\n",
              "  <tbody>\n",
              "    <tr>\n",
              "      <th>0</th>\n",
              "      <td>D M / NONIAE P F OPTATAE / ET C IVLIO ARTEMONI...</td>\n",
              "      <td>AE 1983, 0192.; M. Annecchino, Puteoli 4/5, 19...</td>\n",
              "      <td>https://www.trismegistos.org/text/251193</td>\n",
              "      <td>HD000001</td>\n",
              "      <td>Cumae, bei</td>\n",
              "      <td>0071</td>\n",
              "      <td>epitaph</td>\n",
              "      <td>provisional</td>\n",
              "      <td>https://edh-www.adw.uni-heidelberg.de/edh/geog...</td>\n",
              "      <td>0130</td>\n",
              "      <td>Italy</td>\n",
              "      <td>Latium et Campania (Regio I)</td>\n",
              "      <td>D(is) M(anibus) / Noniae P(ubli) f(iliae) Opta...</td>\n",
              "      <td>Marmor, geädert / farbig</td>\n",
              "      <td>33 cm</td>\n",
              "      <td>34 cm</td>\n",
              "      <td>Cuma, bei</td>\n",
              "      <td>2.7 cm</td>\n",
              "      <td>(C): 2. Hälfte 1. - Anfang 2. Jh. - AE; Ende ...</td>\n",
              "      <td>https://edh-www.adw.uni-heidelberg.de/edh/insc...</td>\n",
              "      <td>Feraudi</td>\n",
              "      <td>2014-04-07</td>\n",
              "      <td>Latin</td>\n",
              "      <td>Campania</td>\n",
              "      <td>3.2-2 cm</td>\n",
              "      <td>tabula</td>\n",
              "      <td>{'cognomen': 'Optata', 'person_id': '1', 'gend...</td>\n",
              "      <td>{}</td>\n",
              "      <td>{}</td>\n",
              "      <td>{}</td>\n",
              "      <td>{}</td>\n",
              "      <td>{}</td>\n",
              "      <td>{}</td>\n",
              "      <td>{}</td>\n",
              "      <td>{}</td>\n",
              "      <td>{}</td>\n",
              "      <td>40.8471577,14.0550756</td>\n",
              "      <td>Dis Manibus Noniae Publi filiae Optatae et Cai...</td>\n",
              "      <td>71 AD – 130 AD</td>\n",
              "      <td>{'notbefore-custom': ['0071'], 'notafter-custo...</td>\n",
              "      <td>Tafel</td>\n",
              "      <td>Latium et Campania (Regio I)</td>\n",
              "      <td>Certain</td>\n",
              "      <td>epitaph</td>\n",
              "      <td>Marble</td>\n",
              "      <td>33.0</td>\n",
              "      <td>34.0</td>\n",
              "      <td>2.7</td>\n",
              "      <td>tabula</td>\n",
              "      <td>Certain</td>\n",
              "      <td>Cumae</td>\n",
              "      <td>Estimated</td>\n",
              "      <td>D M Noniae P f Optatae et C Iulio Artemoni par...</td>\n",
              "      <td>Dis Manibus Noniae Publi filiae Optatae et Cai...</td>\n",
              "      <td>Dis Manibus Noniae Publi filiae Optatae et Cai...</td>\n",
              "    </tr>\n",
              "    <tr>\n",
              "      <th>1</th>\n",
              "      <td>C SEXTIVS PARIS / QVI VIXIT / ANNIS LXX</td>\n",
              "      <td>AE 1983, 0080. (A); A. Ferrua, RAL 36, 1981, 1...</td>\n",
              "      <td>https://www.trismegistos.org/text/265631</td>\n",
              "      <td>HD000002</td>\n",
              "      <td>Roma</td>\n",
              "      <td>0051</td>\n",
              "      <td>epitaph</td>\n",
              "      <td>no image</td>\n",
              "      <td>https://edh-www.adw.uni-heidelberg.de/edh/geog...</td>\n",
              "      <td>0200</td>\n",
              "      <td>Italy</td>\n",
              "      <td>Roma</td>\n",
              "      <td>C(aius) Sextius Paris / qui vixit / annis LXX</td>\n",
              "      <td>marble: rocks - metamorphic rocks</td>\n",
              "      <td>28 cm</td>\n",
              "      <td>85 cm</td>\n",
              "      <td>Roma</td>\n",
              "      <td>{}</td>\n",
              "      <td>AE 1983: Breite: 35 cm.</td>\n",
              "      <td>https://edh-www.adw.uni-heidelberg.de/edh/insc...</td>\n",
              "      <td>Feraudi</td>\n",
              "      <td>2014-04-07</td>\n",
              "      <td>Latin</td>\n",
              "      <td>Lazio</td>\n",
              "      <td>4 cm</td>\n",
              "      <td>tabula</td>\n",
              "      <td>{'age: years': '70', 'cognomen': 'Paris', 'gen...</td>\n",
              "      <td>1937</td>\n",
              "      <td>Via Nomentana, S. Alessandro, Kirche</td>\n",
              "      <td>{}</td>\n",
              "      <td>{}</td>\n",
              "      <td>{}</td>\n",
              "      <td>{}</td>\n",
              "      <td>{}</td>\n",
              "      <td>{}</td>\n",
              "      <td>{}</td>\n",
              "      <td>41.895466,12.482324</td>\n",
              "      <td>Caius Sextius Paris qui vixit annis LXX       ...</td>\n",
              "      <td>51 AD – 200 AD</td>\n",
              "      <td>{'notbefore-custom': ['0051'], 'notafter-custo...</td>\n",
              "      <td>Tafel</td>\n",
              "      <td>Roma</td>\n",
              "      <td>Certain</td>\n",
              "      <td>epitaph</td>\n",
              "      <td>Marble</td>\n",
              "      <td>28.0</td>\n",
              "      <td>85.0</td>\n",
              "      <td>NaN</td>\n",
              "      <td>tabula</td>\n",
              "      <td>Certain</td>\n",
              "      <td>Roma</td>\n",
              "      <td>Certain</td>\n",
              "      <td>C Sextius Paris qui vixit annis LXX</td>\n",
              "      <td>Caius Sextius Paris qui vixit annis LXX</td>\n",
              "      <td>Caius Sextius Paris qui vixit annis LXX</td>\n",
              "    </tr>\n",
              "    <tr>\n",
              "      <th>2</th>\n",
              "      <td>[ ]VMMIO [ ] / [ ]ISENNA[ ] / [ ] XV[ ] / [ ] / [</td>\n",
              "      <td>AE 1983, 0518. (B); J. González, ZPE 52, 1983,...</td>\n",
              "      <td>https://www.trismegistos.org/text/220675</td>\n",
              "      <td>HD000003</td>\n",
              "      <td>{}</td>\n",
              "      <td>0131</td>\n",
              "      <td>honorific inscription</td>\n",
              "      <td>provisional</td>\n",
              "      <td>https://edh-www.adw.uni-heidelberg.de/edh/geog...</td>\n",
              "      <td>0170</td>\n",
              "      <td>Spain</td>\n",
              "      <td>Baetica</td>\n",
              "      <td>[P(ublio) M]ummio [P(ubli) f(ilio)] / [Gal(eri...</td>\n",
              "      <td>marble: rocks - metamorphic rocks</td>\n",
              "      <td>(37) cm</td>\n",
              "      <td>(34) cm</td>\n",
              "      <td>Tomares</td>\n",
              "      <td>(12) cm</td>\n",
              "      <td>(B): [S]isenna ist falscher Kasus; folgende E...</td>\n",
              "      <td>https://edh-www.adw.uni-heidelberg.de/edh/insc...</td>\n",
              "      <td>Feraudi</td>\n",
              "      <td>2006-08-31</td>\n",
              "      <td>Latin</td>\n",
              "      <td>Sevilla</td>\n",
              "      <td>4.5-3 cm</td>\n",
              "      <td>statue base</td>\n",
              "      <td>{'nomen': 'Mummius+', 'cognomen': 'Sisenna+ Ru...</td>\n",
              "      <td>before 1975</td>\n",
              "      <td>{}</td>\n",
              "      <td>Sevilla, Privatbesitz</td>\n",
              "      <td>{}</td>\n",
              "      <td>{}</td>\n",
              "      <td>{}</td>\n",
              "      <td>{}</td>\n",
              "      <td>{}</td>\n",
              "      <td>{}</td>\n",
              "      <td>37.37281,-6.04589</td>\n",
              "      <td>Publio Mummio Publi filio Galeria Sisennae Rut...</td>\n",
              "      <td>131 AD – 170 AD</td>\n",
              "      <td>{'notbefore-custom': ['0131'], 'notafter-custo...</td>\n",
              "      <td>Statuenbasis</td>\n",
              "      <td>Baetica</td>\n",
              "      <td>Certain</td>\n",
              "      <td>honorific inscription</td>\n",
              "      <td>Marble</td>\n",
              "      <td>37.0</td>\n",
              "      <td>34.0</td>\n",
              "      <td>12.0</td>\n",
              "      <td>statue base</td>\n",
              "      <td>Certain</td>\n",
              "      <td>NULL</td>\n",
              "      <td>NULL</td>\n",
              "      <td>ummio isenna Xv</td>\n",
              "      <td>Publio Mummio Publi filio Galeria Sisennae Rut...</td>\n",
              "      <td>Publio Mummio Publi filio Galeria Sisennae Rut...</td>\n",
              "    </tr>\n",
              "    <tr>\n",
              "      <th>3</th>\n",
              "      <td>[ ]AVS[ ]LLA / M PORCI NIGRI SER / DOMINAE VEN...</td>\n",
              "      <td>AE 1983, 0533. (B); A.U. Stylow, Gerión 1, 198...</td>\n",
              "      <td>https://www.trismegistos.org/text/222102</td>\n",
              "      <td>HD000004</td>\n",
              "      <td>Ipolcobulcula</td>\n",
              "      <td>0151</td>\n",
              "      <td>votive inscription</td>\n",
              "      <td>checked with photo</td>\n",
              "      <td>https://edh-www.adw.uni-heidelberg.de/edh/geog...</td>\n",
              "      <td>0200</td>\n",
              "      <td>Spain</td>\n",
              "      <td>Baetica</td>\n",
              "      <td>[---?]AV(?)S(?)[---]L(?)L(?)A / M(arci) Porci ...</td>\n",
              "      <td>limestone: rocks - clastic sediments</td>\n",
              "      <td>(39) cm</td>\n",
              "      <td>27 cm</td>\n",
              "      <td>Carcabuey</td>\n",
              "      <td>18 cm</td>\n",
              "      <td>Material: lokaler grauer Kalkstein. (B): Styl...</td>\n",
              "      <td>https://edh-www.adw.uni-heidelberg.de/edh/insc...</td>\n",
              "      <td>Gräf</td>\n",
              "      <td>2015-03-27</td>\n",
              "      <td>Latin</td>\n",
              "      <td>Córdoba</td>\n",
              "      <td>2.5 cm</td>\n",
              "      <td>altar</td>\n",
              "      <td>{'cognomen': '[---]', 'status': 'slaves', 'per...</td>\n",
              "      <td>before 1979</td>\n",
              "      <td>{}</td>\n",
              "      <td>Carcabuey, Grupo Escolar</td>\n",
              "      <td>http://cil-old.bbaw.de/test06/bilder/datenbank...</td>\n",
              "      <td>names of pagan deities</td>\n",
              "      <td>{}</td>\n",
              "      <td>{}</td>\n",
              "      <td>{}</td>\n",
              "      <td>{}</td>\n",
              "      <td>37.4442,-4.27471</td>\n",
              "      <td>AVSLLA Marci Porci Nigri serva dominae Veneri ...</td>\n",
              "      <td>151 AD – 200 AD</td>\n",
              "      <td>{'notbefore-custom': ['0151'], 'notafter-custo...</td>\n",
              "      <td>Altar</td>\n",
              "      <td>Baetica</td>\n",
              "      <td>Certain</td>\n",
              "      <td>votive inscription</td>\n",
              "      <td>Limestone</td>\n",
              "      <td>39.0</td>\n",
              "      <td>27.0</td>\n",
              "      <td>18.0</td>\n",
              "      <td>altar</td>\n",
              "      <td>Certain</td>\n",
              "      <td>Ipolcobulcula</td>\n",
              "      <td>Certain</td>\n",
              "      <td>AVSLLA M Porci Nigri ser dominae Veneri aram p...</td>\n",
              "      <td>AVS LLA Marci Porci Nigri serva dominae Veneri...</td>\n",
              "      <td>AVS LLA Marci Porci Nigri serva dominae Veneri...</td>\n",
              "    </tr>\n",
              "    <tr>\n",
              "      <th>4</th>\n",
              "      <td>[ ] L SVCCESSVS / [ ] L L IRENAEVS / [ ] C L T...</td>\n",
              "      <td>AE 1983, 0078. (B); A. Ferrua, RAL 36, 1981, 1...</td>\n",
              "      <td>https://www.trismegistos.org/text/265629</td>\n",
              "      <td>HD000005</td>\n",
              "      <td>Roma</td>\n",
              "      <td>0001</td>\n",
              "      <td>epitaph</td>\n",
              "      <td>no image</td>\n",
              "      <td>https://edh-www.adw.uni-heidelberg.de/edh/geog...</td>\n",
              "      <td>0200</td>\n",
              "      <td>Italy</td>\n",
              "      <td>Roma</td>\n",
              "      <td>[---] l(ibertus) Successus / [---] L(uci) l(ib...</td>\n",
              "      <td>{}</td>\n",
              "      <td>{}</td>\n",
              "      <td>{}</td>\n",
              "      <td>Roma</td>\n",
              "      <td>{}</td>\n",
              "      <td>(B): Z. 3: C(ai) l(ibertae) Tyches.</td>\n",
              "      <td>https://edh-www.adw.uni-heidelberg.de/edh/insc...</td>\n",
              "      <td>Feraudi</td>\n",
              "      <td>2010-01-04</td>\n",
              "      <td>Latin</td>\n",
              "      <td>Lazio</td>\n",
              "      <td>{}</td>\n",
              "      <td>stele</td>\n",
              "      <td>{'status': 'freedmen / freedwomen', 'name': '[...</td>\n",
              "      <td>{}</td>\n",
              "      <td>Via Cupa (ehem. Vigna Nardi)</td>\n",
              "      <td>{}</td>\n",
              "      <td>{}</td>\n",
              "      <td>{}</td>\n",
              "      <td>{}</td>\n",
              "      <td>{}</td>\n",
              "      <td>{}</td>\n",
              "      <td>{}</td>\n",
              "      <td>41.895466,12.482324</td>\n",
              "      <td>libertus Successus  Luci libertus Irenaeus  C...</td>\n",
              "      <td>1 AD – 200 AD</td>\n",
              "      <td>{'notbefore-custom': ['0001'], 'notafter-custo...</td>\n",
              "      <td>Stele</td>\n",
              "      <td>Roma</td>\n",
              "      <td>Certain</td>\n",
              "      <td>epitaph</td>\n",
              "      <td>NA</td>\n",
              "      <td>NaN</td>\n",
              "      <td>NaN</td>\n",
              "      <td>NaN</td>\n",
              "      <td>stele</td>\n",
              "      <td>Certain</td>\n",
              "      <td>Roma</td>\n",
              "      <td>Certain</td>\n",
              "      <td>l Successus L l Irenaeus C l Tyches unt renti f</td>\n",
              "      <td>libertus Successus Luci libertus Irenaeus Cai ...</td>\n",
              "      <td>libertus Successus Luci libertus Irenaeus Cai ...</td>\n",
              "    </tr>\n",
              "  </tbody>\n",
              "</table>\n",
              "</div>"
            ],
            "text/plain": [
              "                                     diplomatic_text  ...                   clean_text_interpretive_sentence\n",
              "0  D M / NONIAE P F OPTATAE / ET C IVLIO ARTEMONI...  ...  Dis Manibus Noniae Publi filiae Optatae et Cai...\n",
              "1            C SEXTIVS PARIS / QVI VIXIT / ANNIS LXX  ...            Caius Sextius Paris qui vixit annis LXX\n",
              "2  [ ]VMMIO [ ] / [ ]ISENNA[ ] / [ ] XV[ ] / [ ] / [  ...  Publio Mummio Publi filio Galeria Sisennae Rut...\n",
              "3  [ ]AVS[ ]LLA / M PORCI NIGRI SER / DOMINAE VEN...  ...  AVS LLA Marci Porci Nigri serva dominae Veneri...\n",
              "4  [ ] L SVCCESSVS / [ ] L L IRENAEVS / [ ] C L T...  ...  libertus Successus Luci libertus Irenaeus Cai ...\n",
              "\n",
              "[5 rows x 55 columns]"
            ]
          },
          "metadata": {
            "tags": []
          },
          "execution_count": 5
        }
      ]
    },
    {
      "cell_type": "code",
      "metadata": {
        "id": "v9MKEp68wcMq",
        "colab_type": "code",
        "colab": {}
      },
      "source": [
        "EDH[\"not_after\"] = pd.to_numeric(EDH[\"not_after\"])\n",
        "EDH[\"not_before\"] = pd.to_numeric(EDH[\"not_before\"])"
      ],
      "execution_count": 18,
      "outputs": []
    },
    {
      "cell_type": "code",
      "metadata": {
        "id": "bt9Jn4Lqwe__",
        "colab_type": "code",
        "colab": {
          "base_uri": "https://localhost:8080/",
          "height": 34
        },
        "outputId": "88c9d372-24d5-46c9-94f7-d753a593a26e"
      },
      "source": [
        "### how many of the inscriptions have at least one date\n",
        "EDH_dated = EDH[(EDH[\"not_before\"].notnull()) | (EDH[\"not_after\"].notnull())]\n",
        "len(EDH_dated)"
      ],
      "execution_count": 19,
      "outputs": [
        {
          "output_type": "execute_result",
          "data": {
            "text/plain": [
              "57782"
            ]
          },
          "metadata": {
            "tags": []
          },
          "execution_count": 19
        }
      ]
    },
    {
      "cell_type": "code",
      "metadata": {
        "id": "w-Nh5TB8wh3g",
        "colab_type": "code",
        "colab": {
          "base_uri": "https://localhost:8080/",
          "height": 34
        },
        "outputId": "b7d7fe96-41af-4796-dcf8-9a1ff09e8d2c"
      },
      "source": [
        "len(EDH_dated[EDH_dated[\"not_after\"].isnull()])"
      ],
      "execution_count": 20,
      "outputs": [
        {
          "output_type": "execute_result",
          "data": {
            "text/plain": [
              "3457"
            ]
          },
          "metadata": {
            "tags": []
          },
          "execution_count": 20
        }
      ]
    },
    {
      "cell_type": "markdown",
      "metadata": {
        "id": "CYNFdUHqzbM1",
        "colab_type": "text"
      },
      "source": [
        "# Define function  \"dist_range()\""
      ]
    },
    {
      "cell_type": "code",
      "metadata": {
        "id": "uoKYekz5ziLJ",
        "colab_type": "code",
        "colab": {}
      },
      "source": [
        "def dist_range(start, stop, size=1, b=0.1): # this function has been implemented into already modelling_distributions.py\n",
        "  \"\"\"\n",
        "  get random numbers of size size ib on the basis of start date and end date and trapezoid distribution defined by first turn point (lower bound)\n",
        "  \"\"\"\n",
        "  r = trapz.rvs(b, 1-b, size=size)\n",
        "  duration = abs((start)-stop)\n",
        "  if duration == 0:\n",
        "    random_values = [start] * size\n",
        "    return random_values\n",
        "  else:\n",
        "    random_values = list(((r * duration) + start).round().astype(int))\n",
        "    if size == 1: # if only one number, return it as a number\n",
        "      return random_values[0]\n",
        "    else: # otherwise return a list of values\n",
        "      return random_values"
      ],
      "execution_count": 30,
      "outputs": []
    },
    {
      "cell_type": "markdown",
      "metadata": {
        "id": "JzLjewlvzpNv",
        "colab_type": "text"
      },
      "source": [
        "# Define function \"dist_ante_post()\""
      ]
    },
    {
      "cell_type": "code",
      "metadata": {
        "id": "adKsK8MLzvAG",
        "colab_type": "code",
        "colab": {}
      },
      "source": [
        "def dist_ante_post(date, date_type, size=1, duration=100):\n",
        "  \"\"\"\n",
        "  get random numbers of size size ib on the basis of start date and end date and trapezoid distribution defined by first turn point (lower bound)\n",
        "  \"\"\"\n",
        "  if \"post\" in date_type:\n",
        "    r = trapz.rvs(0, 0.50, size=size)\n",
        "    return ((r * duration) + date).astype(int)\n",
        "  if \"ante\" in date_type:\n",
        "    r = trapz.rvs(0.50, 1, size=size)\n",
        "    return ((r * duration) + date).astype(int)"
      ],
      "execution_count": 24,
      "outputs": []
    },
    {
      "cell_type": "markdown",
      "metadata": {
        "id": "jw8RfmVPyANA",
        "colab_type": "text"
      },
      "source": [
        "# Define function \"model_date()\""
      ]
    },
    {
      "cell_type": "code",
      "metadata": {
        "id": "bonfRYGux19X",
        "colab_type": "code",
        "colab": {}
      },
      "source": [
        "def model_date(start, stop, size=1, scale=50, b=0.1):\n",
        "    \"\"\"\n",
        "    combine dist_range() and dist_ante_post()\n",
        "    \"\"\"\n",
        "    try:\n",
        "      randoms = dist_range(int(start), int(stop), size=size, b=b)\n",
        "    except:\n",
        "      try:\n",
        "        randoms =  dist_ante_post(int(start), \"post\", size=size, scale=scale)\n",
        "      except:\n",
        "        try:\n",
        "          randoms =  dist_ante_post(int(stop), \"ante\", size=size, scale=scale)\n",
        "        except:\n",
        "          randoms = None\n",
        "    return randoms"
      ],
      "execution_count": 26,
      "outputs": []
    },
    {
      "cell_type": "code",
      "metadata": {
        "id": "65cZhN55wj0N",
        "colab_type": "code",
        "colab": {
          "base_uri": "https://localhost:8080/",
          "height": 119
        },
        "outputId": "c979d02f-2c68-4776-c39b-00c272d06549"
      },
      "source": [
        "EDH_dated[\"randoms\"] = EDH_dated.apply(lambda row: model_date(row[\"not_before\"], row[\"not_after\"]), axis=1)"
      ],
      "execution_count": 32,
      "outputs": [
        {
          "output_type": "stream",
          "text": [
            "/usr/local/lib/python3.6/dist-packages/ipykernel_launcher.py:1: SettingWithCopyWarning: \n",
            "A value is trying to be set on a copy of a slice from a DataFrame.\n",
            "Try using .loc[row_indexer,col_indexer] = value instead\n",
            "\n",
            "See the caveats in the documentation: https://pandas.pydata.org/pandas-docs/stable/user_guide/indexing.html#returning-a-view-versus-a-copy\n",
            "  \"\"\"Entry point for launching an IPython kernel.\n"
          ],
          "name": "stderr"
        }
      ]
    },
    {
      "cell_type": "code",
      "metadata": {
        "id": "g27u_PNXwlcq",
        "colab_type": "code",
        "colab": {
          "base_uri": "https://localhost:8080/",
          "height": 669
        },
        "outputId": "26cef912-c1f2-43d4-a0e6-9dc6a3a8d3b2"
      },
      "source": [
        "EDH_condensed = EDH_dated[[\"id\", \"not_before\", \"not_after\", \"randoms\"]]\n",
        "EDH_condensed.head(20)"
      ],
      "execution_count": 33,
      "outputs": [
        {
          "output_type": "execute_result",
          "data": {
            "text/html": [
              "<div>\n",
              "<style scoped>\n",
              "    .dataframe tbody tr th:only-of-type {\n",
              "        vertical-align: middle;\n",
              "    }\n",
              "\n",
              "    .dataframe tbody tr th {\n",
              "        vertical-align: top;\n",
              "    }\n",
              "\n",
              "    .dataframe thead th {\n",
              "        text-align: right;\n",
              "    }\n",
              "</style>\n",
              "<table border=\"1\" class=\"dataframe\">\n",
              "  <thead>\n",
              "    <tr style=\"text-align: right;\">\n",
              "      <th></th>\n",
              "      <th>id</th>\n",
              "      <th>not_before</th>\n",
              "      <th>not_after</th>\n",
              "      <th>randoms</th>\n",
              "    </tr>\n",
              "  </thead>\n",
              "  <tbody>\n",
              "    <tr>\n",
              "      <th>0</th>\n",
              "      <td>HD000001</td>\n",
              "      <td>71.0</td>\n",
              "      <td>130.0</td>\n",
              "      <td>None</td>\n",
              "    </tr>\n",
              "    <tr>\n",
              "      <th>1</th>\n",
              "      <td>HD000002</td>\n",
              "      <td>51.0</td>\n",
              "      <td>200.0</td>\n",
              "      <td>None</td>\n",
              "    </tr>\n",
              "    <tr>\n",
              "      <th>2</th>\n",
              "      <td>HD000003</td>\n",
              "      <td>131.0</td>\n",
              "      <td>170.0</td>\n",
              "      <td>None</td>\n",
              "    </tr>\n",
              "    <tr>\n",
              "      <th>3</th>\n",
              "      <td>HD000004</td>\n",
              "      <td>151.0</td>\n",
              "      <td>200.0</td>\n",
              "      <td>None</td>\n",
              "    </tr>\n",
              "    <tr>\n",
              "      <th>4</th>\n",
              "      <td>HD000005</td>\n",
              "      <td>1.0</td>\n",
              "      <td>200.0</td>\n",
              "      <td>None</td>\n",
              "    </tr>\n",
              "    <tr>\n",
              "      <th>5</th>\n",
              "      <td>HD000006</td>\n",
              "      <td>71.0</td>\n",
              "      <td>150.0</td>\n",
              "      <td>None</td>\n",
              "    </tr>\n",
              "    <tr>\n",
              "      <th>6</th>\n",
              "      <td>HD000007</td>\n",
              "      <td>-100.0</td>\n",
              "      <td>-51.0</td>\n",
              "      <td>None</td>\n",
              "    </tr>\n",
              "    <tr>\n",
              "      <th>7</th>\n",
              "      <td>HD000008</td>\n",
              "      <td>101.0</td>\n",
              "      <td>200.0</td>\n",
              "      <td>None</td>\n",
              "    </tr>\n",
              "    <tr>\n",
              "      <th>8</th>\n",
              "      <td>HD000009</td>\n",
              "      <td>201.0</td>\n",
              "      <td>300.0</td>\n",
              "      <td>None</td>\n",
              "    </tr>\n",
              "    <tr>\n",
              "      <th>9</th>\n",
              "      <td>HD000010</td>\n",
              "      <td>101.0</td>\n",
              "      <td>200.0</td>\n",
              "      <td>None</td>\n",
              "    </tr>\n",
              "    <tr>\n",
              "      <th>10</th>\n",
              "      <td>HD000011</td>\n",
              "      <td>54.0</td>\n",
              "      <td>68.0</td>\n",
              "      <td>None</td>\n",
              "    </tr>\n",
              "    <tr>\n",
              "      <th>11</th>\n",
              "      <td>HD000012</td>\n",
              "      <td>301.0</td>\n",
              "      <td>400.0</td>\n",
              "      <td>None</td>\n",
              "    </tr>\n",
              "    <tr>\n",
              "      <th>12</th>\n",
              "      <td>HD000013</td>\n",
              "      <td>201.0</td>\n",
              "      <td>300.0</td>\n",
              "      <td>None</td>\n",
              "    </tr>\n",
              "    <tr>\n",
              "      <th>13</th>\n",
              "      <td>HD000014</td>\n",
              "      <td>68.0</td>\n",
              "      <td>96.0</td>\n",
              "      <td>None</td>\n",
              "    </tr>\n",
              "    <tr>\n",
              "      <th>14</th>\n",
              "      <td>HD000015</td>\n",
              "      <td>1.0</td>\n",
              "      <td>300.0</td>\n",
              "      <td>None</td>\n",
              "    </tr>\n",
              "    <tr>\n",
              "      <th>15</th>\n",
              "      <td>HD000016</td>\n",
              "      <td>101.0</td>\n",
              "      <td>150.0</td>\n",
              "      <td>None</td>\n",
              "    </tr>\n",
              "    <tr>\n",
              "      <th>16</th>\n",
              "      <td>HD000017</td>\n",
              "      <td>-70.0</td>\n",
              "      <td>-1.0</td>\n",
              "      <td>None</td>\n",
              "    </tr>\n",
              "    <tr>\n",
              "      <th>17</th>\n",
              "      <td>HD000018</td>\n",
              "      <td>1.0</td>\n",
              "      <td>300.0</td>\n",
              "      <td>None</td>\n",
              "    </tr>\n",
              "    <tr>\n",
              "      <th>18</th>\n",
              "      <td>HD000019</td>\n",
              "      <td>101.0</td>\n",
              "      <td>200.0</td>\n",
              "      <td>None</td>\n",
              "    </tr>\n",
              "    <tr>\n",
              "      <th>19</th>\n",
              "      <td>HD000020</td>\n",
              "      <td>-70.0</td>\n",
              "      <td>-1.0</td>\n",
              "      <td>None</td>\n",
              "    </tr>\n",
              "  </tbody>\n",
              "</table>\n",
              "</div>"
            ],
            "text/plain": [
              "          id  not_before  not_after randoms\n",
              "0   HD000001        71.0      130.0    None\n",
              "1   HD000002        51.0      200.0    None\n",
              "2   HD000003       131.0      170.0    None\n",
              "3   HD000004       151.0      200.0    None\n",
              "4   HD000005         1.0      200.0    None\n",
              "5   HD000006        71.0      150.0    None\n",
              "6   HD000007      -100.0      -51.0    None\n",
              "7   HD000008       101.0      200.0    None\n",
              "8   HD000009       201.0      300.0    None\n",
              "9   HD000010       101.0      200.0    None\n",
              "10  HD000011        54.0       68.0    None\n",
              "11  HD000012       301.0      400.0    None\n",
              "12  HD000013       201.0      300.0    None\n",
              "13  HD000014        68.0       96.0    None\n",
              "14  HD000015         1.0      300.0    None\n",
              "15  HD000016       101.0      150.0    None\n",
              "16  HD000017       -70.0       -1.0    None\n",
              "17  HD000018         1.0      300.0    None\n",
              "18  HD000019       101.0      200.0    None\n",
              "19  HD000020       -70.0       -1.0    None"
            ]
          },
          "metadata": {
            "tags": []
          },
          "execution_count": 33
        }
      ]
    },
    {
      "cell_type": "code",
      "metadata": {
        "id": "XsbJzhJdwoEB",
        "colab_type": "code",
        "colab": {
          "base_uri": "https://localhost:8080/",
          "height": 231
        },
        "outputId": "f2f0f531-0e78-4317-94e4-9b109250e412"
      },
      "source": [
        "def get_number(row, n):\n",
        "  try:\n",
        "    return row[\"randoms\"][n]\n",
        "  except:\n",
        "    return None\n",
        "\n",
        "step = 25\n",
        "bin_ranges=[n for n in range(-100, 400 + step, step)]\n",
        "for n in range(len(EDH_dated.iloc[0][\"randoms\"])): # for each number in lenght of our random numbers\n",
        "  dates_variant = EDH_dated.apply(lambda row: get_number(row, n), axis=1)\n",
        "  plt.hist(dates_variant, bins=bin_ranges, histtype='step', stacked=True, fill=False)\n",
        "  plt.xlim(-100, 400)"
      ],
      "execution_count": 16,
      "outputs": [
        {
          "output_type": "error",
          "ename": "TypeError",
          "evalue": "ignored",
          "traceback": [
            "\u001b[0;31m---------------------------------------------------------------------------\u001b[0m",
            "\u001b[0;31mTypeError\u001b[0m                                 Traceback (most recent call last)",
            "\u001b[0;32m<ipython-input-16-21f4b27b1c3e>\u001b[0m in \u001b[0;36m<module>\u001b[0;34m()\u001b[0m\n\u001b[1;32m      7\u001b[0m \u001b[0mstep\u001b[0m \u001b[0;34m=\u001b[0m \u001b[0;36m25\u001b[0m\u001b[0;34m\u001b[0m\u001b[0;34m\u001b[0m\u001b[0m\n\u001b[1;32m      8\u001b[0m \u001b[0mbin_ranges\u001b[0m\u001b[0;34m=\u001b[0m\u001b[0;34m[\u001b[0m\u001b[0mn\u001b[0m \u001b[0;32mfor\u001b[0m \u001b[0mn\u001b[0m \u001b[0;32min\u001b[0m \u001b[0mrange\u001b[0m\u001b[0;34m(\u001b[0m\u001b[0;34m-\u001b[0m\u001b[0;36m100\u001b[0m\u001b[0;34m,\u001b[0m \u001b[0;36m400\u001b[0m \u001b[0;34m+\u001b[0m \u001b[0mstep\u001b[0m\u001b[0;34m,\u001b[0m \u001b[0mstep\u001b[0m\u001b[0;34m)\u001b[0m\u001b[0;34m]\u001b[0m\u001b[0;34m\u001b[0m\u001b[0;34m\u001b[0m\u001b[0m\n\u001b[0;32m----> 9\u001b[0;31m \u001b[0;32mfor\u001b[0m \u001b[0mn\u001b[0m \u001b[0;32min\u001b[0m \u001b[0mrange\u001b[0m\u001b[0;34m(\u001b[0m\u001b[0mlen\u001b[0m\u001b[0;34m(\u001b[0m\u001b[0mEDH_dated\u001b[0m\u001b[0;34m.\u001b[0m\u001b[0miloc\u001b[0m\u001b[0;34m[\u001b[0m\u001b[0;36m0\u001b[0m\u001b[0;34m]\u001b[0m\u001b[0;34m[\u001b[0m\u001b[0;34m\"randoms\"\u001b[0m\u001b[0;34m]\u001b[0m\u001b[0;34m)\u001b[0m\u001b[0;34m)\u001b[0m\u001b[0;34m:\u001b[0m \u001b[0;31m# for each number in lenght of our random numbers\u001b[0m\u001b[0;34m\u001b[0m\u001b[0;34m\u001b[0m\u001b[0m\n\u001b[0m\u001b[1;32m     10\u001b[0m   \u001b[0mdates_variant\u001b[0m \u001b[0;34m=\u001b[0m \u001b[0mEDH_dated\u001b[0m\u001b[0;34m.\u001b[0m\u001b[0mapply\u001b[0m\u001b[0;34m(\u001b[0m\u001b[0;32mlambda\u001b[0m \u001b[0mrow\u001b[0m\u001b[0;34m:\u001b[0m \u001b[0mget_number\u001b[0m\u001b[0;34m(\u001b[0m\u001b[0mrow\u001b[0m\u001b[0;34m,\u001b[0m \u001b[0mn\u001b[0m\u001b[0;34m)\u001b[0m\u001b[0;34m,\u001b[0m \u001b[0maxis\u001b[0m\u001b[0;34m=\u001b[0m\u001b[0;36m1\u001b[0m\u001b[0;34m)\u001b[0m\u001b[0;34m\u001b[0m\u001b[0;34m\u001b[0m\u001b[0m\n\u001b[1;32m     11\u001b[0m   \u001b[0mplt\u001b[0m\u001b[0;34m.\u001b[0m\u001b[0mhist\u001b[0m\u001b[0;34m(\u001b[0m\u001b[0mdates_variant\u001b[0m\u001b[0;34m,\u001b[0m \u001b[0mbins\u001b[0m\u001b[0;34m=\u001b[0m\u001b[0mbin_ranges\u001b[0m\u001b[0;34m,\u001b[0m \u001b[0mhisttype\u001b[0m\u001b[0;34m=\u001b[0m\u001b[0;34m'step'\u001b[0m\u001b[0;34m,\u001b[0m \u001b[0mstacked\u001b[0m\u001b[0;34m=\u001b[0m\u001b[0;32mTrue\u001b[0m\u001b[0;34m,\u001b[0m \u001b[0mfill\u001b[0m\u001b[0;34m=\u001b[0m\u001b[0;32mFalse\u001b[0m\u001b[0;34m)\u001b[0m\u001b[0;34m\u001b[0m\u001b[0;34m\u001b[0m\u001b[0m\n",
            "\u001b[0;31mTypeError\u001b[0m: object of type 'NoneType' has no len()"
          ]
        }
      ]
    },
    {
      "cell_type": "code",
      "metadata": {
        "id": "76wPlgPewp35",
        "colab_type": "code",
        "colab": {
          "base_uri": "https://localhost:8080/",
          "height": 350
        },
        "outputId": "98ddef82-336c-43e6-d952-333982ab4020"
      },
      "source": [
        "for n in range(100):\n",
        "  dates_variant = EDH_condensed.apply(lambda row: get_number(row, n), axis=1)\n",
        "  sns.distplot(dates_variant, hist=False)\n",
        "plt.xlim(-100, 400)"
      ],
      "execution_count": 17,
      "outputs": [
        {
          "output_type": "stream",
          "text": [
            "/usr/local/lib/python3.6/dist-packages/seaborn/distributions.py:198: RuntimeWarning: Mean of empty slice.\n",
            "  line, = ax.plot(a.mean(), 0)\n",
            "/usr/local/lib/python3.6/dist-packages/numpy/core/_methods.py:161: RuntimeWarning: invalid value encountered in double_scalars\n",
            "  ret = ret.dtype.type(ret / rcount)\n"
          ],
          "name": "stderr"
        },
        {
          "output_type": "execute_result",
          "data": {
            "text/plain": [
              "(-100.0, 400.0)"
            ]
          },
          "metadata": {
            "tags": []
          },
          "execution_count": 17
        },
        {
          "output_type": "display_data",
          "data": {
            "image/png": "[encoded data removed]",
            "text/plain": [
              "<Figure size 432x288 with 1 Axes>"
            ]
          },
          "metadata": {
            "tags": [],
            "needs_background": "light"
          }
        }
      ]
    }
  ]
}