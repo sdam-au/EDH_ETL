{
  "nbformat": 4,
  "nbformat_minor": 0,
  "metadata": {
    "colab": {
      "name": "EDH_merged_to_R.ipynb",
      "provenance": [],
      "collapsed_sections": [],
      "include_colab_link": true
    },
    "kernelspec": {
      "name": "ir",
      "display_name": "R"
    }
  },
  "cells": [
    {
      "cell_type": "markdown",
      "metadata": {
        "id": "view-in-github",
        "colab_type": "text"
      },
      "source": [
        "<a href=\"https://colab.research.google.com/github/sdam-au/edh_workflow/blob/master/scripts/EDH_merged_to_R.ipynb\" target=\"_parent\"><img src=\"https://colab.research.google.com/assets/colab-badge.svg\" alt=\"Open In Colab\"/></a>"
      ]
    },
    {
      "cell_type": "code",
      "metadata": {
        "id": "rs5ajyXGw3nV",
        "colab_type": "code",
        "colab": {}
      },
      "source": [
        "## Install packages\n",
        "devtools::install_github(\"mplex/cedhar\", subdir=\"pkg/sdam\")\n",
        "install.packages(\"rjson\")\n",
        "install.packages(\"tidyverse\")\n",
        "install.packages(\"getPass\")"
      ],
      "execution_count": 0,
      "outputs": []
    },
    {
      "cell_type": "code",
      "metadata": {
        "id": "4vsw9EGcR9JL",
        "colab_type": "code",
        "colab": {}
      },
      "source": [
        "## Load packages\n",
        "library(sdam)\n",
        "library(rjson)\n",
        "library(tidyverse)\n",
        "library(getPass)"
      ],
      "execution_count": 0,
      "outputs": []
    },
    {
      "cell_type": "code",
      "metadata": {
        "id": "MVXcreEORGuY",
        "colab_type": "code",
        "outputId": "45096247-807c-46ce-b86f-883daad70699",
        "colab": {
          "base_uri": "https://localhost:8080/",
          "height": 51
        }
      },
      "source": [
        "# Input your sciencedata.dk username and password\n",
        "user <- readline(\"your sciencedata username: \")"
      ],
      "execution_count": 0,
      "outputs": [
        {
          "output_type": "stream",
          "text": [
            "your sciencedata username: kase@zcu.cz\n",
            "your sciencedata password: ··········\n"
          ],
          "name": "stdout"
        }
      ]
    },
    {
      "cell_type": "code",
      "metadata": {
        "id": "WEHwJPe7Q_ny",
        "colab_type": "code",
        "colab": {}
      },
      "source": [
        "# Make the request\n",
        "resp = request(\"EDH_utf8.json\", path=\"/sharingin/648597@au.dk/SDAM_root/SDAM_data/EDH/\", method=\"GET\", cred=c(user, getPass(\"your sciencedata password: \")))"
      ],
      "execution_count": 0,
      "outputs": []
    },
    {
      "cell_type": "code",
      "metadata": {
        "id": "qccISiZUezpU",
        "colab_type": "code",
        "colab": {}
      },
      "source": [
        "# Make a list from the request\n",
        "list_json <- fromJSON(resp)"
      ],
      "execution_count": 0,
      "outputs": []
    },
    {
      "cell_type": "code",
      "metadata": {
        "id": "X0F6umuPwgAs",
        "colab_type": "code",
        "outputId": "e3d4c579-e515-410d-9193-9cbf87294953",
        "colab": {
          "base_uri": "https://localhost:8080/",
          "height": 1000
        }
      },
      "source": [
        "# \n",
        "EDH_tibble = as_tibble(list_json)\n",
        "head(EDH_tibble)"
      ],
      "execution_count": 0,
      "outputs": [
        {
          "output_type": "display_data",
          "data": {
            "text/plain": [
              "  diplomatic_text                                                                                                                         \n",
              "1 D M / NONIAE P F OPTATAE / ET C IVLIO ARTEMONI / PARENTIBVS / LIBERTIS LIBERTABVSQVE / POSTERISQVE EORVM / C IVLIVS C F OPTATVS / FILIVS\n",
              "2 C SEXTIVS PARIS / QVI VIXIT / ANNIS LXX                                                                                                 \n",
              "3 [ ]VMMIO [ ] / [ ]ISENNA[ ] / [ ] XV[ ] / [ ] / [                                                                                       \n",
              "4 [ ]AVS[ ]LLA / M PORCI NIGRI SER / DOMINAE VENERI / ARAM POSVIT                                                                         \n",
              "5 [ ] L SVCCESSVS / [ ] L L IRENAEVS / [ ] C L TYCHES / [ ]VNT / [ ]RENTI F                                                               \n",
              "6 D M S / / MEMMIA AVCTIN[ ] / AN LXX PIA IN SVIS / H S E S T TE[ ] L                                                                     \n",
              "  literature                                                                                                                                  \n",
              "1 AE 1983, 0192.; M. Annecchino, Puteoli 4/5, 1980/81, 286-287, Nr. 17; fig. 17. (C) - AE 1983.                                               \n",
              "2 AE 1983, 0080. (A); A. Ferrua, RAL 36, 1981, 109, Nr. 7. - AE 1983.                                                                         \n",
              "3 AE 1983, 0518. (B); J. González, ZPE 52, 1983, 172-173; Taf. 5b. (B) - AE.                                                                  \n",
              "4 AE 1983, 0533. (B); A.U. Stylow, Gerión 1, 1983, 267-273, Nr. 1; fig. 1. - AE 1983.; CIL 02, 01638. (B); CIL 02 (2. Aufl.) 05, 00274; Foto. \n",
              "5 AE 1983, 0078. (B); A. Ferrua, RAL 36, 1981, 108, Nr. 3. - AE 1983.                                                                         \n",
              "6 AE 1983, 0524. (B); P. Rodríguez Oliva - R. Atencia Páez, BSEAA 49, 1983, 154, Nr. 3; lám. 3,2. (B) - AE 1983.; CIL 02 (2. Aufl.) 05, 00883.\n",
              "  trismegistos_uri                         id       findspot_ancient not_before\n",
              "1 https://www.trismegistos.org/text/251193 HD000001 Cumae, bei       0071      \n",
              "2 https://www.trismegistos.org/text/265631 HD000002 Roma             0051      \n",
              "3 https://www.trismegistos.org/text/220675 HD000003 NULL             0131      \n",
              "4 https://www.trismegistos.org/text/222102 HD000004 Ipolcobulcula    0151      \n",
              "5 https://www.trismegistos.org/text/265629 HD000005 Roma             0001      \n",
              "6 https://www.trismegistos.org/text/222924 HD000006 Sabora, bei      0071      \n",
              "  type_of_inscription   work_status       \n",
              "1 epitaph               provisional       \n",
              "2 epitaph               no image          \n",
              "3 honorific inscription provisional       \n",
              "4 votive inscription    checked with photo\n",
              "5 epitaph               no image          \n",
              "6 epitaph               checked with photo\n",
              "  edh_geography_uri                                          not_after ⋯\n",
              "1 https://edh-www.adw.uni-heidelberg.de/edh/geographie/11843 0130      ⋯\n",
              "2 https://edh-www.adw.uni-heidelberg.de/edh/geographie/19482 0200      ⋯\n",
              "3 https://edh-www.adw.uni-heidelberg.de/edh/geographie/2694  0170      ⋯\n",
              "4 https://edh-www.adw.uni-heidelberg.de/edh/geographie/2240  0200      ⋯\n",
              "5 https://edh-www.adw.uni-heidelberg.de/edh/geographie/19428 0200      ⋯\n",
              "6 https://edh-www.adw.uni-heidelberg.de/edh/geographie/2999  0150      ⋯\n",
              "  external_image_uris                                         \n",
              "1 NULL                                                        \n",
              "2 NULL                                                        \n",
              "3 NULL                                                        \n",
              "4 http://cil-old.bbaw.de/test06/bilder/datenbank/PH0005311.jpg\n",
              "5 NULL                                                        \n",
              "6 NULL                                                        \n",
              "  religion               fotos geography military social_economic_legal_history\n",
              "1 NULL                   NULL  NULL      NULL     NULL                         \n",
              "2 NULL                   NULL  NULL      NULL     NULL                         \n",
              "3 NULL                   NULL  NULL      NULL     NULL                         \n",
              "4 names of pagan deities NULL  NULL      NULL     NULL                         \n",
              "5 NULL                   NULL  NULL      NULL     NULL                         \n",
              "6 NULL                   NULL  NULL      NULL     NULL                         \n",
              "  coordinates          \n",
              "1 40.8471577,14.0550756\n",
              "2 41.895466,12.482324  \n",
              "3 37.37281,-6.04589    \n",
              "4 37.4442,-4.27471     \n",
              "5 41.895466,12.482324  \n",
              "6 36.95154,-5.0244     \n",
              "  text_cleaned                                                                                                                                                          \n",
              "1 Dis Manibus Noniae Publi filiae Optatae et Caio Iulio Artemoni parentibus libertis libertabusque posterisque eorum Caius Iulius Cai filius Optatus filius             \n",
              "2 Caius Sextius Paris qui vixit annis LXX                                                                                                                               \n",
              "3 Publio Mummio Publi filio Galeria Sisennae Rutiliano Xviro stlitibus iudicandis                                                                                       \n",
              "4 AVSLLA Marci Porci Nigri serva dominae Veneri aram posuit                                                                                                             \n",
              "5  libertus Successus  Luci libertus Irenaeus  Cai liberta Tyches sic unt merenti f                                                                                     \n",
              "6 Dis Manibus sacrum  Memmia Auctina annorum LXX pia in suis hic sita est sit tibi terra levis                                                                          \n",
              "  origdate_text                               objecttype                \n",
              "1 71 AD – 130 AD                              Tafel, 257                \n",
              "2 51 AD – 200 AD                              Tafel, 257                \n",
              "3 131 AD – 170 AD                             Statuenbasis, 57          \n",
              "4 151 AD – 200 AD                             Altar, 29                 \n",
              "5 1 AD – 200 AD                               Stele, 250                \n",
              "6 71 AD – 150 AD                              Stele, 250                "
            ],
            "text/latex": "A tibble: 6 × 40\n\\begin{tabular}{lllllllllllllllllllll}\n diplomatic\\_text & literature & trismegistos\\_uri & id & findspot\\_ancient & not\\_before & type\\_of\\_inscription & work\\_status & edh\\_geography\\_uri & not\\_after & ⋯ & external\\_image\\_uris & religion & fotos & geography & military & social\\_economic\\_legal\\_history & coordinates & text\\_cleaned & origdate\\_text & objecttype\\\\\n <named list> & <named list> & <named list> & <named list> & <named list> & <named list> & <named list> & <named list> & <named list> & <named list> & ⋯ & <named list> & <named list> & <named list> & <named list> & <named list> & <named list> & <named list> & <named list> & <named list> & <named list>\\\\\n\\hline\n\t D M / NONIAE P F OPTATAE / ET C IVLIO ARTEMONI / PARENTIBVS / LIBERTIS LIBERTABVSQVE / POSTERISQVE EORVM / C IVLIVS C F OPTATVS / FILIVS & AE 1983, 0192.; M. Annecchino, Puteoli 4/5, 1980/81, 286-287, Nr. 17; fig. 17. (C) - AE 1983. & https://www.trismegistos.org/text/251193 & HD000001 & Cumae, bei & 0071 & epitaph & provisional & https://edh-www.adw.uni-heidelberg.de/edh/geographie/11843 & 0130 & ⋯ & NULL & NULL & NULL & NULL & NULL & NULL & 40.8471577,14.0550756 & Dis Manibus Noniae Publi filiae Optatae et Caio Iulio Artemoni parentibus libertis libertabusque posterisque eorum Caius Iulius Cai filius Optatus filius              & 71 AD – 130 AD                             & Tafel, 257  \\\\\n\t C SEXTIVS PARIS / QVI VIXIT / ANNIS LXX & AE 1983, 0080. (A); A. Ferrua, RAL 36, 1981, 109, Nr. 7. - AE 1983. & https://www.trismegistos.org/text/265631 & HD000002 & Roma & 0051 & epitaph & no image & https://edh-www.adw.uni-heidelberg.de/edh/geographie/19482 & 0200 & ⋯ & NULL & NULL & NULL & NULL & NULL & NULL & 41.895466,12.482324 & Caius Sextius Paris qui vixit annis LXX              & 51 AD – 200 AD                             & Tafel, 257  \\\\\n\t {[} {]}VMMIO {[} {]} / {[} {]}ISENNA{[} {]} / {[} {]} XV{[} {]} / {[} {]} / {[} & AE 1983, 0518. (B); J. González, ZPE 52, 1983, 172-173; Taf. 5b. (B) - AE. & https://www.trismegistos.org/text/220675 & HD000003 & NULL & 0131 & honorific inscription & provisional & https://edh-www.adw.uni-heidelberg.de/edh/geographie/2694 & 0170 & ⋯ & NULL & NULL & NULL & NULL & NULL & NULL & 37.37281,-6.04589 & Publio Mummio Publi filio Galeria Sisennae Rutiliano Xviro stlitibus iudicandis   & 131 AD – 170 AD                             & Statuenbasis, 57          \\\\\n\t {[} {]}AVS{[} {]}LLA / M PORCI NIGRI SER / DOMINAE VENERI / ARAM POSVIT & AE 1983, 0533. (B); A.U. Stylow, Gerión 1, 1983, 267-273, Nr. 1; fig. 1. - AE 1983.; CIL 02, 01638. (B); CIL 02 (2. Aufl.) 05, 00274; Foto. & https://www.trismegistos.org/text/222102 & HD000004 & Ipolcobulcula & 0151 & votive inscription & checked with photo & https://edh-www.adw.uni-heidelberg.de/edh/geographie/2240 & 0200 & ⋯ & http://cil-old.bbaw.de/test06/bilder/datenbank/PH0005311.jpg & names of pagan deities & NULL & NULL & NULL & NULL & 37.4442,-4.27471 & AVSLLA Marci Porci Nigri serva dominae Veneri aram posuit              & 151 AD – 200 AD                             & Altar, 29   \\\\\n\t {[} {]} L SVCCESSVS / {[} {]} L L IRENAEVS / {[} {]} C L TYCHES / {[} {]}VNT / {[} {]}RENTI F & AE 1983, 0078. (B); A. Ferrua, RAL 36, 1981, 108, Nr. 3. - AE 1983. & https://www.trismegistos.org/text/265629 & HD000005 & Roma & 0001 & epitaph & no image & https://edh-www.adw.uni-heidelberg.de/edh/geographie/19428 & 0200 & ⋯ & NULL & NULL & NULL & NULL & NULL & NULL & 41.895466,12.482324 &  libertus Successus  Luci libertus Irenaeus  Cai liberta Tyches sic unt merenti f & 1 AD – 200 AD                             & Stele, 250  \\\\\n\t D M S / / MEMMIA AVCTIN{[} {]} / AN LXX PIA IN SVIS / H S E S T TE{[} {]} L & AE 1983, 0524. (B); P. Rodríguez Oliva - R. Atencia Páez, BSEAA 49, 1983, 154, Nr. 3; lám. 3,2. (B) - AE 1983.; CIL 02 (2. Aufl.) 05, 00883. & https://www.trismegistos.org/text/222924 & HD000006 & Sabora, bei & 0071 & epitaph & checked with photo & https://edh-www.adw.uni-heidelberg.de/edh/geographie/2999 & 0150 & ⋯ & NULL & NULL & NULL & NULL & NULL & NULL & 36.95154,-5.0244 & Dis Manibus sacrum  Memmia Auctina annorum LXX pia in suis hic sita est sit tibi terra levis & 71 AD – 150 AD                             & Stele, 250  \\\\\n\\end{tabular}\n",
            "text/markdown": "\nA tibble: 6 × 40\n\n| diplomatic_text &lt;named list&gt; | literature &lt;named list&gt; | trismegistos_uri &lt;named list&gt; | id &lt;named list&gt; | findspot_ancient &lt;named list&gt; | not_before &lt;named list&gt; | type_of_inscription &lt;named list&gt; | work_status &lt;named list&gt; | edh_geography_uri &lt;named list&gt; | not_after &lt;named list&gt; | ⋯ ⋯ | external_image_uris &lt;named list&gt; | religion &lt;named list&gt; | fotos &lt;named list&gt; | geography &lt;named list&gt; | military &lt;named list&gt; | social_economic_legal_history &lt;named list&gt; | coordinates &lt;named list&gt; | text_cleaned &lt;named list&gt; | origdate_text &lt;named list&gt; | objecttype &lt;named list&gt; |\n|---|---|---|---|---|---|---|---|---|---|---|---|---|---|---|---|---|---|---|---|---|\n| D M / NONIAE P F OPTATAE / ET C IVLIO ARTEMONI / PARENTIBVS / LIBERTIS LIBERTABVSQVE / POSTERISQVE EORVM / C IVLIVS C F OPTATVS / FILIVS | AE 1983, 0192.; M. Annecchino, Puteoli 4/5, 1980/81, 286-287, Nr. 17; fig. 17. (C) - AE 1983. | https://www.trismegistos.org/text/251193 | HD000001 | Cumae, bei | 0071 | epitaph | provisional | https://edh-www.adw.uni-heidelberg.de/edh/geographie/11843 | 0130 | ⋯ | NULL | NULL | NULL | NULL | NULL | NULL | 40.8471577,14.0550756 | Dis Manibus Noniae Publi filiae Optatae et Caio Iulio Artemoni parentibus libertis libertabusque posterisque eorum Caius Iulius Cai filius Optatus filius              | 71 AD – 130 AD                             | Tafel, 257   |\n| C SEXTIVS PARIS / QVI VIXIT / ANNIS LXX | AE 1983, 0080. (A); A. Ferrua, RAL 36, 1981, 109, Nr. 7. - AE 1983. | https://www.trismegistos.org/text/265631 | HD000002 | Roma | 0051 | epitaph | no image | https://edh-www.adw.uni-heidelberg.de/edh/geographie/19482 | 0200 | ⋯ | NULL | NULL | NULL | NULL | NULL | NULL | 41.895466,12.482324 | Caius Sextius Paris qui vixit annis LXX              | 51 AD – 200 AD                             | Tafel, 257   |\n| [ ]VMMIO [ ] / [ ]ISENNA[ ] / [ ] XV[ ] / [ ] / [ | AE 1983, 0518. (B); J. González, ZPE 52, 1983, 172-173; Taf. 5b. (B) - AE. | https://www.trismegistos.org/text/220675 | HD000003 | NULL | 0131 | honorific inscription | provisional | https://edh-www.adw.uni-heidelberg.de/edh/geographie/2694 | 0170 | ⋯ | NULL | NULL | NULL | NULL | NULL | NULL | 37.37281,-6.04589 | Publio Mummio Publi filio Galeria Sisennae Rutiliano Xviro stlitibus iudicandis   | 131 AD – 170 AD                             | Statuenbasis, 57           |\n| [ ]AVS[ ]LLA / M PORCI NIGRI SER / DOMINAE VENERI / ARAM POSVIT | AE 1983, 0533. (B); A.U. Stylow, Gerión 1, 1983, 267-273, Nr. 1; fig. 1. - AE 1983.; CIL 02, 01638. (B); CIL 02 (2. Aufl.) 05, 00274; Foto. | https://www.trismegistos.org/text/222102 | HD000004 | Ipolcobulcula | 0151 | votive inscription | checked with photo | https://edh-www.adw.uni-heidelberg.de/edh/geographie/2240 | 0200 | ⋯ | http://cil-old.bbaw.de/test06/bilder/datenbank/PH0005311.jpg | names of pagan deities | NULL | NULL | NULL | NULL | 37.4442,-4.27471 | AVSLLA Marci Porci Nigri serva dominae Veneri aram posuit              | 151 AD – 200 AD                             | Altar, 29    |\n| [ ] L SVCCESSVS / [ ] L L IRENAEVS / [ ] C L TYCHES / [ ]VNT / [ ]RENTI F | AE 1983, 0078. (B); A. Ferrua, RAL 36, 1981, 108, Nr. 3. - AE 1983. | https://www.trismegistos.org/text/265629 | HD000005 | Roma | 0001 | epitaph | no image | https://edh-www.adw.uni-heidelberg.de/edh/geographie/19428 | 0200 | ⋯ | NULL | NULL | NULL | NULL | NULL | NULL | 41.895466,12.482324 |  libertus Successus  Luci libertus Irenaeus  Cai liberta Tyches sic unt merenti f | 1 AD – 200 AD                             | Stele, 250   |\n| D M S / / MEMMIA AVCTIN[ ] / AN LXX PIA IN SVIS / H S E S T TE[ ] L | AE 1983, 0524. (B); P. Rodríguez Oliva - R. Atencia Páez, BSEAA 49, 1983, 154, Nr. 3; lám. 3,2. (B) - AE 1983.; CIL 02 (2. Aufl.) 05, 00883. | https://www.trismegistos.org/text/222924 | HD000006 | Sabora, bei | 0071 | epitaph | checked with photo | https://edh-www.adw.uni-heidelberg.de/edh/geographie/2999 | 0150 | ⋯ | NULL | NULL | NULL | NULL | NULL | NULL | 36.95154,-5.0244 | Dis Manibus sacrum  Memmia Auctina annorum LXX pia in suis hic sita est sit tibi terra levis | 71 AD – 150 AD                             | Stele, 250   |\n\n",
            "text/html": [
              "<table>\n",
              "<caption>A tibble: 6 × 40</caption>\n",
              "<thead>\n",
              "\t<tr><th scope=col>diplomatic_text</th><th scope=col>literature</th><th scope=col>trismegistos_uri</th><th scope=col>id</th><th scope=col>findspot_ancient</th><th scope=col>not_before</th><th scope=col>type_of_inscription</th><th scope=col>work_status</th><th scope=col>edh_geography_uri</th><th scope=col>not_after</th><th scope=col>⋯</th><th scope=col>external_image_uris</th><th scope=col>religion</th><th scope=col>fotos</th><th scope=col>geography</th><th scope=col>military</th><th scope=col>social_economic_legal_history</th><th scope=col>coordinates</th><th scope=col>text_cleaned</th><th scope=col>origdate_text</th><th scope=col>objecttype</th></tr>\n",
              "\t<tr><th scope=col>&lt;named list&gt;</th><th scope=col>&lt;named list&gt;</th><th scope=col>&lt;named list&gt;</th><th scope=col>&lt;named list&gt;</th><th scope=col>&lt;named list&gt;</th><th scope=col>&lt;named list&gt;</th><th scope=col>&lt;named list&gt;</th><th scope=col>&lt;named list&gt;</th><th scope=col>&lt;named list&gt;</th><th scope=col>&lt;named list&gt;</th><th scope=col>⋯</th><th scope=col>&lt;named list&gt;</th><th scope=col>&lt;named list&gt;</th><th scope=col>&lt;named list&gt;</th><th scope=col>&lt;named list&gt;</th><th scope=col>&lt;named list&gt;</th><th scope=col>&lt;named list&gt;</th><th scope=col>&lt;named list&gt;</th><th scope=col>&lt;named list&gt;</th><th scope=col>&lt;named list&gt;</th><th scope=col>&lt;named list&gt;</th></tr>\n",
              "</thead>\n",
              "<tbody>\n",
              "\t<tr><td>D M / NONIAE P F OPTATAE / ET C IVLIO ARTEMONI / PARENTIBVS / LIBERTIS LIBERTABVSQVE / POSTERISQVE EORVM / C IVLIVS C F OPTATVS / FILIVS</td><td>AE 1983, 0192.; M. Annecchino, Puteoli 4/5, 1980/81, 286-287, Nr. 17; fig. 17. (C) - AE 1983.</td><td>https://www.trismegistos.org/text/251193</td><td>HD000001</td><td>Cumae, bei</td><td>0071</td><td>epitaph</td><td>provisional</td><td>https://edh-www.adw.uni-heidelberg.de/edh/geographie/11843</td><td>0130</td><td>⋯</td><td>NULL</td><td>NULL</td><td>NULL</td><td>NULL</td><td>NULL</td><td>NULL</td><td>40.8471577,14.0550756</td><td>Dis Manibus Noniae Publi filiae Optatae et Caio Iulio Artemoni parentibus libertis libertabusque posterisque eorum Caius Iulius Cai filius Optatus filius             </td><td>71 AD – 130 AD                            </td><td>Tafel, 257  </td></tr>\n",
              "\t<tr><td>C SEXTIVS PARIS / QVI VIXIT / ANNIS LXX</td><td>AE 1983, 0080. (A); A. Ferrua, RAL 36, 1981, 109, Nr. 7. - AE 1983.</td><td>https://www.trismegistos.org/text/265631</td><td>HD000002</td><td>Roma</td><td>0051</td><td>epitaph</td><td>no image</td><td>https://edh-www.adw.uni-heidelberg.de/edh/geographie/19482</td><td>0200</td><td>⋯</td><td>NULL</td><td>NULL</td><td>NULL</td><td>NULL</td><td>NULL</td><td>NULL</td><td>41.895466,12.482324</td><td>Caius Sextius Paris qui vixit annis LXX             </td><td>51 AD – 200 AD                            </td><td>Tafel, 257  </td></tr>\n",
              "\t<tr><td>[ ]VMMIO [ ] / [ ]ISENNA[ ] / [ ] XV[ ] / [ ] / [</td><td>AE 1983, 0518. (B); J. González, ZPE 52, 1983, 172-173; Taf. 5b. (B) - AE.</td><td>https://www.trismegistos.org/text/220675</td><td>HD000003</td><td>NULL</td><td>0131</td><td>honorific inscription</td><td>provisional</td><td>https://edh-www.adw.uni-heidelberg.de/edh/geographie/2694</td><td>0170</td><td>⋯</td><td>NULL</td><td>NULL</td><td>NULL</td><td>NULL</td><td>NULL</td><td>NULL</td><td>37.37281,-6.04589</td><td>Publio Mummio Publi filio Galeria Sisennae Rutiliano Xviro stlitibus iudicandis  </td><td>131 AD – 170 AD                            </td><td>Statuenbasis, 57          </td></tr>\n",
              "\t<tr><td>[ ]AVS[ ]LLA / M PORCI NIGRI SER / DOMINAE VENERI / ARAM POSVIT</td><td>AE 1983, 0533. (B); A.U. Stylow, Gerión 1, 1983, 267-273, Nr. 1; fig. 1. - AE 1983.; CIL 02, 01638. (B); CIL 02 (2. Aufl.) 05, 00274; Foto.</td><td>https://www.trismegistos.org/text/222102</td><td>HD000004</td><td>Ipolcobulcula</td><td>0151</td><td>votive inscription</td><td>checked with photo</td><td>https://edh-www.adw.uni-heidelberg.de/edh/geographie/2240</td><td>0200</td><td>⋯</td><td>http://cil-old.bbaw.de/test06/bilder/datenbank/PH0005311.jpg</td><td>names of pagan deities</td><td>NULL</td><td>NULL</td><td>NULL</td><td>NULL</td><td>37.4442,-4.27471</td><td>AVSLLA Marci Porci Nigri serva dominae Veneri aram posuit             </td><td>151 AD – 200 AD                            </td><td>Altar, 29   </td></tr>\n",
              "\t<tr><td>[ ] L SVCCESSVS / [ ] L L IRENAEVS / [ ] C L TYCHES / [ ]VNT / [ ]RENTI F</td><td>AE 1983, 0078. (B); A. Ferrua, RAL 36, 1981, 108, Nr. 3. - AE 1983.</td><td>https://www.trismegistos.org/text/265629</td><td>HD000005</td><td>Roma</td><td>0001</td><td>epitaph</td><td>no image</td><td>https://edh-www.adw.uni-heidelberg.de/edh/geographie/19428</td><td>0200</td><td>⋯</td><td>NULL</td><td>NULL</td><td>NULL</td><td>NULL</td><td>NULL</td><td>NULL</td><td>41.895466,12.482324</td><td> libertus Successus  Luci libertus Irenaeus  Cai liberta Tyches sic unt merenti f</td><td>1 AD – 200 AD                            </td><td>Stele, 250  </td></tr>\n",
              "\t<tr><td>D M S / / MEMMIA AVCTIN[ ] / AN LXX PIA IN SVIS / H S E S T TE[ ] L</td><td>AE 1983, 0524. (B); P. Rodríguez Oliva - R. Atencia Páez, BSEAA 49, 1983, 154, Nr. 3; lám. 3,2. (B) - AE 1983.; CIL 02 (2. Aufl.) 05, 00883.</td><td>https://www.trismegistos.org/text/222924</td><td>HD000006</td><td>Sabora, bei</td><td>0071</td><td>epitaph</td><td>checked with photo</td><td>https://edh-www.adw.uni-heidelberg.de/edh/geographie/2999</td><td>0150</td><td>⋯</td><td>NULL</td><td>NULL</td><td>NULL</td><td>NULL</td><td>NULL</td><td>NULL</td><td>36.95154,-5.0244</td><td>Dis Manibus sacrum  Memmia Auctina annorum LXX pia in suis hic sita est sit tibi terra levis</td><td>71 AD – 150 AD                            </td><td>Stele, 250  </td></tr>\n",
              "</tbody>\n",
              "</table>\n"
            ]
          },
          "metadata": {
            "tags": []
          }
        }
      ]
    }
  ]
}