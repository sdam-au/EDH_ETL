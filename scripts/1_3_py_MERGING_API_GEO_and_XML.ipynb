{
 "cells": [
  {
   "cell_type": "code",
   "execution_count": 11,
   "metadata": {
    "colab": {
     "base_uri": "https://localhost:8080/",
     "height": 1000
    },
    "colab_type": "code",
    "id": "ysNNoibJHqOH",
    "outputId": "76dedb1e-a99c-4a4c-b810-6326b1053085",
    "pycharm": {
     "name": "#%%\n"
    }
   },
   "outputs": [],
   "source": [
    "### REQUIREMENTS\n",
    "import pandas as pd\n",
    "import sys\n",
    "import json\n",
    "\n",
    "import gspread\n",
    "from gspread_dataframe import get_as_dataframe, set_with_dataframe\n",
    "from google.oauth2 import service_account # based on google-auth library\n",
    "\n",
    "import sddk"
   ]
  },
  {
   "cell_type": "code",
   "execution_count": 2,
   "metadata": {
    "colab": {
     "base_uri": "https://localhost:8080/",
     "height": 85
    },
    "colab_type": "code",
    "id": "kHVL8s-M035V",
    "outputId": "ada467cc-61c6-4801-ae8c-95cf32499c9e",
    "pycharm": {
     "name": "#%%\n"
    }
   },
   "outputs": [
    {
     "name": "stdout",
     "output_type": "stream",
     "text": [
      "connection with shared folder established with you as its owner\n",
      "endpoint variable has been configured to: https://sciencedata.dk/files/SDAM_root/\n"
     ]
    }
   ],
   "source": [
    "### configure session and groupurl\n",
    "s = sddk.cloudSession(\"sciencedata.dk\", \"SDAM_root\", \"648597@au.dk\")"
   ]
  },
  {
   "cell_type": "code",
   "execution_count": 8,
   "metadata": {
    "pycharm": {
     "name": "#%%\n"
    }
   },
   "outputs": [],
   "source": [
    "# to access our gsheet with data overview & metadata, you need a Google Service Account json file\n",
    "# (see google-auth python package documentation to start with)\n",
    "# I have mine located in my personal space on sciencedata.dk, so I read it from there:\n",
    "\n",
    "# (1) read the file and parse its content\n",
    "file_data = s.read_file(\"https://sciencedata.dk/files/ServiceAccountsKey.json\", \"dict\")\n",
    "# (2) transform the content into crendentials object\n",
    "credentials = service_account.Credentials.from_service_account_info(file_data)\n",
    "# (3) specify your usage of the credentials\n",
    "scoped_credentials = credentials.with_scopes(['https://spreadsheets.google.com/feeds', 'https://www.googleapis.com/auth/drive'])\n",
    "# (4) use the constrained credentials for authentication of gspread package\n",
    "gc = gspread.Client(auth=scoped_credentials)\n",
    "# (5) establish connection with spreadsheets specified by their url\n",
    "EDH_overview = gc.open_by_url(\"https://docs.google.com/spreadsheets/d/164MLxVcCZg95Bzf9fVyD1-iCA5V97eM3KAFllyhTvt4/edit?usp=sharing\")"
   ]
  },
  {
   "cell_type": "markdown",
   "metadata": {
    "colab_type": "text",
    "id": "B2vBDj5OeF1L",
    "pycharm": {
     "name": "#%% md\n"
    }
   },
   "source": [
    "# Merge the inscriptions with geographies"
   ]
  },
  {
   "cell_type": "code",
   "execution_count": 21,
   "metadata": {
    "pycharm": {
     "name": "#%%\n"
    }
   },
   "outputs": [
    {
     "data": {
      "text/plain": "                                          commentary country    depth  \\\n0  (C): 2. Hälfte 1. - Anfang 2. Jh. - AE; Ende 1...   Italy     2 cm   \n1                            AE 1983: Breite: 35 cm.   Italy     None   \n2  (B): [S]isenna ist falscher Kasus; folgende Er...   Spain  (12) cm   \n3  Material: lokaler grauer Kalkstein. (B): Stylo...   Spain    18 cm   \n4                (B): Z. 3: C(ai) l(ibertae) Tyches.   Italy     None   \n\n                                     diplomatic_text findspot_ancient  \\\n0  D M / NONIAE P F OPTATAE / ET C IVLIO ARTEMONI...       Cumae, bei   \n1            C SEXTIVS PARIS / QVI VIXIT / ANNIS LXX             Roma   \n2  [ ]VMMIO [ ] / [ ]ISENNA[ ] / [ ] XV[ ] / [ ] / [             None   \n3  [ ]AVS[ ]LLA / M PORCI NIGRI SER / DOMINAE VEN...    Ipolcobulcula   \n4  [ ] L SVCCESSVS / [ ] L L IRENAEVS / [ ] C L T...             Roma   \n\n  findspot_modern   height        id language last_update  ...  \\\n0       Cuma, bei    33 cm  HD000001        L  2014-04-07  ...   \n1            Roma    28 cm  HD000002        L  2014-04-07  ...   \n2         Tomares  (37) cm  HD000003        L  2006-08-31  ...   \n3       Carcabuey  (39) cm  HD000004        L  2015-03-27  ...   \n4            Roma     None  HD000005        L  2010-01-04  ...   \n\n                                       transcription  \\\n0  D(is) M(anibus) / Noniae P(ubli) f(iliae) Opta...   \n1      C(aius) Sextius Paris / qui vixit / annis LXX   \n2  [P(ublio) M]ummio [P(ubli) f(ilio)] / [Gal(eri...   \n3  [---?]AV(?)S(?)[---]L(?)L(?)A / M(arci) Porci ...   \n4  [---] l(ibertus) Successus / [---] L(uci) l(ib...   \n\n                           trismegistos_uri    type_of_inscription  \\\n0  https://www.trismegistos.org/text/251193                epitaph   \n1  https://www.trismegistos.org/text/265631                epitaph   \n2  https://www.trismegistos.org/text/220675  honorific inscription   \n3  https://www.trismegistos.org/text/222102     votive inscription   \n4  https://www.trismegistos.org/text/265629                epitaph   \n\n  type_of_monument    width         work_status  \\\n0           tabula    34 cm         provisional   \n1           tabula    85 cm            no image   \n2      statue base  (34) cm         provisional   \n3            altar    27 cm  checked with photo   \n4            stele     None            no image   \n\n                               findspot year_of_find  \\\n0                                  None          NaN   \n1  Via Nomentana, S. Alessandro, Kirche       1937.0   \n2                                  None      -1975.0   \n3                                  None      -1979.0   \n4          Via Cupa (ehem. Vigna Nardi)          NaN   \n\n           present_location                religion  \n0                      None                    None  \n1                      None                    None  \n2     Sevilla, Privatbesitz                    None  \n3  Carcabuey, Grupo Escolar  names of pagan deities  \n4                      None                    None  \n\n[5 rows x 27 columns]",
      "text/html": "<div>\n<style scoped>\n    .dataframe tbody tr th:only-of-type {\n        vertical-align: middle;\n    }\n\n    .dataframe tbody tr th {\n        vertical-align: top;\n    }\n\n    .dataframe thead th {\n        text-align: right;\n    }\n</style>\n<table border=\"1\" class=\"dataframe\">\n  <thead>\n    <tr style=\"text-align: right;\">\n      <th></th>\n      <th>commentary</th>\n      <th>country</th>\n      <th>depth</th>\n      <th>diplomatic_text</th>\n      <th>findspot_ancient</th>\n      <th>findspot_modern</th>\n      <th>height</th>\n      <th>id</th>\n      <th>language</th>\n      <th>last_update</th>\n      <th>...</th>\n      <th>transcription</th>\n      <th>trismegistos_uri</th>\n      <th>type_of_inscription</th>\n      <th>type_of_monument</th>\n      <th>width</th>\n      <th>work_status</th>\n      <th>findspot</th>\n      <th>year_of_find</th>\n      <th>present_location</th>\n      <th>religion</th>\n    </tr>\n  </thead>\n  <tbody>\n    <tr>\n      <th>0</th>\n      <td>(C): 2. Hälfte 1. - Anfang 2. Jh. - AE; Ende 1...</td>\n      <td>Italy</td>\n      <td>2 cm</td>\n      <td>D M / NONIAE P F OPTATAE / ET C IVLIO ARTEMONI...</td>\n      <td>Cumae, bei</td>\n      <td>Cuma, bei</td>\n      <td>33 cm</td>\n      <td>HD000001</td>\n      <td>L</td>\n      <td>2014-04-07</td>\n      <td>...</td>\n      <td>D(is) M(anibus) / Noniae P(ubli) f(iliae) Opta...</td>\n      <td>https://www.trismegistos.org/text/251193</td>\n      <td>epitaph</td>\n      <td>tabula</td>\n      <td>34 cm</td>\n      <td>provisional</td>\n      <td>None</td>\n      <td>NaN</td>\n      <td>None</td>\n      <td>None</td>\n    </tr>\n    <tr>\n      <th>1</th>\n      <td>AE 1983: Breite: 35 cm.</td>\n      <td>Italy</td>\n      <td>None</td>\n      <td>C SEXTIVS PARIS / QVI VIXIT / ANNIS LXX</td>\n      <td>Roma</td>\n      <td>Roma</td>\n      <td>28 cm</td>\n      <td>HD000002</td>\n      <td>L</td>\n      <td>2014-04-07</td>\n      <td>...</td>\n      <td>C(aius) Sextius Paris / qui vixit / annis LXX</td>\n      <td>https://www.trismegistos.org/text/265631</td>\n      <td>epitaph</td>\n      <td>tabula</td>\n      <td>85 cm</td>\n      <td>no image</td>\n      <td>Via Nomentana, S. Alessandro, Kirche</td>\n      <td>1937.0</td>\n      <td>None</td>\n      <td>None</td>\n    </tr>\n    <tr>\n      <th>2</th>\n      <td>(B): [S]isenna ist falscher Kasus; folgende Er...</td>\n      <td>Spain</td>\n      <td>(12) cm</td>\n      <td>[ ]VMMIO [ ] / [ ]ISENNA[ ] / [ ] XV[ ] / [ ] / [</td>\n      <td>None</td>\n      <td>Tomares</td>\n      <td>(37) cm</td>\n      <td>HD000003</td>\n      <td>L</td>\n      <td>2006-08-31</td>\n      <td>...</td>\n      <td>[P(ublio) M]ummio [P(ubli) f(ilio)] / [Gal(eri...</td>\n      <td>https://www.trismegistos.org/text/220675</td>\n      <td>honorific inscription</td>\n      <td>statue base</td>\n      <td>(34) cm</td>\n      <td>provisional</td>\n      <td>None</td>\n      <td>-1975.0</td>\n      <td>Sevilla, Privatbesitz</td>\n      <td>None</td>\n    </tr>\n    <tr>\n      <th>3</th>\n      <td>Material: lokaler grauer Kalkstein. (B): Stylo...</td>\n      <td>Spain</td>\n      <td>18 cm</td>\n      <td>[ ]AVS[ ]LLA / M PORCI NIGRI SER / DOMINAE VEN...</td>\n      <td>Ipolcobulcula</td>\n      <td>Carcabuey</td>\n      <td>(39) cm</td>\n      <td>HD000004</td>\n      <td>L</td>\n      <td>2015-03-27</td>\n      <td>...</td>\n      <td>[---?]AV(?)S(?)[---]L(?)L(?)A / M(arci) Porci ...</td>\n      <td>https://www.trismegistos.org/text/222102</td>\n      <td>votive inscription</td>\n      <td>altar</td>\n      <td>27 cm</td>\n      <td>checked with photo</td>\n      <td>None</td>\n      <td>-1979.0</td>\n      <td>Carcabuey, Grupo Escolar</td>\n      <td>names of pagan deities</td>\n    </tr>\n    <tr>\n      <th>4</th>\n      <td>(B): Z. 3: C(ai) l(ibertae) Tyches.</td>\n      <td>Italy</td>\n      <td>None</td>\n      <td>[ ] L SVCCESSVS / [ ] L L IRENAEVS / [ ] C L T...</td>\n      <td>Roma</td>\n      <td>Roma</td>\n      <td>None</td>\n      <td>HD000005</td>\n      <td>L</td>\n      <td>2010-01-04</td>\n      <td>...</td>\n      <td>[---] l(ibertus) Successus / [---] L(uci) l(ib...</td>\n      <td>https://www.trismegistos.org/text/265629</td>\n      <td>epitaph</td>\n      <td>stele</td>\n      <td>None</td>\n      <td>no image</td>\n      <td>Via Cupa (ehem. Vigna Nardi)</td>\n      <td>NaN</td>\n      <td>None</td>\n      <td>None</td>\n    </tr>\n  </tbody>\n</table>\n<p>5 rows × 27 columns</p>\n</div>"
     },
     "execution_count": 21,
     "metadata": {},
     "output_type": "execute_result"
    }
   ],
   "source": [
    "### load the API data either from sciencedata or locally:\n",
    "### inscriptions_data_df = pd.DataFrame(s.get(\"https://sciencedata.dk/files/personal_folder/EDH_data/EDH_inscriptions_raw.json\").json())\n",
    "#inscriptions_data_df = s.read_file(\"SDAM_data/EDH/EDH_onebyone_2022-04-28.json\")\n",
    "inscriptions_data_df = pd.read_json(\"../data/large_data/EDH_onebyone.json\")\n",
    "inscriptions_data_df.head(5)"
   ]
  },
  {
   "cell_type": "code",
   "execution_count": 44,
   "outputs": [
    {
     "data": {
      "text/plain": "                                              commentary  country   depth  \\\n2874   Tafel wiederverwendet und auf der Rückseite mi...    Italy    6 cm   \n4064   Vermutlich stammt die Inschrift vom Forum von ...    Italy    None   \n8177                                                None    Spain    None   \n8760                                                None    Italy    None   \n9419                                                None    Italy    None   \n...                                                  ...      ...     ...   \n82819                                               None  Hungary    None   \n82820                                               None  Hungary    None   \n82822                              Inschrift eingepunzt.  Germany    None   \n82823  Scherbe eines Terra-Sigillata-Tellers (Typ Dra...  Germany    None   \n82826                                               None  Germany  (8) cm   \n\n                                         diplomatic_text  \\\n2874   ]IO M F / [ ]RIONI / [ ]ATVRNIN / [ ]RAE / [ /...   \n4064   CAES AVG SAC / C SALLVSTIVS EPAGATHIC / OB HON...   \n8177   [ ] M S / [ ] PAVLINAE / [ ] LIBERTE AN / [ ] ...   \n8760   SVCESSI / / MIRAE PROSAPIAE ADQVE / NIMIAE INT...   \n9419   RVFO BONAE MEMO / RIAE QVI VIXIT / ANNIS SEX D...   \n...                                                  ...   \n82819  ITO PATER HRACVRA M[ ] / QCVRIS CVLENI EA NOMI...   \n82820                               I O M / [ ]VNONI / [   \n82822                                           | ALBANI   \n82823                                              BRIGI   \n82826                                   ] / [ ]RO[ ] / [   \n\n                         findspot_ancient findspot_modern   height        id  \\\n2874                         Vada Sabatia     Vado Ligure  (25) cm  HD002875   \n4064                             Sinuessa         Cellole     None  HD004065   \n8177                         Toletum, bei           Polán     None  HD008178   \n8760                              Puteoli        Pozzuoli     None  HD008761   \n9419                                 None         Rossano     None  HD009420   \n...                                   ...             ...      ...       ...   \n82819                            Aquincum        Budapest     None  HD082820   \n82820                            Aquincum        Budapest  (52) cm  HD082821   \n82822               Colonia Ulpia Traiana          Xanten     None  HD082823   \n82823  Grinario (Civitas Sumelocennensis)          Köngen     None  HD082824   \n82826                                None        Nideggen   (8) cm  HD082827   \n\n      language last_update  ...  \\\n2874         L  2012-05-07  ...   \n4064         L  2011-09-23  ...   \n8177         L  1997-08-17  ...   \n8760         L  2009-10-22  ...   \n9419         L  1997-08-04  ...   \n...        ...         ...  ...   \n82819        L  2021-05-17  ...   \n82820        L  2021-06-30  ...   \n82822        L  2021-09-24  ...   \n82823        L  2021-11-05  ...   \n82826        L  2021-12-07  ...   \n\n                                           transcription trismegistos_uri  \\\n2874   ------]io M(arci) f(ilio) / [---]rioni / [--- ...             None   \n4064   Caes(ari) Aug(usto) sac(rum) / C(aius) Sallust...             None   \n8177   [D(is)] M(anibus) s(acrum) / [Pompeiae] Paulin...             None   \n8760   Suc(c)essi // mirae prosapiae adque(!) / nimia...             None   \n9419   Rufo bonae memo/riae qui vixit / annis sex die...             None   \n...                                                  ...              ...   \n82819  &lt;Dis=ITO&gt; Pater &lt;Ae=H&gt;racura M[er]...             None   \n82820      I(ovi) O(ptimo) M(aximo) / [I]unoni / [------             None   \n82822                                 |(centuria) Albani             None   \n82823                                              Brigi             None   \n82826             ------] / [---]R(?)O(?)[---] / [------             None   \n\n            type_of_inscription         type_of_monument    width  \\\n2874                    epitaph                   tabula  (21) cm   \n4064         votive inscription                     None     None   \n8177                       None                     None     None   \n8760                       None                     None     None   \n9419                       None                     None     None   \n...                         ...                      ...      ...   \n82819                   defixio                  tessera     None   \n82820        votive inscription                    altar    66 cm   \n82822                      None    instrumentum militare     None   \n82823  owner/artist inscription  instrumentum domesticum     None   \n82826        votive inscription                    altar  (18) cm   \n\n              work_status                                       findspot  \\\n2874   checked with photo                        S. Pietro in Carpignano   \n4064          provisional                                  Fondo Morrone   \n8177          provisional                                           None   \n8760          provisional                                           None   \n9419          provisional                                           None   \n...                   ...                                            ...   \n82819         provisional  Óbuda, {Záhony utca 7}, Nekropole, Ausgrabung   \n82820  checked with photo                                           None   \n82822  checked with photo                                           None   \n82823  checked with photo                                           None   \n82826  checked with photo     Abenden, Kirchberg, {Tempelbezirk}, Hof II   \n\n      year_of_find                                 present_location  \\\n2874        1979.0        Soprintendenza archeologica della Liguria   \n4064           NaN                                             None   \n8177           NaN                                             None   \n8760           NaN                                             None   \n9419           NaN                                             None   \n...            ...                                              ...   \n82819       2000.0                                             None   \n82820          NaN                         Budapest, Aquincumi Múz.   \n82822          NaN  Xanten, LVR-Archäolog. Park Xanten / Römer-Mus.   \n82823          NaN                                             None   \n82826          NaN                          Bonn, Rhein. Landesmus.   \n\n                     religion  \n2874                     None  \n4064    cult functions, pagan  \n8177                     None  \n8760                     None  \n9419                     None  \n...                       ...  \n82819                    None  \n82820  names of pagan deities  \n82822                    None  \n82823                    None  \n82826                    None  \n\n[5019 rows x 27 columns]",
      "text/html": "<div>\n<style scoped>\n    .dataframe tbody tr th:only-of-type {\n        vertical-align: middle;\n    }\n\n    .dataframe tbody tr th {\n        vertical-align: top;\n    }\n\n    .dataframe thead th {\n        text-align: right;\n    }\n</style>\n<table border=\"1\" class=\"dataframe\">\n  <thead>\n    <tr style=\"text-align: right;\">\n      <th></th>\n      <th>commentary</th>\n      <th>country</th>\n      <th>depth</th>\n      <th>diplomatic_text</th>\n      <th>findspot_ancient</th>\n      <th>findspot_modern</th>\n      <th>height</th>\n      <th>id</th>\n      <th>language</th>\n      <th>last_update</th>\n      <th>...</th>\n      <th>transcription</th>\n      <th>trismegistos_uri</th>\n      <th>type_of_inscription</th>\n      <th>type_of_monument</th>\n      <th>width</th>\n      <th>work_status</th>\n      <th>findspot</th>\n      <th>year_of_find</th>\n      <th>present_location</th>\n      <th>religion</th>\n    </tr>\n  </thead>\n  <tbody>\n    <tr>\n      <th>2874</th>\n      <td>Tafel wiederverwendet und auf der Rückseite mi...</td>\n      <td>Italy</td>\n      <td>6 cm</td>\n      <td>]IO M F / [ ]RIONI / [ ]ATVRNIN / [ ]RAE / [ /...</td>\n      <td>Vada Sabatia</td>\n      <td>Vado Ligure</td>\n      <td>(25) cm</td>\n      <td>HD002875</td>\n      <td>L</td>\n      <td>2012-05-07</td>\n      <td>...</td>\n      <td>------]io M(arci) f(ilio) / [---]rioni / [--- ...</td>\n      <td>None</td>\n      <td>epitaph</td>\n      <td>tabula</td>\n      <td>(21) cm</td>\n      <td>checked with photo</td>\n      <td>S. Pietro in Carpignano</td>\n      <td>1979.0</td>\n      <td>Soprintendenza archeologica della Liguria</td>\n      <td>None</td>\n    </tr>\n    <tr>\n      <th>4064</th>\n      <td>Vermutlich stammt die Inschrift vom Forum von ...</td>\n      <td>Italy</td>\n      <td>None</td>\n      <td>CAES AVG SAC / C SALLVSTIVS EPAGATHIC / OB HON...</td>\n      <td>Sinuessa</td>\n      <td>Cellole</td>\n      <td>None</td>\n      <td>HD004065</td>\n      <td>L</td>\n      <td>2011-09-23</td>\n      <td>...</td>\n      <td>Caes(ari) Aug(usto) sac(rum) / C(aius) Sallust...</td>\n      <td>None</td>\n      <td>votive inscription</td>\n      <td>None</td>\n      <td>None</td>\n      <td>provisional</td>\n      <td>Fondo Morrone</td>\n      <td>NaN</td>\n      <td>None</td>\n      <td>cult functions, pagan</td>\n    </tr>\n    <tr>\n      <th>8177</th>\n      <td>None</td>\n      <td>Spain</td>\n      <td>None</td>\n      <td>[ ] M S / [ ] PAVLINAE / [ ] LIBERTE AN / [ ] ...</td>\n      <td>Toletum, bei</td>\n      <td>Polán</td>\n      <td>None</td>\n      <td>HD008178</td>\n      <td>L</td>\n      <td>1997-08-17</td>\n      <td>...</td>\n      <td>[D(is)] M(anibus) s(acrum) / [Pompeiae] Paulin...</td>\n      <td>None</td>\n      <td>None</td>\n      <td>None</td>\n      <td>None</td>\n      <td>provisional</td>\n      <td>None</td>\n      <td>NaN</td>\n      <td>None</td>\n      <td>None</td>\n    </tr>\n    <tr>\n      <th>8760</th>\n      <td>None</td>\n      <td>Italy</td>\n      <td>None</td>\n      <td>SVCESSI / / MIRAE PROSAPIAE ADQVE / NIMIAE INT...</td>\n      <td>Puteoli</td>\n      <td>Pozzuoli</td>\n      <td>None</td>\n      <td>HD008761</td>\n      <td>L</td>\n      <td>2009-10-22</td>\n      <td>...</td>\n      <td>Suc(c)essi // mirae prosapiae adque(!) / nimia...</td>\n      <td>None</td>\n      <td>None</td>\n      <td>None</td>\n      <td>None</td>\n      <td>provisional</td>\n      <td>None</td>\n      <td>NaN</td>\n      <td>None</td>\n      <td>None</td>\n    </tr>\n    <tr>\n      <th>9419</th>\n      <td>None</td>\n      <td>Italy</td>\n      <td>None</td>\n      <td>RVFO BONAE MEMO / RIAE QVI VIXIT / ANNIS SEX D...</td>\n      <td>None</td>\n      <td>Rossano</td>\n      <td>None</td>\n      <td>HD009420</td>\n      <td>L</td>\n      <td>1997-08-04</td>\n      <td>...</td>\n      <td>Rufo bonae memo/riae qui vixit / annis sex die...</td>\n      <td>None</td>\n      <td>None</td>\n      <td>None</td>\n      <td>None</td>\n      <td>provisional</td>\n      <td>None</td>\n      <td>NaN</td>\n      <td>None</td>\n      <td>None</td>\n    </tr>\n    <tr>\n      <th>...</th>\n      <td>...</td>\n      <td>...</td>\n      <td>...</td>\n      <td>...</td>\n      <td>...</td>\n      <td>...</td>\n      <td>...</td>\n      <td>...</td>\n      <td>...</td>\n      <td>...</td>\n      <td>...</td>\n      <td>...</td>\n      <td>...</td>\n      <td>...</td>\n      <td>...</td>\n      <td>...</td>\n      <td>...</td>\n      <td>...</td>\n      <td>...</td>\n      <td>...</td>\n      <td>...</td>\n    </tr>\n    <tr>\n      <th>82819</th>\n      <td>None</td>\n      <td>Hungary</td>\n      <td>None</td>\n      <td>ITO PATER HRACVRA M[ ] / QCVRIS CVLENI EA NOMI...</td>\n      <td>Aquincum</td>\n      <td>Budapest</td>\n      <td>None</td>\n      <td>HD082820</td>\n      <td>L</td>\n      <td>2021-05-17</td>\n      <td>...</td>\n      <td>&amp;lt;Dis=ITO&amp;gt; Pater &amp;lt;Ae=H&amp;gt;racura M[er]...</td>\n      <td>None</td>\n      <td>defixio</td>\n      <td>tessera</td>\n      <td>None</td>\n      <td>provisional</td>\n      <td>Óbuda, {Záhony utca 7}, Nekropole, Ausgrabung</td>\n      <td>2000.0</td>\n      <td>None</td>\n      <td>None</td>\n    </tr>\n    <tr>\n      <th>82820</th>\n      <td>None</td>\n      <td>Hungary</td>\n      <td>None</td>\n      <td>I O M / [ ]VNONI / [</td>\n      <td>Aquincum</td>\n      <td>Budapest</td>\n      <td>(52) cm</td>\n      <td>HD082821</td>\n      <td>L</td>\n      <td>2021-06-30</td>\n      <td>...</td>\n      <td>I(ovi) O(ptimo) M(aximo) / [I]unoni / [------</td>\n      <td>None</td>\n      <td>votive inscription</td>\n      <td>altar</td>\n      <td>66 cm</td>\n      <td>checked with photo</td>\n      <td>None</td>\n      <td>NaN</td>\n      <td>Budapest, Aquincumi Múz.</td>\n      <td>names of pagan deities</td>\n    </tr>\n    <tr>\n      <th>82822</th>\n      <td>Inschrift eingepunzt.</td>\n      <td>Germany</td>\n      <td>None</td>\n      <td>| ALBANI</td>\n      <td>Colonia Ulpia Traiana</td>\n      <td>Xanten</td>\n      <td>None</td>\n      <td>HD082823</td>\n      <td>L</td>\n      <td>2021-09-24</td>\n      <td>...</td>\n      <td>|(centuria) Albani</td>\n      <td>None</td>\n      <td>None</td>\n      <td>instrumentum militare</td>\n      <td>None</td>\n      <td>checked with photo</td>\n      <td>None</td>\n      <td>NaN</td>\n      <td>Xanten, LVR-Archäolog. Park Xanten / Römer-Mus.</td>\n      <td>None</td>\n    </tr>\n    <tr>\n      <th>82823</th>\n      <td>Scherbe eines Terra-Sigillata-Tellers (Typ Dra...</td>\n      <td>Germany</td>\n      <td>None</td>\n      <td>BRIGI</td>\n      <td>Grinario (Civitas Sumelocennensis)</td>\n      <td>Köngen</td>\n      <td>None</td>\n      <td>HD082824</td>\n      <td>L</td>\n      <td>2021-11-05</td>\n      <td>...</td>\n      <td>Brigi</td>\n      <td>None</td>\n      <td>owner/artist inscription</td>\n      <td>instrumentum domesticum</td>\n      <td>None</td>\n      <td>checked with photo</td>\n      <td>None</td>\n      <td>NaN</td>\n      <td>None</td>\n      <td>None</td>\n    </tr>\n    <tr>\n      <th>82826</th>\n      <td>None</td>\n      <td>Germany</td>\n      <td>(8) cm</td>\n      <td>] / [ ]RO[ ] / [</td>\n      <td>None</td>\n      <td>Nideggen</td>\n      <td>(8) cm</td>\n      <td>HD082827</td>\n      <td>L</td>\n      <td>2021-12-07</td>\n      <td>...</td>\n      <td>------] / [---]R(?)O(?)[---] / [------</td>\n      <td>None</td>\n      <td>votive inscription</td>\n      <td>altar</td>\n      <td>(18) cm</td>\n      <td>checked with photo</td>\n      <td>Abenden, Kirchberg, {Tempelbezirk}, Hof II</td>\n      <td>NaN</td>\n      <td>Bonn, Rhein. Landesmus.</td>\n      <td>None</td>\n    </tr>\n  </tbody>\n</table>\n<p>5019 rows × 27 columns</p>\n</div>"
     },
     "execution_count": 44,
     "metadata": {},
     "output_type": "execute_result"
    }
   ],
   "source": [
    "inscriptions_data_df[inscriptions_data_df[\"trismegistos_uri\"].isna()]"
   ],
   "metadata": {
    "collapsed": false,
    "pycharm": {
     "name": "#%%\n"
    }
   }
  },
  {
   "cell_type": "code",
   "execution_count": 24,
   "outputs": [
    {
     "data": {
      "text/plain": "   idno_uri  idno_tm                                    placenames_refs  \\\n0  HD000001      NaN  [{'type': 'ancient', 'text': 'Cumae, bei', 're...   \n1  HD000002      NaN  [{'type': 'ancient', 'text': 'Roma', 'ref': 'h...   \n2  HD000003      NaN  [{'type': 'ancient', 'text': '', 'ref': '#'}, ...   \n3  HD000004      NaN  [{'type': 'ancient', 'text': 'Ipolcobulcula', ...   \n4  HD000005      NaN  [{'type': 'ancient', 'text': 'Roma', 'ref': 'h...   \n\n                                        text_edition    origdate_text  \\\n0  \\n Dis Manibus Noniae Publi filiae Optatae et ...   71 AD - 130 AD   \n1       \\n Caius Sextius Paris qui vixit annis LXX\\n   51 AD - 200 AD   \n2  \\n Publio Mummio Publi filio Galeria Sisennae ...  131 AD - 170 AD   \n3  \\n AVSLLA Marci Porci Nigri serva dominae Vene...  151 AD - 200 AD   \n4  \\n libertus Successus Luci libertus Irenaeus C...    1 AD - 200 AD   \n\n   layout_execution  layout_execution_text support_objecttype  \\\n0               NaN                    NaN                257   \n1               NaN                    NaN                257   \n2               NaN                    NaN                 57   \n3               NaN                    NaN                 29   \n4               NaN                    NaN                250   \n\n  support_objecttype_text  support_material            support_material_text  \\\n0                  tabula               NaN  Marmor, ge\\xc3\\xa4dert / farbig   \n1                  tabula              48.0                           Marmor   \n2             statue base              48.0                           Marmor   \n3                   altar              60.0                        Kalkstein   \n4                   stele               NaN                             None   \n\n   support_decoration  keywords_term     keywords_term_text  \\\n0                1000           92.0                epitaph   \n1                1000           92.0                epitaph   \n2                1000           69.0  honorific inscription   \n3                1000          372.0     votive inscription   \n4                1000           92.0                epitaph   \n\n                                              people  \n0  [{'persname': {'name': [{'@type': 'nomen', '#t...  \n1  {'persname': {'name': [{'@type': 'praenomen', ...  \n2  {'persname': {'name': [{'@type': 'praenomen', ...  \n3  [{'persname': {'name': {'@type': 'cognomen', '...  \n4  [{'persname': {'name': [{'@type': 'praenomen',...  ",
      "text/html": "<div>\n<style scoped>\n    .dataframe tbody tr th:only-of-type {\n        vertical-align: middle;\n    }\n\n    .dataframe tbody tr th {\n        vertical-align: top;\n    }\n\n    .dataframe thead th {\n        text-align: right;\n    }\n</style>\n<table border=\"1\" class=\"dataframe\">\n  <thead>\n    <tr style=\"text-align: right;\">\n      <th></th>\n      <th>idno_uri</th>\n      <th>idno_tm</th>\n      <th>placenames_refs</th>\n      <th>text_edition</th>\n      <th>origdate_text</th>\n      <th>layout_execution</th>\n      <th>layout_execution_text</th>\n      <th>support_objecttype</th>\n      <th>support_objecttype_text</th>\n      <th>support_material</th>\n      <th>support_material_text</th>\n      <th>support_decoration</th>\n      <th>keywords_term</th>\n      <th>keywords_term_text</th>\n      <th>people</th>\n    </tr>\n  </thead>\n  <tbody>\n    <tr>\n      <th>0</th>\n      <td>HD000001</td>\n      <td>NaN</td>\n      <td>[{'type': 'ancient', 'text': 'Cumae, bei', 're...</td>\n      <td>\\n Dis Manibus Noniae Publi filiae Optatae et ...</td>\n      <td>71 AD - 130 AD</td>\n      <td>NaN</td>\n      <td>NaN</td>\n      <td>257</td>\n      <td>tabula</td>\n      <td>NaN</td>\n      <td>Marmor, ge\\xc3\\xa4dert / farbig</td>\n      <td>1000</td>\n      <td>92.0</td>\n      <td>epitaph</td>\n      <td>[{'persname': {'name': [{'@type': 'nomen', '#t...</td>\n    </tr>\n    <tr>\n      <th>1</th>\n      <td>HD000002</td>\n      <td>NaN</td>\n      <td>[{'type': 'ancient', 'text': 'Roma', 'ref': 'h...</td>\n      <td>\\n Caius Sextius Paris qui vixit annis LXX\\n</td>\n      <td>51 AD - 200 AD</td>\n      <td>NaN</td>\n      <td>NaN</td>\n      <td>257</td>\n      <td>tabula</td>\n      <td>48.0</td>\n      <td>Marmor</td>\n      <td>1000</td>\n      <td>92.0</td>\n      <td>epitaph</td>\n      <td>{'persname': {'name': [{'@type': 'praenomen', ...</td>\n    </tr>\n    <tr>\n      <th>2</th>\n      <td>HD000003</td>\n      <td>NaN</td>\n      <td>[{'type': 'ancient', 'text': '', 'ref': '#'}, ...</td>\n      <td>\\n Publio Mummio Publi filio Galeria Sisennae ...</td>\n      <td>131 AD - 170 AD</td>\n      <td>NaN</td>\n      <td>NaN</td>\n      <td>57</td>\n      <td>statue base</td>\n      <td>48.0</td>\n      <td>Marmor</td>\n      <td>1000</td>\n      <td>69.0</td>\n      <td>honorific inscription</td>\n      <td>{'persname': {'name': [{'@type': 'praenomen', ...</td>\n    </tr>\n    <tr>\n      <th>3</th>\n      <td>HD000004</td>\n      <td>NaN</td>\n      <td>[{'type': 'ancient', 'text': 'Ipolcobulcula', ...</td>\n      <td>\\n AVSLLA Marci Porci Nigri serva dominae Vene...</td>\n      <td>151 AD - 200 AD</td>\n      <td>NaN</td>\n      <td>NaN</td>\n      <td>29</td>\n      <td>altar</td>\n      <td>60.0</td>\n      <td>Kalkstein</td>\n      <td>1000</td>\n      <td>372.0</td>\n      <td>votive inscription</td>\n      <td>[{'persname': {'name': {'@type': 'cognomen', '...</td>\n    </tr>\n    <tr>\n      <th>4</th>\n      <td>HD000005</td>\n      <td>NaN</td>\n      <td>[{'type': 'ancient', 'text': 'Roma', 'ref': 'h...</td>\n      <td>\\n libertus Successus Luci libertus Irenaeus C...</td>\n      <td>1 AD - 200 AD</td>\n      <td>NaN</td>\n      <td>NaN</td>\n      <td>250</td>\n      <td>stele</td>\n      <td>NaN</td>\n      <td>None</td>\n      <td>1000</td>\n      <td>92.0</td>\n      <td>epitaph</td>\n      <td>[{'persname': {'name': [{'@type': 'praenomen',...</td>\n    </tr>\n  </tbody>\n</table>\n</div>"
     },
     "execution_count": 24,
     "metadata": {},
     "output_type": "execute_result"
    }
   ],
   "source": [
    "EDH_xml_data = pd.read_json(\"../data/large_data/edh_xml_data.json\")\n",
    "EDH_xml_data.head()"
   ],
   "metadata": {
    "collapsed": false,
    "pycharm": {
     "name": "#%%\n"
    }
   }
  },
  {
   "cell_type": "code",
   "execution_count": 54,
   "outputs": [
    {
     "data": {
      "text/plain": "   idno_uri  idno_tm                                    placenames_refs  \\\n0  HD000001      NaN  [{'type': 'ancient', 'text': 'Cumae, bei', 're...   \n1  HD000002      NaN  [{'type': 'ancient', 'text': 'Roma', 'ref': 'h...   \n2  HD000003      NaN  [{'type': 'ancient', 'text': '', 'ref': '#'}, ...   \n3  HD000004      NaN  [{'type': 'ancient', 'text': 'Ipolcobulcula', ...   \n4  HD000005      NaN  [{'type': 'ancient', 'text': 'Roma', 'ref': 'h...   \n\n                                        text_edition    origdate_text  \\\n0  \\n Dis Manibus Noniae Publi filiae Optatae et ...   71 AD - 130 AD   \n1       \\n Caius Sextius Paris qui vixit annis LXX\\n   51 AD - 200 AD   \n2  \\n Publio Mummio Publi filio Galeria Sisennae ...  131 AD - 170 AD   \n3  \\n AVSLLA Marci Porci Nigri serva dominae Vene...  151 AD - 200 AD   \n4  \\n libertus Successus Luci libertus Irenaeus C...    1 AD - 200 AD   \n\n   layout_execution  layout_execution_text support_objecttype  \\\n0               NaN                    NaN                257   \n1               NaN                    NaN                257   \n2               NaN                    NaN                 57   \n3               NaN                    NaN                 29   \n4               NaN                    NaN                250   \n\n  support_objecttype_text  support_material            support_material_text  \\\n0                  tabula               NaN  Marmor, ge\\xc3\\xa4dert / farbig   \n1                  tabula              48.0                           Marmor   \n2             statue base              48.0                           Marmor   \n3                   altar              60.0                        Kalkstein   \n4                   stele               NaN                             None   \n\n   support_decoration  keywords_term     keywords_term_text  \\\n0                1000           92.0                epitaph   \n1                1000           92.0                epitaph   \n2                1000           69.0  honorific inscription   \n3                1000          372.0     votive inscription   \n4                1000           92.0                epitaph   \n\n                                              people pleiades_id  \n0  [{'persname': {'name': [{'@type': 'nomen', '#t...      432808  \n1  {'persname': {'name': [{'@type': 'praenomen', ...      423025  \n2  {'persname': {'name': [{'@type': 'praenomen', ...        None  \n3  [{'persname': {'name': {'@type': 'cognomen', '...        None  \n4  [{'persname': {'name': [{'@type': 'praenomen',...      423025  ",
      "text/html": "<div>\n<style scoped>\n    .dataframe tbody tr th:only-of-type {\n        vertical-align: middle;\n    }\n\n    .dataframe tbody tr th {\n        vertical-align: top;\n    }\n\n    .dataframe thead th {\n        text-align: right;\n    }\n</style>\n<table border=\"1\" class=\"dataframe\">\n  <thead>\n    <tr style=\"text-align: right;\">\n      <th></th>\n      <th>idno_uri</th>\n      <th>idno_tm</th>\n      <th>placenames_refs</th>\n      <th>text_edition</th>\n      <th>origdate_text</th>\n      <th>layout_execution</th>\n      <th>layout_execution_text</th>\n      <th>support_objecttype</th>\n      <th>support_objecttype_text</th>\n      <th>support_material</th>\n      <th>support_material_text</th>\n      <th>support_decoration</th>\n      <th>keywords_term</th>\n      <th>keywords_term_text</th>\n      <th>people</th>\n      <th>pleiades_id</th>\n    </tr>\n  </thead>\n  <tbody>\n    <tr>\n      <th>0</th>\n      <td>HD000001</td>\n      <td>NaN</td>\n      <td>[{'type': 'ancient', 'text': 'Cumae, bei', 're...</td>\n      <td>\\n Dis Manibus Noniae Publi filiae Optatae et ...</td>\n      <td>71 AD - 130 AD</td>\n      <td>NaN</td>\n      <td>NaN</td>\n      <td>257</td>\n      <td>tabula</td>\n      <td>NaN</td>\n      <td>Marmor, ge\\xc3\\xa4dert / farbig</td>\n      <td>1000</td>\n      <td>92.0</td>\n      <td>epitaph</td>\n      <td>[{'persname': {'name': [{'@type': 'nomen', '#t...</td>\n      <td>432808</td>\n    </tr>\n    <tr>\n      <th>1</th>\n      <td>HD000002</td>\n      <td>NaN</td>\n      <td>[{'type': 'ancient', 'text': 'Roma', 'ref': 'h...</td>\n      <td>\\n Caius Sextius Paris qui vixit annis LXX\\n</td>\n      <td>51 AD - 200 AD</td>\n      <td>NaN</td>\n      <td>NaN</td>\n      <td>257</td>\n      <td>tabula</td>\n      <td>48.0</td>\n      <td>Marmor</td>\n      <td>1000</td>\n      <td>92.0</td>\n      <td>epitaph</td>\n      <td>{'persname': {'name': [{'@type': 'praenomen', ...</td>\n      <td>423025</td>\n    </tr>\n    <tr>\n      <th>2</th>\n      <td>HD000003</td>\n      <td>NaN</td>\n      <td>[{'type': 'ancient', 'text': '', 'ref': '#'}, ...</td>\n      <td>\\n Publio Mummio Publi filio Galeria Sisennae ...</td>\n      <td>131 AD - 170 AD</td>\n      <td>NaN</td>\n      <td>NaN</td>\n      <td>57</td>\n      <td>statue base</td>\n      <td>48.0</td>\n      <td>Marmor</td>\n      <td>1000</td>\n      <td>69.0</td>\n      <td>honorific inscription</td>\n      <td>{'persname': {'name': [{'@type': 'praenomen', ...</td>\n      <td>None</td>\n    </tr>\n    <tr>\n      <th>3</th>\n      <td>HD000004</td>\n      <td>NaN</td>\n      <td>[{'type': 'ancient', 'text': 'Ipolcobulcula', ...</td>\n      <td>\\n AVSLLA Marci Porci Nigri serva dominae Vene...</td>\n      <td>151 AD - 200 AD</td>\n      <td>NaN</td>\n      <td>NaN</td>\n      <td>29</td>\n      <td>altar</td>\n      <td>60.0</td>\n      <td>Kalkstein</td>\n      <td>1000</td>\n      <td>372.0</td>\n      <td>votive inscription</td>\n      <td>[{'persname': {'name': {'@type': 'cognomen', '...</td>\n      <td>None</td>\n    </tr>\n    <tr>\n      <th>4</th>\n      <td>HD000005</td>\n      <td>NaN</td>\n      <td>[{'type': 'ancient', 'text': 'Roma', 'ref': 'h...</td>\n      <td>\\n libertus Successus Luci libertus Irenaeus C...</td>\n      <td>1 AD - 200 AD</td>\n      <td>NaN</td>\n      <td>NaN</td>\n      <td>250</td>\n      <td>stele</td>\n      <td>NaN</td>\n      <td>None</td>\n      <td>1000</td>\n      <td>92.0</td>\n      <td>epitaph</td>\n      <td>[{'persname': {'name': [{'@type': 'praenomen',...</td>\n      <td>423025</td>\n    </tr>\n  </tbody>\n</table>\n</div>"
     },
     "execution_count": 54,
     "metadata": {},
     "output_type": "execute_result"
    }
   ],
   "source": [
    "def extract_pleiades_id(placenames_refs):\n",
    "    try:\n",
    "        return [refdict[\"ref\"].rpartition(\"/\")[2] for refdict in placenames_refs if \"pleiades\" in refdict[\"ref\"]][0]\n",
    "    except:\n",
    "        return None\n",
    "\n",
    "EDH_xml_data[\"pleiades_id\"] = EDH_xml_data[\"placenames_refs\"].apply(extract_pleiades_id)\n",
    "EDH_xml_data.head(5)"
   ],
   "metadata": {
    "collapsed": false,
    "pycharm": {
     "name": "#%%\n"
    }
   }
  },
  {
   "cell_type": "code",
   "execution_count": 22,
   "metadata": {
    "pycharm": {
     "name": "#%%\n"
    }
   },
   "outputs": [],
   "source": [
    "# load geographies\n",
    "#EDH_geo_dict = s.read_file(\"SDAM_data/EDH/EDH_geo_dict_2022-04-28.json\", \"dict\")\n",
    "EDH_geo_dict = json.load(open(\"../data/large_data/geo_uri_dict.json\", \"r\"))"
   ]
  },
  {
   "cell_type": "code",
   "execution_count": 23,
   "metadata": {
    "pycharm": {
     "name": "#%%\n"
    }
   },
   "outputs": [
    {
     "data": {
      "text/plain": "{'type': 'Feature',\n 'properties': {'uri': 'https://edh-www.adw.uni-heidelberg.de/edh/geographie/12346',\n  'pleiades_uri': 'https://pleiades.stoa.org/places/432808',\n  'findspot_(village/street)': 'Via Campana antica',\n  'modern_findspot': 'Cuma',\n  'trismegistos_geo_uri': 'https://www.trismegistos.org/place/14437',\n  'ancient_findspot': 'Cumae'},\n 'geometry': {'coordinates': [14.0550756, 40.8471577], 'type': 'Point'}}"
     },
     "execution_count": 23,
     "metadata": {},
     "output_type": "execute_result"
    }
   ],
   "source": [
    "EDH_geo_dict[\"432808\"]"
   ]
  },
  {
   "cell_type": "code",
   "execution_count": 57,
   "metadata": {
    "colab": {
     "base_uri": "https://localhost:8080/",
     "height": 51
    },
    "colab_type": "code",
    "id": "Dj0yPw2Hf5hb",
    "outputId": "61f12374-e5e1-438f-c440-29fab0af99b2",
    "pycharm": {
     "name": "#%%\n"
    }
   },
   "outputs": [
    {
     "name": "stdout",
     "output_type": "stream",
     "text": [
      "CPU times: user 677 ms, sys: 98.2 ms, total: 776 ms\n",
      "Wall time: 799 ms\n"
     ]
    }
   ],
   "source": [
    "%%time\n",
    "\n",
    "### use \"edh_geography_uri\" column to\n",
    "### put information from geo_data_df \"coordinates\" column\n",
    "### and return it as a new \"coordinates\" column in the inscriptions_data_df \n",
    "\n",
    "def get_coordinates(uri_value, latorlong):\n",
    "  try:\n",
    "    feature = EDH_geo_dict[uri_value.rpartition(\"/\")[2]]\n",
    "    if latorlong==\"latitude\":\n",
    "        return feature[\"geometry\"][\"coordinates\"][1]\n",
    "    else:\n",
    "        return feature[\"geometry\"][\"coordinates\"][0]\n",
    "  except:\n",
    "    return None\n",
    "\n",
    "EDH_xml_data[\"longitude\"]  =  EDH_xml_data.apply(lambda row: get_coordinates(row[\"pleiades_id\"], \"longitude\"), axis=1)\n",
    "\n",
    "EDH_xml_data[\"latitude\"]  =  EDH_xml_data.apply(lambda row: get_coordinates(row[\"pleiades_id\"], \"latitude\"), axis=1)"
   ]
  },
  {
   "cell_type": "code",
   "execution_count": 58,
   "outputs": [
    {
     "data": {
      "text/plain": "   idno_uri  idno_tm                                    placenames_refs  \\\n0  HD000001      NaN  [{'type': 'ancient', 'text': 'Cumae, bei', 're...   \n1  HD000002      NaN  [{'type': 'ancient', 'text': 'Roma', 'ref': 'h...   \n2  HD000003      NaN  [{'type': 'ancient', 'text': '', 'ref': '#'}, ...   \n3  HD000004      NaN  [{'type': 'ancient', 'text': 'Ipolcobulcula', ...   \n4  HD000005      NaN  [{'type': 'ancient', 'text': 'Roma', 'ref': 'h...   \n\n                                        text_edition    origdate_text  \\\n0  \\n Dis Manibus Noniae Publi filiae Optatae et ...   71 AD - 130 AD   \n1       \\n Caius Sextius Paris qui vixit annis LXX\\n   51 AD - 200 AD   \n2  \\n Publio Mummio Publi filio Galeria Sisennae ...  131 AD - 170 AD   \n3  \\n AVSLLA Marci Porci Nigri serva dominae Vene...  151 AD - 200 AD   \n4  \\n libertus Successus Luci libertus Irenaeus C...    1 AD - 200 AD   \n\n   layout_execution  layout_execution_text support_objecttype  \\\n0               NaN                    NaN                257   \n1               NaN                    NaN                257   \n2               NaN                    NaN                 57   \n3               NaN                    NaN                 29   \n4               NaN                    NaN                250   \n\n  support_objecttype_text  support_material            support_material_text  \\\n0                  tabula               NaN  Marmor, ge\\xc3\\xa4dert / farbig   \n1                  tabula              48.0                           Marmor   \n2             statue base              48.0                           Marmor   \n3                   altar              60.0                        Kalkstein   \n4                   stele               NaN                             None   \n\n   support_decoration  keywords_term     keywords_term_text  \\\n0                1000           92.0                epitaph   \n1                1000           92.0                epitaph   \n2                1000           69.0  honorific inscription   \n3                1000          372.0     votive inscription   \n4                1000           92.0                epitaph   \n\n                                              people pleiades_id  longitude  \\\n0  [{'persname': {'name': [{'@type': 'nomen', '#t...      432808  14.055076   \n1  {'persname': {'name': [{'@type': 'praenomen', ...      423025  12.486168   \n2  {'persname': {'name': [{'@type': 'praenomen', ...        None        NaN   \n3  [{'persname': {'name': {'@type': 'cognomen', '...        None        NaN   \n4  [{'persname': {'name': [{'@type': 'praenomen',...      423025  12.486168   \n\n    latitude  \n0  40.847158  \n1  41.891737  \n2        NaN  \n3        NaN  \n4  41.891737  ",
      "text/html": "<div>\n<style scoped>\n    .dataframe tbody tr th:only-of-type {\n        vertical-align: middle;\n    }\n\n    .dataframe tbody tr th {\n        vertical-align: top;\n    }\n\n    .dataframe thead th {\n        text-align: right;\n    }\n</style>\n<table border=\"1\" class=\"dataframe\">\n  <thead>\n    <tr style=\"text-align: right;\">\n      <th></th>\n      <th>idno_uri</th>\n      <th>idno_tm</th>\n      <th>placenames_refs</th>\n      <th>text_edition</th>\n      <th>origdate_text</th>\n      <th>layout_execution</th>\n      <th>layout_execution_text</th>\n      <th>support_objecttype</th>\n      <th>support_objecttype_text</th>\n      <th>support_material</th>\n      <th>support_material_text</th>\n      <th>support_decoration</th>\n      <th>keywords_term</th>\n      <th>keywords_term_text</th>\n      <th>people</th>\n      <th>pleiades_id</th>\n      <th>longitude</th>\n      <th>latitude</th>\n    </tr>\n  </thead>\n  <tbody>\n    <tr>\n      <th>0</th>\n      <td>HD000001</td>\n      <td>NaN</td>\n      <td>[{'type': 'ancient', 'text': 'Cumae, bei', 're...</td>\n      <td>\\n Dis Manibus Noniae Publi filiae Optatae et ...</td>\n      <td>71 AD - 130 AD</td>\n      <td>NaN</td>\n      <td>NaN</td>\n      <td>257</td>\n      <td>tabula</td>\n      <td>NaN</td>\n      <td>Marmor, ge\\xc3\\xa4dert / farbig</td>\n      <td>1000</td>\n      <td>92.0</td>\n      <td>epitaph</td>\n      <td>[{'persname': {'name': [{'@type': 'nomen', '#t...</td>\n      <td>432808</td>\n      <td>14.055076</td>\n      <td>40.847158</td>\n    </tr>\n    <tr>\n      <th>1</th>\n      <td>HD000002</td>\n      <td>NaN</td>\n      <td>[{'type': 'ancient', 'text': 'Roma', 'ref': 'h...</td>\n      <td>\\n Caius Sextius Paris qui vixit annis LXX\\n</td>\n      <td>51 AD - 200 AD</td>\n      <td>NaN</td>\n      <td>NaN</td>\n      <td>257</td>\n      <td>tabula</td>\n      <td>48.0</td>\n      <td>Marmor</td>\n      <td>1000</td>\n      <td>92.0</td>\n      <td>epitaph</td>\n      <td>{'persname': {'name': [{'@type': 'praenomen', ...</td>\n      <td>423025</td>\n      <td>12.486168</td>\n      <td>41.891737</td>\n    </tr>\n    <tr>\n      <th>2</th>\n      <td>HD000003</td>\n      <td>NaN</td>\n      <td>[{'type': 'ancient', 'text': '', 'ref': '#'}, ...</td>\n      <td>\\n Publio Mummio Publi filio Galeria Sisennae ...</td>\n      <td>131 AD - 170 AD</td>\n      <td>NaN</td>\n      <td>NaN</td>\n      <td>57</td>\n      <td>statue base</td>\n      <td>48.0</td>\n      <td>Marmor</td>\n      <td>1000</td>\n      <td>69.0</td>\n      <td>honorific inscription</td>\n      <td>{'persname': {'name': [{'@type': 'praenomen', ...</td>\n      <td>None</td>\n      <td>NaN</td>\n      <td>NaN</td>\n    </tr>\n    <tr>\n      <th>3</th>\n      <td>HD000004</td>\n      <td>NaN</td>\n      <td>[{'type': 'ancient', 'text': 'Ipolcobulcula', ...</td>\n      <td>\\n AVSLLA Marci Porci Nigri serva dominae Vene...</td>\n      <td>151 AD - 200 AD</td>\n      <td>NaN</td>\n      <td>NaN</td>\n      <td>29</td>\n      <td>altar</td>\n      <td>60.0</td>\n      <td>Kalkstein</td>\n      <td>1000</td>\n      <td>372.0</td>\n      <td>votive inscription</td>\n      <td>[{'persname': {'name': {'@type': 'cognomen', '...</td>\n      <td>None</td>\n      <td>NaN</td>\n      <td>NaN</td>\n    </tr>\n    <tr>\n      <th>4</th>\n      <td>HD000005</td>\n      <td>NaN</td>\n      <td>[{'type': 'ancient', 'text': 'Roma', 'ref': 'h...</td>\n      <td>\\n libertus Successus Luci libertus Irenaeus C...</td>\n      <td>1 AD - 200 AD</td>\n      <td>NaN</td>\n      <td>NaN</td>\n      <td>250</td>\n      <td>stele</td>\n      <td>NaN</td>\n      <td>None</td>\n      <td>1000</td>\n      <td>92.0</td>\n      <td>epitaph</td>\n      <td>[{'persname': {'name': [{'@type': 'praenomen',...</td>\n      <td>423025</td>\n      <td>12.486168</td>\n      <td>41.891737</td>\n    </tr>\n  </tbody>\n</table>\n</div>"
     },
     "execution_count": 58,
     "metadata": {},
     "output_type": "execute_result"
    }
   ],
   "source": [
    "EDH_xml_data.head(5)"
   ],
   "metadata": {
    "collapsed": false,
    "pycharm": {
     "name": "#%%\n"
    }
   }
  },
  {
   "cell_type": "code",
   "execution_count": 59,
   "outputs": [
    {
     "data": {
      "text/plain": "       idno_uri  idno_tm                                    placenames_refs  \\\n0      HD000001      NaN  [{'type': 'ancient', 'text': 'Cumae, bei', 're...   \n1      HD000002      NaN  [{'type': 'ancient', 'text': 'Roma', 'ref': 'h...   \n4      HD000005      NaN  [{'type': 'ancient', 'text': 'Roma', 'ref': 'h...   \n5      HD000006      NaN  [{'type': 'ancient', 'text': 'Sabora, bei', 'r...   \n6      HD000007      NaN  [{'type': 'ancient', 'text': 'Roma', 'ref': 'h...   \n...         ...      ...                                                ...   \n81873  HD082820      NaN  [{'type': 'ancient', 'text': 'Aquincum', 'ref'...   \n81874  HD082821      NaN  [{'type': 'ancient', 'text': 'Aquincum', 'ref'...   \n81875  HD082822      NaN  [{'type': 'ancient', 'text': 'Colonia Claudia ...   \n81876  HD082823      NaN  [{'type': 'ancient', 'text': 'Colonia Ulpia Tr...   \n81877  HD082824      NaN  [{'type': 'ancient', 'text': 'Grinario (Civita...   \n\n                                            text_edition    origdate_text  \\\n0      \\n Dis Manibus Noniae Publi filiae Optatae et ...   71 AD - 130 AD   \n1           \\n Caius Sextius Paris qui vixit annis LXX\\n   51 AD - 200 AD   \n4      \\n libertus Successus Luci libertus Irenaeus C...    1 AD - 200 AD   \n5      \\n Dis Manibus sacrum Memmia Auctina annorum L...   71 AD - 150 AD   \n6                                \\n Clodia Marci filia\\n   100 BC - 51 BC   \n...                                                  ...              ...   \n81873  \\n &lt;Dis=ITO&gt; Pater &lt;Ae=H&gt;racura Me...  201 AD - 400 AD   \n81874                    \\n Iovi Optimo Maximo Iunoni \\n  171 AD - 300 AD   \n81875  \\n M a&lt;m=S&gt;ator &lt;f=E&gt;eli&lt;x=C&gt...    1 AD - 300 AD   \n81876                               \\n centuria Albani\\n   31 AD - 100 AD   \n81877                                         \\n Brigi\\n  101 AD - 200 AD   \n\n       layout_execution  layout_execution_text support_objecttype  \\\n0                   NaN                    NaN                257   \n1                   NaN                    NaN                257   \n4                   NaN                    NaN                250   \n5                   NaN                    NaN                250   \n6                   NaN                    NaN                257   \n...                 ...                    ...                ...   \n81873               NaN                    NaN                276   \n81874               NaN                    NaN                 29   \n81875               NaN                    NaN                140   \n81876               NaN                    NaN                141   \n81877               NaN                    NaN                140   \n\n       support_objecttype_text  support_material  \\\n0                       tabula               NaN   \n1                       tabula              48.0   \n4                        stele               NaN   \n5                        stele              60.0   \n6                       tabula              71.0   \n...                        ...               ...   \n81873                  tessera             108.0   \n81874                    altar               NaN   \n81875  instrumentum domesticum             131.0   \n81876    instrumentum militare             109.0   \n81877  instrumentum domesticum             131.0   \n\n                 support_material_text  support_decoration  keywords_term  \\\n0      Marmor, ge\\xc3\\xa4dert / farbig                1000           92.0   \n1                               Marmor                1000           92.0   \n4                                 None                1000           92.0   \n5                            Kalkstein                1000           92.0   \n6                            Travertin                1000           92.0   \n...                                ...                 ...            ...   \n81873                             Blei                1000           76.0   \n81874                         Gesteine                1000          372.0   \n81875                              Ton                1000           73.0   \n81876                           Bronze                1000          143.0   \n81877                              Ton                1000            NaN   \n\n             keywords_term_text  \\\n0                       epitaph   \n1                       epitaph   \n4                       epitaph   \n5                       epitaph   \n6                       epitaph   \n...                         ...   \n81873                   defixio   \n81874        votive inscription   \n81875               acclamation   \n81876                   unknown   \n81877  owner/artist inscription   \n\n                                                  people pleiades_id  \\\n0      [{'persname': {'name': [{'@type': 'nomen', '#t...      432808   \n1      {'persname': {'name': [{'@type': 'praenomen', ...      423025   \n4      [{'persname': {'name': [{'@type': 'praenomen',...      423025   \n5      {'persname': {'name': [{'@type': 'nomen', '#te...      256408   \n6      {'persname': {'name': {'@type': 'nomen', '#tex...      423025   \n...                                                  ...         ...   \n81873                                               None      197130   \n81874                                               None      197130   \n81875  {'persname': {'name': {'@type': 'cognomen', '#...      108751   \n81876  {'persname': {'name': {'@type': 'cognomen', '#...      108896   \n81877  {'persname': {'name': {'@type': 'cognomen', '#...      118706   \n\n       longitude   latitude  \n0      14.055076  40.847158  \n1      12.486168  41.891737  \n4      12.486168  41.891737  \n5      -5.024355  36.934635  \n6      12.486168  41.891737  \n...          ...        ...  \n81873  18.661809  46.722776  \n81874  18.661809  46.722776  \n81875   6.868018  51.065052  \n81876   6.453261  51.662294  \n81877   9.360198  48.677240  \n\n[64887 rows x 18 columns]",
      "text/html": "<div>\n<style scoped>\n    .dataframe tbody tr th:only-of-type {\n        vertical-align: middle;\n    }\n\n    .dataframe tbody tr th {\n        vertical-align: top;\n    }\n\n    .dataframe thead th {\n        text-align: right;\n    }\n</style>\n<table border=\"1\" class=\"dataframe\">\n  <thead>\n    <tr style=\"text-align: right;\">\n      <th></th>\n      <th>idno_uri</th>\n      <th>idno_tm</th>\n      <th>placenames_refs</th>\n      <th>text_edition</th>\n      <th>origdate_text</th>\n      <th>layout_execution</th>\n      <th>layout_execution_text</th>\n      <th>support_objecttype</th>\n      <th>support_objecttype_text</th>\n      <th>support_material</th>\n      <th>support_material_text</th>\n      <th>support_decoration</th>\n      <th>keywords_term</th>\n      <th>keywords_term_text</th>\n      <th>people</th>\n      <th>pleiades_id</th>\n      <th>longitude</th>\n      <th>latitude</th>\n    </tr>\n  </thead>\n  <tbody>\n    <tr>\n      <th>0</th>\n      <td>HD000001</td>\n      <td>NaN</td>\n      <td>[{'type': 'ancient', 'text': 'Cumae, bei', 're...</td>\n      <td>\\n Dis Manibus Noniae Publi filiae Optatae et ...</td>\n      <td>71 AD - 130 AD</td>\n      <td>NaN</td>\n      <td>NaN</td>\n      <td>257</td>\n      <td>tabula</td>\n      <td>NaN</td>\n      <td>Marmor, ge\\xc3\\xa4dert / farbig</td>\n      <td>1000</td>\n      <td>92.0</td>\n      <td>epitaph</td>\n      <td>[{'persname': {'name': [{'@type': 'nomen', '#t...</td>\n      <td>432808</td>\n      <td>14.055076</td>\n      <td>40.847158</td>\n    </tr>\n    <tr>\n      <th>1</th>\n      <td>HD000002</td>\n      <td>NaN</td>\n      <td>[{'type': 'ancient', 'text': 'Roma', 'ref': 'h...</td>\n      <td>\\n Caius Sextius Paris qui vixit annis LXX\\n</td>\n      <td>51 AD - 200 AD</td>\n      <td>NaN</td>\n      <td>NaN</td>\n      <td>257</td>\n      <td>tabula</td>\n      <td>48.0</td>\n      <td>Marmor</td>\n      <td>1000</td>\n      <td>92.0</td>\n      <td>epitaph</td>\n      <td>{'persname': {'name': [{'@type': 'praenomen', ...</td>\n      <td>423025</td>\n      <td>12.486168</td>\n      <td>41.891737</td>\n    </tr>\n    <tr>\n      <th>4</th>\n      <td>HD000005</td>\n      <td>NaN</td>\n      <td>[{'type': 'ancient', 'text': 'Roma', 'ref': 'h...</td>\n      <td>\\n libertus Successus Luci libertus Irenaeus C...</td>\n      <td>1 AD - 200 AD</td>\n      <td>NaN</td>\n      <td>NaN</td>\n      <td>250</td>\n      <td>stele</td>\n      <td>NaN</td>\n      <td>None</td>\n      <td>1000</td>\n      <td>92.0</td>\n      <td>epitaph</td>\n      <td>[{'persname': {'name': [{'@type': 'praenomen',...</td>\n      <td>423025</td>\n      <td>12.486168</td>\n      <td>41.891737</td>\n    </tr>\n    <tr>\n      <th>5</th>\n      <td>HD000006</td>\n      <td>NaN</td>\n      <td>[{'type': 'ancient', 'text': 'Sabora, bei', 'r...</td>\n      <td>\\n Dis Manibus sacrum Memmia Auctina annorum L...</td>\n      <td>71 AD - 150 AD</td>\n      <td>NaN</td>\n      <td>NaN</td>\n      <td>250</td>\n      <td>stele</td>\n      <td>60.0</td>\n      <td>Kalkstein</td>\n      <td>1000</td>\n      <td>92.0</td>\n      <td>epitaph</td>\n      <td>{'persname': {'name': [{'@type': 'nomen', '#te...</td>\n      <td>256408</td>\n      <td>-5.024355</td>\n      <td>36.934635</td>\n    </tr>\n    <tr>\n      <th>6</th>\n      <td>HD000007</td>\n      <td>NaN</td>\n      <td>[{'type': 'ancient', 'text': 'Roma', 'ref': 'h...</td>\n      <td>\\n Clodia Marci filia\\n</td>\n      <td>100 BC - 51 BC</td>\n      <td>NaN</td>\n      <td>NaN</td>\n      <td>257</td>\n      <td>tabula</td>\n      <td>71.0</td>\n      <td>Travertin</td>\n      <td>1000</td>\n      <td>92.0</td>\n      <td>epitaph</td>\n      <td>{'persname': {'name': {'@type': 'nomen', '#tex...</td>\n      <td>423025</td>\n      <td>12.486168</td>\n      <td>41.891737</td>\n    </tr>\n    <tr>\n      <th>...</th>\n      <td>...</td>\n      <td>...</td>\n      <td>...</td>\n      <td>...</td>\n      <td>...</td>\n      <td>...</td>\n      <td>...</td>\n      <td>...</td>\n      <td>...</td>\n      <td>...</td>\n      <td>...</td>\n      <td>...</td>\n      <td>...</td>\n      <td>...</td>\n      <td>...</td>\n      <td>...</td>\n      <td>...</td>\n      <td>...</td>\n    </tr>\n    <tr>\n      <th>81873</th>\n      <td>HD082820</td>\n      <td>NaN</td>\n      <td>[{'type': 'ancient', 'text': 'Aquincum', 'ref'...</td>\n      <td>\\n &amp;lt;Dis=ITO&amp;gt; Pater &amp;lt;Ae=H&amp;gt;racura Me...</td>\n      <td>201 AD - 400 AD</td>\n      <td>NaN</td>\n      <td>NaN</td>\n      <td>276</td>\n      <td>tessera</td>\n      <td>108.0</td>\n      <td>Blei</td>\n      <td>1000</td>\n      <td>76.0</td>\n      <td>defixio</td>\n      <td>None</td>\n      <td>197130</td>\n      <td>18.661809</td>\n      <td>46.722776</td>\n    </tr>\n    <tr>\n      <th>81874</th>\n      <td>HD082821</td>\n      <td>NaN</td>\n      <td>[{'type': 'ancient', 'text': 'Aquincum', 'ref'...</td>\n      <td>\\n Iovi Optimo Maximo Iunoni \\n</td>\n      <td>171 AD - 300 AD</td>\n      <td>NaN</td>\n      <td>NaN</td>\n      <td>29</td>\n      <td>altar</td>\n      <td>NaN</td>\n      <td>Gesteine</td>\n      <td>1000</td>\n      <td>372.0</td>\n      <td>votive inscription</td>\n      <td>None</td>\n      <td>197130</td>\n      <td>18.661809</td>\n      <td>46.722776</td>\n    </tr>\n    <tr>\n      <th>81875</th>\n      <td>HD082822</td>\n      <td>NaN</td>\n      <td>[{'type': 'ancient', 'text': 'Colonia Claudia ...</td>\n      <td>\\n M a&amp;lt;m=S&amp;gt;ator &amp;lt;f=E&amp;gt;eli&amp;lt;x=C&amp;gt...</td>\n      <td>1 AD - 300 AD</td>\n      <td>NaN</td>\n      <td>NaN</td>\n      <td>140</td>\n      <td>instrumentum domesticum</td>\n      <td>131.0</td>\n      <td>Ton</td>\n      <td>1000</td>\n      <td>73.0</td>\n      <td>acclamation</td>\n      <td>{'persname': {'name': {'@type': 'cognomen', '#...</td>\n      <td>108751</td>\n      <td>6.868018</td>\n      <td>51.065052</td>\n    </tr>\n    <tr>\n      <th>81876</th>\n      <td>HD082823</td>\n      <td>NaN</td>\n      <td>[{'type': 'ancient', 'text': 'Colonia Ulpia Tr...</td>\n      <td>\\n centuria Albani\\n</td>\n      <td>31 AD - 100 AD</td>\n      <td>NaN</td>\n      <td>NaN</td>\n      <td>141</td>\n      <td>instrumentum militare</td>\n      <td>109.0</td>\n      <td>Bronze</td>\n      <td>1000</td>\n      <td>143.0</td>\n      <td>unknown</td>\n      <td>{'persname': {'name': {'@type': 'cognomen', '#...</td>\n      <td>108896</td>\n      <td>6.453261</td>\n      <td>51.662294</td>\n    </tr>\n    <tr>\n      <th>81877</th>\n      <td>HD082824</td>\n      <td>NaN</td>\n      <td>[{'type': 'ancient', 'text': 'Grinario (Civita...</td>\n      <td>\\n Brigi\\n</td>\n      <td>101 AD - 200 AD</td>\n      <td>NaN</td>\n      <td>NaN</td>\n      <td>140</td>\n      <td>instrumentum domesticum</td>\n      <td>131.0</td>\n      <td>Ton</td>\n      <td>1000</td>\n      <td>NaN</td>\n      <td>owner/artist inscription</td>\n      <td>{'persname': {'name': {'@type': 'cognomen', '#...</td>\n      <td>118706</td>\n      <td>9.360198</td>\n      <td>48.677240</td>\n    </tr>\n  </tbody>\n</table>\n<p>64887 rows × 18 columns</p>\n</div>"
     },
     "execution_count": 59,
     "metadata": {},
     "output_type": "execute_result"
    }
   ],
   "source": [
    "EDH_xml_data[EDH_xml_data[\"latitude\"].notnull()]"
   ],
   "metadata": {
    "collapsed": false,
    "pycharm": {
     "name": "#%%\n"
    }
   }
  },
  {
   "cell_type": "code",
   "execution_count": 61,
   "metadata": {
    "pycharm": {
     "name": "#%%\n"
    }
   },
   "outputs": [],
   "source": [
    "EDH_xml_data.rename(columns={\"idno_uri\":\"id\"}, inplace=True)"
   ]
  },
  {
   "cell_type": "code",
   "execution_count": 62,
   "metadata": {
    "colab": {
     "base_uri": "https://localhost:8080/",
     "height": 204
    },
    "colab_type": "code",
    "id": "sXjWeK8i7BXD",
    "outputId": "b5b67efd-a290-4bd2-9f23-cb2b699c7f97",
    "pycharm": {
     "name": "#%%\n"
    }
   },
   "outputs": [
    {
     "data": {
      "text/plain": "         id  idno_tm                                    placenames_refs  \\\n0  HD000001      NaN  [{'type': 'ancient', 'text': 'Cumae, bei', 're...   \n1  HD000002      NaN  [{'type': 'ancient', 'text': 'Roma', 'ref': 'h...   \n2  HD000003      NaN  [{'type': 'ancient', 'text': '', 'ref': '#'}, ...   \n3  HD000004      NaN  [{'type': 'ancient', 'text': 'Ipolcobulcula', ...   \n4  HD000005      NaN  [{'type': 'ancient', 'text': 'Roma', 'ref': 'h...   \n\n                                        text_edition    origdate_text  \\\n0  \\n Dis Manibus Noniae Publi filiae Optatae et ...   71 AD - 130 AD   \n1       \\n Caius Sextius Paris qui vixit annis LXX\\n   51 AD - 200 AD   \n2  \\n Publio Mummio Publi filio Galeria Sisennae ...  131 AD - 170 AD   \n3  \\n AVSLLA Marci Porci Nigri serva dominae Vene...  151 AD - 200 AD   \n4  \\n libertus Successus Luci libertus Irenaeus C...    1 AD - 200 AD   \n\n   layout_execution  layout_execution_text support_objecttype  \\\n0               NaN                    NaN                257   \n1               NaN                    NaN                257   \n2               NaN                    NaN                 57   \n3               NaN                    NaN                 29   \n4               NaN                    NaN                250   \n\n  support_objecttype_text  support_material            support_material_text  \\\n0                  tabula               NaN  Marmor, ge\\xc3\\xa4dert / farbig   \n1                  tabula              48.0                           Marmor   \n2             statue base              48.0                           Marmor   \n3                   altar              60.0                        Kalkstein   \n4                   stele               NaN                             None   \n\n   support_decoration  keywords_term     keywords_term_text  \\\n0                1000           92.0                epitaph   \n1                1000           92.0                epitaph   \n2                1000           69.0  honorific inscription   \n3                1000          372.0     votive inscription   \n4                1000           92.0                epitaph   \n\n                                              people pleiades_id  longitude  \\\n0  [{'persname': {'name': [{'@type': 'nomen', '#t...      432808  14.055076   \n1  {'persname': {'name': [{'@type': 'praenomen', ...      423025  12.486168   \n2  {'persname': {'name': [{'@type': 'praenomen', ...        None        NaN   \n3  [{'persname': {'name': {'@type': 'cognomen', '...        None        NaN   \n4  [{'persname': {'name': [{'@type': 'praenomen',...      423025  12.486168   \n\n    latitude  \n0  40.847158  \n1  41.891737  \n2        NaN  \n3        NaN  \n4  41.891737  ",
      "text/html": "<div>\n<style scoped>\n    .dataframe tbody tr th:only-of-type {\n        vertical-align: middle;\n    }\n\n    .dataframe tbody tr th {\n        vertical-align: top;\n    }\n\n    .dataframe thead th {\n        text-align: right;\n    }\n</style>\n<table border=\"1\" class=\"dataframe\">\n  <thead>\n    <tr style=\"text-align: right;\">\n      <th></th>\n      <th>id</th>\n      <th>idno_tm</th>\n      <th>placenames_refs</th>\n      <th>text_edition</th>\n      <th>origdate_text</th>\n      <th>layout_execution</th>\n      <th>layout_execution_text</th>\n      <th>support_objecttype</th>\n      <th>support_objecttype_text</th>\n      <th>support_material</th>\n      <th>support_material_text</th>\n      <th>support_decoration</th>\n      <th>keywords_term</th>\n      <th>keywords_term_text</th>\n      <th>people</th>\n      <th>pleiades_id</th>\n      <th>longitude</th>\n      <th>latitude</th>\n    </tr>\n  </thead>\n  <tbody>\n    <tr>\n      <th>0</th>\n      <td>HD000001</td>\n      <td>NaN</td>\n      <td>[{'type': 'ancient', 'text': 'Cumae, bei', 're...</td>\n      <td>\\n Dis Manibus Noniae Publi filiae Optatae et ...</td>\n      <td>71 AD - 130 AD</td>\n      <td>NaN</td>\n      <td>NaN</td>\n      <td>257</td>\n      <td>tabula</td>\n      <td>NaN</td>\n      <td>Marmor, ge\\xc3\\xa4dert / farbig</td>\n      <td>1000</td>\n      <td>92.0</td>\n      <td>epitaph</td>\n      <td>[{'persname': {'name': [{'@type': 'nomen', '#t...</td>\n      <td>432808</td>\n      <td>14.055076</td>\n      <td>40.847158</td>\n    </tr>\n    <tr>\n      <th>1</th>\n      <td>HD000002</td>\n      <td>NaN</td>\n      <td>[{'type': 'ancient', 'text': 'Roma', 'ref': 'h...</td>\n      <td>\\n Caius Sextius Paris qui vixit annis LXX\\n</td>\n      <td>51 AD - 200 AD</td>\n      <td>NaN</td>\n      <td>NaN</td>\n      <td>257</td>\n      <td>tabula</td>\n      <td>48.0</td>\n      <td>Marmor</td>\n      <td>1000</td>\n      <td>92.0</td>\n      <td>epitaph</td>\n      <td>{'persname': {'name': [{'@type': 'praenomen', ...</td>\n      <td>423025</td>\n      <td>12.486168</td>\n      <td>41.891737</td>\n    </tr>\n    <tr>\n      <th>2</th>\n      <td>HD000003</td>\n      <td>NaN</td>\n      <td>[{'type': 'ancient', 'text': '', 'ref': '#'}, ...</td>\n      <td>\\n Publio Mummio Publi filio Galeria Sisennae ...</td>\n      <td>131 AD - 170 AD</td>\n      <td>NaN</td>\n      <td>NaN</td>\n      <td>57</td>\n      <td>statue base</td>\n      <td>48.0</td>\n      <td>Marmor</td>\n      <td>1000</td>\n      <td>69.0</td>\n      <td>honorific inscription</td>\n      <td>{'persname': {'name': [{'@type': 'praenomen', ...</td>\n      <td>None</td>\n      <td>NaN</td>\n      <td>NaN</td>\n    </tr>\n    <tr>\n      <th>3</th>\n      <td>HD000004</td>\n      <td>NaN</td>\n      <td>[{'type': 'ancient', 'text': 'Ipolcobulcula', ...</td>\n      <td>\\n AVSLLA Marci Porci Nigri serva dominae Vene...</td>\n      <td>151 AD - 200 AD</td>\n      <td>NaN</td>\n      <td>NaN</td>\n      <td>29</td>\n      <td>altar</td>\n      <td>60.0</td>\n      <td>Kalkstein</td>\n      <td>1000</td>\n      <td>372.0</td>\n      <td>votive inscription</td>\n      <td>[{'persname': {'name': {'@type': 'cognomen', '...</td>\n      <td>None</td>\n      <td>NaN</td>\n      <td>NaN</td>\n    </tr>\n    <tr>\n      <th>4</th>\n      <td>HD000005</td>\n      <td>NaN</td>\n      <td>[{'type': 'ancient', 'text': 'Roma', 'ref': 'h...</td>\n      <td>\\n libertus Successus Luci libertus Irenaeus C...</td>\n      <td>1 AD - 200 AD</td>\n      <td>NaN</td>\n      <td>NaN</td>\n      <td>250</td>\n      <td>stele</td>\n      <td>NaN</td>\n      <td>None</td>\n      <td>1000</td>\n      <td>92.0</td>\n      <td>epitaph</td>\n      <td>[{'persname': {'name': [{'@type': 'praenomen',...</td>\n      <td>423025</td>\n      <td>12.486168</td>\n      <td>41.891737</td>\n    </tr>\n  </tbody>\n</table>\n</div>"
     },
     "execution_count": 62,
     "metadata": {},
     "output_type": "execute_result"
    }
   ],
   "source": [
    "EDH_xml_data.head(5)"
   ]
  },
  {
   "cell_type": "code",
   "execution_count": 64,
   "metadata": {
    "colab": {
     "base_uri": "https://localhost:8080/",
     "height": 547
    },
    "colab_type": "code",
    "id": "sXHzuRLX51mf",
    "outputId": "74fbf44a-81dd-4d09-9f84-a52001d660a0",
    "pycharm": {
     "name": "#%%\n"
    }
   },
   "outputs": [
    {
     "data": {
      "text/plain": "                                          commentary country    depth  \\\n0  (C): 2. Hälfte 1. - Anfang 2. Jh. - AE; Ende 1...   Italy     2 cm   \n1                            AE 1983: Breite: 35 cm.   Italy     None   \n2  (B): [S]isenna ist falscher Kasus; folgende Er...   Spain  (12) cm   \n3  Material: lokaler grauer Kalkstein. (B): Stylo...   Spain    18 cm   \n4                (B): Z. 3: C(ai) l(ibertae) Tyches.   Italy     None   \n\n                                     diplomatic_text findspot_ancient  \\\n0  D M / NONIAE P F OPTATAE / ET C IVLIO ARTEMONI...       Cumae, bei   \n1            C SEXTIVS PARIS / QVI VIXIT / ANNIS LXX             Roma   \n2  [ ]VMMIO [ ] / [ ]ISENNA[ ] / [ ] XV[ ] / [ ] / [             None   \n3  [ ]AVS[ ]LLA / M PORCI NIGRI SER / DOMINAE VEN...    Ipolcobulcula   \n4  [ ] L SVCCESSVS / [ ] L L IRENAEVS / [ ] C L T...             Roma   \n\n  findspot_modern   height        id language last_update  ...  \\\n0       Cuma, bei    33 cm  HD000001        L  2014-04-07  ...   \n1            Roma    28 cm  HD000002        L  2014-04-07  ...   \n2         Tomares  (37) cm  HD000003        L  2006-08-31  ...   \n3       Carcabuey  (39) cm  HD000004        L  2015-03-27  ...   \n4            Roma     None  HD000005        L  2010-01-04  ...   \n\n  support_objecttype_text support_material            support_material_text  \\\n0                  tabula              NaN  Marmor, ge\\xc3\\xa4dert / farbig   \n1                  tabula             48.0                           Marmor   \n2             statue base             48.0                           Marmor   \n3                   altar             60.0                        Kalkstein   \n4                   stele              NaN                             None   \n\n  support_decoration  keywords_term     keywords_term_text  \\\n0             1000.0           92.0                epitaph   \n1             1000.0           92.0                epitaph   \n2             1000.0           69.0  honorific inscription   \n3             1000.0          372.0     votive inscription   \n4             1000.0           92.0                epitaph   \n\n                                              people pleiades_id  longitude  \\\n0  [{'persname': {'name': [{'@type': 'nomen', '#t...      432808  14.055076   \n1  {'persname': {'name': [{'@type': 'praenomen', ...      423025  12.486168   \n2  {'persname': {'name': [{'@type': 'praenomen', ...        None        NaN   \n3  [{'persname': {'name': {'@type': 'cognomen', '...        None        NaN   \n4  [{'persname': {'name': [{'@type': 'praenomen',...      423025  12.486168   \n\n    latitude  \n0  40.847158  \n1  41.891737  \n2        NaN  \n3        NaN  \n4  41.891737  \n\n[5 rows x 44 columns]",
      "text/html": "<div>\n<style scoped>\n    .dataframe tbody tr th:only-of-type {\n        vertical-align: middle;\n    }\n\n    .dataframe tbody tr th {\n        vertical-align: top;\n    }\n\n    .dataframe thead th {\n        text-align: right;\n    }\n</style>\n<table border=\"1\" class=\"dataframe\">\n  <thead>\n    <tr style=\"text-align: right;\">\n      <th></th>\n      <th>commentary</th>\n      <th>country</th>\n      <th>depth</th>\n      <th>diplomatic_text</th>\n      <th>findspot_ancient</th>\n      <th>findspot_modern</th>\n      <th>height</th>\n      <th>id</th>\n      <th>language</th>\n      <th>last_update</th>\n      <th>...</th>\n      <th>support_objecttype_text</th>\n      <th>support_material</th>\n      <th>support_material_text</th>\n      <th>support_decoration</th>\n      <th>keywords_term</th>\n      <th>keywords_term_text</th>\n      <th>people</th>\n      <th>pleiades_id</th>\n      <th>longitude</th>\n      <th>latitude</th>\n    </tr>\n  </thead>\n  <tbody>\n    <tr>\n      <th>0</th>\n      <td>(C): 2. Hälfte 1. - Anfang 2. Jh. - AE; Ende 1...</td>\n      <td>Italy</td>\n      <td>2 cm</td>\n      <td>D M / NONIAE P F OPTATAE / ET C IVLIO ARTEMONI...</td>\n      <td>Cumae, bei</td>\n      <td>Cuma, bei</td>\n      <td>33 cm</td>\n      <td>HD000001</td>\n      <td>L</td>\n      <td>2014-04-07</td>\n      <td>...</td>\n      <td>tabula</td>\n      <td>NaN</td>\n      <td>Marmor, ge\\xc3\\xa4dert / farbig</td>\n      <td>1000.0</td>\n      <td>92.0</td>\n      <td>epitaph</td>\n      <td>[{'persname': {'name': [{'@type': 'nomen', '#t...</td>\n      <td>432808</td>\n      <td>14.055076</td>\n      <td>40.847158</td>\n    </tr>\n    <tr>\n      <th>1</th>\n      <td>AE 1983: Breite: 35 cm.</td>\n      <td>Italy</td>\n      <td>None</td>\n      <td>C SEXTIVS PARIS / QVI VIXIT / ANNIS LXX</td>\n      <td>Roma</td>\n      <td>Roma</td>\n      <td>28 cm</td>\n      <td>HD000002</td>\n      <td>L</td>\n      <td>2014-04-07</td>\n      <td>...</td>\n      <td>tabula</td>\n      <td>48.0</td>\n      <td>Marmor</td>\n      <td>1000.0</td>\n      <td>92.0</td>\n      <td>epitaph</td>\n      <td>{'persname': {'name': [{'@type': 'praenomen', ...</td>\n      <td>423025</td>\n      <td>12.486168</td>\n      <td>41.891737</td>\n    </tr>\n    <tr>\n      <th>2</th>\n      <td>(B): [S]isenna ist falscher Kasus; folgende Er...</td>\n      <td>Spain</td>\n      <td>(12) cm</td>\n      <td>[ ]VMMIO [ ] / [ ]ISENNA[ ] / [ ] XV[ ] / [ ] / [</td>\n      <td>None</td>\n      <td>Tomares</td>\n      <td>(37) cm</td>\n      <td>HD000003</td>\n      <td>L</td>\n      <td>2006-08-31</td>\n      <td>...</td>\n      <td>statue base</td>\n      <td>48.0</td>\n      <td>Marmor</td>\n      <td>1000.0</td>\n      <td>69.0</td>\n      <td>honorific inscription</td>\n      <td>{'persname': {'name': [{'@type': 'praenomen', ...</td>\n      <td>None</td>\n      <td>NaN</td>\n      <td>NaN</td>\n    </tr>\n    <tr>\n      <th>3</th>\n      <td>Material: lokaler grauer Kalkstein. (B): Stylo...</td>\n      <td>Spain</td>\n      <td>18 cm</td>\n      <td>[ ]AVS[ ]LLA / M PORCI NIGRI SER / DOMINAE VEN...</td>\n      <td>Ipolcobulcula</td>\n      <td>Carcabuey</td>\n      <td>(39) cm</td>\n      <td>HD000004</td>\n      <td>L</td>\n      <td>2015-03-27</td>\n      <td>...</td>\n      <td>altar</td>\n      <td>60.0</td>\n      <td>Kalkstein</td>\n      <td>1000.0</td>\n      <td>372.0</td>\n      <td>votive inscription</td>\n      <td>[{'persname': {'name': {'@type': 'cognomen', '...</td>\n      <td>None</td>\n      <td>NaN</td>\n      <td>NaN</td>\n    </tr>\n    <tr>\n      <th>4</th>\n      <td>(B): Z. 3: C(ai) l(ibertae) Tyches.</td>\n      <td>Italy</td>\n      <td>None</td>\n      <td>[ ] L SVCCESSVS / [ ] L L IRENAEVS / [ ] C L T...</td>\n      <td>Roma</td>\n      <td>Roma</td>\n      <td>None</td>\n      <td>HD000005</td>\n      <td>L</td>\n      <td>2010-01-04</td>\n      <td>...</td>\n      <td>stele</td>\n      <td>NaN</td>\n      <td>None</td>\n      <td>1000.0</td>\n      <td>92.0</td>\n      <td>epitaph</td>\n      <td>[{'persname': {'name': [{'@type': 'praenomen',...</td>\n      <td>423025</td>\n      <td>12.486168</td>\n      <td>41.891737</td>\n    </tr>\n  </tbody>\n</table>\n<p>5 rows × 44 columns</p>\n</div>"
     },
     "execution_count": 64,
     "metadata": {},
     "output_type": "execute_result"
    }
   ],
   "source": [
    "inscriptions_rich = inscriptions_data_df.merge(EDH_xml_data, on=\"id\", how=\"left\")\n",
    "inscriptions_rich.head(5)"
   ]
  },
  {
   "cell_type": "code",
   "execution_count": 65,
   "metadata": {
    "pycharm": {
     "name": "#%%\n"
    }
   },
   "outputs": [
    {
     "data": {
      "text/plain": "Index(['commentary', 'country', 'depth', 'diplomatic_text', 'findspot_ancient',\n       'findspot_modern', 'height', 'id', 'language', 'last_update',\n       'letter_size', 'literature', 'material', 'modern_region', 'not_after',\n       'not_before', 'responsible_individual', 'transcription',\n       'trismegistos_uri', 'type_of_inscription', 'type_of_monument', 'width',\n       'work_status', 'findspot', 'year_of_find', 'present_location',\n       'religion', 'idno_tm', 'placenames_refs', 'text_edition',\n       'origdate_text', 'layout_execution', 'layout_execution_text',\n       'support_objecttype', 'support_objecttype_text', 'support_material',\n       'support_material_text', 'support_decoration', 'keywords_term',\n       'keywords_term_text', 'people', 'pleiades_id', 'longitude', 'latitude'],\n      dtype='object')"
     },
     "execution_count": 65,
     "metadata": {},
     "output_type": "execute_result"
    }
   ],
   "source": [
    "inscriptions_rich.columns"
   ]
  },
  {
   "cell_type": "code",
   "execution_count": 66,
   "metadata": {
    "colab": {
     "base_uri": "https://localhost:8080/",
     "height": 34
    },
    "colab_type": "code",
    "id": "IaXrWqpeu_Mn",
    "outputId": "8754ae0c-2f5a-4e76-c56b-a735ea7f8be3",
    "pycharm": {
     "name": "#%%\n"
    }
   },
   "outputs": [
    {
     "data": {
      "text/plain": "(81883, 44)"
     },
     "execution_count": 66,
     "metadata": {},
     "output_type": "execute_result"
    }
   ],
   "source": [
    "# last time we had (80270, 41)\n",
    "inscriptions_rich.shape"
   ]
  },
  {
   "cell_type": "code",
   "execution_count": 67,
   "metadata": {
    "pycharm": {
     "name": "#%%\n"
    }
   },
   "outputs": [
    {
     "data": {
      "text/plain": "                    columns\n0                commentary\n1                   country\n2                     depth\n3           diplomatic_text\n4          findspot_ancient\n5           findspot_modern\n6                    height\n7                        id\n8                  language\n9               last_update\n10              letter_size\n11               literature\n12                 material\n13            modern_region\n14                not_after\n15               not_before\n16   responsible_individual\n17            transcription\n18         trismegistos_uri\n19      type_of_inscription\n20         type_of_monument\n21                    width\n22              work_status\n23                 findspot\n24             year_of_find\n25         present_location\n26                 religion\n27                  idno_tm\n28          placenames_refs\n29             text_edition\n30            origdate_text\n31         layout_execution\n32    layout_execution_text\n33       support_objecttype\n34  support_objecttype_text\n35         support_material\n36    support_material_text\n37       support_decoration\n38            keywords_term\n39       keywords_term_text\n40                   people\n41              pleiades_id\n42                longitude\n43                 latitude",
      "text/html": "<div>\n<style scoped>\n    .dataframe tbody tr th:only-of-type {\n        vertical-align: middle;\n    }\n\n    .dataframe tbody tr th {\n        vertical-align: top;\n    }\n\n    .dataframe thead th {\n        text-align: right;\n    }\n</style>\n<table border=\"1\" class=\"dataframe\">\n  <thead>\n    <tr style=\"text-align: right;\">\n      <th></th>\n      <th>columns</th>\n    </tr>\n  </thead>\n  <tbody>\n    <tr>\n      <th>0</th>\n      <td>commentary</td>\n    </tr>\n    <tr>\n      <th>1</th>\n      <td>country</td>\n    </tr>\n    <tr>\n      <th>2</th>\n      <td>depth</td>\n    </tr>\n    <tr>\n      <th>3</th>\n      <td>diplomatic_text</td>\n    </tr>\n    <tr>\n      <th>4</th>\n      <td>findspot_ancient</td>\n    </tr>\n    <tr>\n      <th>5</th>\n      <td>findspot_modern</td>\n    </tr>\n    <tr>\n      <th>6</th>\n      <td>height</td>\n    </tr>\n    <tr>\n      <th>7</th>\n      <td>id</td>\n    </tr>\n    <tr>\n      <th>8</th>\n      <td>language</td>\n    </tr>\n    <tr>\n      <th>9</th>\n      <td>last_update</td>\n    </tr>\n    <tr>\n      <th>10</th>\n      <td>letter_size</td>\n    </tr>\n    <tr>\n      <th>11</th>\n      <td>literature</td>\n    </tr>\n    <tr>\n      <th>12</th>\n      <td>material</td>\n    </tr>\n    <tr>\n      <th>13</th>\n      <td>modern_region</td>\n    </tr>\n    <tr>\n      <th>14</th>\n      <td>not_after</td>\n    </tr>\n    <tr>\n      <th>15</th>\n      <td>not_before</td>\n    </tr>\n    <tr>\n      <th>16</th>\n      <td>responsible_individual</td>\n    </tr>\n    <tr>\n      <th>17</th>\n      <td>transcription</td>\n    </tr>\n    <tr>\n      <th>18</th>\n      <td>trismegistos_uri</td>\n    </tr>\n    <tr>\n      <th>19</th>\n      <td>type_of_inscription</td>\n    </tr>\n    <tr>\n      <th>20</th>\n      <td>type_of_monument</td>\n    </tr>\n    <tr>\n      <th>21</th>\n      <td>width</td>\n    </tr>\n    <tr>\n      <th>22</th>\n      <td>work_status</td>\n    </tr>\n    <tr>\n      <th>23</th>\n      <td>findspot</td>\n    </tr>\n    <tr>\n      <th>24</th>\n      <td>year_of_find</td>\n    </tr>\n    <tr>\n      <th>25</th>\n      <td>present_location</td>\n    </tr>\n    <tr>\n      <th>26</th>\n      <td>religion</td>\n    </tr>\n    <tr>\n      <th>27</th>\n      <td>idno_tm</td>\n    </tr>\n    <tr>\n      <th>28</th>\n      <td>placenames_refs</td>\n    </tr>\n    <tr>\n      <th>29</th>\n      <td>text_edition</td>\n    </tr>\n    <tr>\n      <th>30</th>\n      <td>origdate_text</td>\n    </tr>\n    <tr>\n      <th>31</th>\n      <td>layout_execution</td>\n    </tr>\n    <tr>\n      <th>32</th>\n      <td>layout_execution_text</td>\n    </tr>\n    <tr>\n      <th>33</th>\n      <td>support_objecttype</td>\n    </tr>\n    <tr>\n      <th>34</th>\n      <td>support_objecttype_text</td>\n    </tr>\n    <tr>\n      <th>35</th>\n      <td>support_material</td>\n    </tr>\n    <tr>\n      <th>36</th>\n      <td>support_material_text</td>\n    </tr>\n    <tr>\n      <th>37</th>\n      <td>support_decoration</td>\n    </tr>\n    <tr>\n      <th>38</th>\n      <td>keywords_term</td>\n    </tr>\n    <tr>\n      <th>39</th>\n      <td>keywords_term_text</td>\n    </tr>\n    <tr>\n      <th>40</th>\n      <td>people</td>\n    </tr>\n    <tr>\n      <th>41</th>\n      <td>pleiades_id</td>\n    </tr>\n    <tr>\n      <th>42</th>\n      <td>longitude</td>\n    </tr>\n    <tr>\n      <th>43</th>\n      <td>latitude</td>\n    </tr>\n  </tbody>\n</table>\n</div>"
     },
     "execution_count": 67,
     "metadata": {},
     "output_type": "execute_result"
    }
   ],
   "source": [
    "EDH_merged_columns = pd.DataFrame(pd.DataFrame(inscriptions_rich).columns, columns=[\"columns\"])\n",
    "EDH_merged_columns"
   ]
  },
  {
   "cell_type": "code",
   "execution_count": 27,
   "metadata": {
    "pycharm": {
     "name": "#%%\n"
    }
   },
   "outputs": [],
   "source": [
    "# uncomment to export to gsheets\n",
    "set_with_dataframe(EDH_overview.add_worksheet(\"EDH_merged_columns\", 1, 1), EDH_merged_columns)"
   ]
  },
  {
   "cell_type": "markdown",
   "metadata": {
    "colab_type": "text",
    "id": "r0e5r6WukZaD",
    "pycharm": {
     "name": "#%% md\n"
    }
   },
   "source": [
    "# Upload the merged data to sciencedata.dk"
   ]
  },
  {
   "cell_type": "code",
   "execution_count": 25,
   "metadata": {
    "colab": {
     "base_uri": "https://localhost:8080/",
     "height": 69
    },
    "colab_type": "code",
    "id": "eCfwX5gaic6V",
    "outputId": "b84fca02-6c17-4991-d5b4-64ce2bfc581c",
    "pycharm": {
     "name": "#%%\n"
    }
   },
   "outputs": [
    {
     "name": "stdout",
     "output_type": "stream",
     "text": [
      "A file with the same name (\"EDH_merged_2020-09-22.json\") already exists in this location.\n",
      "Press Enter to overwrite it or choose different path and filename: \n",
      "Your <class 'pandas.core.frame.DataFrame'> object has been succefully written as \"https://sciencedata.dk/files/SDAM_root/SDAM_data/EDH/public/EDH_merged_2020-09-22.json\"\n",
      "CPU times: user 4.01 s, sys: 1.86 s, total: 5.88 s\n",
      "Wall time: 1min 6s\n"
     ]
    }
   ],
   "source": [
    "%%time\n",
    "### put your dataframe data into this folder\n",
    "\n",
    "sddk.write_file(\"SDAM_data/EDH/public/EDH_merged_2020-09-22.json\", inscriptions_rich, conf)"
   ]
  },
  {
   "cell_type": "markdown",
   "metadata": {
    "pycharm": {
     "name": "#%% md\n"
    }
   },
   "source": [
    "# Reading the file back and exporting a feather file (UNDER DEVELOPMENT)"
   ]
  },
  {
   "cell_type": "code",
   "execution_count": 39,
   "metadata": {
    "pycharm": {
     "name": "#%%\n"
    }
   },
   "outputs": [
    {
     "data": {
      "text/html": [
       "<div>\n",
       "<style scoped>\n",
       "    .dataframe tbody tr th:only-of-type {\n",
       "        vertical-align: middle;\n",
       "    }\n",
       "\n",
       "    .dataframe tbody tr th {\n",
       "        vertical-align: top;\n",
       "    }\n",
       "\n",
       "    .dataframe thead th {\n",
       "        text-align: right;\n",
       "    }\n",
       "</style>\n",
       "<table border=\"1\" class=\"dataframe\">\n",
       "  <thead>\n",
       "    <tr style=\"text-align: right;\">\n",
       "      <th></th>\n",
       "      <th>responsible_individual</th>\n",
       "      <th>type_of_inscription</th>\n",
       "      <th>letter_size</th>\n",
       "      <th>not_after</th>\n",
       "      <th>literature</th>\n",
       "      <th>work_status</th>\n",
       "      <th>height</th>\n",
       "      <th>diplomatic_text</th>\n",
       "      <th>people</th>\n",
       "      <th>depth</th>\n",
       "      <th>...</th>\n",
       "      <th>origdate_text</th>\n",
       "      <th>layout_execution</th>\n",
       "      <th>layout_execution_text</th>\n",
       "      <th>support_objecttype</th>\n",
       "      <th>support_objecttype_text</th>\n",
       "      <th>support_material</th>\n",
       "      <th>support_material_text</th>\n",
       "      <th>support_decoration</th>\n",
       "      <th>keywords_term</th>\n",
       "      <th>keywords_term_text</th>\n",
       "    </tr>\n",
       "  </thead>\n",
       "  <tbody>\n",
       "    <tr>\n",
       "      <th>0</th>\n",
       "      <td>Feraudi</td>\n",
       "      <td>epitaph</td>\n",
       "      <td>3.2-2 cm</td>\n",
       "      <td>0130</td>\n",
       "      <td>AE 1983, 0192.; M. Annecchino, Puteoli 4/5, 19...</td>\n",
       "      <td>provisional</td>\n",
       "      <td>33 cm</td>\n",
       "      <td>D M / NONIAE P F OPTATAE / ET C IVLIO ARTEMONI...</td>\n",
       "      <td>[{'name': 'Noniae P.f. Optatae', 'cognomen': '...</td>\n",
       "      <td>2.7 cm</td>\n",
       "      <td>...</td>\n",
       "      <td>None</td>\n",
       "      <td>None</td>\n",
       "      <td>None</td>\n",
       "      <td>None</td>\n",
       "      <td>None</td>\n",
       "      <td>None</td>\n",
       "      <td>None</td>\n",
       "      <td>None</td>\n",
       "      <td>None</td>\n",
       "      <td>None</td>\n",
       "    </tr>\n",
       "    <tr>\n",
       "      <th>1</th>\n",
       "      <td>Feraudi</td>\n",
       "      <td>epitaph</td>\n",
       "      <td>4 cm</td>\n",
       "      <td>0200</td>\n",
       "      <td>AE 1983, 0080. (A); A. Ferrua, RAL 36, 1981, 1...</td>\n",
       "      <td>no image</td>\n",
       "      <td>28 cm</td>\n",
       "      <td>C SEXTIVS PARIS / QVI VIXIT / ANNIS LXX</td>\n",
       "      <td>[{'nomen': 'Sextius', 'praenomen': 'C.', 'pers...</td>\n",
       "      <td>None</td>\n",
       "      <td>...</td>\n",
       "      <td>51 AD – 200 AD</td>\n",
       "      <td>21</td>\n",
       "      <td>unbestimmt</td>\n",
       "      <td>257</td>\n",
       "      <td>Tafel</td>\n",
       "      <td>48</td>\n",
       "      <td>Marmor</td>\n",
       "      <td>1000</td>\n",
       "      <td>92</td>\n",
       "      <td>Grabinschrift</td>\n",
       "    </tr>\n",
       "    <tr>\n",
       "      <th>2</th>\n",
       "      <td>Feraudi</td>\n",
       "      <td>honorific inscription</td>\n",
       "      <td>4.5-3 cm</td>\n",
       "      <td>0170</td>\n",
       "      <td>AE 1983, 0518. (B); J. González, ZPE 52, 1983,...</td>\n",
       "      <td>provisional</td>\n",
       "      <td>(37) cm</td>\n",
       "      <td>[ ]VMMIO [ ] / [ ]ISENNA[ ] / [ ] XV[ ] / [ ] / [</td>\n",
       "      <td>[{'nomen': 'Mummius+', 'gender': 'male', 'prae...</td>\n",
       "      <td>(12) cm</td>\n",
       "      <td>...</td>\n",
       "      <td>131 AD – 170 AD</td>\n",
       "      <td>21</td>\n",
       "      <td>unbestimmt</td>\n",
       "      <td>57</td>\n",
       "      <td>Statuenbasis</td>\n",
       "      <td>48</td>\n",
       "      <td>Marmor</td>\n",
       "      <td>1000</td>\n",
       "      <td>69</td>\n",
       "      <td>Ehreninschrift</td>\n",
       "    </tr>\n",
       "    <tr>\n",
       "      <th>3</th>\n",
       "      <td>Gräf</td>\n",
       "      <td>votive inscription</td>\n",
       "      <td>2.5 cm</td>\n",
       "      <td>0200</td>\n",
       "      <td>AE 1983, 0533. (B); A.U. Stylow, Gerión 1, 198...</td>\n",
       "      <td>checked with photo</td>\n",
       "      <td>(39) cm</td>\n",
       "      <td>[ ]AVS[ ]LLA / M PORCI NIGRI SER / DOMINAE VEN...</td>\n",
       "      <td>[{'name': '[---?]AV(?)S(?)[---]L(?)L(?)A M. Po...</td>\n",
       "      <td>18 cm</td>\n",
       "      <td>...</td>\n",
       "      <td>151 AD – 200 AD</td>\n",
       "      <td>21</td>\n",
       "      <td>unbestimmt</td>\n",
       "      <td>29</td>\n",
       "      <td>Altar</td>\n",
       "      <td>60</td>\n",
       "      <td>Kalkstein</td>\n",
       "      <td>1000</td>\n",
       "      <td>80</td>\n",
       "      <td>Weihinschrift</td>\n",
       "    </tr>\n",
       "    <tr>\n",
       "      <th>4</th>\n",
       "      <td>Feraudi</td>\n",
       "      <td>epitaph</td>\n",
       "      <td>None</td>\n",
       "      <td>0200</td>\n",
       "      <td>AE 1983, 0078. (B); A. Ferrua, RAL 36, 1981, 1...</td>\n",
       "      <td>no image</td>\n",
       "      <td>None</td>\n",
       "      <td>[ ] L SVCCESSVS / [ ] L L IRENAEVS / [ ] C L T...</td>\n",
       "      <td>[{'person_id': '1', 'name': '[---]l. Successus...</td>\n",
       "      <td>None</td>\n",
       "      <td>...</td>\n",
       "      <td>1 AD – 200 AD</td>\n",
       "      <td>21</td>\n",
       "      <td>unbestimmt</td>\n",
       "      <td>250</td>\n",
       "      <td>Stele</td>\n",
       "      <td>138</td>\n",
       "      <td>unbestimmt</td>\n",
       "      <td>1000</td>\n",
       "      <td>92</td>\n",
       "      <td>Grabinschrift</td>\n",
       "    </tr>\n",
       "  </tbody>\n",
       "</table>\n",
       "<p>5 rows × 50 columns</p>\n",
       "</div>"
      ],
      "text/plain": [
       "  responsible_individual    type_of_inscription letter_size not_after  \\\n",
       "0                Feraudi                epitaph    3.2-2 cm      0130   \n",
       "1                Feraudi                epitaph        4 cm      0200   \n",
       "2                Feraudi  honorific inscription    4.5-3 cm      0170   \n",
       "3                   Gräf     votive inscription      2.5 cm      0200   \n",
       "4                Feraudi                epitaph        None      0200   \n",
       "\n",
       "                                          literature         work_status  \\\n",
       "0  AE 1983, 0192.; M. Annecchino, Puteoli 4/5, 19...         provisional   \n",
       "1  AE 1983, 0080. (A); A. Ferrua, RAL 36, 1981, 1...            no image   \n",
       "2  AE 1983, 0518. (B); J. González, ZPE 52, 1983,...         provisional   \n",
       "3  AE 1983, 0533. (B); A.U. Stylow, Gerión 1, 198...  checked with photo   \n",
       "4  AE 1983, 0078. (B); A. Ferrua, RAL 36, 1981, 1...            no image   \n",
       "\n",
       "    height                                    diplomatic_text  \\\n",
       "0    33 cm  D M / NONIAE P F OPTATAE / ET C IVLIO ARTEMONI...   \n",
       "1    28 cm            C SEXTIVS PARIS / QVI VIXIT / ANNIS LXX   \n",
       "2  (37) cm  [ ]VMMIO [ ] / [ ]ISENNA[ ] / [ ] XV[ ] / [ ] / [   \n",
       "3  (39) cm  [ ]AVS[ ]LLA / M PORCI NIGRI SER / DOMINAE VEN...   \n",
       "4     None  [ ] L SVCCESSVS / [ ] L L IRENAEVS / [ ] C L T...   \n",
       "\n",
       "                                              people    depth  ...  \\\n",
       "0  [{'name': 'Noniae P.f. Optatae', 'cognomen': '...   2.7 cm  ...   \n",
       "1  [{'nomen': 'Sextius', 'praenomen': 'C.', 'pers...     None  ...   \n",
       "2  [{'nomen': 'Mummius+', 'gender': 'male', 'prae...  (12) cm  ...   \n",
       "3  [{'name': '[---?]AV(?)S(?)[---]L(?)L(?)A M. Po...    18 cm  ...   \n",
       "4  [{'person_id': '1', 'name': '[---]l. Successus...     None  ...   \n",
       "\n",
       "                                 origdate_text layout_execution  \\\n",
       "0                                         None             None   \n",
       "1   51 AD – 200 AD                                           21   \n",
       "2  131 AD – 170 AD                                           21   \n",
       "3  151 AD – 200 AD                                           21   \n",
       "4    1 AD – 200 AD                                           21   \n",
       "\n",
       "  layout_execution_text support_objecttype support_objecttype_text  \\\n",
       "0                  None               None                    None   \n",
       "1            unbestimmt                257                   Tafel   \n",
       "2            unbestimmt                 57            Statuenbasis   \n",
       "3            unbestimmt                 29                   Altar   \n",
       "4            unbestimmt                250                   Stele   \n",
       "\n",
       "  support_material support_material_text support_decoration keywords_term  \\\n",
       "0             None                  None               None          None   \n",
       "1               48                Marmor               1000            92   \n",
       "2               48                Marmor               1000            69   \n",
       "3               60             Kalkstein               1000            80   \n",
       "4              138            unbestimmt               1000            92   \n",
       "\n",
       "  keywords_term_text  \n",
       "0               None  \n",
       "1      Grabinschrift  \n",
       "2     Ehreninschrift  \n",
       "3      Weihinschrift  \n",
       "4      Grabinschrift  \n",
       "\n",
       "[5 rows x 50 columns]"
      ]
     },
     "execution_count": 39,
     "metadata": {},
     "output_type": "execute_result"
    }
   ],
   "source": [
    "inscriptions_rich = sddk.read_file(\"SDAM_data/EDH/EDH_merged_2020-09-22.json\", \"df\", conf)\n",
    "inscriptions_rich.head(5)"
   ]
  },
  {
   "cell_type": "code",
   "execution_count": 43,
   "metadata": {
    "pycharm": {
     "name": "#%%\n"
    }
   },
   "outputs": [
    {
     "data": {
      "text/plain": [
       "297272815"
      ]
     },
     "execution_count": 43,
     "metadata": {},
     "output_type": "execute_result"
    }
   ],
   "source": [
    "sys.getsizeof(inscriptions_rich)"
   ]
  },
  {
   "cell_type": "code",
   "execution_count": 44,
   "metadata": {
    "pycharm": {
     "name": "#%%\n"
    }
   },
   "outputs": [
    {
     "data": {
      "text/html": [
       "<div>\n",
       "<style scoped>\n",
       "    .dataframe tbody tr th:only-of-type {\n",
       "        vertical-align: middle;\n",
       "    }\n",
       "\n",
       "    .dataframe tbody tr th {\n",
       "        vertical-align: top;\n",
       "    }\n",
       "\n",
       "    .dataframe thead th {\n",
       "        text-align: right;\n",
       "    }\n",
       "</style>\n",
       "<table border=\"1\" class=\"dataframe\">\n",
       "  <thead>\n",
       "    <tr style=\"text-align: right;\">\n",
       "      <th></th>\n",
       "      <th>responsible_individual</th>\n",
       "      <th>type_of_inscription</th>\n",
       "      <th>letter_size</th>\n",
       "      <th>not_after</th>\n",
       "      <th>literature</th>\n",
       "      <th>work_status</th>\n",
       "      <th>height</th>\n",
       "      <th>diplomatic_text</th>\n",
       "      <th>people</th>\n",
       "      <th>depth</th>\n",
       "      <th>...</th>\n",
       "      <th>origdate_text</th>\n",
       "      <th>layout_execution</th>\n",
       "      <th>layout_execution_text</th>\n",
       "      <th>support_objecttype</th>\n",
       "      <th>support_objecttype_text</th>\n",
       "      <th>support_material</th>\n",
       "      <th>support_material_text</th>\n",
       "      <th>support_decoration</th>\n",
       "      <th>keywords_term</th>\n",
       "      <th>keywords_term_text</th>\n",
       "    </tr>\n",
       "  </thead>\n",
       "  <tbody>\n",
       "    <tr>\n",
       "      <th>0</th>\n",
       "      <td>Feraudi</td>\n",
       "      <td>epitaph</td>\n",
       "      <td>3.2-2 cm</td>\n",
       "      <td>0130</td>\n",
       "      <td>AE 1983, 0192.; M. Annecchino, Puteoli 4/5, 19...</td>\n",
       "      <td>provisional</td>\n",
       "      <td>33 cm</td>\n",
       "      <td>D M / NONIAE P F OPTATAE / ET C IVLIO ARTEMONI...</td>\n",
       "      <td>NaN</td>\n",
       "      <td>2.7 cm</td>\n",
       "      <td>...</td>\n",
       "      <td>None</td>\n",
       "      <td>None</td>\n",
       "      <td>None</td>\n",
       "      <td>None</td>\n",
       "      <td>None</td>\n",
       "      <td>None</td>\n",
       "      <td>None</td>\n",
       "      <td>None</td>\n",
       "      <td>None</td>\n",
       "      <td>None</td>\n",
       "    </tr>\n",
       "    <tr>\n",
       "      <th>1</th>\n",
       "      <td>Feraudi</td>\n",
       "      <td>epitaph</td>\n",
       "      <td>4 cm</td>\n",
       "      <td>0200</td>\n",
       "      <td>AE 1983, 0080. (A); A. Ferrua, RAL 36, 1981, 1...</td>\n",
       "      <td>no image</td>\n",
       "      <td>28 cm</td>\n",
       "      <td>C SEXTIVS PARIS / QVI VIXIT / ANNIS LXX</td>\n",
       "      <td>NaN</td>\n",
       "      <td>None</td>\n",
       "      <td>...</td>\n",
       "      <td>51 AD – 200 AD</td>\n",
       "      <td>21</td>\n",
       "      <td>unbestimmt</td>\n",
       "      <td>257</td>\n",
       "      <td>Tafel</td>\n",
       "      <td>48</td>\n",
       "      <td>Marmor</td>\n",
       "      <td>1000</td>\n",
       "      <td>92</td>\n",
       "      <td>Grabinschrift</td>\n",
       "    </tr>\n",
       "    <tr>\n",
       "      <th>2</th>\n",
       "      <td>Feraudi</td>\n",
       "      <td>honorific inscription</td>\n",
       "      <td>4.5-3 cm</td>\n",
       "      <td>0170</td>\n",
       "      <td>AE 1983, 0518. (B); J. González, ZPE 52, 1983,...</td>\n",
       "      <td>provisional</td>\n",
       "      <td>(37) cm</td>\n",
       "      <td>[ ]VMMIO [ ] / [ ]ISENNA[ ] / [ ] XV[ ] / [ ] / [</td>\n",
       "      <td>NaN</td>\n",
       "      <td>(12) cm</td>\n",
       "      <td>...</td>\n",
       "      <td>131 AD – 170 AD</td>\n",
       "      <td>21</td>\n",
       "      <td>unbestimmt</td>\n",
       "      <td>57</td>\n",
       "      <td>Statuenbasis</td>\n",
       "      <td>48</td>\n",
       "      <td>Marmor</td>\n",
       "      <td>1000</td>\n",
       "      <td>69</td>\n",
       "      <td>Ehreninschrift</td>\n",
       "    </tr>\n",
       "    <tr>\n",
       "      <th>3</th>\n",
       "      <td>Gräf</td>\n",
       "      <td>votive inscription</td>\n",
       "      <td>2.5 cm</td>\n",
       "      <td>0200</td>\n",
       "      <td>AE 1983, 0533. (B); A.U. Stylow, Gerión 1, 198...</td>\n",
       "      <td>checked with photo</td>\n",
       "      <td>(39) cm</td>\n",
       "      <td>[ ]AVS[ ]LLA / M PORCI NIGRI SER / DOMINAE VEN...</td>\n",
       "      <td>NaN</td>\n",
       "      <td>18 cm</td>\n",
       "      <td>...</td>\n",
       "      <td>151 AD – 200 AD</td>\n",
       "      <td>21</td>\n",
       "      <td>unbestimmt</td>\n",
       "      <td>29</td>\n",
       "      <td>Altar</td>\n",
       "      <td>60</td>\n",
       "      <td>Kalkstein</td>\n",
       "      <td>1000</td>\n",
       "      <td>80</td>\n",
       "      <td>Weihinschrift</td>\n",
       "    </tr>\n",
       "    <tr>\n",
       "      <th>4</th>\n",
       "      <td>Feraudi</td>\n",
       "      <td>epitaph</td>\n",
       "      <td>None</td>\n",
       "      <td>0200</td>\n",
       "      <td>AE 1983, 0078. (B); A. Ferrua, RAL 36, 1981, 1...</td>\n",
       "      <td>no image</td>\n",
       "      <td>None</td>\n",
       "      <td>[ ] L SVCCESSVS / [ ] L L IRENAEVS / [ ] C L T...</td>\n",
       "      <td>NaN</td>\n",
       "      <td>None</td>\n",
       "      <td>...</td>\n",
       "      <td>1 AD – 200 AD</td>\n",
       "      <td>21</td>\n",
       "      <td>unbestimmt</td>\n",
       "      <td>250</td>\n",
       "      <td>Stele</td>\n",
       "      <td>138</td>\n",
       "      <td>unbestimmt</td>\n",
       "      <td>1000</td>\n",
       "      <td>92</td>\n",
       "      <td>Grabinschrift</td>\n",
       "    </tr>\n",
       "  </tbody>\n",
       "</table>\n",
       "<p>5 rows × 50 columns</p>\n",
       "</div>"
      ],
      "text/plain": [
       "  responsible_individual    type_of_inscription letter_size not_after  \\\n",
       "0                Feraudi                epitaph    3.2-2 cm      0130   \n",
       "1                Feraudi                epitaph        4 cm      0200   \n",
       "2                Feraudi  honorific inscription    4.5-3 cm      0170   \n",
       "3                   Gräf     votive inscription      2.5 cm      0200   \n",
       "4                Feraudi                epitaph        None      0200   \n",
       "\n",
       "                                          literature         work_status  \\\n",
       "0  AE 1983, 0192.; M. Annecchino, Puteoli 4/5, 19...         provisional   \n",
       "1  AE 1983, 0080. (A); A. Ferrua, RAL 36, 1981, 1...            no image   \n",
       "2  AE 1983, 0518. (B); J. González, ZPE 52, 1983,...         provisional   \n",
       "3  AE 1983, 0533. (B); A.U. Stylow, Gerión 1, 198...  checked with photo   \n",
       "4  AE 1983, 0078. (B); A. Ferrua, RAL 36, 1981, 1...            no image   \n",
       "\n",
       "    height                                    diplomatic_text  people  \\\n",
       "0    33 cm  D M / NONIAE P F OPTATAE / ET C IVLIO ARTEMONI...     NaN   \n",
       "1    28 cm            C SEXTIVS PARIS / QVI VIXIT / ANNIS LXX     NaN   \n",
       "2  (37) cm  [ ]VMMIO [ ] / [ ]ISENNA[ ] / [ ] XV[ ] / [ ] / [     NaN   \n",
       "3  (39) cm  [ ]AVS[ ]LLA / M PORCI NIGRI SER / DOMINAE VEN...     NaN   \n",
       "4     None  [ ] L SVCCESSVS / [ ] L L IRENAEVS / [ ] C L T...     NaN   \n",
       "\n",
       "     depth  ...                                origdate_text layout_execution  \\\n",
       "0   2.7 cm  ...                                         None             None   \n",
       "1     None  ...   51 AD – 200 AD                                           21   \n",
       "2  (12) cm  ...  131 AD – 170 AD                                           21   \n",
       "3    18 cm  ...  151 AD – 200 AD                                           21   \n",
       "4     None  ...    1 AD – 200 AD                                           21   \n",
       "\n",
       "  layout_execution_text support_objecttype support_objecttype_text  \\\n",
       "0                  None               None                    None   \n",
       "1            unbestimmt                257                   Tafel   \n",
       "2            unbestimmt                 57            Statuenbasis   \n",
       "3            unbestimmt                 29                   Altar   \n",
       "4            unbestimmt                250                   Stele   \n",
       "\n",
       "  support_material support_material_text support_decoration keywords_term  \\\n",
       "0             None                  None               None          None   \n",
       "1               48                Marmor               1000            92   \n",
       "2               48                Marmor               1000            69   \n",
       "3               60             Kalkstein               1000            80   \n",
       "4              138            unbestimmt               1000            92   \n",
       "\n",
       "  keywords_term_text  \n",
       "0               None  \n",
       "1      Grabinschrift  \n",
       "2     Ehreninschrift  \n",
       "3      Weihinschrift  \n",
       "4      Grabinschrift  \n",
       "\n",
       "[5 rows x 50 columns]"
      ]
     },
     "execution_count": 44,
     "metadata": {},
     "output_type": "execute_result"
    }
   ],
   "source": [
    "for column in inscriptions_rich.columns: # to avoid problems with encoding, lets check that everything is utf-8\n",
    "    try: \n",
    "        inscriptions_rich[column] = inscriptions_rich[column].str.encode(\"utf-8\")\n",
    "        inscriptions_rich[column] = inscriptions_rich[column].str.decode(\"utf-8\")\n",
    "    except: \n",
    "        inscriptions_rich[column] = inscriptions_rich[column]  \n",
    "inscriptions_rich.head(5)"
   ]
  },
  {
   "cell_type": "code",
   "execution_count": 45,
   "metadata": {
    "pycharm": {
     "name": "#%%\n"
    }
   },
   "outputs": [
    {
     "data": {
      "text/plain": [
       "276460615"
      ]
     },
     "execution_count": 45,
     "metadata": {},
     "output_type": "execute_result"
    }
   ],
   "source": [
    "sys.getsizeof(inscriptions_rich)"
   ]
  },
  {
   "cell_type": "code",
   "execution_count": 46,
   "metadata": {
    "pycharm": {
     "name": "#%%\n"
    }
   },
   "outputs": [],
   "source": [
    "inscriptions_rich_sample = inscriptions_rich[:5000]"
   ]
  },
  {
   "cell_type": "code",
   "execution_count": 47,
   "metadata": {
    "pycharm": {
     "name": "#%%\n"
    }
   },
   "outputs": [
    {
     "data": {
      "text/plain": [
       "5000"
      ]
     },
     "execution_count": 47,
     "metadata": {},
     "output_type": "execute_result"
    }
   ],
   "source": [
    "len(inscriptions_rich_sample)"
   ]
  },
  {
   "cell_type": "code",
   "execution_count": 48,
   "metadata": {
    "pycharm": {
     "name": "#%%\n"
    }
   },
   "outputs": [
    {
     "name": "stdout",
     "output_type": "stream",
     "text": [
      "Your <class 'pandas.core.frame.DataFrame'> object has been succefully written as \"https://sciencedata.dk/files/SDAM_root/SDAM_data/EDH/public/EDH_utf_sample_2.json\"\n"
     ]
    }
   ],
   "source": [
    "sddk.write_file(\"SDAM_data/EDH/public/EDH_utf_sample_2.json\", inscriptions_rich_sample, conf) "
   ]
  },
  {
   "cell_type": "code",
   "execution_count": 12,
   "metadata": {
    "pycharm": {
     "name": "#%%\n"
    }
   },
   "outputs": [],
   "source": [
    "from pyarrow import feather"
   ]
  },
  {
   "cell_type": "code",
   "execution_count": 20,
   "metadata": {
    "pycharm": {
     "name": "#%%\n"
    }
   },
   "outputs": [],
   "source": [
    "pyarrow.feather.write_feather(inscriptions_rich.reset_index(), \"test-utf8.feather\", version=1, compression=None)"
   ]
  },
  {
   "cell_type": "code",
   "execution_count": 21,
   "metadata": {
    "pycharm": {
     "name": "#%%\n"
    }
   },
   "outputs": [
    {
     "data": {
      "text/plain": [
       "<Response [201]>"
      ]
     },
     "execution_count": 21,
     "metadata": {},
     "output_type": "execute_result"
    }
   ],
   "source": [
    "conf[0].put(conf[1] + \"SDAM_data/EDH/test-utf8.feather\", data=open(\"test-utf8.feather\", \"rb\"))"
   ]
  },
  {
   "cell_type": "code",
   "execution_count": 17,
   "metadata": {
    "pycharm": {
     "name": "#%%\n"
    }
   },
   "outputs": [
    {
     "data": {
      "text/html": [
       "<div>\n",
       "<style scoped>\n",
       "    .dataframe tbody tr th:only-of-type {\n",
       "        vertical-align: middle;\n",
       "    }\n",
       "\n",
       "    .dataframe tbody tr th {\n",
       "        vertical-align: top;\n",
       "    }\n",
       "\n",
       "    .dataframe thead th {\n",
       "        text-align: right;\n",
       "    }\n",
       "</style>\n",
       "<table border=\"1\" class=\"dataframe\">\n",
       "  <thead>\n",
       "    <tr style=\"text-align: right;\">\n",
       "      <th></th>\n",
       "      <th>index</th>\n",
       "      <th>responsible_individual</th>\n",
       "      <th>type_of_inscription</th>\n",
       "      <th>letter_size</th>\n",
       "      <th>not_after</th>\n",
       "      <th>literature</th>\n",
       "      <th>work_status</th>\n",
       "      <th>height</th>\n",
       "      <th>diplomatic_text</th>\n",
       "      <th>people</th>\n",
       "      <th>...</th>\n",
       "      <th>layout_execution</th>\n",
       "      <th>layout_execution_text</th>\n",
       "      <th>support_objecttype</th>\n",
       "      <th>support_objecttype_text</th>\n",
       "      <th>support_material</th>\n",
       "      <th>support_material_text</th>\n",
       "      <th>support_decoration</th>\n",
       "      <th>support_decoration_text</th>\n",
       "      <th>keywords_term</th>\n",
       "      <th>keywords_term_text</th>\n",
       "    </tr>\n",
       "  </thead>\n",
       "  <tbody>\n",
       "    <tr>\n",
       "      <th>0</th>\n",
       "      <td>NaN</td>\n",
       "      <td>Feraudi</td>\n",
       "      <td>epitaph</td>\n",
       "      <td>3.2-2 cm</td>\n",
       "      <td>0130</td>\n",
       "      <td>AE 1983, 0192.; M. Annecchino, Puteoli 4/5, 19...</td>\n",
       "      <td>provisional</td>\n",
       "      <td>33 cm</td>\n",
       "      <td>D M / NONIAE P F OPTATAE / ET C IVLIO ARTEMONI...</td>\n",
       "      <td>NaN</td>\n",
       "      <td>...</td>\n",
       "      <td>NaN</td>\n",
       "      <td>None</td>\n",
       "      <td>None</td>\n",
       "      <td>None</td>\n",
       "      <td>None</td>\n",
       "      <td>None</td>\n",
       "      <td>NaN</td>\n",
       "      <td>None</td>\n",
       "      <td>None</td>\n",
       "      <td>None</td>\n",
       "    </tr>\n",
       "    <tr>\n",
       "      <th>1</th>\n",
       "      <td>NaN</td>\n",
       "      <td>Feraudi</td>\n",
       "      <td>epitaph</td>\n",
       "      <td>4 cm</td>\n",
       "      <td>0200</td>\n",
       "      <td>AE 1983, 0080. (A); A. Ferrua, RAL 36, 1981, 1...</td>\n",
       "      <td>no image</td>\n",
       "      <td>28 cm</td>\n",
       "      <td>C SEXTIVS PARIS / QVI VIXIT / ANNIS LXX</td>\n",
       "      <td>NaN</td>\n",
       "      <td>...</td>\n",
       "      <td>NaN</td>\n",
       "      <td>unbestimmt</td>\n",
       "      <td>http://www.eagle-network.eu/voc/objtyp/lod/257</td>\n",
       "      <td>Tafel</td>\n",
       "      <td>http://www.eagle-network.eu/voc/material/lod/48</td>\n",
       "      <td>Marmor</td>\n",
       "      <td>NaN</td>\n",
       "      <td>nein</td>\n",
       "      <td>http://www.eagle-network.eu/voc/typeins/lod/92</td>\n",
       "      <td>Grabinschrift</td>\n",
       "    </tr>\n",
       "    <tr>\n",
       "      <th>2</th>\n",
       "      <td>NaN</td>\n",
       "      <td>Feraudi</td>\n",
       "      <td>honorific inscription</td>\n",
       "      <td>4.5-3 cm</td>\n",
       "      <td>0170</td>\n",
       "      <td>AE 1983, 0518. (B); J. González, ZPE 52, 1983,...</td>\n",
       "      <td>provisional</td>\n",
       "      <td>(37) cm</td>\n",
       "      <td>[ ]VMMIO [ ] / [ ]ISENNA[ ] / [ ] XV[ ] / [ ] / [</td>\n",
       "      <td>NaN</td>\n",
       "      <td>...</td>\n",
       "      <td>NaN</td>\n",
       "      <td>unbestimmt</td>\n",
       "      <td>http://www.eagle-network.eu/voc/objtyp/lod/57</td>\n",
       "      <td>Statuenbasis</td>\n",
       "      <td>http://www.eagle-network.eu/voc/material/lod/48</td>\n",
       "      <td>Marmor</td>\n",
       "      <td>NaN</td>\n",
       "      <td>nein</td>\n",
       "      <td>http://www.eagle-network.eu/voc/typeins/lod/69</td>\n",
       "      <td>Ehreninschrift</td>\n",
       "    </tr>\n",
       "    <tr>\n",
       "      <th>3</th>\n",
       "      <td>NaN</td>\n",
       "      <td>Gräf</td>\n",
       "      <td>votive inscription</td>\n",
       "      <td>2.5 cm</td>\n",
       "      <td>0200</td>\n",
       "      <td>AE 1983, 0533. (B); A.U. Stylow, Gerión 1, 198...</td>\n",
       "      <td>checked with photo</td>\n",
       "      <td>(39) cm</td>\n",
       "      <td>[ ]AVS[ ]LLA / M PORCI NIGRI SER / DOMINAE VEN...</td>\n",
       "      <td>NaN</td>\n",
       "      <td>...</td>\n",
       "      <td>NaN</td>\n",
       "      <td>unbestimmt</td>\n",
       "      <td>http://www.eagle-network.eu/voc/objtyp/lod/29</td>\n",
       "      <td>Altar</td>\n",
       "      <td>http://www.eagle-network.eu/voc/material/lod/60</td>\n",
       "      <td>Kalkstein</td>\n",
       "      <td>NaN</td>\n",
       "      <td>nein</td>\n",
       "      <td>http://www.eagle-network.eu/voc/typeins/lod/80</td>\n",
       "      <td>Weihinschrift</td>\n",
       "    </tr>\n",
       "    <tr>\n",
       "      <th>4</th>\n",
       "      <td>NaN</td>\n",
       "      <td>Feraudi</td>\n",
       "      <td>epitaph</td>\n",
       "      <td>None</td>\n",
       "      <td>0200</td>\n",
       "      <td>AE 1983, 0078. (B); A. Ferrua, RAL 36, 1981, 1...</td>\n",
       "      <td>no image</td>\n",
       "      <td>None</td>\n",
       "      <td>[ ] L SVCCESSVS / [ ] L L IRENAEVS / [ ] C L T...</td>\n",
       "      <td>NaN</td>\n",
       "      <td>...</td>\n",
       "      <td>NaN</td>\n",
       "      <td>unbestimmt</td>\n",
       "      <td>http://www.eagle-network.eu/voc/objtyp/lod/250</td>\n",
       "      <td>Stele</td>\n",
       "      <td>http://www.eagle-network.eu/voc/material/lod/138</td>\n",
       "      <td>unbestimmt</td>\n",
       "      <td>NaN</td>\n",
       "      <td>nein</td>\n",
       "      <td>http://www.eagle-network.eu/voc/typeins/lod/92</td>\n",
       "      <td>Grabinschrift</td>\n",
       "    </tr>\n",
       "  </tbody>\n",
       "</table>\n",
       "<p>5 rows × 53 columns</p>\n",
       "</div>"
      ],
      "text/plain": [
       "   index responsible_individual    type_of_inscription letter_size not_after  \\\n",
       "0    NaN                Feraudi                epitaph    3.2-2 cm      0130   \n",
       "1    NaN                Feraudi                epitaph        4 cm      0200   \n",
       "2    NaN                Feraudi  honorific inscription    4.5-3 cm      0170   \n",
       "3    NaN                   Gräf     votive inscription      2.5 cm      0200   \n",
       "4    NaN                Feraudi                epitaph        None      0200   \n",
       "\n",
       "                                          literature         work_status  \\\n",
       "0  AE 1983, 0192.; M. Annecchino, Puteoli 4/5, 19...         provisional   \n",
       "1  AE 1983, 0080. (A); A. Ferrua, RAL 36, 1981, 1...            no image   \n",
       "2  AE 1983, 0518. (B); J. González, ZPE 52, 1983,...         provisional   \n",
       "3  AE 1983, 0533. (B); A.U. Stylow, Gerión 1, 198...  checked with photo   \n",
       "4  AE 1983, 0078. (B); A. Ferrua, RAL 36, 1981, 1...            no image   \n",
       "\n",
       "    height                                    diplomatic_text  people  ...  \\\n",
       "0    33 cm  D M / NONIAE P F OPTATAE / ET C IVLIO ARTEMONI...     NaN  ...   \n",
       "1    28 cm            C SEXTIVS PARIS / QVI VIXIT / ANNIS LXX     NaN  ...   \n",
       "2  (37) cm  [ ]VMMIO [ ] / [ ]ISENNA[ ] / [ ] XV[ ] / [ ] / [     NaN  ...   \n",
       "3  (39) cm  [ ]AVS[ ]LLA / M PORCI NIGRI SER / DOMINAE VEN...     NaN  ...   \n",
       "4     None  [ ] L SVCCESSVS / [ ] L L IRENAEVS / [ ] C L T...     NaN  ...   \n",
       "\n",
       "  layout_execution layout_execution_text  \\\n",
       "0              NaN                  None   \n",
       "1              NaN            unbestimmt   \n",
       "2              NaN            unbestimmt   \n",
       "3              NaN            unbestimmt   \n",
       "4              NaN            unbestimmt   \n",
       "\n",
       "                               support_objecttype support_objecttype_text  \\\n",
       "0                                            None                    None   \n",
       "1  http://www.eagle-network.eu/voc/objtyp/lod/257                   Tafel   \n",
       "2   http://www.eagle-network.eu/voc/objtyp/lod/57            Statuenbasis   \n",
       "3   http://www.eagle-network.eu/voc/objtyp/lod/29                   Altar   \n",
       "4  http://www.eagle-network.eu/voc/objtyp/lod/250                   Stele   \n",
       "\n",
       "                                   support_material support_material_text  \\\n",
       "0                                              None                  None   \n",
       "1   http://www.eagle-network.eu/voc/material/lod/48                Marmor   \n",
       "2   http://www.eagle-network.eu/voc/material/lod/48                Marmor   \n",
       "3   http://www.eagle-network.eu/voc/material/lod/60             Kalkstein   \n",
       "4  http://www.eagle-network.eu/voc/material/lod/138            unbestimmt   \n",
       "\n",
       "  support_decoration support_decoration_text  \\\n",
       "0                NaN                    None   \n",
       "1                NaN                    nein   \n",
       "2                NaN                    nein   \n",
       "3                NaN                    nein   \n",
       "4                NaN                    nein   \n",
       "\n",
       "                                    keywords_term keywords_term_text  \n",
       "0                                            None               None  \n",
       "1  http://www.eagle-network.eu/voc/typeins/lod/92      Grabinschrift  \n",
       "2  http://www.eagle-network.eu/voc/typeins/lod/69     Ehreninschrift  \n",
       "3  http://www.eagle-network.eu/voc/typeins/lod/80      Weihinschrift  \n",
       "4  http://www.eagle-network.eu/voc/typeins/lod/92      Grabinschrift  \n",
       "\n",
       "[5 rows x 53 columns]"
      ]
     },
     "execution_count": 17,
     "metadata": {},
     "output_type": "execute_result"
    }
   ],
   "source": [
    "EDH_feather = pd.read_feather(\"test-utf8.feather\")\n",
    "for column in EDH_feather.columns:\n",
    "    try:\n",
    "        EDH_feather[column] = EDH_feather[column].str.decode(\"utf-8\")\n",
    "    except:\n",
    "        EDH_feather[column] = EDH_feather[column]\n",
    "EDH_feather.head()"
   ]
  },
  {
   "cell_type": "code",
   "execution_count": 15,
   "metadata": {
    "pycharm": {
     "name": "#%%\n"
    }
   },
   "outputs": [
    {
     "name": "stdout",
     "output_type": "stream",
     "text": [
      "Your <class 'pandas.core.frame.DataFrame'> object has been succefully written as \"https://sciencedata.dk/files/SDAM_root/SDAM_data/EDH/EDH_merged_2020-09-18.feather\"\n"
     ]
    }
   ],
   "source": [
    "sddk.write_file(\"SDAM_data/EDH/EDH_merged_2020-09-18.feather\", inscriptions_rich.reset_index(), conf)"
   ]
  },
  {
   "cell_type": "code",
   "execution_count": 16,
   "metadata": {
    "pycharm": {
     "name": "#%%\n"
    }
   },
   "outputs": [],
   "source": [
    "EDH_feather = sddk.read_file(\"SDAM_data/EDH/EDH_merged_2020-09-18.feather\", \"df\", conf)"
   ]
  },
  {
   "cell_type": "code",
   "execution_count": 17,
   "metadata": {
    "pycharm": {
     "name": "#%%\n"
    }
   },
   "outputs": [
    {
     "data": {
      "text/html": [
       "<div>\n",
       "<style scoped>\n",
       "    .dataframe tbody tr th:only-of-type {\n",
       "        vertical-align: middle;\n",
       "    }\n",
       "\n",
       "    .dataframe tbody tr th {\n",
       "        vertical-align: top;\n",
       "    }\n",
       "\n",
       "    .dataframe thead th {\n",
       "        text-align: right;\n",
       "    }\n",
       "</style>\n",
       "<table border=\"1\" class=\"dataframe\">\n",
       "  <thead>\n",
       "    <tr style=\"text-align: right;\">\n",
       "      <th></th>\n",
       "      <th>index</th>\n",
       "      <th>responsible_individual</th>\n",
       "      <th>type_of_inscription</th>\n",
       "      <th>letter_size</th>\n",
       "      <th>not_after</th>\n",
       "      <th>literature</th>\n",
       "      <th>work_status</th>\n",
       "      <th>height</th>\n",
       "      <th>diplomatic_text</th>\n",
       "      <th>people</th>\n",
       "      <th>...</th>\n",
       "      <th>layout_execution</th>\n",
       "      <th>layout_execution_text</th>\n",
       "      <th>support_objecttype</th>\n",
       "      <th>support_objecttype_text</th>\n",
       "      <th>support_material</th>\n",
       "      <th>support_material_text</th>\n",
       "      <th>support_decoration</th>\n",
       "      <th>support_decoration_text</th>\n",
       "      <th>keywords_term</th>\n",
       "      <th>keywords_term_text</th>\n",
       "    </tr>\n",
       "  </thead>\n",
       "  <tbody>\n",
       "    <tr>\n",
       "      <th>0</th>\n",
       "      <td>0</td>\n",
       "      <td>Feraudi</td>\n",
       "      <td>epitaph</td>\n",
       "      <td>3.2-2 cm</td>\n",
       "      <td>0130</td>\n",
       "      <td>AE 1983, 0192.; M. Annecchino, Puteoli 4/5, 19...</td>\n",
       "      <td>provisional</td>\n",
       "      <td>33 cm</td>\n",
       "      <td>D M / NONIAE P F OPTATAE / ET C IVLIO ARTEMONI...</td>\n",
       "      <td>NaN</td>\n",
       "      <td>...</td>\n",
       "      <td>NaN</td>\n",
       "      <td>None</td>\n",
       "      <td>None</td>\n",
       "      <td>None</td>\n",
       "      <td>None</td>\n",
       "      <td>None</td>\n",
       "      <td>NaN</td>\n",
       "      <td>None</td>\n",
       "      <td>None</td>\n",
       "      <td>None</td>\n",
       "    </tr>\n",
       "    <tr>\n",
       "      <th>1</th>\n",
       "      <td>1</td>\n",
       "      <td>Feraudi</td>\n",
       "      <td>epitaph</td>\n",
       "      <td>4 cm</td>\n",
       "      <td>0200</td>\n",
       "      <td>AE 1983, 0080. (A); A. Ferrua, RAL 36, 1981, 1...</td>\n",
       "      <td>no image</td>\n",
       "      <td>28 cm</td>\n",
       "      <td>C SEXTIVS PARIS / QVI VIXIT / ANNIS LXX</td>\n",
       "      <td>NaN</td>\n",
       "      <td>...</td>\n",
       "      <td>NaN</td>\n",
       "      <td>unbestimmt</td>\n",
       "      <td>http://www.eagle-network.eu/voc/objtyp/lod/257</td>\n",
       "      <td>Tafel</td>\n",
       "      <td>http://www.eagle-network.eu/voc/material/lod/48</td>\n",
       "      <td>Marmor</td>\n",
       "      <td>NaN</td>\n",
       "      <td>nein</td>\n",
       "      <td>http://www.eagle-network.eu/voc/typeins/lod/92</td>\n",
       "      <td>Grabinschrift</td>\n",
       "    </tr>\n",
       "    <tr>\n",
       "      <th>2</th>\n",
       "      <td>2</td>\n",
       "      <td>Feraudi</td>\n",
       "      <td>honorific inscription</td>\n",
       "      <td>4.5-3 cm</td>\n",
       "      <td>0170</td>\n",
       "      <td>AE 1983, 0518. (B); J. González, ZPE 52, 1983,...</td>\n",
       "      <td>provisional</td>\n",
       "      <td>(37) cm</td>\n",
       "      <td>[ ]VMMIO [ ] / [ ]ISENNA[ ] / [ ] XV[ ] / [ ] / [</td>\n",
       "      <td>NaN</td>\n",
       "      <td>...</td>\n",
       "      <td>NaN</td>\n",
       "      <td>unbestimmt</td>\n",
       "      <td>http://www.eagle-network.eu/voc/objtyp/lod/57</td>\n",
       "      <td>Statuenbasis</td>\n",
       "      <td>http://www.eagle-network.eu/voc/material/lod/48</td>\n",
       "      <td>Marmor</td>\n",
       "      <td>NaN</td>\n",
       "      <td>nein</td>\n",
       "      <td>http://www.eagle-network.eu/voc/typeins/lod/69</td>\n",
       "      <td>Ehreninschrift</td>\n",
       "    </tr>\n",
       "    <tr>\n",
       "      <th>3</th>\n",
       "      <td>3</td>\n",
       "      <td>Gräf</td>\n",
       "      <td>votive inscription</td>\n",
       "      <td>2.5 cm</td>\n",
       "      <td>0200</td>\n",
       "      <td>AE 1983, 0533. (B); A.U. Stylow, Gerión 1, 198...</td>\n",
       "      <td>checked with photo</td>\n",
       "      <td>(39) cm</td>\n",
       "      <td>[ ]AVS[ ]LLA / M PORCI NIGRI SER / DOMINAE VEN...</td>\n",
       "      <td>NaN</td>\n",
       "      <td>...</td>\n",
       "      <td>NaN</td>\n",
       "      <td>unbestimmt</td>\n",
       "      <td>http://www.eagle-network.eu/voc/objtyp/lod/29</td>\n",
       "      <td>Altar</td>\n",
       "      <td>http://www.eagle-network.eu/voc/material/lod/60</td>\n",
       "      <td>Kalkstein</td>\n",
       "      <td>NaN</td>\n",
       "      <td>nein</td>\n",
       "      <td>http://www.eagle-network.eu/voc/typeins/lod/80</td>\n",
       "      <td>Weihinschrift</td>\n",
       "    </tr>\n",
       "    <tr>\n",
       "      <th>4</th>\n",
       "      <td>4</td>\n",
       "      <td>Feraudi</td>\n",
       "      <td>epitaph</td>\n",
       "      <td>None</td>\n",
       "      <td>0200</td>\n",
       "      <td>AE 1983, 0078. (B); A. Ferrua, RAL 36, 1981, 1...</td>\n",
       "      <td>no image</td>\n",
       "      <td>None</td>\n",
       "      <td>[ ] L SVCCESSVS / [ ] L L IRENAEVS / [ ] C L T...</td>\n",
       "      <td>NaN</td>\n",
       "      <td>...</td>\n",
       "      <td>NaN</td>\n",
       "      <td>unbestimmt</td>\n",
       "      <td>http://www.eagle-network.eu/voc/objtyp/lod/250</td>\n",
       "      <td>Stele</td>\n",
       "      <td>http://www.eagle-network.eu/voc/material/lod/138</td>\n",
       "      <td>unbestimmt</td>\n",
       "      <td>NaN</td>\n",
       "      <td>nein</td>\n",
       "      <td>http://www.eagle-network.eu/voc/typeins/lod/92</td>\n",
       "      <td>Grabinschrift</td>\n",
       "    </tr>\n",
       "  </tbody>\n",
       "</table>\n",
       "<p>5 rows × 53 columns</p>\n",
       "</div>"
      ],
      "text/plain": [
       "  index responsible_individual    type_of_inscription letter_size not_after  \\\n",
       "0     0                Feraudi                epitaph    3.2-2 cm      0130   \n",
       "1     1                Feraudi                epitaph        4 cm      0200   \n",
       "2     2                Feraudi  honorific inscription    4.5-3 cm      0170   \n",
       "3     3                   Gräf     votive inscription      2.5 cm      0200   \n",
       "4     4                Feraudi                epitaph        None      0200   \n",
       "\n",
       "                                          literature         work_status  \\\n",
       "0  AE 1983, 0192.; M. Annecchino, Puteoli 4/5, 19...         provisional   \n",
       "1  AE 1983, 0080. (A); A. Ferrua, RAL 36, 1981, 1...            no image   \n",
       "2  AE 1983, 0518. (B); J. González, ZPE 52, 1983,...         provisional   \n",
       "3  AE 1983, 0533. (B); A.U. Stylow, Gerión 1, 198...  checked with photo   \n",
       "4  AE 1983, 0078. (B); A. Ferrua, RAL 36, 1981, 1...            no image   \n",
       "\n",
       "    height                                    diplomatic_text  people  ...  \\\n",
       "0    33 cm  D M / NONIAE P F OPTATAE / ET C IVLIO ARTEMONI...     NaN  ...   \n",
       "1    28 cm            C SEXTIVS PARIS / QVI VIXIT / ANNIS LXX     NaN  ...   \n",
       "2  (37) cm  [ ]VMMIO [ ] / [ ]ISENNA[ ] / [ ] XV[ ] / [ ] / [     NaN  ...   \n",
       "3  (39) cm  [ ]AVS[ ]LLA / M PORCI NIGRI SER / DOMINAE VEN...     NaN  ...   \n",
       "4     None  [ ] L SVCCESSVS / [ ] L L IRENAEVS / [ ] C L T...     NaN  ...   \n",
       "\n",
       "  layout_execution layout_execution_text  \\\n",
       "0              NaN                  None   \n",
       "1              NaN            unbestimmt   \n",
       "2              NaN            unbestimmt   \n",
       "3              NaN            unbestimmt   \n",
       "4              NaN            unbestimmt   \n",
       "\n",
       "                               support_objecttype support_objecttype_text  \\\n",
       "0                                            None                    None   \n",
       "1  http://www.eagle-network.eu/voc/objtyp/lod/257                   Tafel   \n",
       "2   http://www.eagle-network.eu/voc/objtyp/lod/57            Statuenbasis   \n",
       "3   http://www.eagle-network.eu/voc/objtyp/lod/29                   Altar   \n",
       "4  http://www.eagle-network.eu/voc/objtyp/lod/250                   Stele   \n",
       "\n",
       "                                   support_material support_material_text  \\\n",
       "0                                              None                  None   \n",
       "1   http://www.eagle-network.eu/voc/material/lod/48                Marmor   \n",
       "2   http://www.eagle-network.eu/voc/material/lod/48                Marmor   \n",
       "3   http://www.eagle-network.eu/voc/material/lod/60             Kalkstein   \n",
       "4  http://www.eagle-network.eu/voc/material/lod/138            unbestimmt   \n",
       "\n",
       "  support_decoration support_decoration_text  \\\n",
       "0                NaN                    None   \n",
       "1                NaN                    nein   \n",
       "2                NaN                    nein   \n",
       "3                NaN                    nein   \n",
       "4                NaN                    nein   \n",
       "\n",
       "                                    keywords_term keywords_term_text  \n",
       "0                                            None               None  \n",
       "1  http://www.eagle-network.eu/voc/typeins/lod/92      Grabinschrift  \n",
       "2  http://www.eagle-network.eu/voc/typeins/lod/69     Ehreninschrift  \n",
       "3  http://www.eagle-network.eu/voc/typeins/lod/80      Weihinschrift  \n",
       "4  http://www.eagle-network.eu/voc/typeins/lod/92      Grabinschrift  \n",
       "\n",
       "[5 rows x 53 columns]"
      ]
     },
     "execution_count": 17,
     "metadata": {},
     "output_type": "execute_result"
    }
   ],
   "source": [
    "EDH_feather.head(5)"
   ]
  },
  {
   "cell_type": "code",
   "execution_count": null,
   "metadata": {
    "pycharm": {
     "name": "#%%\n"
    }
   },
   "outputs": [],
   "source": []
  }
 ],
 "metadata": {
  "colab": {
   "collapsed_sections": [],
   "include_colab_link": true,
   "name": "1_3_py_MERGING_API_GEO_and_XML.ipynb",
   "provenance": []
  },
  "kernelspec": {
   "display_name": "Python 3",
   "language": "python",
   "name": "python3"
  },
  "language_info": {
   "codemirror_mode": {
    "name": "ipython",
    "version": 3
   },
   "file_extension": ".py",
   "mimetype": "text/x-python",
   "name": "python",
   "nbconvert_exporter": "python",
   "pygments_lexer": "ipython3",
   "version": "3.6.9"
  }
 },
 "nbformat": 4,
 "nbformat_minor": 1
}