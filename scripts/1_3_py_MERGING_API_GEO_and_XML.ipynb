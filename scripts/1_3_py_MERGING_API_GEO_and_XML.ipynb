{
 "cells": [
  {
   "cell_type": "code",
   "execution_count": null,
   "metadata": {
    "colab": {
     "base_uri": "https://localhost:8080/",
     "height": 1000
    },
    "colab_type": "code",
    "id": "ysNNoibJHqOH",
    "outputId": "76dedb1e-a99c-4a4c-b810-6326b1053085"
   },
   "outputs": [
    {
     "name": "stdout",
     "output_type": "stream",
     "text": [
      "Collecting sddk\n",
      "  Downloading https://files.pythonhosted.org/packages/bf/96/3ae43f2d8ac06fc16ba111916970e5a1f3b96a3e41732fa3f099e2e5cd1c/sddk-2.6-py3-none-any.whl\n",
      "Collecting pyarrow\n",
      "\u001b[?25l  Downloading https://files.pythonhosted.org/packages/ba/3f/6cac1714fff444664603f92cb9fbe91c7ae25375880158b9e9691c4584c8/pyarrow-0.17.1-cp36-cp36m-manylinux2014_x86_64.whl (63.8MB)\n",
      "\u001b[K     |████████████████████████████████| 63.8MB 55kB/s \n",
      "\u001b[?25hCollecting pandas\n",
      "\u001b[?25l  Downloading https://files.pythonhosted.org/packages/c0/95/cb9820560a2713384ef49060b0087dfa2591c6db6f240215c2bce1f4211c/pandas-1.0.5-cp36-cp36m-manylinux1_x86_64.whl (10.1MB)\n",
      "\u001b[K     |████████████████████████████████| 10.1MB 45.5MB/s \n",
      "\u001b[?25hCollecting matplotlib\n",
      "\u001b[?25l  Downloading https://files.pythonhosted.org/packages/e3/a8/bfd8e9ddac55a4a80235f7ccc286e4a08c97e6c4f035f21a27bcab7a51c8/matplotlib-3.2.2-cp36-cp36m-manylinux1_x86_64.whl (12.4MB)\n",
      "\u001b[K     |████████████████████████████████| 12.4MB 46.5MB/s \n",
      "\u001b[?25hCollecting requests\n",
      "\u001b[?25l  Downloading https://files.pythonhosted.org/packages/45/1e/0c169c6a5381e241ba7404532c16a21d86ab872c9bed8bdcd4c423954103/requests-2.24.0-py2.py3-none-any.whl (61kB)\n",
      "\u001b[K     |████████████████████████████████| 71kB 9.7MB/s \n",
      "\u001b[?25hCollecting numpy\n",
      "\u001b[?25l  Downloading https://files.pythonhosted.org/packages/93/0b/71ae818646c1a80fbe6776d41f480649523ed31243f1f34d9d7e41d70195/numpy-1.19.0-cp36-cp36m-manylinux2010_x86_64.whl (14.6MB)\n",
      "\u001b[K     |████████████████████████████████| 14.6MB 321kB/s \n",
      "\u001b[?25hCollecting python-dateutil>=2.6.1\n",
      "\u001b[?25l  Downloading https://files.pythonhosted.org/packages/d4/70/d60450c3dd48ef87586924207ae8907090de0b306af2bce5d134d78615cb/python_dateutil-2.8.1-py2.py3-none-any.whl (227kB)\n",
      "\u001b[K     |████████████████████████████████| 235kB 49.3MB/s \n",
      "\u001b[?25hCollecting pytz>=2017.2\n",
      "\u001b[?25l  Downloading https://files.pythonhosted.org/packages/4f/a4/879454d49688e2fad93e59d7d4efda580b783c745fd2ec2a3adf87b0808d/pytz-2020.1-py2.py3-none-any.whl (510kB)\n",
      "\u001b[K     |████████████████████████████████| 512kB 36.5MB/s \n",
      "\u001b[?25hCollecting cycler>=0.10\n",
      "  Downloading https://files.pythonhosted.org/packages/f7/d2/e07d3ebb2bd7af696440ce7e754c59dd546ffe1bbe732c8ab68b9c834e61/cycler-0.10.0-py2.py3-none-any.whl\n",
      "Collecting pyparsing!=2.0.4,!=2.1.2,!=2.1.6,>=2.0.1\n",
      "\u001b[?25l  Downloading https://files.pythonhosted.org/packages/8a/bb/488841f56197b13700afd5658fc279a2025a39e22449b7cf29864669b15d/pyparsing-2.4.7-py2.py3-none-any.whl (67kB)\n",
      "\u001b[K     |████████████████████████████████| 71kB 8.5MB/s \n",
      "\u001b[?25hCollecting kiwisolver>=1.0.1\n",
      "\u001b[?25l  Downloading https://files.pythonhosted.org/packages/ae/23/147de658aabbf968324551ea22c0c13a00284c4ef49a77002e91f79657b7/kiwisolver-1.2.0-cp36-cp36m-manylinux1_x86_64.whl (88kB)\n",
      "\u001b[K     |████████████████████████████████| 92kB 10.9MB/s \n",
      "\u001b[?25hCollecting urllib3!=1.25.0,!=1.25.1,<1.26,>=1.21.1\n",
      "\u001b[?25l  Downloading https://files.pythonhosted.org/packages/e1/e5/df302e8017440f111c11cc41a6b432838672f5a70aa29227bf58149dc72f/urllib3-1.25.9-py2.py3-none-any.whl (126kB)\n",
      "\u001b[K     |████████████████████████████████| 133kB 54.3MB/s \n",
      "\u001b[?25hCollecting chardet<4,>=3.0.2\n",
      "\u001b[?25l  Downloading https://files.pythonhosted.org/packages/bc/a9/01ffebfb562e4274b6487b4bb1ddec7ca55ec7510b22e4c51f14098443b8/chardet-3.0.4-py2.py3-none-any.whl (133kB)\n",
      "\u001b[K     |████████████████████████████████| 143kB 51.3MB/s \n",
      "\u001b[?25hCollecting certifi>=2017.4.17\n",
      "\u001b[?25l  Downloading https://files.pythonhosted.org/packages/5e/c4/6c4fe722df5343c33226f0b4e0bb042e4dc13483228b4718baf286f86d87/certifi-2020.6.20-py2.py3-none-any.whl (156kB)\n",
      "\u001b[K     |████████████████████████████████| 163kB 51.0MB/s \n",
      "\u001b[?25hCollecting idna<3,>=2.5\n",
      "\u001b[?25l  Downloading https://files.pythonhosted.org/packages/89/e3/afebe61c546d18fb1709a61bee788254b40e736cff7271c7de5de2dc4128/idna-2.9-py2.py3-none-any.whl (58kB)\n",
      "\u001b[K     |████████████████████████████████| 61kB 8.3MB/s \n",
      "\u001b[?25hCollecting six>=1.5\n",
      "  Downloading https://files.pythonhosted.org/packages/ee/ff/48bde5c0f013094d729fe4b0316ba2a24774b3ff1c52d924a8a4cb04078a/six-1.15.0-py2.py3-none-any.whl\n",
      "\u001b[31mERROR: kaggle 1.5.6 has requirement urllib3<1.25,>=1.21.1, but you'll have urllib3 1.25.9 which is incompatible.\u001b[0m\n",
      "\u001b[31mERROR: google-colab 1.0.0 has requirement requests~=2.23.0, but you'll have requests 2.24.0 which is incompatible.\u001b[0m\n",
      "\u001b[31mERROR: google-colab 1.0.0 has requirement six~=1.12.0, but you'll have six 1.15.0 which is incompatible.\u001b[0m\n",
      "\u001b[31mERROR: datascience 0.10.6 has requirement folium==0.2.1, but you'll have folium 0.8.3 which is incompatible.\u001b[0m\n",
      "\u001b[31mERROR: albumentations 0.1.12 has requirement imgaug<0.2.7,>=0.2.5, but you'll have imgaug 0.2.9 which is incompatible.\u001b[0m\n",
      "Installing collected packages: numpy, pyarrow, six, python-dateutil, pytz, pandas, cycler, pyparsing, kiwisolver, matplotlib, urllib3, chardet, certifi, idna, requests, sddk\n",
      "Successfully installed certifi-2020.6.20 chardet-3.0.4 cycler-0.10.0 idna-2.9 kiwisolver-1.2.0 matplotlib-3.2.2 numpy-1.19.0 pandas-1.0.5 pyarrow-0.17.1 pyparsing-2.4.7 python-dateutil-2.8.1 pytz-2020.1 requests-2.24.0 sddk-2.6 six-1.15.0 urllib3-1.25.9\n"
     ]
    },
    {
     "data": {
      "application/vnd.colab-display-data+json": {
       "pip_warning": {
        "packages": [
         "certifi",
         "chardet",
         "cycler",
         "dateutil",
         "idna",
         "kiwisolver",
         "matplotlib",
         "mpl_toolkits",
         "numpy",
         "pandas",
         "pyarrow",
         "pyparsing",
         "pytz",
         "requests",
         "six",
         "urllib3"
        ]
       }
      }
     },
     "metadata": {
      "tags": []
     },
     "output_type": "display_data"
    }
   ],
   "source": [
    "### REQUIREMENTS\n",
    "import numpy as np\n",
    "import math\n",
    "import pandas as pd\n",
    "\n",
    "import sys\n",
    "### we do a lot of requests during the scrapping. Some of them with requests package, some of them with urllib\n",
    "import requests\n",
    "from urllib.request import urlopen \n",
    "from urllib.parse import quote  \n",
    "from bs4 import BeautifulSoup\n",
    "import xml.etree.cElementTree as ET\n",
    "\n",
    "# to avoid errors, we sometime use time.sleep(N) before retrying a request\n",
    "import time\n",
    "# the input data have typically a json structure\n",
    "import json\n",
    "import getpass\n",
    "\n",
    "import datetime as dt\n",
    "# for simple paralel computing:\n",
    "from concurrent.futures import ThreadPoolExecutor\n",
    "### google drive\n",
    "from google.colab import drive\n",
    "#import gspread\n",
    "#from gspread_dataframe import get_as_dataframe, set_with_dataframe\n",
    "\n",
    "!pip install --ignore-installed sddk ### our own package under construction, always install to have up-to-date version\n",
    "import sddk"
   ]
  },
  {
   "cell_type": "code",
   "execution_count": null,
   "metadata": {
    "colab": {
     "base_uri": "https://localhost:8080/",
     "height": 85
    },
    "colab_type": "code",
    "id": "kHVL8s-M035V",
    "outputId": "ada467cc-61c6-4801-ae8c-95cf32499c9e"
   },
   "outputs": [
    {
     "name": "stdout",
     "output_type": "stream",
     "text": [
      "sciencedata.dk username (format '123456@au.dk'): 648597@au.dk\n",
      "sciencedata.dk password: ··········\n",
      "connection with shared folder established with you as its owner\n",
      "endpoint variable has been configured to: https://sciencedata.dk/files/SDAM_root/\n"
     ]
    }
   ],
   "source": [
    "### configure session and groupurl\n",
    "conf = sddk.configure(\"SDAM_root\", \"648597@au.dk\")"
   ]
  },
  {
   "cell_type": "markdown",
   "metadata": {
    "colab_type": "text",
    "id": "8GRCqx0W_P0e"
   },
   "source": [
    "### SDDK usage\n",
    "\n",
    "Most of the script below has been written an older version of the sddk passage. Since version 1.7, you mostly do not need commands like `s.put()` or `s.get` with a complex parametrization for writing or reading json files etc. You can just use `sddk.read_file()` and `sddk.write_file()` following th [documentation](https://github.com/sdam-au/sddk_py).\n"
   ]
  },
  {
   "cell_type": "markdown",
   "metadata": {
    "colab_type": "text",
    "id": "w2ETiHJcwwiP"
   },
   "source": [
    "# Geographies on the province basis"
   ]
  },
  {
   "cell_type": "code",
   "execution_count": null,
   "metadata": {
    "colab": {
     "base_uri": "https://localhost:8080/",
     "height": 55
    },
    "colab_type": "code",
    "id": "MGDpoX-EcGjD",
    "outputId": "650babff-947c-4e27-ae76-7bfd5917b08d"
   },
   "outputs": [
    {
     "name": "stdout",
     "output_type": "stream",
     "text": [
      "{'provinces': {'Ach': 'Achaia', 'Aeg': 'Aegyptus', 'Aem': 'Aemilia (Regio VIII)', 'Afr': 'Africa Proconsularis', 'AlC': 'Alpes Cottiae', 'AlG': 'Alpes Graiae', 'AlM': 'Alpes Maritimae', 'AlP': 'Alpes \n"
     ]
    }
   ],
   "source": [
    "### extract names of provinces\n",
    "response = requests.get(\"https://edh-www.adw.uni-heidelberg.de/data/api/terms/province\")\n",
    "response\n",
    "json_data = response.json()\n",
    "print(str(json_data)[:200])"
   ]
  },
  {
   "cell_type": "code",
   "execution_count": null,
   "metadata": {
    "colab": {
     "base_uri": "https://localhost:8080/",
     "height": 1000
    },
    "colab_type": "code",
    "id": "hHfLfvIMcG7j",
    "outputId": "2d1c0217-103a-4f22-e0e8-1c816d41b3de"
   },
   "outputs": [
    {
     "name": "stdout",
     "output_type": "stream",
     "text": [
      "Ach 183\n",
      "Aeg 65\n",
      "Aem 162\n",
      "Afr 1400\n",
      "AlC 59\n",
      "AlG 31\n",
      "AlM 173\n",
      "AlP 79\n",
      "ApC 204\n",
      "Aqu 212\n",
      "Ara 103\n",
      "Arm 2\n",
      "Asi 182\n",
      "Ass 0\n",
      "Bae 1305\n",
      "Bar 89\n",
      "Bel 429\n",
      "BiP 105\n",
      "BrL 79\n",
      "Bri 1950\n",
      "Cap 31\n",
      "Cil 48\n",
      "Cor 15\n",
      "Cre 29\n",
      "Cyp 21\n",
      "Cyr 24\n",
      "Dac 996\n",
      "Dal 2194\n",
      "Epi 77\n",
      "Etr 356\n",
      "Gal 89\n",
      "GeI 1064\n",
      "GeS 2661\n",
      "HiC 2553\n",
      "Inc 7\n",
      "Iud 83\n",
      "LaC 654\n",
      "Lig 131\n",
      "Lug 254\n",
      "Lus 746\n",
      "LyP 37\n",
      "MaC 298\n",
      "MaT 43\n",
      "Mak 434\n",
      "Mes 9\n",
      "MoI 888\n",
      "MoS 790\n",
      "Nar 635\n",
      "Nor 1504\n",
      "Num 333\n",
      "PaI 1316\n",
      "PaS 1623\n",
      "Pic 85\n",
      "Rae 729\n",
      "ReB 22\n",
      "Rom 734\n",
      "Sam 313\n",
      "Sar 81\n",
      "Sic 47\n",
      "Syr 154\n",
      "Thr 257\n",
      "Tra 111\n",
      "Tri 0\n",
      "Umb 212\n",
      "Val 0\n",
      "VeH 479\n",
      "CPU times: user 1.75 s, sys: 143 ms, total: 1.89 s\n",
      "Wall time: 2min 19s\n"
     ]
    }
   ],
   "source": [
    "###  generate a list of provinces, resp. their abbreviations\n",
    "%%time\n",
    "\n",
    "json_data = requests.get(\"https://edh-www.adw.uni-heidelberg.de/data/api/terms/province\").json()\n",
    "provinces = json_data[\"provinces\"].keys()\n",
    "\n",
    "### make the basic URL form\n",
    "URL_form_geo = \"https://edh-www.adw.uni-heidelberg.de/data/api/geography/search?\"\n",
    "\n",
    "### parse all find spot for each province \n",
    "### at them to the list\n",
    "geo_data = []\n",
    "for province in provinces:\n",
    "  total = requests.get(URL_form_geo + \"province=\" + province).json()[\"total\"]\n",
    "  response = requests.get(URL_form_geo + \"province=\" + province + \"&limit=\" + str(total))\n",
    "  geo_data.extend(response.json()[\"items\"])\n",
    "  print(province, total)"
   ]
  },
  {
   "cell_type": "code",
   "execution_count": null,
   "metadata": {
    "colab": {
     "base_uri": "https://localhost:8080/",
     "height": 35
    },
    "colab_type": "code",
    "id": "RpvQ2Jv5cHE5",
    "outputId": "7e1fc510-6fd7-4979-c989-f7f83e3579c1"
   },
   "outputs": [
    {
     "data": {
      "text/plain": [
       "29979"
      ]
     },
     "execution_count": 7,
     "metadata": {
      "tags": []
     },
     "output_type": "execute_result"
    }
   ],
   "source": [
    "### total amount of findspots\n",
    "len(geo_data)"
   ]
  },
  {
   "cell_type": "code",
   "execution_count": null,
   "metadata": {
    "colab": {
     "base_uri": "https://localhost:8080/",
     "height": 386
    },
    "colab_type": "code",
    "id": "HOhuYn6hdg0J",
    "outputId": "0aa66ffc-1908-48e9-a1ef-aaf764d566c8"
   },
   "outputs": [
    {
     "data": {
      "text/html": [
       "<div>\n",
       "<style scoped>\n",
       "    .dataframe tbody tr th:only-of-type {\n",
       "        vertical-align: middle;\n",
       "    }\n",
       "\n",
       "    .dataframe tbody tr th {\n",
       "        vertical-align: top;\n",
       "    }\n",
       "\n",
       "    .dataframe thead th {\n",
       "        text-align: right;\n",
       "    }\n",
       "</style>\n",
       "<table border=\"1\" class=\"dataframe\">\n",
       "  <thead>\n",
       "    <tr style=\"text-align: right;\">\n",
       "      <th></th>\n",
       "      <th>country</th>\n",
       "      <th>province</th>\n",
       "      <th>last_update</th>\n",
       "      <th>id</th>\n",
       "      <th>find_spot_ancient</th>\n",
       "      <th>coordinates</th>\n",
       "      <th>region</th>\n",
       "      <th>find_spot_modern</th>\n",
       "      <th>find_spot</th>\n",
       "      <th>pleiades_uri</th>\n",
       "      <th>geonames_uri</th>\n",
       "    </tr>\n",
       "    <tr>\n",
       "      <th>uri</th>\n",
       "      <th></th>\n",
       "      <th></th>\n",
       "      <th></th>\n",
       "      <th></th>\n",
       "      <th></th>\n",
       "      <th></th>\n",
       "      <th></th>\n",
       "      <th></th>\n",
       "      <th></th>\n",
       "      <th></th>\n",
       "      <th></th>\n",
       "    </tr>\n",
       "  </thead>\n",
       "  <tbody>\n",
       "    <tr>\n",
       "      <th>https://edh-www.adw.uni-heidelberg.de/edh/geographie/10</th>\n",
       "      <td>Greece</td>\n",
       "      <td>Achaia</td>\n",
       "      <td>2011-07-14</td>\n",
       "      <td>10</td>\n",
       "      <td>Ptoion</td>\n",
       "      <td>37.05,25.19</td>\n",
       "      <td>NaN</td>\n",
       "      <td>NaN</td>\n",
       "      <td>NaN</td>\n",
       "      <td>NaN</td>\n",
       "      <td>NaN</td>\n",
       "    </tr>\n",
       "    <tr>\n",
       "      <th>https://edh-www.adw.uni-heidelberg.de/edh/geographie/100</th>\n",
       "      <td>Greece</td>\n",
       "      <td>Achaia</td>\n",
       "      <td>2012-03-20</td>\n",
       "      <td>100</td>\n",
       "      <td>Athenae</td>\n",
       "      <td>37.983175,23.716647</td>\n",
       "      <td>Attikí</td>\n",
       "      <td>Athínai</td>\n",
       "      <td>Kerameikos</td>\n",
       "      <td>https://pleiades.stoa.org/places/579885</td>\n",
       "      <td>NaN</td>\n",
       "    </tr>\n",
       "    <tr>\n",
       "      <th>https://edh-www.adw.uni-heidelberg.de/edh/geographie/101</th>\n",
       "      <td>Greece</td>\n",
       "      <td>Achaia</td>\n",
       "      <td>2012-03-20</td>\n",
       "      <td>101</td>\n",
       "      <td>Athenae</td>\n",
       "      <td>37.983175,23.716647</td>\n",
       "      <td>Attikí</td>\n",
       "      <td>Athínai</td>\n",
       "      <td>Kerameikos bei Kirche Haghia Triada</td>\n",
       "      <td>https://pleiades.stoa.org/places/579885</td>\n",
       "      <td>NaN</td>\n",
       "    </tr>\n",
       "    <tr>\n",
       "      <th>https://edh-www.adw.uni-heidelberg.de/edh/geographie/102</th>\n",
       "      <td>Greece</td>\n",
       "      <td>Achaia</td>\n",
       "      <td>2012-03-20</td>\n",
       "      <td>102</td>\n",
       "      <td>Colonia Augusta Aroe Patrae</td>\n",
       "      <td>38.251123,21.741943</td>\n",
       "      <td>Dytikí Elláda</td>\n",
       "      <td>Pátrai</td>\n",
       "      <td>Kirche, sekundär verwendet</td>\n",
       "      <td>NaN</td>\n",
       "      <td>NaN</td>\n",
       "    </tr>\n",
       "    <tr>\n",
       "      <th>https://edh-www.adw.uni-heidelberg.de/edh/geographie/103</th>\n",
       "      <td>Greece</td>\n",
       "      <td>Achaia</td>\n",
       "      <td>2012-03-20</td>\n",
       "      <td>103</td>\n",
       "      <td>Colonia Laus Iulia Corinthus</td>\n",
       "      <td>37.939865,22.928467</td>\n",
       "      <td>Pelopónissos</td>\n",
       "      <td>Kórinthos</td>\n",
       "      <td>Kranion</td>\n",
       "      <td>NaN</td>\n",
       "      <td>NaN</td>\n",
       "    </tr>\n",
       "  </tbody>\n",
       "</table>\n",
       "</div>"
      ],
      "text/plain": [
       "                                                   country  ... geonames_uri\n",
       "uri                                                         ...             \n",
       "https://edh-www.adw.uni-heidelberg.de/edh/geogr...  Greece  ...          NaN\n",
       "https://edh-www.adw.uni-heidelberg.de/edh/geogr...  Greece  ...          NaN\n",
       "https://edh-www.adw.uni-heidelberg.de/edh/geogr...  Greece  ...          NaN\n",
       "https://edh-www.adw.uni-heidelberg.de/edh/geogr...  Greece  ...          NaN\n",
       "https://edh-www.adw.uni-heidelberg.de/edh/geogr...  Greece  ...          NaN\n",
       "\n",
       "[5 rows x 11 columns]"
      ]
     },
     "execution_count": 8,
     "metadata": {
      "tags": []
     },
     "output_type": "execute_result"
    }
   ],
   "source": [
    "geo_data_df = pd.DataFrame(geo_data)\n",
    "geo_data_df.set_index(\"uri\", inplace=True)\n",
    "geo_data_df.head(5)"
   ]
  },
  {
   "cell_type": "markdown",
   "metadata": {
    "colab_type": "text",
    "id": "bO2NRXCld71V"
   },
   "source": [
    "## Upload the data to sciencedata.dk"
   ]
  },
  {
   "cell_type": "code",
   "execution_count": null,
   "metadata": {
    "colab": {
     "base_uri": "https://localhost:8080/",
     "height": 35
    },
    "colab_type": "code",
    "id": "i4_7MD9IdYKC",
    "outputId": "59221689-215a-4ae5-eab3-c29e8325975f"
   },
   "outputs": [
    {
     "data": {
      "text/plain": [
       "<Response [201]>"
      ]
     },
     "execution_count": 11,
     "metadata": {
      "tags": []
     },
     "output_type": "execute_result"
    }
   ],
   "source": [
    "### put your dataframe data into this folder\n",
    "s.put(sddk_url + \"SDAM_data/EDH/EDH_geographies_raw.json\", data=geo_data_df.to_json())"
   ]
  },
  {
   "cell_type": "markdown",
   "metadata": {
    "colab_type": "text",
    "id": "B2vBDj5OeF1L"
   },
   "source": [
    "# Merge the inscriptions with geographies"
   ]
  },
  {
   "cell_type": "code",
   "execution_count": null,
   "metadata": {
    "colab": {
     "base_uri": "https://localhost:8080/",
     "height": 289
    },
    "colab_type": "code",
    "id": "U_EiLj5_1jYp",
    "outputId": "ac3adfe6-b2d9-4930-9f8e-d3b026d42814"
   },
   "outputs": [
    {
     "data": {
      "text/html": [
       "<div>\n",
       "<style scoped>\n",
       "    .dataframe tbody tr th:only-of-type {\n",
       "        vertical-align: middle;\n",
       "    }\n",
       "\n",
       "    .dataframe tbody tr th {\n",
       "        vertical-align: top;\n",
       "    }\n",
       "\n",
       "    .dataframe thead th {\n",
       "        text-align: right;\n",
       "    }\n",
       "</style>\n",
       "<table border=\"1\" class=\"dataframe\">\n",
       "  <thead>\n",
       "    <tr style=\"text-align: right;\">\n",
       "      <th></th>\n",
       "      <th>country</th>\n",
       "      <th>last_update</th>\n",
       "      <th>coordinates</th>\n",
       "      <th>province</th>\n",
       "      <th>id</th>\n",
       "      <th>find_spot_ancient</th>\n",
       "      <th>pleiades_uri</th>\n",
       "      <th>find_spot</th>\n",
       "      <th>region</th>\n",
       "      <th>find_spot_modern</th>\n",
       "      <th>geonames_uri</th>\n",
       "    </tr>\n",
       "  </thead>\n",
       "  <tbody>\n",
       "    <tr>\n",
       "      <th>https://edh-www.adw.uni-heidelberg.de/edh/geographie/10</th>\n",
       "      <td>Greece</td>\n",
       "      <td>2011-07-14</td>\n",
       "      <td>37.05,25.19</td>\n",
       "      <td>Achaia</td>\n",
       "      <td>10</td>\n",
       "      <td>Ptoion</td>\n",
       "      <td>None</td>\n",
       "      <td>None</td>\n",
       "      <td>None</td>\n",
       "      <td>None</td>\n",
       "      <td>None</td>\n",
       "    </tr>\n",
       "    <tr>\n",
       "      <th>https://edh-www.adw.uni-heidelberg.de/edh/geographie/100</th>\n",
       "      <td>Greece</td>\n",
       "      <td>2012-03-20</td>\n",
       "      <td>37.983175,23.716647</td>\n",
       "      <td>Achaia</td>\n",
       "      <td>100</td>\n",
       "      <td>Athenae</td>\n",
       "      <td>https://pleiades.stoa.org/places/579885</td>\n",
       "      <td>Kerameikos</td>\n",
       "      <td>Attikí</td>\n",
       "      <td>Athínai</td>\n",
       "      <td>None</td>\n",
       "    </tr>\n",
       "    <tr>\n",
       "      <th>https://edh-www.adw.uni-heidelberg.de/edh/geographie/101</th>\n",
       "      <td>Greece</td>\n",
       "      <td>2012-03-20</td>\n",
       "      <td>37.983175,23.716647</td>\n",
       "      <td>Achaia</td>\n",
       "      <td>101</td>\n",
       "      <td>Athenae</td>\n",
       "      <td>https://pleiades.stoa.org/places/579885</td>\n",
       "      <td>Kerameikos bei Kirche Haghia Triada</td>\n",
       "      <td>Attikí</td>\n",
       "      <td>Athínai</td>\n",
       "      <td>None</td>\n",
       "    </tr>\n",
       "    <tr>\n",
       "      <th>https://edh-www.adw.uni-heidelberg.de/edh/geographie/102</th>\n",
       "      <td>Greece</td>\n",
       "      <td>2012-03-20</td>\n",
       "      <td>38.251123,21.741943</td>\n",
       "      <td>Achaia</td>\n",
       "      <td>102</td>\n",
       "      <td>Colonia Augusta Aroe Patrae</td>\n",
       "      <td>None</td>\n",
       "      <td>Kirche, sekundär verwendet</td>\n",
       "      <td>Dytikí Elláda</td>\n",
       "      <td>Pátrai</td>\n",
       "      <td>None</td>\n",
       "    </tr>\n",
       "    <tr>\n",
       "      <th>https://edh-www.adw.uni-heidelberg.de/edh/geographie/103</th>\n",
       "      <td>Greece</td>\n",
       "      <td>2012-03-20</td>\n",
       "      <td>37.939865,22.928467</td>\n",
       "      <td>Achaia</td>\n",
       "      <td>103</td>\n",
       "      <td>Colonia Laus Iulia Corinthus</td>\n",
       "      <td>None</td>\n",
       "      <td>Kranion</td>\n",
       "      <td>Pelopónissos</td>\n",
       "      <td>Kórinthos</td>\n",
       "      <td>None</td>\n",
       "    </tr>\n",
       "  </tbody>\n",
       "</table>\n",
       "</div>"
      ],
      "text/plain": [
       "                                                   country  ... geonames_uri\n",
       "https://edh-www.adw.uni-heidelberg.de/edh/geogr...  Greece  ...         None\n",
       "https://edh-www.adw.uni-heidelberg.de/edh/geogr...  Greece  ...         None\n",
       "https://edh-www.adw.uni-heidelberg.de/edh/geogr...  Greece  ...         None\n",
       "https://edh-www.adw.uni-heidelberg.de/edh/geogr...  Greece  ...         None\n",
       "https://edh-www.adw.uni-heidelberg.de/edh/geogr...  Greece  ...         None\n",
       "\n",
       "[5 rows x 11 columns]"
      ]
     },
     "execution_count": 3,
     "metadata": {
      "tags": []
     },
     "output_type": "execute_result"
    }
   ],
   "source": [
    "### import the geographies\n",
    "geo_data_df = sddk.read_file(\"SDAM_data/EDH/EDH_geographies_raw.json\", \"df\", conf)\n",
    "geo_data_df.head(5)"
   ]
  },
  {
   "cell_type": "code",
   "execution_count": null,
   "metadata": {
    "colab": {
     "base_uri": "https://localhost:8080/",
     "height": 547
    },
    "colab_type": "code",
    "id": "1Aj4NuqIeDC4",
    "outputId": "aad0ed7c-6dda-4f7e-f5b6-6a37aef0c64a"
   },
   "outputs": [
    {
     "data": {
      "text/html": [
       "<div>\n",
       "<style scoped>\n",
       "    .dataframe tbody tr th:only-of-type {\n",
       "        vertical-align: middle;\n",
       "    }\n",
       "\n",
       "    .dataframe tbody tr th {\n",
       "        vertical-align: top;\n",
       "    }\n",
       "\n",
       "    .dataframe thead th {\n",
       "        text-align: right;\n",
       "    }\n",
       "</style>\n",
       "<table border=\"1\" class=\"dataframe\">\n",
       "  <thead>\n",
       "    <tr style=\"text-align: right;\">\n",
       "      <th></th>\n",
       "      <th>diplomatic_text</th>\n",
       "      <th>literature</th>\n",
       "      <th>trismegistos_uri</th>\n",
       "      <th>id</th>\n",
       "      <th>findspot_ancient</th>\n",
       "      <th>not_before</th>\n",
       "      <th>type_of_inscription</th>\n",
       "      <th>work_status</th>\n",
       "      <th>edh_geography_uri</th>\n",
       "      <th>not_after</th>\n",
       "      <th>country</th>\n",
       "      <th>province_label</th>\n",
       "      <th>transcription</th>\n",
       "      <th>material</th>\n",
       "      <th>height</th>\n",
       "      <th>width</th>\n",
       "      <th>findspot_modern</th>\n",
       "      <th>depth</th>\n",
       "      <th>commentary</th>\n",
       "      <th>uri</th>\n",
       "      <th>responsible_individual</th>\n",
       "      <th>last_update</th>\n",
       "      <th>language</th>\n",
       "      <th>modern_region</th>\n",
       "      <th>letter_size</th>\n",
       "      <th>type_of_monument</th>\n",
       "      <th>people</th>\n",
       "      <th>year_of_find</th>\n",
       "      <th>findspot</th>\n",
       "      <th>present_location</th>\n",
       "      <th>external_image_uris</th>\n",
       "      <th>religion</th>\n",
       "      <th>fotos</th>\n",
       "      <th>geography</th>\n",
       "      <th>military</th>\n",
       "      <th>social_economic_legal_history</th>\n",
       "    </tr>\n",
       "  </thead>\n",
       "  <tbody>\n",
       "    <tr>\n",
       "      <th>0</th>\n",
       "      <td>D M / NONIAE P F OPTATAE / ET C IVLIO ARTEMONI...</td>\n",
       "      <td>AE 1983, 0192.; M. Annecchino, Puteoli 4/5, 19...</td>\n",
       "      <td>https://www.trismegistos.org/text/251193</td>\n",
       "      <td>HD000001</td>\n",
       "      <td>Cumae, bei</td>\n",
       "      <td>0071</td>\n",
       "      <td>epitaph</td>\n",
       "      <td>provisional</td>\n",
       "      <td>https://edh-www.adw.uni-heidelberg.de/edh/geog...</td>\n",
       "      <td>0130</td>\n",
       "      <td>Italy</td>\n",
       "      <td>Latium et Campania (Regio I)</td>\n",
       "      <td>D(is) M(anibus) / Noniae P(ubli) f(iliae) Opta...</td>\n",
       "      <td>Marmor, geädert / farbig</td>\n",
       "      <td>33 cm</td>\n",
       "      <td>34 cm</td>\n",
       "      <td>Cuma, bei</td>\n",
       "      <td>2.7 cm</td>\n",
       "      <td>(C): 2. Hälfte 1. - Anfang 2. Jh. - AE; Ende ...</td>\n",
       "      <td>https://edh-www.adw.uni-heidelberg.de/edh/insc...</td>\n",
       "      <td>Feraudi</td>\n",
       "      <td>2014-04-07</td>\n",
       "      <td>Latin</td>\n",
       "      <td>Campania</td>\n",
       "      <td>3.2-2 cm</td>\n",
       "      <td>tabula</td>\n",
       "      <td>[{'cognomen': 'Optata', 'person_id': '1', 'gen...</td>\n",
       "      <td>None</td>\n",
       "      <td>None</td>\n",
       "      <td>None</td>\n",
       "      <td>None</td>\n",
       "      <td>None</td>\n",
       "      <td>None</td>\n",
       "      <td>None</td>\n",
       "      <td>None</td>\n",
       "      <td>None</td>\n",
       "    </tr>\n",
       "    <tr>\n",
       "      <th>1</th>\n",
       "      <td>C SEXTIVS PARIS / QVI VIXIT / ANNIS LXX</td>\n",
       "      <td>AE 1983, 0080. (A); A. Ferrua, RAL 36, 1981, 1...</td>\n",
       "      <td>https://www.trismegistos.org/text/265631</td>\n",
       "      <td>HD000002</td>\n",
       "      <td>Roma</td>\n",
       "      <td>0051</td>\n",
       "      <td>epitaph</td>\n",
       "      <td>no image</td>\n",
       "      <td>https://edh-www.adw.uni-heidelberg.de/edh/geog...</td>\n",
       "      <td>0200</td>\n",
       "      <td>Italy</td>\n",
       "      <td>Roma</td>\n",
       "      <td>C(aius) Sextius Paris / qui vixit / annis LXX</td>\n",
       "      <td>marble: rocks - metamorphic rocks</td>\n",
       "      <td>28 cm</td>\n",
       "      <td>85 cm</td>\n",
       "      <td>Roma</td>\n",
       "      <td>None</td>\n",
       "      <td>AE 1983: Breite: 35 cm.</td>\n",
       "      <td>https://edh-www.adw.uni-heidelberg.de/edh/insc...</td>\n",
       "      <td>Feraudi</td>\n",
       "      <td>2014-04-07</td>\n",
       "      <td>Latin</td>\n",
       "      <td>Lazio</td>\n",
       "      <td>4 cm</td>\n",
       "      <td>tabula</td>\n",
       "      <td>[{'age: years': '70', 'cognomen': 'Paris', 'ge...</td>\n",
       "      <td>1937</td>\n",
       "      <td>Via Nomentana, S. Alessandro, Kirche</td>\n",
       "      <td>None</td>\n",
       "      <td>None</td>\n",
       "      <td>None</td>\n",
       "      <td>None</td>\n",
       "      <td>None</td>\n",
       "      <td>None</td>\n",
       "      <td>None</td>\n",
       "    </tr>\n",
       "    <tr>\n",
       "      <th>2</th>\n",
       "      <td>[ ]VMMIO [ ] / [ ]ISENNA[ ] / [ ] XV[ ] / [ ] / [</td>\n",
       "      <td>AE 1983, 0518. (B); J. González, ZPE 52, 1983,...</td>\n",
       "      <td>https://www.trismegistos.org/text/220675</td>\n",
       "      <td>HD000003</td>\n",
       "      <td>None</td>\n",
       "      <td>0131</td>\n",
       "      <td>honorific inscription</td>\n",
       "      <td>provisional</td>\n",
       "      <td>https://edh-www.adw.uni-heidelberg.de/edh/geog...</td>\n",
       "      <td>0170</td>\n",
       "      <td>Spain</td>\n",
       "      <td>Baetica</td>\n",
       "      <td>[P(ublio) M]ummio [P(ubli) f(ilio)] / [Gal(eri...</td>\n",
       "      <td>marble: rocks - metamorphic rocks</td>\n",
       "      <td>(37) cm</td>\n",
       "      <td>(34) cm</td>\n",
       "      <td>Tomares</td>\n",
       "      <td>(12) cm</td>\n",
       "      <td>(B): [S]isenna ist falscher Kasus; folgende E...</td>\n",
       "      <td>https://edh-www.adw.uni-heidelberg.de/edh/insc...</td>\n",
       "      <td>Feraudi</td>\n",
       "      <td>2006-08-31</td>\n",
       "      <td>Latin</td>\n",
       "      <td>Sevilla</td>\n",
       "      <td>4.5-3 cm</td>\n",
       "      <td>statue base</td>\n",
       "      <td>[{'nomen': 'Mummius+', 'cognomen': 'Sisenna+ R...</td>\n",
       "      <td>before 1975</td>\n",
       "      <td>None</td>\n",
       "      <td>Sevilla, Privatbesitz</td>\n",
       "      <td>None</td>\n",
       "      <td>None</td>\n",
       "      <td>None</td>\n",
       "      <td>None</td>\n",
       "      <td>None</td>\n",
       "      <td>None</td>\n",
       "    </tr>\n",
       "    <tr>\n",
       "      <th>3</th>\n",
       "      <td>[ ]AVS[ ]LLA / M PORCI NIGRI SER / DOMINAE VEN...</td>\n",
       "      <td>AE 1983, 0533. (B); A.U. Stylow, Gerión 1, 198...</td>\n",
       "      <td>https://www.trismegistos.org/text/222102</td>\n",
       "      <td>HD000004</td>\n",
       "      <td>Ipolcobulcula</td>\n",
       "      <td>0151</td>\n",
       "      <td>votive inscription</td>\n",
       "      <td>checked with photo</td>\n",
       "      <td>https://edh-www.adw.uni-heidelberg.de/edh/geog...</td>\n",
       "      <td>0200</td>\n",
       "      <td>Spain</td>\n",
       "      <td>Baetica</td>\n",
       "      <td>[---?]AV(?)S(?)[---]L(?)L(?)A / M(arci) Porci ...</td>\n",
       "      <td>limestone: rocks - clastic sediments</td>\n",
       "      <td>(39) cm</td>\n",
       "      <td>27 cm</td>\n",
       "      <td>Carcabuey</td>\n",
       "      <td>18 cm</td>\n",
       "      <td>Material: lokaler grauer Kalkstein. (B): Styl...</td>\n",
       "      <td>https://edh-www.adw.uni-heidelberg.de/edh/insc...</td>\n",
       "      <td>Gräf</td>\n",
       "      <td>2015-03-27</td>\n",
       "      <td>Latin</td>\n",
       "      <td>Córdoba</td>\n",
       "      <td>2.5 cm</td>\n",
       "      <td>altar</td>\n",
       "      <td>[{'cognomen': '[---]', 'status': 'slaves', 'pe...</td>\n",
       "      <td>before 1979</td>\n",
       "      <td>None</td>\n",
       "      <td>Carcabuey, Grupo Escolar</td>\n",
       "      <td>[http://cil-old.bbaw.de/test06/bilder/datenban...</td>\n",
       "      <td>names of pagan deities</td>\n",
       "      <td>None</td>\n",
       "      <td>None</td>\n",
       "      <td>None</td>\n",
       "      <td>None</td>\n",
       "    </tr>\n",
       "    <tr>\n",
       "      <th>4</th>\n",
       "      <td>[ ] L SVCCESSVS / [ ] L L IRENAEVS / [ ] C L T...</td>\n",
       "      <td>AE 1983, 0078. (B); A. Ferrua, RAL 36, 1981, 1...</td>\n",
       "      <td>https://www.trismegistos.org/text/265629</td>\n",
       "      <td>HD000005</td>\n",
       "      <td>Roma</td>\n",
       "      <td>0001</td>\n",
       "      <td>epitaph</td>\n",
       "      <td>no image</td>\n",
       "      <td>https://edh-www.adw.uni-heidelberg.de/edh/geog...</td>\n",
       "      <td>0200</td>\n",
       "      <td>Italy</td>\n",
       "      <td>Roma</td>\n",
       "      <td>[---] l(ibertus) Successus / [---] L(uci) l(ib...</td>\n",
       "      <td>None</td>\n",
       "      <td>None</td>\n",
       "      <td>None</td>\n",
       "      <td>Roma</td>\n",
       "      <td>None</td>\n",
       "      <td>(B): Z. 3: C(ai) l(ibertae) Tyches.</td>\n",
       "      <td>https://edh-www.adw.uni-heidelberg.de/edh/insc...</td>\n",
       "      <td>Feraudi</td>\n",
       "      <td>2010-01-04</td>\n",
       "      <td>Latin</td>\n",
       "      <td>Lazio</td>\n",
       "      <td>None</td>\n",
       "      <td>stele</td>\n",
       "      <td>[{'status': 'freedmen / freedwomen', 'name': '...</td>\n",
       "      <td>None</td>\n",
       "      <td>Via Cupa (ehem. Vigna Nardi)</td>\n",
       "      <td>None</td>\n",
       "      <td>None</td>\n",
       "      <td>None</td>\n",
       "      <td>None</td>\n",
       "      <td>None</td>\n",
       "      <td>None</td>\n",
       "      <td>None</td>\n",
       "    </tr>\n",
       "  </tbody>\n",
       "</table>\n",
       "</div>"
      ],
      "text/plain": [
       "                                     diplomatic_text  ... social_economic_legal_history\n",
       "0  D M / NONIAE P F OPTATAE / ET C IVLIO ARTEMONI...  ...                          None\n",
       "1            C SEXTIVS PARIS / QVI VIXIT / ANNIS LXX  ...                          None\n",
       "2  [ ]VMMIO [ ] / [ ]ISENNA[ ] / [ ] XV[ ] / [ ] / [  ...                          None\n",
       "3  [ ]AVS[ ]LLA / M PORCI NIGRI SER / DOMINAE VEN...  ...                          None\n",
       "4  [ ] L SVCCESSVS / [ ] L L IRENAEVS / [ ] C L T...  ...                          None\n",
       "\n",
       "[5 rows x 36 columns]"
      ]
     },
     "execution_count": 4,
     "metadata": {
      "tags": []
     },
     "output_type": "execute_result"
    }
   ],
   "source": [
    "### upload the raw inscriptions (extracted in another notebook)\n",
    "### use the line below to upload the old data (obtained on province basis)\n",
    "### inscriptions_data_df = pd.DataFrame(s.get(\"https://sciencedata.dk/files/personal_folder/EDH_data/EDH_inscriptions_raw.json\").json())\n",
    "inscriptions_data_df = sddk.read_file(\"SDAM_data/EDH/EDH_onebyone.json\", \"df\", conf)\n",
    "inscriptions_data_df.head(5)"
   ]
  },
  {
   "cell_type": "code",
   "execution_count": null,
   "metadata": {
    "colab": {
     "base_uri": "https://localhost:8080/",
     "height": 51
    },
    "colab_type": "code",
    "id": "Dj0yPw2Hf5hb",
    "outputId": "61f12374-e5e1-438f-c440-29fab0af99b2"
   },
   "outputs": [
    {
     "name": "stdout",
     "output_type": "stream",
     "text": [
      "CPU times: user 10.9 s, sys: 2.83 ms, total: 10.9 s\n",
      "Wall time: 10.9 s\n"
     ]
    }
   ],
   "source": [
    "### use \"edh_geography_uri\" column to\n",
    "### put information from geo_data_df \"coordinates\" column\n",
    "### and return it as a new \"coordinates\" column in the inscriptions_data_df \n",
    "\n",
    "%%time\n",
    "def get_coordinates(column):\n",
    "  try:\n",
    "    return geo_data_df.loc[column][\"coordinates\"]\n",
    "  except:\n",
    "    return None\n",
    "inscriptions_data_df[\"coordinates\"]  =  inscriptions_data_df.apply(lambda row: get_coordinates(row[\"edh_geography_uri\"]), axis=1)"
   ]
  },
  {
   "cell_type": "code",
   "execution_count": null,
   "metadata": {
    "colab": {
     "base_uri": "https://localhost:8080/",
     "height": 34
    },
    "colab_type": "code",
    "id": "KlOjbhe_rN8Z",
    "outputId": "dd7fb83d-7d7a-401d-e057-0c9b11620e30"
   },
   "outputs": [
    {
     "data": {
      "text/plain": [
       "80270"
      ]
     },
     "execution_count": 8,
     "metadata": {
      "tags": []
     },
     "output_type": "execute_result"
    }
   ],
   "source": [
    "len(inscriptions_data_df)"
   ]
  },
  {
   "cell_type": "code",
   "execution_count": null,
   "metadata": {
    "colab": {
     "base_uri": "https://localhost:8080/",
     "height": 34
    },
    "colab_type": "code",
    "id": "--xGaiekiWOd",
    "outputId": "d2ad19b5-baa6-46b7-9680-6ad4423c6dd3"
   },
   "outputs": [
    {
     "data": {
      "text/plain": [
       "77296"
      ]
     },
     "execution_count": 9,
     "metadata": {
      "tags": []
     },
     "output_type": "execute_result"
    }
   ],
   "source": [
    "len(inscriptions_data_df[inscriptions_data_df[\"coordinates\"].notnull()]) ### in the previous version (on province basis), we were able to geolocate 69735 from 72483 inscriptions"
   ]
  },
  {
   "cell_type": "markdown",
   "metadata": {
    "colab_type": "text",
    "id": "AQfS0nJn3cXt"
   },
   "source": [
    "# Merge with data from XML files"
   ]
  },
  {
   "cell_type": "code",
   "execution_count": null,
   "metadata": {
    "colab": {
     "base_uri": "https://localhost:8080/",
     "height": 289
    },
    "colab_type": "code",
    "id": "c3f8H4Fj3a4U",
    "outputId": "70f59b26-4e73-46c1-ef1e-b96b79a01f6e"
   },
   "outputs": [
    {
     "data": {
      "text/html": [
       "<div>\n",
       "<style scoped>\n",
       "    .dataframe tbody tr th:only-of-type {\n",
       "        vertical-align: middle;\n",
       "    }\n",
       "\n",
       "    .dataframe tbody tr th {\n",
       "        vertical-align: top;\n",
       "    }\n",
       "\n",
       "    .dataframe thead th {\n",
       "        text-align: right;\n",
       "    }\n",
       "</style>\n",
       "<table border=\"1\" class=\"dataframe\">\n",
       "  <thead>\n",
       "    <tr style=\"text-align: right;\">\n",
       "      <th></th>\n",
       "      <th>idno_uri</th>\n",
       "      <th>idno_tm</th>\n",
       "      <th>placenames_refs</th>\n",
       "      <th>text</th>\n",
       "      <th>origdate_text</th>\n",
       "      <th>origdate_attrs</th>\n",
       "      <th>objecttype</th>\n",
       "      <th>commentary</th>\n",
       "    </tr>\n",
       "  </thead>\n",
       "  <tbody>\n",
       "    <tr>\n",
       "      <th>0</th>\n",
       "      <td>http://edh-www.adw.uni-heidelberg.de/edh/insch...</td>\n",
       "      <td>214091</td>\n",
       "      <td>[http://www.trismegistos.org/place/019860, htt...</td>\n",
       "      <td>In hoc tumulo meserecordia! Christi requiescet...</td>\n",
       "      <td>551 AD – 600 AD</td>\n",
       "      <td>{'notbefore-custom': '0551', 'notafter-custom'...</td>\n",
       "      <td>[Tafel, 257]</td>\n",
       "      <td>\\n\\n</td>\n",
       "    </tr>\n",
       "    <tr>\n",
       "      <th>1</th>\n",
       "      <td>http://edh-www.adw.uni-heidelberg.de/edh/insch...</td>\n",
       "      <td>415668</td>\n",
       "      <td>[http://www.trismegistos.org/place/016530, htt...</td>\n",
       "      <td>Alae Noricorum Iulius Quintus Vagdaevercusti v...</td>\n",
       "      <td>71 AD – 130 AD</td>\n",
       "      <td>{'notbefore-custom': '0071', 'notafter-custom'...</td>\n",
       "      <td>[Tafel, 257]</td>\n",
       "      <td>\\n\\n</td>\n",
       "    </tr>\n",
       "    <tr>\n",
       "      <th>2</th>\n",
       "      <td>http://edh-www.adw.uni-heidelberg.de/edh/insch...</td>\n",
       "      <td>192497</td>\n",
       "      <td>[http://www.trismegistos.org/place/029481, htt...</td>\n",
       "      <td>Imperator Caesar Lucius Septimius Severus Pius...</td>\n",
       "      <td>197 AD</td>\n",
       "      <td>{'notbefore-custom': '0197', 'datingmethod': '...</td>\n",
       "      <td>[unbestimmt, 2]</td>\n",
       "      <td>\\n Textwiedergabe nach Eck.\\n</td>\n",
       "    </tr>\n",
       "    <tr>\n",
       "      <th>3</th>\n",
       "      <td>http://edh-www.adw.uni-heidelberg.de/edh/insch...</td>\n",
       "      <td>199108</td>\n",
       "      <td>[http://www.trismegistos.org/place/015771, htt...</td>\n",
       "      <td>Saturno Meddensi Augusto sacru...</td>\n",
       "      <td></td>\n",
       "      <td>{'datingmethod': 'http://en.wikipedia.org/wiki...</td>\n",
       "      <td>[unbestimmt, 2]</td>\n",
       "      <td>\\n\\n</td>\n",
       "    </tr>\n",
       "    <tr>\n",
       "      <th>4</th>\n",
       "      <td>http://edh-www.adw.uni-heidelberg.de/edh/insch...</td>\n",
       "      <td>201034</td>\n",
       "      <td>[http://www.trismegistos.org/place/015771, htt...</td>\n",
       "      <td>Lucio Naevio Quadratiano legato Augusti pro pr...</td>\n",
       "      <td>193 AD</td>\n",
       "      <td>{'notbefore-custom': '0193', 'datingmethod': '...</td>\n",
       "      <td>[unbestimmt, 2]</td>\n",
       "      <td>\\n Datierung: L. Naevius Quadratianus war 193 ...</td>\n",
       "    </tr>\n",
       "  </tbody>\n",
       "</table>\n",
       "</div>"
      ],
      "text/plain": [
       "                                            idno_uri  ...                                         commentary\n",
       "0  http://edh-www.adw.uni-heidelberg.de/edh/insch...  ...                                               \\n\\n\n",
       "1  http://edh-www.adw.uni-heidelberg.de/edh/insch...  ...                                               \\n\\n\n",
       "2  http://edh-www.adw.uni-heidelberg.de/edh/insch...  ...                      \\n Textwiedergabe nach Eck.\\n\n",
       "3  http://edh-www.adw.uni-heidelberg.de/edh/insch...  ...                                               \\n\\n\n",
       "4  http://edh-www.adw.uni-heidelberg.de/edh/insch...  ...  \\n Datierung: L. Naevius Quadratianus war 193 ...\n",
       "\n",
       "[5 rows x 8 columns]"
      ]
     },
     "execution_count": 17,
     "metadata": {
      "tags": []
     },
     "output_type": "execute_result"
    }
   ],
   "source": [
    "EDH_xml_data = sddk.read_file(\"SDAM_data/EDH/edh_xml_data_2020-06-23.json\", \"df\", conf)\n",
    "EDH_xml_data.head(5)"
   ]
  },
  {
   "cell_type": "code",
   "execution_count": null,
   "metadata": {
    "colab": {},
    "colab_type": "code",
    "id": "8ENfqnDQ4YJZ"
   },
   "outputs": [],
   "source": [
    "EDH_xml_data = EDH_xml_data[[\"idno_uri\", \"text\", \"origdate_text\", \"origdate_attrs\", \"objecttype\"]] ### only subselection\n",
    "EDH_xml_data.columns = [\"uri\", \"text_cleaned\", \"origdate_text\", \"origdate_attrs\",\"objecttype\"] ### new columns, useful for merging"
   ]
  },
  {
   "cell_type": "code",
   "execution_count": null,
   "metadata": {
    "colab": {
     "base_uri": "https://localhost:8080/",
     "height": 34
    },
    "colab_type": "code",
    "id": "wG_mxc7A8hyi",
    "outputId": "3e1238b8-373e-478f-9bcf-071a9d1f4e05"
   },
   "outputs": [
    {
     "data": {
      "text/plain": [
       "78631"
      ]
     },
     "execution_count": 20,
     "metadata": {
      "tags": []
     },
     "output_type": "execute_result"
    }
   ],
   "source": [
    "len(EDH_xml_data)"
   ]
  },
  {
   "cell_type": "code",
   "execution_count": null,
   "metadata": {
    "colab": {
     "base_uri": "https://localhost:8080/",
     "height": 204
    },
    "colab_type": "code",
    "id": "sXjWeK8i7BXD",
    "outputId": "b5b67efd-a290-4bd2-9f23-cb2b699c7f97"
   },
   "outputs": [
    {
     "data": {
      "text/html": [
       "<div>\n",
       "<style scoped>\n",
       "    .dataframe tbody tr th:only-of-type {\n",
       "        vertical-align: middle;\n",
       "    }\n",
       "\n",
       "    .dataframe tbody tr th {\n",
       "        vertical-align: top;\n",
       "    }\n",
       "\n",
       "    .dataframe thead th {\n",
       "        text-align: right;\n",
       "    }\n",
       "</style>\n",
       "<table border=\"1\" class=\"dataframe\">\n",
       "  <thead>\n",
       "    <tr style=\"text-align: right;\">\n",
       "      <th></th>\n",
       "      <th>uri</th>\n",
       "      <th>text_cleaned</th>\n",
       "      <th>origdate_text</th>\n",
       "      <th>origdate_attrs</th>\n",
       "      <th>objecttype</th>\n",
       "    </tr>\n",
       "  </thead>\n",
       "  <tbody>\n",
       "    <tr>\n",
       "      <th>0</th>\n",
       "      <td>https://edh-www.adw.uni-heidelberg.de/edh/insc...</td>\n",
       "      <td>In hoc tumulo meserecordia! Christi requiescet...</td>\n",
       "      <td>551 AD – 600 AD</td>\n",
       "      <td>{'notbefore-custom': '0551', 'notafter-custom'...</td>\n",
       "      <td>[Tafel, 257]</td>\n",
       "    </tr>\n",
       "    <tr>\n",
       "      <th>1</th>\n",
       "      <td>https://edh-www.adw.uni-heidelberg.de/edh/insc...</td>\n",
       "      <td>Alae Noricorum Iulius Quintus Vagdaevercusti v...</td>\n",
       "      <td>71 AD – 130 AD</td>\n",
       "      <td>{'notbefore-custom': '0071', 'notafter-custom'...</td>\n",
       "      <td>[Tafel, 257]</td>\n",
       "    </tr>\n",
       "    <tr>\n",
       "      <th>2</th>\n",
       "      <td>https://edh-www.adw.uni-heidelberg.de/edh/insc...</td>\n",
       "      <td>Imperator Caesar Lucius Septimius Severus Pius...</td>\n",
       "      <td>197 AD</td>\n",
       "      <td>{'notbefore-custom': '0197', 'datingmethod': '...</td>\n",
       "      <td>[unbestimmt, 2]</td>\n",
       "    </tr>\n",
       "    <tr>\n",
       "      <th>3</th>\n",
       "      <td>https://edh-www.adw.uni-heidelberg.de/edh/insc...</td>\n",
       "      <td>Saturno Meddensi Augusto sacru...</td>\n",
       "      <td></td>\n",
       "      <td>{'datingmethod': 'http://en.wikipedia.org/wiki...</td>\n",
       "      <td>[unbestimmt, 2]</td>\n",
       "    </tr>\n",
       "    <tr>\n",
       "      <th>4</th>\n",
       "      <td>https://edh-www.adw.uni-heidelberg.de/edh/insc...</td>\n",
       "      <td>Lucio Naevio Quadratiano legato Augusti pro pr...</td>\n",
       "      <td>193 AD</td>\n",
       "      <td>{'notbefore-custom': '0193', 'datingmethod': '...</td>\n",
       "      <td>[unbestimmt, 2]</td>\n",
       "    </tr>\n",
       "  </tbody>\n",
       "</table>\n",
       "</div>"
      ],
      "text/plain": [
       "                                                 uri  ...       objecttype\n",
       "0  https://edh-www.adw.uni-heidelberg.de/edh/insc...  ...     [Tafel, 257]\n",
       "1  https://edh-www.adw.uni-heidelberg.de/edh/insc...  ...     [Tafel, 257]\n",
       "2  https://edh-www.adw.uni-heidelberg.de/edh/insc...  ...  [unbestimmt, 2]\n",
       "3  https://edh-www.adw.uni-heidelberg.de/edh/insc...  ...  [unbestimmt, 2]\n",
       "4  https://edh-www.adw.uni-heidelberg.de/edh/insc...  ...  [unbestimmt, 2]\n",
       "\n",
       "[5 rows x 5 columns]"
      ]
     },
     "execution_count": 22,
     "metadata": {
      "tags": []
     },
     "output_type": "execute_result"
    }
   ],
   "source": [
    "EDH_xml_data[\"uri\"].replace({r\"http:\" : r\"https:\"}, regex=True, inplace=True) ### URIs via API follow HTTPS protocol\n",
    "EDH_xml_data.head(5)"
   ]
  },
  {
   "cell_type": "code",
   "execution_count": null,
   "metadata": {
    "colab": {
     "base_uri": "https://localhost:8080/",
     "height": 34
    },
    "colab_type": "code",
    "id": "0ZhoyehUu4-S",
    "outputId": "ef764068-97a4-454e-d6e7-5ba6c51aa6ff"
   },
   "outputs": [
    {
     "data": {
      "text/plain": [
       "(80270, 37)"
      ]
     },
     "execution_count": 23,
     "metadata": {
      "tags": []
     },
     "output_type": "execute_result"
    }
   ],
   "source": [
    "inscriptions_data_df.shape"
   ]
  },
  {
   "cell_type": "code",
   "execution_count": null,
   "metadata": {
    "colab": {
     "base_uri": "https://localhost:8080/",
     "height": 547
    },
    "colab_type": "code",
    "id": "sXHzuRLX51mf",
    "outputId": "74fbf44a-81dd-4d09-9f84-a52001d660a0"
   },
   "outputs": [
    {
     "data": {
      "text/html": [
       "<div>\n",
       "<style scoped>\n",
       "    .dataframe tbody tr th:only-of-type {\n",
       "        vertical-align: middle;\n",
       "    }\n",
       "\n",
       "    .dataframe tbody tr th {\n",
       "        vertical-align: top;\n",
       "    }\n",
       "\n",
       "    .dataframe thead th {\n",
       "        text-align: right;\n",
       "    }\n",
       "</style>\n",
       "<table border=\"1\" class=\"dataframe\">\n",
       "  <thead>\n",
       "    <tr style=\"text-align: right;\">\n",
       "      <th></th>\n",
       "      <th>diplomatic_text</th>\n",
       "      <th>literature</th>\n",
       "      <th>trismegistos_uri</th>\n",
       "      <th>id</th>\n",
       "      <th>findspot_ancient</th>\n",
       "      <th>not_before</th>\n",
       "      <th>type_of_inscription</th>\n",
       "      <th>work_status</th>\n",
       "      <th>edh_geography_uri</th>\n",
       "      <th>not_after</th>\n",
       "      <th>country</th>\n",
       "      <th>province_label</th>\n",
       "      <th>transcription</th>\n",
       "      <th>material</th>\n",
       "      <th>height</th>\n",
       "      <th>width</th>\n",
       "      <th>findspot_modern</th>\n",
       "      <th>depth</th>\n",
       "      <th>commentary</th>\n",
       "      <th>uri</th>\n",
       "      <th>responsible_individual</th>\n",
       "      <th>last_update</th>\n",
       "      <th>language</th>\n",
       "      <th>modern_region</th>\n",
       "      <th>letter_size</th>\n",
       "      <th>type_of_monument</th>\n",
       "      <th>people</th>\n",
       "      <th>year_of_find</th>\n",
       "      <th>findspot</th>\n",
       "      <th>present_location</th>\n",
       "      <th>external_image_uris</th>\n",
       "      <th>religion</th>\n",
       "      <th>fotos</th>\n",
       "      <th>geography</th>\n",
       "      <th>military</th>\n",
       "      <th>social_economic_legal_history</th>\n",
       "      <th>coordinates</th>\n",
       "      <th>text_cleaned</th>\n",
       "      <th>origdate_text</th>\n",
       "      <th>origdate_attrs</th>\n",
       "      <th>objecttype</th>\n",
       "    </tr>\n",
       "  </thead>\n",
       "  <tbody>\n",
       "    <tr>\n",
       "      <th>0</th>\n",
       "      <td>D M / NONIAE P F OPTATAE / ET C IVLIO ARTEMONI...</td>\n",
       "      <td>AE 1983, 0192.; M. Annecchino, Puteoli 4/5, 19...</td>\n",
       "      <td>https://www.trismegistos.org/text/251193</td>\n",
       "      <td>HD000001</td>\n",
       "      <td>Cumae, bei</td>\n",
       "      <td>0071</td>\n",
       "      <td>epitaph</td>\n",
       "      <td>provisional</td>\n",
       "      <td>https://edh-www.adw.uni-heidelberg.de/edh/geog...</td>\n",
       "      <td>0130</td>\n",
       "      <td>Italy</td>\n",
       "      <td>Latium et Campania (Regio I)</td>\n",
       "      <td>D(is) M(anibus) / Noniae P(ubli) f(iliae) Opta...</td>\n",
       "      <td>Marmor, geädert / farbig</td>\n",
       "      <td>33 cm</td>\n",
       "      <td>34 cm</td>\n",
       "      <td>Cuma, bei</td>\n",
       "      <td>2.7 cm</td>\n",
       "      <td>(C): 2. Hälfte 1. - Anfang 2. Jh. - AE; Ende ...</td>\n",
       "      <td>https://edh-www.adw.uni-heidelberg.de/edh/insc...</td>\n",
       "      <td>Feraudi</td>\n",
       "      <td>2014-04-07</td>\n",
       "      <td>Latin</td>\n",
       "      <td>Campania</td>\n",
       "      <td>3.2-2 cm</td>\n",
       "      <td>tabula</td>\n",
       "      <td>[{'cognomen': 'Optata', 'person_id': '1', 'gen...</td>\n",
       "      <td>None</td>\n",
       "      <td>None</td>\n",
       "      <td>None</td>\n",
       "      <td>None</td>\n",
       "      <td>None</td>\n",
       "      <td>None</td>\n",
       "      <td>None</td>\n",
       "      <td>None</td>\n",
       "      <td>None</td>\n",
       "      <td>40.8471577,14.0550756</td>\n",
       "      <td>Dis Manibus Noniae Publi filiae Optatae et Cai...</td>\n",
       "      <td>71 AD – 130 AD</td>\n",
       "      <td>{'notbefore-custom': '0071', 'notafter-custom'...</td>\n",
       "      <td>[Tafel, 257]</td>\n",
       "    </tr>\n",
       "    <tr>\n",
       "      <th>1</th>\n",
       "      <td>C SEXTIVS PARIS / QVI VIXIT / ANNIS LXX</td>\n",
       "      <td>AE 1983, 0080. (A); A. Ferrua, RAL 36, 1981, 1...</td>\n",
       "      <td>https://www.trismegistos.org/text/265631</td>\n",
       "      <td>HD000002</td>\n",
       "      <td>Roma</td>\n",
       "      <td>0051</td>\n",
       "      <td>epitaph</td>\n",
       "      <td>no image</td>\n",
       "      <td>https://edh-www.adw.uni-heidelberg.de/edh/geog...</td>\n",
       "      <td>0200</td>\n",
       "      <td>Italy</td>\n",
       "      <td>Roma</td>\n",
       "      <td>C(aius) Sextius Paris / qui vixit / annis LXX</td>\n",
       "      <td>marble: rocks - metamorphic rocks</td>\n",
       "      <td>28 cm</td>\n",
       "      <td>85 cm</td>\n",
       "      <td>Roma</td>\n",
       "      <td>None</td>\n",
       "      <td>AE 1983: Breite: 35 cm.</td>\n",
       "      <td>https://edh-www.adw.uni-heidelberg.de/edh/insc...</td>\n",
       "      <td>Feraudi</td>\n",
       "      <td>2014-04-07</td>\n",
       "      <td>Latin</td>\n",
       "      <td>Lazio</td>\n",
       "      <td>4 cm</td>\n",
       "      <td>tabula</td>\n",
       "      <td>[{'age: years': '70', 'cognomen': 'Paris', 'ge...</td>\n",
       "      <td>1937</td>\n",
       "      <td>Via Nomentana, S. Alessandro, Kirche</td>\n",
       "      <td>None</td>\n",
       "      <td>None</td>\n",
       "      <td>None</td>\n",
       "      <td>None</td>\n",
       "      <td>None</td>\n",
       "      <td>None</td>\n",
       "      <td>None</td>\n",
       "      <td>41.895466,12.482324</td>\n",
       "      <td>Caius Sextius Paris qui vixit annis LXX       ...</td>\n",
       "      <td>51 AD – 200 AD</td>\n",
       "      <td>{'notbefore-custom': '0051', 'notafter-custom'...</td>\n",
       "      <td>[Tafel, 257]</td>\n",
       "    </tr>\n",
       "    <tr>\n",
       "      <th>2</th>\n",
       "      <td>[ ]VMMIO [ ] / [ ]ISENNA[ ] / [ ] XV[ ] / [ ] / [</td>\n",
       "      <td>AE 1983, 0518. (B); J. González, ZPE 52, 1983,...</td>\n",
       "      <td>https://www.trismegistos.org/text/220675</td>\n",
       "      <td>HD000003</td>\n",
       "      <td>None</td>\n",
       "      <td>0131</td>\n",
       "      <td>honorific inscription</td>\n",
       "      <td>provisional</td>\n",
       "      <td>https://edh-www.adw.uni-heidelberg.de/edh/geog...</td>\n",
       "      <td>0170</td>\n",
       "      <td>Spain</td>\n",
       "      <td>Baetica</td>\n",
       "      <td>[P(ublio) M]ummio [P(ubli) f(ilio)] / [Gal(eri...</td>\n",
       "      <td>marble: rocks - metamorphic rocks</td>\n",
       "      <td>(37) cm</td>\n",
       "      <td>(34) cm</td>\n",
       "      <td>Tomares</td>\n",
       "      <td>(12) cm</td>\n",
       "      <td>(B): [S]isenna ist falscher Kasus; folgende E...</td>\n",
       "      <td>https://edh-www.adw.uni-heidelberg.de/edh/insc...</td>\n",
       "      <td>Feraudi</td>\n",
       "      <td>2006-08-31</td>\n",
       "      <td>Latin</td>\n",
       "      <td>Sevilla</td>\n",
       "      <td>4.5-3 cm</td>\n",
       "      <td>statue base</td>\n",
       "      <td>[{'nomen': 'Mummius+', 'cognomen': 'Sisenna+ R...</td>\n",
       "      <td>before 1975</td>\n",
       "      <td>None</td>\n",
       "      <td>Sevilla, Privatbesitz</td>\n",
       "      <td>None</td>\n",
       "      <td>None</td>\n",
       "      <td>None</td>\n",
       "      <td>None</td>\n",
       "      <td>None</td>\n",
       "      <td>None</td>\n",
       "      <td>37.37281,-6.04589</td>\n",
       "      <td>Publio Mummio Publi filio Galeria Sisennae Rut...</td>\n",
       "      <td>131 AD – 170 AD</td>\n",
       "      <td>{'notbefore-custom': '0131', 'notafter-custom'...</td>\n",
       "      <td>[Statuenbasis, 57]</td>\n",
       "    </tr>\n",
       "    <tr>\n",
       "      <th>3</th>\n",
       "      <td>[ ]AVS[ ]LLA / M PORCI NIGRI SER / DOMINAE VEN...</td>\n",
       "      <td>AE 1983, 0533. (B); A.U. Stylow, Gerión 1, 198...</td>\n",
       "      <td>https://www.trismegistos.org/text/222102</td>\n",
       "      <td>HD000004</td>\n",
       "      <td>Ipolcobulcula</td>\n",
       "      <td>0151</td>\n",
       "      <td>votive inscription</td>\n",
       "      <td>checked with photo</td>\n",
       "      <td>https://edh-www.adw.uni-heidelberg.de/edh/geog...</td>\n",
       "      <td>0200</td>\n",
       "      <td>Spain</td>\n",
       "      <td>Baetica</td>\n",
       "      <td>[---?]AV(?)S(?)[---]L(?)L(?)A / M(arci) Porci ...</td>\n",
       "      <td>limestone: rocks - clastic sediments</td>\n",
       "      <td>(39) cm</td>\n",
       "      <td>27 cm</td>\n",
       "      <td>Carcabuey</td>\n",
       "      <td>18 cm</td>\n",
       "      <td>Material: lokaler grauer Kalkstein. (B): Styl...</td>\n",
       "      <td>https://edh-www.adw.uni-heidelberg.de/edh/insc...</td>\n",
       "      <td>Gräf</td>\n",
       "      <td>2015-03-27</td>\n",
       "      <td>Latin</td>\n",
       "      <td>Córdoba</td>\n",
       "      <td>2.5 cm</td>\n",
       "      <td>altar</td>\n",
       "      <td>[{'cognomen': '[---]', 'status': 'slaves', 'pe...</td>\n",
       "      <td>before 1979</td>\n",
       "      <td>None</td>\n",
       "      <td>Carcabuey, Grupo Escolar</td>\n",
       "      <td>[http://cil-old.bbaw.de/test06/bilder/datenban...</td>\n",
       "      <td>names of pagan deities</td>\n",
       "      <td>None</td>\n",
       "      <td>None</td>\n",
       "      <td>None</td>\n",
       "      <td>None</td>\n",
       "      <td>37.4442,-4.27471</td>\n",
       "      <td>AVSLLA Marci Porci Nigri serva dominae Veneri ...</td>\n",
       "      <td>151 AD – 200 AD</td>\n",
       "      <td>{'notbefore-custom': '0151', 'notafter-custom'...</td>\n",
       "      <td>[Altar, 29]</td>\n",
       "    </tr>\n",
       "    <tr>\n",
       "      <th>4</th>\n",
       "      <td>[ ] L SVCCESSVS / [ ] L L IRENAEVS / [ ] C L T...</td>\n",
       "      <td>AE 1983, 0078. (B); A. Ferrua, RAL 36, 1981, 1...</td>\n",
       "      <td>https://www.trismegistos.org/text/265629</td>\n",
       "      <td>HD000005</td>\n",
       "      <td>Roma</td>\n",
       "      <td>0001</td>\n",
       "      <td>epitaph</td>\n",
       "      <td>no image</td>\n",
       "      <td>https://edh-www.adw.uni-heidelberg.de/edh/geog...</td>\n",
       "      <td>0200</td>\n",
       "      <td>Italy</td>\n",
       "      <td>Roma</td>\n",
       "      <td>[---] l(ibertus) Successus / [---] L(uci) l(ib...</td>\n",
       "      <td>None</td>\n",
       "      <td>None</td>\n",
       "      <td>None</td>\n",
       "      <td>Roma</td>\n",
       "      <td>None</td>\n",
       "      <td>(B): Z. 3: C(ai) l(ibertae) Tyches.</td>\n",
       "      <td>https://edh-www.adw.uni-heidelberg.de/edh/insc...</td>\n",
       "      <td>Feraudi</td>\n",
       "      <td>2010-01-04</td>\n",
       "      <td>Latin</td>\n",
       "      <td>Lazio</td>\n",
       "      <td>None</td>\n",
       "      <td>stele</td>\n",
       "      <td>[{'status': 'freedmen / freedwomen', 'name': '...</td>\n",
       "      <td>None</td>\n",
       "      <td>Via Cupa (ehem. Vigna Nardi)</td>\n",
       "      <td>None</td>\n",
       "      <td>None</td>\n",
       "      <td>None</td>\n",
       "      <td>None</td>\n",
       "      <td>None</td>\n",
       "      <td>None</td>\n",
       "      <td>None</td>\n",
       "      <td>41.895466,12.482324</td>\n",
       "      <td>libertus Successus  Luci libertus Irenaeus  C...</td>\n",
       "      <td>1 AD – 200 AD</td>\n",
       "      <td>{'notbefore-custom': '0001', 'notafter-custom'...</td>\n",
       "      <td>[Stele, 250]</td>\n",
       "    </tr>\n",
       "  </tbody>\n",
       "</table>\n",
       "</div>"
      ],
      "text/plain": [
       "                                     diplomatic_text  ...          objecttype\n",
       "0  D M / NONIAE P F OPTATAE / ET C IVLIO ARTEMONI...  ...        [Tafel, 257]\n",
       "1            C SEXTIVS PARIS / QVI VIXIT / ANNIS LXX  ...        [Tafel, 257]\n",
       "2  [ ]VMMIO [ ] / [ ]ISENNA[ ] / [ ] XV[ ] / [ ] / [  ...  [Statuenbasis, 57]\n",
       "3  [ ]AVS[ ]LLA / M PORCI NIGRI SER / DOMINAE VEN...  ...         [Altar, 29]\n",
       "4  [ ] L SVCCESSVS / [ ] L L IRENAEVS / [ ] C L T...  ...        [Stele, 250]\n",
       "\n",
       "[5 rows x 41 columns]"
      ]
     },
     "execution_count": 24,
     "metadata": {
      "tags": []
     },
     "output_type": "execute_result"
    }
   ],
   "source": [
    "inscriptions_rich = inscriptions_data_df.merge(EDH_xml_data, on=\"uri\", how=\"left\")\n",
    "inscriptions_rich.head(5)"
   ]
  },
  {
   "cell_type": "code",
   "execution_count": null,
   "metadata": {
    "colab": {
     "base_uri": "https://localhost:8080/",
     "height": 34
    },
    "colab_type": "code",
    "id": "IaXrWqpeu_Mn",
    "outputId": "8754ae0c-2f5a-4e76-c56b-a735ea7f8be3"
   },
   "outputs": [
    {
     "data": {
      "text/plain": [
       "(80270, 41)"
      ]
     },
     "execution_count": 25,
     "metadata": {
      "tags": []
     },
     "output_type": "execute_result"
    }
   ],
   "source": [
    "inscriptions_rich.shape"
   ]
  },
  {
   "cell_type": "markdown",
   "metadata": {
    "colab_type": "text",
    "id": "r0e5r6WukZaD"
   },
   "source": [
    "# Upload the merged data to sciencedata.dk"
   ]
  },
  {
   "cell_type": "code",
   "execution_count": null,
   "metadata": {
    "colab": {
     "base_uri": "https://localhost:8080/",
     "height": 69
    },
    "colab_type": "code",
    "id": "eCfwX5gaic6V",
    "outputId": "b84fca02-6c17-4991-d5b4-64ce2bfc581c"
   },
   "outputs": [
    {
     "name": "stdout",
     "output_type": "stream",
     "text": [
      "CPU times: user 1.17 s, sys: 220 ms, total: 1.39 s\n",
      "Wall time: 12.7 s\n"
     ]
    },
    {
     "data": {
      "text/plain": [
       "<Response [204]>"
      ]
     },
     "execution_count": 35,
     "metadata": {
      "tags": []
     },
     "output_type": "execute_result"
    }
   ],
   "source": [
    "### put your dataframe data into this folder\n",
    "%%time\n",
    "sddk.write_file(\"SDAM_data/EDH/EDH_merged_2020-06-23.json\")\n",
    "#s.put(sddk_url + \"SDAM_data/EDH/EDH_inscriptions_rich.json\", data=inscriptions_rich.to_json())"
   ]
  },
  {
   "cell_type": "markdown",
   "metadata": {
    "colab_type": "text",
    "id": "-cp-P-uNGvs-"
   },
   "source": [
    "# Try a version with different encoding (backup)\n"
   ]
  },
  {
   "cell_type": "code",
   "execution_count": null,
   "metadata": {
    "colab": {},
    "colab_type": "code",
    "id": "NLLPOdt53Bcx"
   },
   "outputs": [],
   "source": [
    "inscriptions_rich = sddk.read_file(\"SDAM_data/EDH/EDH_inscriptions_rich.json\", \"df\", auth)"
   ]
  },
  {
   "cell_type": "code",
   "execution_count": null,
   "metadata": {
    "colab": {
     "base_uri": "https://localhost:8080/",
     "height": 34
    },
    "colab_type": "code",
    "id": "8lD6O4Iiw1U-",
    "outputId": "39b82616-54f5-4fb2-f785-a2d3f9f22518"
   },
   "outputs": [
    {
     "data": {
      "text/plain": [
       "(80270, 40)"
      ]
     },
     "execution_count": 4,
     "metadata": {
      "tags": []
     },
     "output_type": "execute_result"
    }
   ],
   "source": [
    "inscriptions_rich.shape"
   ]
  },
  {
   "cell_type": "code",
   "execution_count": null,
   "metadata": {
    "colab": {
     "base_uri": "https://localhost:8080/",
     "height": 34
    },
    "colab_type": "code",
    "id": "rL_LiNC2HOO4",
    "outputId": "9be1bb54-0dba-47ac-fe50-36f4f72e42d4"
   },
   "outputs": [
    {
     "data": {
      "text/plain": [
       "<Response [204]>"
      ]
     },
     "execution_count": 18,
     "metadata": {
      "tags": []
     },
     "output_type": "execute_result"
    }
   ],
   "source": [
    "auth[0].put(auth[1] + \"SDAM_data/EDH/EDH_utf8.json\", data=inscriptions_rich.to_json(force_ascii=False).encode(\"utf-8\"))"
   ]
  },
  {
   "cell_type": "code",
   "execution_count": null,
   "metadata": {
    "colab": {},
    "colab_type": "code",
    "id": "1LgxlsMJbDGK"
   },
   "outputs": [],
   "source": [
    "EDH_utf8_sample = inscriptions_rich[:1000]\n"
   ]
  },
  {
   "cell_type": "code",
   "execution_count": null,
   "metadata": {
    "colab": {
     "base_uri": "https://localhost:8080/",
     "height": 34
    },
    "colab_type": "code",
    "id": "Jf2vz88_bQJH",
    "outputId": "e1eb2730-04bf-4d8f-de59-774137b502e9"
   },
   "outputs": [
    {
     "data": {
      "text/plain": [
       "'width'"
      ]
     },
     "execution_count": 17,
     "metadata": {
      "tags": []
     },
     "output_type": "execute_result"
    }
   ],
   "source": [
    "EDH_utf8_sample.columns[15]"
   ]
  },
  {
   "cell_type": "code",
   "execution_count": null,
   "metadata": {
    "colab": {
     "base_uri": "https://localhost:8080/",
     "height": 136
    },
    "colab_type": "code",
    "id": "7ym__PNHbLwU",
    "outputId": "6699089d-5521-4ede-d263-080ae6ad2e0e"
   },
   "outputs": [
    {
     "data": {
      "text/plain": [
       "994       None\n",
       "995     172 cm\n",
       "996       None\n",
       "997      68 cm\n",
       "998    (65) cm\n",
       "999    (73) cm\n",
       "Name: height, dtype: object"
      ]
     },
     "execution_count": 19,
     "metadata": {
      "tags": []
     },
     "output_type": "execute_result"
    }
   ],
   "source": [
    "EDH_utf8_sample.tail(6)[\"height\"]"
   ]
  },
  {
   "cell_type": "code",
   "execution_count": null,
   "metadata": {
    "colab": {
     "base_uri": "https://localhost:8080/",
     "height": 34
    },
    "colab_type": "code",
    "id": "xoVcTKQZTb7Y",
    "outputId": "a3515631-f6b7-4d4b-d83d-bd07f9dbd901"
   },
   "outputs": [
    {
     "data": {
      "text/plain": [
       "<Response [201]>"
      ]
     },
     "execution_count": 11,
     "metadata": {
      "tags": []
     },
     "output_type": "execute_result"
    }
   ],
   "source": [
    "### a sample for testing\n",
    "auth[0].put(auth[1] + \"SDAM_data/EDH/EDH_utf8_sample.json\", data=inscriptions_rich[:1000].to_json(force_ascii=False).encode(\"utf-8\"))"
   ]
  },
  {
   "cell_type": "code",
   "execution_count": null,
   "metadata": {
    "colab": {},
    "colab_type": "code",
    "id": "dd3BUi67JWBM"
   },
   "outputs": [],
   "source": [
    "### testing whether I am able to get it back\n",
    "EDH_utf8 = sddk.read_file(\"SDAM_data/EDH/EDH_utf8.json\", \"df\", auth)"
   ]
  },
  {
   "cell_type": "code",
   "execution_count": null,
   "metadata": {
    "colab": {
     "base_uri": "https://localhost:8080/",
     "height": 547
    },
    "colab_type": "code",
    "id": "Nkd-4kAz-7Xg",
    "outputId": "858e1b3c-256d-4df3-e260-c7e1f9f308ef"
   },
   "outputs": [
    {
     "data": {
      "text/html": [
       "<div>\n",
       "<style scoped>\n",
       "    .dataframe tbody tr th:only-of-type {\n",
       "        vertical-align: middle;\n",
       "    }\n",
       "\n",
       "    .dataframe tbody tr th {\n",
       "        vertical-align: top;\n",
       "    }\n",
       "\n",
       "    .dataframe thead th {\n",
       "        text-align: right;\n",
       "    }\n",
       "</style>\n",
       "<table border=\"1\" class=\"dataframe\">\n",
       "  <thead>\n",
       "    <tr style=\"text-align: right;\">\n",
       "      <th></th>\n",
       "      <th>diplomatic_text</th>\n",
       "      <th>literature</th>\n",
       "      <th>trismegistos_uri</th>\n",
       "      <th>id</th>\n",
       "      <th>findspot_ancient</th>\n",
       "      <th>not_before</th>\n",
       "      <th>type_of_inscription</th>\n",
       "      <th>work_status</th>\n",
       "      <th>edh_geography_uri</th>\n",
       "      <th>not_after</th>\n",
       "      <th>country</th>\n",
       "      <th>province_label</th>\n",
       "      <th>transcription</th>\n",
       "      <th>material</th>\n",
       "      <th>height</th>\n",
       "      <th>width</th>\n",
       "      <th>findspot_modern</th>\n",
       "      <th>depth</th>\n",
       "      <th>commentary</th>\n",
       "      <th>uri</th>\n",
       "      <th>responsible_individual</th>\n",
       "      <th>last_update</th>\n",
       "      <th>language</th>\n",
       "      <th>modern_region</th>\n",
       "      <th>letter_size</th>\n",
       "      <th>type_of_monument</th>\n",
       "      <th>people</th>\n",
       "      <th>year_of_find</th>\n",
       "      <th>findspot</th>\n",
       "      <th>present_location</th>\n",
       "      <th>external_image_uris</th>\n",
       "      <th>religion</th>\n",
       "      <th>fotos</th>\n",
       "      <th>geography</th>\n",
       "      <th>military</th>\n",
       "      <th>social_economic_legal_history</th>\n",
       "      <th>coordinates</th>\n",
       "      <th>text_cleaned</th>\n",
       "      <th>origdate_text</th>\n",
       "      <th>objecttype</th>\n",
       "    </tr>\n",
       "  </thead>\n",
       "  <tbody>\n",
       "    <tr>\n",
       "      <th>0</th>\n",
       "      <td>D M / NONIAE P F OPTATAE / ET C IVLIO ARTEMONI...</td>\n",
       "      <td>AE 1983, 0192.; M. Annecchino, Puteoli 4/5, 19...</td>\n",
       "      <td>https://www.trismegistos.org/text/251193</td>\n",
       "      <td>HD000001</td>\n",
       "      <td>Cumae, bei</td>\n",
       "      <td>0071</td>\n",
       "      <td>epitaph</td>\n",
       "      <td>provisional</td>\n",
       "      <td>https://edh-www.adw.uni-heidelberg.de/edh/geog...</td>\n",
       "      <td>0130</td>\n",
       "      <td>Italy</td>\n",
       "      <td>Latium et Campania (Regio I)</td>\n",
       "      <td>D(is) M(anibus) / Noniae P(ubli) f(iliae) Opta...</td>\n",
       "      <td>Marmor, geädert / farbig</td>\n",
       "      <td>33 cm</td>\n",
       "      <td>34 cm</td>\n",
       "      <td>Cuma, bei</td>\n",
       "      <td>2.7 cm</td>\n",
       "      <td>(C): 2. Hälfte 1. - Anfang 2. Jh. - AE; Ende ...</td>\n",
       "      <td>https://edh-www.adw.uni-heidelberg.de/edh/insc...</td>\n",
       "      <td>Feraudi</td>\n",
       "      <td>2014-04-07</td>\n",
       "      <td>Latin</td>\n",
       "      <td>Campania</td>\n",
       "      <td>3.2-2 cm</td>\n",
       "      <td>tabula</td>\n",
       "      <td>[{'cognomen': 'Optata', 'person_id': '1', 'gen...</td>\n",
       "      <td>None</td>\n",
       "      <td>None</td>\n",
       "      <td>None</td>\n",
       "      <td>None</td>\n",
       "      <td>None</td>\n",
       "      <td>None</td>\n",
       "      <td>None</td>\n",
       "      <td>None</td>\n",
       "      <td>None</td>\n",
       "      <td>40.8471577,14.0550756</td>\n",
       "      <td>Dis Manibus Noniae Publi filiae Optatae et Cai...</td>\n",
       "      <td>71 AD – 130 AD</td>\n",
       "      <td>[Tafel, 257]</td>\n",
       "    </tr>\n",
       "    <tr>\n",
       "      <th>1</th>\n",
       "      <td>C SEXTIVS PARIS / QVI VIXIT / ANNIS LXX</td>\n",
       "      <td>AE 1983, 0080. (A); A. Ferrua, RAL 36, 1981, 1...</td>\n",
       "      <td>https://www.trismegistos.org/text/265631</td>\n",
       "      <td>HD000002</td>\n",
       "      <td>Roma</td>\n",
       "      <td>0051</td>\n",
       "      <td>epitaph</td>\n",
       "      <td>no image</td>\n",
       "      <td>https://edh-www.adw.uni-heidelberg.de/edh/geog...</td>\n",
       "      <td>0200</td>\n",
       "      <td>Italy</td>\n",
       "      <td>Roma</td>\n",
       "      <td>C(aius) Sextius Paris / qui vixit / annis LXX</td>\n",
       "      <td>marble: rocks - metamorphic rocks</td>\n",
       "      <td>28 cm</td>\n",
       "      <td>85 cm</td>\n",
       "      <td>Roma</td>\n",
       "      <td>None</td>\n",
       "      <td>AE 1983: Breite: 35 cm.</td>\n",
       "      <td>https://edh-www.adw.uni-heidelberg.de/edh/insc...</td>\n",
       "      <td>Feraudi</td>\n",
       "      <td>2014-04-07</td>\n",
       "      <td>Latin</td>\n",
       "      <td>Lazio</td>\n",
       "      <td>4 cm</td>\n",
       "      <td>tabula</td>\n",
       "      <td>[{'age: years': '70', 'cognomen': 'Paris', 'ge...</td>\n",
       "      <td>1937</td>\n",
       "      <td>Via Nomentana, S. Alessandro, Kirche</td>\n",
       "      <td>None</td>\n",
       "      <td>None</td>\n",
       "      <td>None</td>\n",
       "      <td>None</td>\n",
       "      <td>None</td>\n",
       "      <td>None</td>\n",
       "      <td>None</td>\n",
       "      <td>41.895466,12.482324</td>\n",
       "      <td>Caius Sextius Paris qui vixit annis LXX       ...</td>\n",
       "      <td>51 AD – 200 AD</td>\n",
       "      <td>[Tafel, 257]</td>\n",
       "    </tr>\n",
       "    <tr>\n",
       "      <th>2</th>\n",
       "      <td>[ ]VMMIO [ ] / [ ]ISENNA[ ] / [ ] XV[ ] / [ ] / [</td>\n",
       "      <td>AE 1983, 0518. (B); J. González, ZPE 52, 1983,...</td>\n",
       "      <td>https://www.trismegistos.org/text/220675</td>\n",
       "      <td>HD000003</td>\n",
       "      <td>None</td>\n",
       "      <td>0131</td>\n",
       "      <td>honorific inscription</td>\n",
       "      <td>provisional</td>\n",
       "      <td>https://edh-www.adw.uni-heidelberg.de/edh/geog...</td>\n",
       "      <td>0170</td>\n",
       "      <td>Spain</td>\n",
       "      <td>Baetica</td>\n",
       "      <td>[P(ublio) M]ummio [P(ubli) f(ilio)] / [Gal(eri...</td>\n",
       "      <td>marble: rocks - metamorphic rocks</td>\n",
       "      <td>(37) cm</td>\n",
       "      <td>(34) cm</td>\n",
       "      <td>Tomares</td>\n",
       "      <td>(12) cm</td>\n",
       "      <td>(B): [S]isenna ist falscher Kasus; folgende E...</td>\n",
       "      <td>https://edh-www.adw.uni-heidelberg.de/edh/insc...</td>\n",
       "      <td>Feraudi</td>\n",
       "      <td>2006-08-31</td>\n",
       "      <td>Latin</td>\n",
       "      <td>Sevilla</td>\n",
       "      <td>4.5-3 cm</td>\n",
       "      <td>statue base</td>\n",
       "      <td>[{'nomen': 'Mummius+', 'cognomen': 'Sisenna+ R...</td>\n",
       "      <td>before 1975</td>\n",
       "      <td>None</td>\n",
       "      <td>Sevilla, Privatbesitz</td>\n",
       "      <td>None</td>\n",
       "      <td>None</td>\n",
       "      <td>None</td>\n",
       "      <td>None</td>\n",
       "      <td>None</td>\n",
       "      <td>None</td>\n",
       "      <td>37.37281,-6.04589</td>\n",
       "      <td>Publio Mummio Publi filio Galeria Sisennae Rut...</td>\n",
       "      <td>131 AD – 170 AD</td>\n",
       "      <td>[Statuenbasis, 57]</td>\n",
       "    </tr>\n",
       "    <tr>\n",
       "      <th>3</th>\n",
       "      <td>[ ]AVS[ ]LLA / M PORCI NIGRI SER / DOMINAE VEN...</td>\n",
       "      <td>AE 1983, 0533. (B); A.U. Stylow, Gerión 1, 198...</td>\n",
       "      <td>https://www.trismegistos.org/text/222102</td>\n",
       "      <td>HD000004</td>\n",
       "      <td>Ipolcobulcula</td>\n",
       "      <td>0151</td>\n",
       "      <td>votive inscription</td>\n",
       "      <td>checked with photo</td>\n",
       "      <td>https://edh-www.adw.uni-heidelberg.de/edh/geog...</td>\n",
       "      <td>0200</td>\n",
       "      <td>Spain</td>\n",
       "      <td>Baetica</td>\n",
       "      <td>[---?]AV(?)S(?)[---]L(?)L(?)A / M(arci) Porci ...</td>\n",
       "      <td>limestone: rocks - clastic sediments</td>\n",
       "      <td>(39) cm</td>\n",
       "      <td>27 cm</td>\n",
       "      <td>Carcabuey</td>\n",
       "      <td>18 cm</td>\n",
       "      <td>Material: lokaler grauer Kalkstein. (B): Styl...</td>\n",
       "      <td>https://edh-www.adw.uni-heidelberg.de/edh/insc...</td>\n",
       "      <td>Gräf</td>\n",
       "      <td>2015-03-27</td>\n",
       "      <td>Latin</td>\n",
       "      <td>Córdoba</td>\n",
       "      <td>2.5 cm</td>\n",
       "      <td>altar</td>\n",
       "      <td>[{'cognomen': '[---]', 'status': 'slaves', 'pe...</td>\n",
       "      <td>before 1979</td>\n",
       "      <td>None</td>\n",
       "      <td>Carcabuey, Grupo Escolar</td>\n",
       "      <td>[http://cil-old.bbaw.de/test06/bilder/datenban...</td>\n",
       "      <td>names of pagan deities</td>\n",
       "      <td>None</td>\n",
       "      <td>None</td>\n",
       "      <td>None</td>\n",
       "      <td>None</td>\n",
       "      <td>37.4442,-4.27471</td>\n",
       "      <td>AVSLLA Marci Porci Nigri serva dominae Veneri ...</td>\n",
       "      <td>151 AD – 200 AD</td>\n",
       "      <td>[Altar, 29]</td>\n",
       "    </tr>\n",
       "    <tr>\n",
       "      <th>4</th>\n",
       "      <td>[ ] L SVCCESSVS / [ ] L L IRENAEVS / [ ] C L T...</td>\n",
       "      <td>AE 1983, 0078. (B); A. Ferrua, RAL 36, 1981, 1...</td>\n",
       "      <td>https://www.trismegistos.org/text/265629</td>\n",
       "      <td>HD000005</td>\n",
       "      <td>Roma</td>\n",
       "      <td>0001</td>\n",
       "      <td>epitaph</td>\n",
       "      <td>no image</td>\n",
       "      <td>https://edh-www.adw.uni-heidelberg.de/edh/geog...</td>\n",
       "      <td>0200</td>\n",
       "      <td>Italy</td>\n",
       "      <td>Roma</td>\n",
       "      <td>[---] l(ibertus) Successus / [---] L(uci) l(ib...</td>\n",
       "      <td>None</td>\n",
       "      <td>None</td>\n",
       "      <td>None</td>\n",
       "      <td>Roma</td>\n",
       "      <td>None</td>\n",
       "      <td>(B): Z. 3: C(ai) l(ibertae) Tyches.</td>\n",
       "      <td>https://edh-www.adw.uni-heidelberg.de/edh/insc...</td>\n",
       "      <td>Feraudi</td>\n",
       "      <td>2010-01-04</td>\n",
       "      <td>Latin</td>\n",
       "      <td>Lazio</td>\n",
       "      <td>None</td>\n",
       "      <td>stele</td>\n",
       "      <td>[{'status': 'freedmen / freedwomen', 'name': '...</td>\n",
       "      <td>None</td>\n",
       "      <td>Via Cupa (ehem. Vigna Nardi)</td>\n",
       "      <td>None</td>\n",
       "      <td>None</td>\n",
       "      <td>None</td>\n",
       "      <td>None</td>\n",
       "      <td>None</td>\n",
       "      <td>None</td>\n",
       "      <td>None</td>\n",
       "      <td>41.895466,12.482324</td>\n",
       "      <td>libertus Successus  Luci libertus Irenaeus  C...</td>\n",
       "      <td>1 AD – 200 AD</td>\n",
       "      <td>[Stele, 250]</td>\n",
       "    </tr>\n",
       "  </tbody>\n",
       "</table>\n",
       "</div>"
      ],
      "text/plain": [
       "                                     diplomatic_text  ...          objecttype\n",
       "0  D M / NONIAE P F OPTATAE / ET C IVLIO ARTEMONI...  ...        [Tafel, 257]\n",
       "1            C SEXTIVS PARIS / QVI VIXIT / ANNIS LXX  ...        [Tafel, 257]\n",
       "2  [ ]VMMIO [ ] / [ ]ISENNA[ ] / [ ] XV[ ] / [ ] / [  ...  [Statuenbasis, 57]\n",
       "3  [ ]AVS[ ]LLA / M PORCI NIGRI SER / DOMINAE VEN...  ...         [Altar, 29]\n",
       "4  [ ] L SVCCESSVS / [ ] L L IRENAEVS / [ ] C L T...  ...        [Stele, 250]\n",
       "\n",
       "[5 rows x 40 columns]"
      ]
     },
     "execution_count": 7,
     "metadata": {
      "tags": []
     },
     "output_type": "execute_result"
    }
   ],
   "source": [
    "EDH_utf8.head(5)"
   ]
  }
 ],
 "metadata": {
  "colab": {
   "collapsed_sections": [],
   "include_colab_link": true,
   "name": "1_3_py_MERGING_API_GEO_and_XML.ipynb",
   "provenance": []
  },
  "kernelspec": {
   "display_name": "Python 3",
   "language": "python",
   "name": "python3"
  },
  "language_info": {
   "codemirror_mode": {
    "name": "ipython",
    "version": 3
   },
   "file_extension": ".py",
   "mimetype": "text/x-python",
   "name": "python",
   "nbconvert_exporter": "python",
   "pygments_lexer": "ipython3",
   "version": "3.7.8"
  }
 },
 "nbformat": 4,
 "nbformat_minor": 1
}
