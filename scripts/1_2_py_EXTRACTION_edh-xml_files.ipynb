{
 "cells": [
  {
   "cell_type": "markdown",
   "metadata": {
    "colab_type": "text",
    "id": "W3ztOiWkjdYL"
   },
   "source": [
    "This notebook serves to get additional data from the EDH XML/epidoc files. The reason is that some information is missing in the API data.\n"
   ]
  },
  {
   "cell_type": "code",
   "execution_count": 1,
   "metadata": {
    "colab": {},
    "colab_type": "code",
    "id": "mjj6VCcLkERG"
   },
   "outputs": [],
   "source": [
    "### REQUIREMENTS\n",
    "import numpy as np\n",
    "import math\n",
    "import pandas as pd\n",
    "\n",
    "import sys\n",
    "### we do a lot of requests during the scrapping. Some of them with requests package, some of them with urllib\n",
    "import requests\n",
    "from urllib.request import urlopen \n",
    "from urllib.parse import quote  \n",
    "from bs4 import BeautifulSoup\n",
    "import xml.etree.cElementTree as ET\n",
    "import re\n",
    "\n",
    "import zipfile\n",
    "import io\n",
    "\n",
    "# to avoid errors, we sometime use time.sleep(N) before retrying a request\n",
    "import time\n",
    "# the input data have typically a json structure\n",
    "import json\n",
    "import getpass\n",
    "\n",
    "import datetime as dt\n",
    "# for simple paralel computing:\n",
    "from concurrent.futures import ThreadPoolExecutor\n",
    "\n",
    "import sddk\n",
    "\n",
    "# google sheets integration:\n",
    "import gspread\n",
    "from gspread_dataframe import get_as_dataframe, set_with_dataframe\n",
    "from google.oauth2 import service_account # based on google-auth library\n"
   ]
  },
  {
   "cell_type": "code",
   "execution_count": 2,
   "metadata": {},
   "outputs": [
    {
     "name": "stdout",
     "output_type": "stream",
     "text": [
      "sciencedata.dk username (format '123456@au.dk'): 648597@au.dk\n",
      "sciencedata.dk password: ········\n",
      "connection with shared folder established with you as its owner\n",
      "endpoint variable has been configured to: https://sciencedata.dk/files/SDAM_root/\n"
     ]
    }
   ],
   "source": [
    "conf = sddk.configure(\"SDAM_root\", \"648597@au.dk\")"
   ]
  },
  {
   "cell_type": "code",
   "execution_count": 3,
   "metadata": {},
   "outputs": [],
   "source": [
    "# to access gsheet, you need Google Service Account key json file\n",
    "# I have mine located in my personal space on sciencedata.dk, so I read it from there:\n",
    "\n",
    "# (1) read the file and parse its content\n",
    "try:\n",
    "    file_data = conf[0].get(\"https://sciencedata.dk/files/ServiceAccountsKey.json\").json()\n",
    "except:\n",
    "    print(\"cannot find file ServiceAccountsKey.json\")\n",
    "# (2) transform the content into crendentials object\n",
    "credentials = service_account.Credentials.from_service_account_info(file_data)\n",
    "# (3) specify your usage of the credentials\n",
    "scoped_credentials = credentials.with_scopes(['https://spreadsheets.google.com/feeds', 'https://www.googleapis.com/auth/drive'])\n",
    "# (4) use the constrained credentials for authentication of gspread package\n",
    "gc = gspread.Client(auth=scoped_credentials)\n",
    "# (5) establish connection with spreadsheets specified by their url\n",
    "EDH_overview = gc.open_by_url(\"https://docs.google.com/spreadsheets/d/164MLxVcCZg95Bzf9fVyD1-iCA5V97eM3KAFllyhTvt4/edit?usp=sharing\")"
   ]
  },
  {
   "cell_type": "markdown",
   "metadata": {},
   "source": [
    "Now we turn to the download section of the EDH website, where we can find zip archives containing xml files with individual inscriptions. Instead of downloading them manually, we will download them directly into our Python environment."
   ]
  },
  {
   "cell_type": "code",
   "execution_count": 4,
   "metadata": {},
   "outputs": [],
   "source": [
    "# extract the download page\n",
    "resp = requests.get(\"https://edh-www.adw.uni-heidelberg.de/data/export\", headers={\"User-Agent\" : \"\"})\n",
    "url_text = resp.text"
   ]
  },
  {
   "cell_type": "code",
   "execution_count": 5,
   "metadata": {},
   "outputs": [
    {
     "data": {
      "text/plain": [
       "['download/edhEpidocDump_HD000001-HD010000.zip',\n",
       " 'download/edhEpidocDump_HD010001-HD020000.zip',\n",
       " 'download/edhEpidocDump_HD020001-HD030000.zip',\n",
       " 'download/edhEpidocDump_HD030001-HD040000.zip',\n",
       " 'download/edhEpidocDump_HD040001-HD050000.zip',\n",
       " 'download/edhEpidocDump_HD050001-HD060000.zip',\n",
       " 'download/edhEpidocDump_HD060001-HD070000.zip',\n",
       " 'download/edhEpidocDump_HD070001-HD082046.zip']"
      ]
     },
     "execution_count": 5,
     "metadata": {},
     "output_type": "execute_result"
    }
   ],
   "source": [
    "# extract urls of individual zip archives for download\n",
    "download_urls = re.findall(\"download\\/edhEpidocDump_HD.+\", url_text)\n",
    "download_urls"
   ]
  },
  {
   "cell_type": "code",
   "execution_count": 48,
   "metadata": {},
   "outputs": [],
   "source": [
    "# collecting filenames for testing\n",
    "\n",
    "url_base = \"https://edh-www.adw.uni-heidelberg.de/\"\n",
    "\n",
    "url = url_base + download_urls[0]\n",
    "resp = requests.get(url, headers={\"User-Agent\" : \"\"})\n",
    "zipped = zipfile.ZipFile(io.BytesIO(resp.content))\n",
    "### names of all files within the zipped directory\n",
    "namelist = zipped.namelist()"
   ]
  },
  {
   "cell_type": "code",
   "execution_count": 49,
   "metadata": {},
   "outputs": [
    {
     "data": {
      "text/plain": [
       "9930"
      ]
     },
     "execution_count": 49,
     "metadata": {},
     "output_type": "execute_result"
    }
   ],
   "source": [
    "len(namelist)"
   ]
  },
  {
   "cell_type": "code",
   "execution_count": 71,
   "metadata": {},
   "outputs": [],
   "source": [
    "def get_filecontent_from_filename(filename, zipped):\n",
    "    try:\n",
    "        return str(zipped.read(filename))\n",
    "    except:\n",
    "        pass"
   ]
  },
  {
   "cell_type": "code",
   "execution_count": 72,
   "metadata": {},
   "outputs": [],
   "source": [
    "# test with first ten files within the namelist\n",
    "edh_filecontents = {}\n",
    "\n",
    "for filename in namelist[:10]:\n",
    "    edh_filecontents[filename] = get_filecontent_from_filename(filename, zipped)\n",
    "# transform it into dataframe"
   ]
  },
  {
   "cell_type": "code",
   "execution_count": 73,
   "metadata": {},
   "outputs": [
    {
     "data": {
      "text/plain": [
       "b'<?xml version=\"1.0\" encoding=\"UTF-8\"?><?xml-model href=\"http://www.stoa.org/epidoc/schema/latest/tei-epidoc.rng\" schematypens=\"http://relaxng.org/ns/structure/1.0\"?><tei xml:base=\"ex-epidoctemplate.xml\" xml:lang=\"de\" xml:space=\"preserve\" xmlns=\"http://www.tei-c.org/ns/1.0\">\\n    <teiheader>\\n        <filedesc>\\n            <titlestmt>\\n                <title>Bau-/Stifterinschrift auf Platte</title>\\n            </titlestmt>  \\n            <publicationstmt>\\n                <authority>Epigraphische Datenbank Heidelberg</authority>\\n                <idno type=\"URI\">http://edh-www.adw.uni-heidelberg.de/edh/inschrift/HD070001</idno>\\n                <idno type=\"TM\">155240</idno><idno type=\"localID\">HD070001</idno>\\n                <availability>\\n                    <licence target=\"http://creativecommons.org/licenses/by-sa/3.0/\">This file is licensed under the Creative Commons Attribution-ShareAlike 3.0 Unported license.\\n                    </licence>\\n                </availability>\\n            </publicationstmt>\\n            <sourcedesc>\\n                <msdesc>\\n                    <msidentifier>\\n                        \\n                        \\n                        \\n                        <repository ref=\"www.trismegistos.org/\">verschollen</repository>\\n                        <collection></collection>\\n                        <idno></idno>\\n                    </msidentifier>\\n                    <physdesc>\\n                        <objectdesc>\\n                            <supportdesc>\\n                                <support>\\n                                    <objecttype ref=\"http://www.eagle-network.eu/voc/objtyp/lod/309\">Platte</objecttype>\\n                                    <material>Gesteine</material>\\n                                    <p></p>\\n                                    <dimensions unit=\"cm\">\\n                                        <height></height>\\n                                        <width></width>\\n                                        <depth></depth>\\n                                    </dimensions>\\n                                    <rs ref=\"http://www.eagle-network.eu/voc/decor/lod/1000\" type=\"decoration\">nein</rs>\\n                                </support>\\n                            </supportdesc>\\n                            <layoutdesc>\\n                                <layout>\\n                                    <rs ref=\"http://www.eagle-network.eu/voc/writing/lod/21\" type=\"execution\">unbestimmt</rs>\\n\\n\\n                                </layout>\\n                            </layoutdesc>\\n                        </objectdesc>\\n                        <handdesc>\\n                            <handnote>\\n                                <dimensions>\\n                                    <width unit=\"cm\"></width>\\n                                    <height unit=\"cm\"></height>\\n                                </dimensions>\\n                            </handnote>\\n                        </handdesc>\\n                    </physdesc>\\n                    <history>\\n                        <origin>\\n                            <origplace><placename ref=\"http://www.trismegistos.org/place/003201\" type=\"provinceItalicRegion\">Britannia</placename><placename ref=\"http://www.trismegistos.org/place/002036\"></placename></origplace>\\n                            <origdate datingmethod=\"http://en.wikipedia.org/wiki/Julian_calendar\" notafter-custom=\"0300\" notbefore-custom=\"0201\">201 AD \\xe2\\x80\\x93 300 AD\\n                            </origdate>\\n                        </origin>\\n                        <provenance type=\"found\">  \\n                            <date when=\"1793\">1793</date>\\n                        <placename ref=\"http://www.geonames.org/\">Greta Bridge</placename><placename ref=\"http://www.geonames.org/\" type=\"modern_region\">Durham</placename><placename ref=\"http://www.geonames.org/countries/gb/\" type=\"modernCountry\">Gro\\xc3\\x9fbritannien</placename></provenance>\\n                    </history>\\n                </msdesc>\\n            </sourcedesc>\\n        </filedesc>\\n        <encodingdesc>\\n            <p>Marked-up according to the EpiDoc Guidelines</p>\\n            <classdecl>\\n                <taxonomy>\\n                    <category xml:id=\"representation\">\\n                        <catdesc>Digitized other representations</catdesc>\\n                    </category>\\n                </taxonomy>\\n            </classdecl>\\n        </encodingdesc>\\n        <profiledesc>\\n            <textclass>\\n                <keywords>\\n                    <term ref=\"http://www.eagle-network.eu/voc/typeins/lod/261\">Bau-/Stifterinschrift</term>\\n                </keywords>\\n            </textclass>\\n            <langusage>\\n                <language ident=\"ar\">Arabic</language>\\n                <language ident=\"en\">English</language>\\n                <language ident=\"fr\">French</language>\\n                <language ident=\"de\">German</language>\\n                <language ident=\"grc\">Ancient Greek</language>\\n                <language ident=\"grc-Latn\">Transliterated Greek</language>\\n                <language ident=\"el\">Modern Greek</language>\\n                <language ident=\"he\">Hebrew</language>\\n                <language ident=\"it\">Italian</language>\\n                <language ident=\"la\">Latin</language>\\n                <language ident=\"sp\">Spanish</language>\\n            </langusage>\\n        <creation>EAGLE - Europeana Network of Ancient Greek and Latin Epigraphy</creation></profiledesc>\\n        <revisiondesc>\\n         <change when=\"2017-04-03\" who=\"Cowey\">\\n             \\xc3\\xbcberpr\\xc3\\xbcft an Zeichnung\\n         </change>\\n        </revisiondesc>\\n    </teiheader>\\n    <text>\\n        <body>\\n                       \\n            <div type=\"bibliography\">\\n                <listbibl>\\n                    <bibl>\\n                        CIL 07, 00281. \\n                    </bibl>\\n                    <bibl>\\n                         RIB 0747; Zeichnung. \\n                    </bibl>\\n\\n                </listbibl>\\n            </div>\\n            \\n            \\n            <!--\\n                [- - -]IING POSI / [- - -]HOEVMOLLINI / [vetustate d]ilabs(um) sub cura / [- - -] |(centuria) leg(ionis) VI vic(tricis) / [- - - P]ost(umius) Urbanus / [- - - Britanniae Su]perioris / [- - -] citra / [- - -] EM / [- - -]\\n            --><div type=\"edition\" xml:lang=\"la\"><head>Text</head><ab><lb n=\"1\"></lb>\\n                <gap extent=\"unknown\" reason=\"lost\" unit=\"character\"></gap>IING POSI <lb n=\"2\"></lb><gap extent=\"unknown\" reason=\"lost\" unit=\"character\"></gap>HOEVMOLLINI <lb n=\"3\"></lb><supplied reason=\"lost\">vetustate d</supplied><expan><abbr>ilabs</abbr><ex>um</ex></expan> sub cura <lb n=\"4\"></lb><gap extent=\"unknown\" reason=\"lost\" unit=\"character\"></gap> <expan><abbr><am><g type=\"centuria\"></g></am></abbr><ex>centuria</ex></expan> <expan><abbr>leg</abbr><ex>ionis</ex></expan> VI <expan><abbr>vic</abbr><ex>tricis</ex></expan> <lb n=\"5\"></lb><gap extent=\"unknown\" reason=\"lost\" unit=\"character\"></gap><expan><abbr><supplied reason=\"lost\">P</supplied>ost</abbr><ex>umius</ex></expan> Urbanus <lb n=\"6\"></lb><supplied reason=\"lost\"><gap extent=\"unknown\" reason=\"lost\" unit=\"character\"></gap> Britanniae Su</supplied>perioris <lb n=\"7\"></lb><gap extent=\"unknown\" reason=\"lost\" unit=\"character\"></gap> citra <lb n=\"8\"></lb><gap extent=\"unknown\" reason=\"lost\" unit=\"character\"></gap> EM <lb n=\"9\"></lb><gap extent=\"unknown\" reason=\"lost\" unit=\"character\"></gap>\\n            </ab></div>\\n            <div type=\"apparatus\">\\n                <p></p>\\n            </div>\\n            <div type=\"commentary\">\\n                <p></p>\\n            </div>\\n        </body>\\n    </text>\\n</tei>'"
      ]
     },
     "execution_count": 73,
     "metadata": {},
     "output_type": "execute_result"
    }
   ],
   "source": [
    "# let's try to parse it as xml\n",
    "soup = BeautifulSoup(edh_filecontents[namelist[0]])\n",
    "soup"
   ]
  },
  {
   "cell_type": "code",
   "execution_count": 74,
   "metadata": {},
   "outputs": [],
   "source": [
    "# define function for data parsing\n",
    "def get_data_from_filename(filename, zipped):\n",
    "    try:\n",
    "        soup = BeautifulSoup(edh_filecontents[filename])\n",
    "        xml_data = {} \n",
    "        idno_uri = soup.find(\"idno\", attrs={\"type\" : \"URI\"}).get_text()\n",
    "        xml_data[\"idno_uri\"] = idno_uri.rpartition(\"/\")[2]\n",
    "        xml_data[\"idno_tm\"] = soup.find(\"idno\", attrs={\"type\" : \"TM\"}).get_text()\n",
    "        placenames_refs = []\n",
    "        try: \n",
    "            placenames = soup.find_all(\"placename\")\n",
    "            for placename in placenames:\n",
    "                placenames_refs.append(placename[\"ref\"])\n",
    "        except: placenames_refs = []\n",
    "        xml_data[\"placenames_refs\"] = placenames_refs\n",
    "        text_tag = soup.find(\"div\", attrs={\"type\" : \"edition\"})\n",
    "        xml_data[\"text_edition\"] = \" \".join(text_tag.get_text().splitlines()[1:])\n",
    "        xml_data[\"origdate_text\"] = soup.find(\"origdate\").get_text().replace(\"\\n\", \"\")\n",
    "        try: \n",
    "            layout_execution = soup.layout.find(\"rs\")[\"ref\"]\n",
    "            xml_data[\"layout_execution\"] = layout_execution.rpartition(\"/\")[2]\n",
    "        except: xml_data[\"layout_execution\"] = \"\"\n",
    "        try: xml_data[\"layout_execution_text\"] = soup.layout.rs.get_text()\n",
    "        except: xml_data[\"layout_execution_text\"] = \"\"\n",
    "        try: \n",
    "            support_objecttype = soup.support.find(\"objecttype\")[\"ref\"]\n",
    "            xml_data[\"support_objecttype\"] = support_objecttype.rpartition(\"/\")[2]\n",
    "        except: xml_data[\"support_objecttype\"] = \"\"\n",
    "        try: xml_data [\"support_objecttype_text\"] = soup.support.objecttype.get_text()\n",
    "        except: xml_data [\"support_objecttype_text\"] = \"\"\n",
    "        try: \n",
    "            support_material = soup.support.find(\"material\")[\"ref\"]\n",
    "            xml_data[\"support_material\"] = support_material.rpartition(\"/\")[2]\n",
    "        except: xml_data[\"support_material\"] = \"\"    \n",
    "        try: xml_data[\"support_material_text\"] = soup.support.material.get_text()\n",
    "        except: xml_data[\"support_material_text\"] = \"\"\n",
    "        try: \n",
    "            support_decoration = soup.support.find(\"rs\")[\"ref\"]\n",
    "            xml_data[\"support_decoration\"] = support_decoration.rpartition(\"/\")[2]\n",
    "        except: xml_data[\"support_decoration\"] = \"\"\n",
    "        try: \n",
    "            keywords_term = soup.keywords.find(\"term\")[\"ref\"]\n",
    "            xml_data[\"keywords_term\"] = keywords_term.rpartition(\"/\")[2]\n",
    "        except: xml_data[\"keywords_term\"] = \"\"\n",
    "        try: xml_data[\"keywords_term_text\"] = soup.keywords.get_text().replace(\"\\n\", \"\")\n",
    "        except: xml_data[\"keywords_term_text\"] = \"\"\n",
    "        return xml_data\n",
    "    except:\n",
    "        pass"
   ]
  },
  {
   "cell_type": "code",
   "execution_count": 75,
   "metadata": {},
   "outputs": [
    {
     "data": {
      "text/html": [
       "<div>\n",
       "<style scoped>\n",
       "    .dataframe tbody tr th:only-of-type {\n",
       "        vertical-align: middle;\n",
       "    }\n",
       "\n",
       "    .dataframe tbody tr th {\n",
       "        vertical-align: top;\n",
       "    }\n",
       "\n",
       "    .dataframe thead th {\n",
       "        text-align: right;\n",
       "    }\n",
       "</style>\n",
       "<table border=\"1\" class=\"dataframe\">\n",
       "  <thead>\n",
       "    <tr style=\"text-align: right;\">\n",
       "      <th></th>\n",
       "      <th>idno_uri</th>\n",
       "      <th>idno_tm</th>\n",
       "      <th>placenames_refs</th>\n",
       "      <th>text_edition</th>\n",
       "      <th>origdate_text</th>\n",
       "      <th>layout_execution</th>\n",
       "      <th>layout_execution_text</th>\n",
       "      <th>support_objecttype</th>\n",
       "      <th>support_objecttype_text</th>\n",
       "      <th>support_material</th>\n",
       "      <th>support_material_text</th>\n",
       "      <th>support_decoration</th>\n",
       "      <th>keywords_term</th>\n",
       "      <th>keywords_term_text</th>\n",
       "    </tr>\n",
       "  </thead>\n",
       "  <tbody>\n",
       "    <tr>\n",
       "      <th>0</th>\n",
       "      <td>HD070001</td>\n",
       "      <td>155240</td>\n",
       "      <td>[http://www.trismegistos.org/place/003201, htt...</td>\n",
       "      <td></td>\n",
       "      <td>201 AD \\xe2\\x80\\x93 300 AD\\n                  ...</td>\n",
       "      <td>21</td>\n",
       "      <td>unbestimmt</td>\n",
       "      <td>309</td>\n",
       "      <td>Platte</td>\n",
       "      <td></td>\n",
       "      <td>Gesteine</td>\n",
       "      <td>1000</td>\n",
       "      <td>261</td>\n",
       "      <td>\\n                    Bau-/Stifterinschrift\\n ...</td>\n",
       "    </tr>\n",
       "    <tr>\n",
       "      <th>1</th>\n",
       "      <td>HD070002</td>\n",
       "      <td>155241</td>\n",
       "      <td>[http://www.trismegistos.org/place/003201, htt...</td>\n",
       "      <td></td>\n",
       "      <td>101 AD \\xe2\\x80\\x93 300 AD\\n                  ...</td>\n",
       "      <td>21</td>\n",
       "      <td>unbestimmt</td>\n",
       "      <td>250</td>\n",
       "      <td>Stele?</td>\n",
       "      <td></td>\n",
       "      <td>Gesteine</td>\n",
       "      <td>1000</td>\n",
       "      <td>92</td>\n",
       "      <td>\\n                    Grabinschrift\\n         ...</td>\n",
       "    </tr>\n",
       "    <tr>\n",
       "      <th>2</th>\n",
       "      <td>HD070003</td>\n",
       "      <td>155242</td>\n",
       "      <td>[http://www.trismegistos.org/place/003201, htt...</td>\n",
       "      <td></td>\n",
       "      <td>101 AD \\xe2\\x80\\x93 300 AD\\n                  ...</td>\n",
       "      <td>21</td>\n",
       "      <td>unbestimmt</td>\n",
       "      <td>257</td>\n",
       "      <td>Tafel</td>\n",
       "      <td></td>\n",
       "      <td>Gesteine</td>\n",
       "      <td>1000</td>\n",
       "      <td>92</td>\n",
       "      <td>\\n                    Grabinschrift\\n         ...</td>\n",
       "    </tr>\n",
       "    <tr>\n",
       "      <th>3</th>\n",
       "      <td>HD070004</td>\n",
       "      <td>155243</td>\n",
       "      <td>[http://www.trismegistos.org/place/003201, htt...</td>\n",
       "      <td></td>\n",
       "      <td>101 AD \\xe2\\x80\\x93 300 AD\\n                  ...</td>\n",
       "      <td>21</td>\n",
       "      <td>unbestimmt</td>\n",
       "      <td>250</td>\n",
       "      <td>Stele?</td>\n",
       "      <td></td>\n",
       "      <td>Gesteine</td>\n",
       "      <td>1000</td>\n",
       "      <td>92</td>\n",
       "      <td>\\n                    Grabinschrift\\n         ...</td>\n",
       "    </tr>\n",
       "    <tr>\n",
       "      <th>4</th>\n",
       "      <td>HD070005</td>\n",
       "      <td>155244</td>\n",
       "      <td>[http://www.trismegistos.org/place/003201, htt...</td>\n",
       "      <td></td>\n",
       "      <td>101 AD \\xe2\\x80\\x93 300 AD\\n                  ...</td>\n",
       "      <td>21</td>\n",
       "      <td>unbestimmt</td>\n",
       "      <td>250</td>\n",
       "      <td>Stele?</td>\n",
       "      <td></td>\n",
       "      <td>Gesteine</td>\n",
       "      <td>1000</td>\n",
       "      <td>92</td>\n",
       "      <td>\\n                    Grabinschrift\\n         ...</td>\n",
       "    </tr>\n",
       "    <tr>\n",
       "      <th>5</th>\n",
       "      <td>HD070006</td>\n",
       "      <td>155245</td>\n",
       "      <td>[http://www.trismegistos.org/place/003201, htt...</td>\n",
       "      <td></td>\n",
       "      <td>201 AD \\xe2\\x80\\x93 300 AD\\n                  ...</td>\n",
       "      <td>21</td>\n",
       "      <td>unbestimmt</td>\n",
       "      <td>29</td>\n",
       "      <td>Altar</td>\n",
       "      <td></td>\n",
       "      <td>Gesteine</td>\n",
       "      <td>1000</td>\n",
       "      <td>80</td>\n",
       "      <td>\\n                    Weihinschrift\\n         ...</td>\n",
       "    </tr>\n",
       "    <tr>\n",
       "      <th>6</th>\n",
       "      <td>HD070007</td>\n",
       "      <td>155246</td>\n",
       "      <td>[http://www.trismegistos.org/place/003201, htt...</td>\n",
       "      <td></td>\n",
       "      <td>131 AD \\xe2\\x80\\x93 300 AD\\n                  ...</td>\n",
       "      <td>21</td>\n",
       "      <td>unbestimmt</td>\n",
       "      <td>29</td>\n",
       "      <td>Altar</td>\n",
       "      <td></td>\n",
       "      <td>Gesteine</td>\n",
       "      <td>1000</td>\n",
       "      <td>80</td>\n",
       "      <td>\\n                    Weihinschrift\\n         ...</td>\n",
       "    </tr>\n",
       "    <tr>\n",
       "      <th>7</th>\n",
       "      <td>HD070008</td>\n",
       "      <td>155248</td>\n",
       "      <td>[http://www.trismegistos.org/place/003201, htt...</td>\n",
       "      <td></td>\n",
       "      <td>80 AD \\xe2\\x80\\x93 300 AD\\n                   ...</td>\n",
       "      <td>21</td>\n",
       "      <td>unbestimmt</td>\n",
       "      <td>2</td>\n",
       "      <td>unbestimmt</td>\n",
       "      <td></td>\n",
       "      <td>Gesteine</td>\n",
       "      <td>1000</td>\n",
       "      <td>143</td>\n",
       "      <td>\\n                    unbestimmt\\n            ...</td>\n",
       "    </tr>\n",
       "    <tr>\n",
       "      <th>8</th>\n",
       "      <td>HD070009</td>\n",
       "      <td>155249</td>\n",
       "      <td>[http://www.trismegistos.org/place/003201, htt...</td>\n",
       "      <td></td>\n",
       "      <td>101 AD \\xe2\\x80\\x93 300 AD\\n                  ...</td>\n",
       "      <td>21</td>\n",
       "      <td>unbestimmt</td>\n",
       "      <td>250</td>\n",
       "      <td>Stele?</td>\n",
       "      <td></td>\n",
       "      <td>Gesteine</td>\n",
       "      <td>1000</td>\n",
       "      <td>92</td>\n",
       "      <td>\\n                    Grabinschrift\\n         ...</td>\n",
       "    </tr>\n",
       "    <tr>\n",
       "      <th>9</th>\n",
       "      <td>HD070010</td>\n",
       "      <td>155250</td>\n",
       "      <td>[http://www.trismegistos.org/place/003201, htt...</td>\n",
       "      <td></td>\n",
       "      <td>197 AD\\n</td>\n",
       "      <td>21</td>\n",
       "      <td>unbestimmt</td>\n",
       "      <td>309</td>\n",
       "      <td>Platte</td>\n",
       "      <td>75</td>\n",
       "      <td>Sandstein</td>\n",
       "      <td>1000</td>\n",
       "      <td>80</td>\n",
       "      <td>\\n                    Weihinschrift\\n         ...</td>\n",
       "    </tr>\n",
       "  </tbody>\n",
       "</table>\n",
       "</div>"
      ],
      "text/plain": [
       "   idno_uri idno_tm                                    placenames_refs  \\\n",
       "0  HD070001  155240  [http://www.trismegistos.org/place/003201, htt...   \n",
       "1  HD070002  155241  [http://www.trismegistos.org/place/003201, htt...   \n",
       "2  HD070003  155242  [http://www.trismegistos.org/place/003201, htt...   \n",
       "3  HD070004  155243  [http://www.trismegistos.org/place/003201, htt...   \n",
       "4  HD070005  155244  [http://www.trismegistos.org/place/003201, htt...   \n",
       "5  HD070006  155245  [http://www.trismegistos.org/place/003201, htt...   \n",
       "6  HD070007  155246  [http://www.trismegistos.org/place/003201, htt...   \n",
       "7  HD070008  155248  [http://www.trismegistos.org/place/003201, htt...   \n",
       "8  HD070009  155249  [http://www.trismegistos.org/place/003201, htt...   \n",
       "9  HD070010  155250  [http://www.trismegistos.org/place/003201, htt...   \n",
       "\n",
       "  text_edition                                      origdate_text  \\\n",
       "0               201 AD \\xe2\\x80\\x93 300 AD\\n                  ...   \n",
       "1               101 AD \\xe2\\x80\\x93 300 AD\\n                  ...   \n",
       "2               101 AD \\xe2\\x80\\x93 300 AD\\n                  ...   \n",
       "3               101 AD \\xe2\\x80\\x93 300 AD\\n                  ...   \n",
       "4               101 AD \\xe2\\x80\\x93 300 AD\\n                  ...   \n",
       "5               201 AD \\xe2\\x80\\x93 300 AD\\n                  ...   \n",
       "6               131 AD \\xe2\\x80\\x93 300 AD\\n                  ...   \n",
       "7               80 AD \\xe2\\x80\\x93 300 AD\\n                   ...   \n",
       "8               101 AD \\xe2\\x80\\x93 300 AD\\n                  ...   \n",
       "9                            197 AD\\n                               \n",
       "\n",
       "  layout_execution layout_execution_text support_objecttype  \\\n",
       "0               21            unbestimmt                309   \n",
       "1               21            unbestimmt                250   \n",
       "2               21            unbestimmt                257   \n",
       "3               21            unbestimmt                250   \n",
       "4               21            unbestimmt                250   \n",
       "5               21            unbestimmt                 29   \n",
       "6               21            unbestimmt                 29   \n",
       "7               21            unbestimmt                  2   \n",
       "8               21            unbestimmt                250   \n",
       "9               21            unbestimmt                309   \n",
       "\n",
       "  support_objecttype_text support_material support_material_text  \\\n",
       "0                  Platte                               Gesteine   \n",
       "1                  Stele?                               Gesteine   \n",
       "2                   Tafel                               Gesteine   \n",
       "3                  Stele?                               Gesteine   \n",
       "4                  Stele?                               Gesteine   \n",
       "5                   Altar                               Gesteine   \n",
       "6                   Altar                               Gesteine   \n",
       "7              unbestimmt                               Gesteine   \n",
       "8                  Stele?                               Gesteine   \n",
       "9                  Platte               75             Sandstein   \n",
       "\n",
       "  support_decoration keywords_term  \\\n",
       "0               1000           261   \n",
       "1               1000            92   \n",
       "2               1000            92   \n",
       "3               1000            92   \n",
       "4               1000            92   \n",
       "5               1000            80   \n",
       "6               1000            80   \n",
       "7               1000           143   \n",
       "8               1000            92   \n",
       "9               1000            80   \n",
       "\n",
       "                                  keywords_term_text  \n",
       "0  \\n                    Bau-/Stifterinschrift\\n ...  \n",
       "1  \\n                    Grabinschrift\\n         ...  \n",
       "2  \\n                    Grabinschrift\\n         ...  \n",
       "3  \\n                    Grabinschrift\\n         ...  \n",
       "4  \\n                    Grabinschrift\\n         ...  \n",
       "5  \\n                    Weihinschrift\\n         ...  \n",
       "6  \\n                    Weihinschrift\\n         ...  \n",
       "7  \\n                    unbestimmt\\n            ...  \n",
       "8  \\n                    Grabinschrift\\n         ...  \n",
       "9  \\n                    Weihinschrift\\n         ...  "
      ]
     },
     "execution_count": 75,
     "metadata": {},
     "output_type": "execute_result"
    }
   ],
   "source": [
    "# test with first ten files within the namelist\n",
    "edh_xml_data = []\n",
    "\n",
    "for filename in namelist[:10]:\n",
    "    edh_filecontents[filename] = get_filecontent_from_filename(filename, zipped)\n",
    "    edh_xml_data.append(get_data_from_filename(filename, zipped))\n",
    "# transform it into dataframe\n",
    "pd.DataFrame(edh_xml_data)"
   ]
  },
  {
   "cell_type": "code",
   "execution_count": 76,
   "metadata": {},
   "outputs": [
    {
     "data": {
      "text/html": [
       "<div>\n",
       "<style scoped>\n",
       "    .dataframe tbody tr th:only-of-type {\n",
       "        vertical-align: middle;\n",
       "    }\n",
       "\n",
       "    .dataframe tbody tr th {\n",
       "        vertical-align: top;\n",
       "    }\n",
       "\n",
       "    .dataframe thead th {\n",
       "        text-align: right;\n",
       "    }\n",
       "</style>\n",
       "<table border=\"1\" class=\"dataframe\">\n",
       "  <thead>\n",
       "    <tr style=\"text-align: right;\">\n",
       "      <th></th>\n",
       "      <th>columns</th>\n",
       "    </tr>\n",
       "  </thead>\n",
       "  <tbody>\n",
       "    <tr>\n",
       "      <th>0</th>\n",
       "      <td>idno_uri</td>\n",
       "    </tr>\n",
       "    <tr>\n",
       "      <th>1</th>\n",
       "      <td>idno_tm</td>\n",
       "    </tr>\n",
       "    <tr>\n",
       "      <th>2</th>\n",
       "      <td>placenames_refs</td>\n",
       "    </tr>\n",
       "    <tr>\n",
       "      <th>3</th>\n",
       "      <td>text_edition</td>\n",
       "    </tr>\n",
       "    <tr>\n",
       "      <th>4</th>\n",
       "      <td>origdate_text</td>\n",
       "    </tr>\n",
       "    <tr>\n",
       "      <th>5</th>\n",
       "      <td>layout_execution</td>\n",
       "    </tr>\n",
       "    <tr>\n",
       "      <th>6</th>\n",
       "      <td>layout_execution_text</td>\n",
       "    </tr>\n",
       "    <tr>\n",
       "      <th>7</th>\n",
       "      <td>support_objecttype</td>\n",
       "    </tr>\n",
       "    <tr>\n",
       "      <th>8</th>\n",
       "      <td>support_objecttype_text</td>\n",
       "    </tr>\n",
       "    <tr>\n",
       "      <th>9</th>\n",
       "      <td>support_material</td>\n",
       "    </tr>\n",
       "    <tr>\n",
       "      <th>10</th>\n",
       "      <td>support_material_text</td>\n",
       "    </tr>\n",
       "    <tr>\n",
       "      <th>11</th>\n",
       "      <td>support_decoration</td>\n",
       "    </tr>\n",
       "    <tr>\n",
       "      <th>12</th>\n",
       "      <td>keywords_term</td>\n",
       "    </tr>\n",
       "    <tr>\n",
       "      <th>13</th>\n",
       "      <td>keywords_term_text</td>\n",
       "    </tr>\n",
       "  </tbody>\n",
       "</table>\n",
       "</div>"
      ],
      "text/plain": [
       "                    columns\n",
       "0                  idno_uri\n",
       "1                   idno_tm\n",
       "2           placenames_refs\n",
       "3              text_edition\n",
       "4             origdate_text\n",
       "5          layout_execution\n",
       "6     layout_execution_text\n",
       "7        support_objecttype\n",
       "8   support_objecttype_text\n",
       "9          support_material\n",
       "10    support_material_text\n",
       "11       support_decoration\n",
       "12            keywords_term\n",
       "13       keywords_term_text"
      ]
     },
     "execution_count": 76,
     "metadata": {},
     "output_type": "execute_result"
    }
   ],
   "source": [
    "EDH_xml_cols = pd.DataFrame(pd.DataFrame(edh_xml_data).columns, columns=[\"columns\"])\n",
    "EDH_xml_cols"
   ]
  },
  {
   "cell_type": "code",
   "execution_count": 77,
   "metadata": {},
   "outputs": [],
   "source": [
    "# uncomment to export to gsheets\n",
    "# set_with_dataframe(EDH_overview.add_worksheet(\"EDH_xml_cols\", 1, 1), EDH_xml_cols)"
   ]
  },
  {
   "cell_type": "markdown",
   "metadata": {},
   "source": [
    "# Extract xml files content from the zip files as raw strings "
   ]
  },
  {
   "cell_type": "code",
   "execution_count": 78,
   "metadata": {},
   "outputs": [
    {
     "name": "stdout",
     "output_type": "stream",
     "text": [
      "https://edh-www.adw.uni-heidelberg.de/download/edhEpidocDump_HD000001-HD010000.zip\n",
      "https://edh-www.adw.uni-heidelberg.de/download/edhEpidocDump_HD010001-HD020000.zip\n",
      "https://edh-www.adw.uni-heidelberg.de/download/edhEpidocDump_HD020001-HD030000.zip\n",
      "https://edh-www.adw.uni-heidelberg.de/download/edhEpidocDump_HD030001-HD040000.zip\n",
      "https://edh-www.adw.uni-heidelberg.de/download/edhEpidocDump_HD040001-HD050000.zip\n",
      "https://edh-www.adw.uni-heidelberg.de/download/edhEpidocDump_HD050001-HD060000.zip\n",
      "https://edh-www.adw.uni-heidelberg.de/download/edhEpidocDump_HD060001-HD070000.zip\n",
      "https://edh-www.adw.uni-heidelberg.de/download/edhEpidocDump_HD070001-HD082046.zip\n",
      "CPU times: user 7.64 s, sys: 688 ms, total: 8.32 s\n",
      "Wall time: 27.3 s\n"
     ]
    }
   ],
   "source": [
    "%%time\n",
    "\n",
    "# main loop\n",
    "\n",
    "url_base = \"https://edh-www.adw.uni-heidelberg.de/\"\n",
    "\n",
    "for d_url in download_urls:\n",
    "    url = url_base + d_url\n",
    "    print(url)\n",
    "    resp = requests.get(url, headers={'User-Agent': ''})\n",
    "    zipped = zipfile.ZipFile(io.BytesIO(resp.content))\n",
    "    ### names of all files within the zipped directory\n",
    "    namelist = zipped.namelist()\n",
    "    for filename in namelist:\n",
    "        try:        \n",
    "            # original: edh_xml_data.append(get_data_from_filename(filename, zipped))\n",
    "            edh_filecontents[filename] = get_filecontent_from_filename(filename, zipped)\n",
    "        except:\n",
    "            pass\n",
    "        ### index \"0\" is for main directory"
   ]
  },
  {
   "cell_type": "code",
   "execution_count": 79,
   "metadata": {},
   "outputs": [
    {
     "data": {
      "text/plain": [
       "81156"
      ]
     },
     "execution_count": 79,
     "metadata": {},
     "output_type": "execute_result"
    }
   ],
   "source": [
    "len(edh_filecontents)"
   ]
  },
  {
   "cell_type": "code",
   "execution_count": 80,
   "metadata": {},
   "outputs": [
    {
     "name": "stdout",
     "output_type": "stream",
     "text": [
      "A file with the same name (\"edh_raw_xmls_20201109.json\") already exists in this location.\n",
      "Press Enter to overwrite it or choose different path and filename: \n",
      "Your <class 'dict'> object has been succefully written as \"https://sciencedata.dk/files/SDAM_root/SDAM_data/EDH/edh_raw_xmls_20201109.json\"\n"
     ]
    }
   ],
   "source": [
    "sddk.write_file(\"SDAM_data/EDH/edh_raw_xmls_20201109.json\", edh_filecontents, conf)"
   ]
  },
  {
   "cell_type": "code",
   "execution_count": 81,
   "metadata": {},
   "outputs": [
    {
     "data": {
      "text/plain": [
       "400479"
      ]
     },
     "execution_count": 81,
     "metadata": {},
     "output_type": "execute_result"
    }
   ],
   "source": [
    "# lets look at what is within raw xml strings\n",
    "# how many references to http://www.eagle-network.eu/ are there?\n",
    "eagle_n = 0\n",
    "for filename in edh_filecontents.keys():\n",
    "    eagle_n = eagle_n + str(edh_filecontents[filename]).count(\"http://www.eagle-network.eu/\")\n",
    "eagle_n"
   ]
  },
  {
   "cell_type": "markdown",
   "metadata": {},
   "source": [
    "# Parse the xml data"
   ]
  },
  {
   "cell_type": "code",
   "execution_count": 83,
   "metadata": {},
   "outputs": [],
   "source": [
    "edh_xml_data = []\n",
    "for filename in edh_filecontents.keys():\n",
    "    edh_xml_data.append(get_data_from_filename(filename, zipped))"
   ]
  },
  {
   "cell_type": "code",
   "execution_count": 84,
   "metadata": {},
   "outputs": [
    {
     "data": {
      "text/plain": [
       "81156"
      ]
     },
     "execution_count": 84,
     "metadata": {},
     "output_type": "execute_result"
    }
   ],
   "source": [
    "# remove empty\n",
    "#edh_xml_data = [elem for elem in edh_xml_data if elem != None]\n",
    "# how many we have\n",
    "# last time we had 81143\n",
    "len(edh_xml_data)"
   ]
  },
  {
   "cell_type": "code",
   "execution_count": 85,
   "metadata": {},
   "outputs": [],
   "source": [
    "edh_xml_data_f = [el for el in edh_xml_data if el != None]"
   ]
  },
  {
   "cell_type": "code",
   "execution_count": 86,
   "metadata": {},
   "outputs": [
    {
     "data": {
      "text/plain": [
       "81150"
      ]
     },
     "execution_count": 86,
     "metadata": {},
     "output_type": "execute_result"
    }
   ],
   "source": [
    "len(edh_xml_data_f)"
   ]
  },
  {
   "cell_type": "code",
   "execution_count": 87,
   "metadata": {},
   "outputs": [
    {
     "data": {
      "text/html": [
       "<div>\n",
       "<style scoped>\n",
       "    .dataframe tbody tr th:only-of-type {\n",
       "        vertical-align: middle;\n",
       "    }\n",
       "\n",
       "    .dataframe tbody tr th {\n",
       "        vertical-align: top;\n",
       "    }\n",
       "\n",
       "    .dataframe thead th {\n",
       "        text-align: right;\n",
       "    }\n",
       "</style>\n",
       "<table border=\"1\" class=\"dataframe\">\n",
       "  <thead>\n",
       "    <tr style=\"text-align: right;\">\n",
       "      <th></th>\n",
       "      <th>idno_uri</th>\n",
       "      <th>idno_tm</th>\n",
       "      <th>placenames_refs</th>\n",
       "      <th>text_edition</th>\n",
       "      <th>origdate_text</th>\n",
       "      <th>layout_execution</th>\n",
       "      <th>layout_execution_text</th>\n",
       "      <th>support_objecttype</th>\n",
       "      <th>support_objecttype_text</th>\n",
       "      <th>support_material</th>\n",
       "      <th>support_material_text</th>\n",
       "      <th>support_decoration</th>\n",
       "      <th>keywords_term</th>\n",
       "      <th>keywords_term_text</th>\n",
       "    </tr>\n",
       "  </thead>\n",
       "  <tbody>\n",
       "    <tr>\n",
       "      <th>0</th>\n",
       "      <td>HD070001</td>\n",
       "      <td>155240</td>\n",
       "      <td>[http://www.trismegistos.org/place/003201, htt...</td>\n",
       "      <td></td>\n",
       "      <td>201 AD \\xe2\\x80\\x93 300 AD\\n                  ...</td>\n",
       "      <td>21</td>\n",
       "      <td>unbestimmt</td>\n",
       "      <td>309</td>\n",
       "      <td>Platte</td>\n",
       "      <td></td>\n",
       "      <td>Gesteine</td>\n",
       "      <td>1000</td>\n",
       "      <td>261</td>\n",
       "      <td>\\n                    Bau-/Stifterinschrift\\n ...</td>\n",
       "    </tr>\n",
       "    <tr>\n",
       "      <th>1</th>\n",
       "      <td>HD070002</td>\n",
       "      <td>155241</td>\n",
       "      <td>[http://www.trismegistos.org/place/003201, htt...</td>\n",
       "      <td></td>\n",
       "      <td>101 AD \\xe2\\x80\\x93 300 AD\\n                  ...</td>\n",
       "      <td>21</td>\n",
       "      <td>unbestimmt</td>\n",
       "      <td>250</td>\n",
       "      <td>Stele?</td>\n",
       "      <td></td>\n",
       "      <td>Gesteine</td>\n",
       "      <td>1000</td>\n",
       "      <td>92</td>\n",
       "      <td>\\n                    Grabinschrift\\n         ...</td>\n",
       "    </tr>\n",
       "    <tr>\n",
       "      <th>2</th>\n",
       "      <td>HD070003</td>\n",
       "      <td>155242</td>\n",
       "      <td>[http://www.trismegistos.org/place/003201, htt...</td>\n",
       "      <td></td>\n",
       "      <td>101 AD \\xe2\\x80\\x93 300 AD\\n                  ...</td>\n",
       "      <td>21</td>\n",
       "      <td>unbestimmt</td>\n",
       "      <td>257</td>\n",
       "      <td>Tafel</td>\n",
       "      <td></td>\n",
       "      <td>Gesteine</td>\n",
       "      <td>1000</td>\n",
       "      <td>92</td>\n",
       "      <td>\\n                    Grabinschrift\\n         ...</td>\n",
       "    </tr>\n",
       "    <tr>\n",
       "      <th>3</th>\n",
       "      <td>HD070004</td>\n",
       "      <td>155243</td>\n",
       "      <td>[http://www.trismegistos.org/place/003201, htt...</td>\n",
       "      <td></td>\n",
       "      <td>101 AD \\xe2\\x80\\x93 300 AD\\n                  ...</td>\n",
       "      <td>21</td>\n",
       "      <td>unbestimmt</td>\n",
       "      <td>250</td>\n",
       "      <td>Stele?</td>\n",
       "      <td></td>\n",
       "      <td>Gesteine</td>\n",
       "      <td>1000</td>\n",
       "      <td>92</td>\n",
       "      <td>\\n                    Grabinschrift\\n         ...</td>\n",
       "    </tr>\n",
       "    <tr>\n",
       "      <th>4</th>\n",
       "      <td>HD070005</td>\n",
       "      <td>155244</td>\n",
       "      <td>[http://www.trismegistos.org/place/003201, htt...</td>\n",
       "      <td></td>\n",
       "      <td>101 AD \\xe2\\x80\\x93 300 AD\\n                  ...</td>\n",
       "      <td>21</td>\n",
       "      <td>unbestimmt</td>\n",
       "      <td>250</td>\n",
       "      <td>Stele?</td>\n",
       "      <td></td>\n",
       "      <td>Gesteine</td>\n",
       "      <td>1000</td>\n",
       "      <td>92</td>\n",
       "      <td>\\n                    Grabinschrift\\n         ...</td>\n",
       "    </tr>\n",
       "  </tbody>\n",
       "</table>\n",
       "</div>"
      ],
      "text/plain": [
       "   idno_uri idno_tm                                    placenames_refs  \\\n",
       "0  HD070001  155240  [http://www.trismegistos.org/place/003201, htt...   \n",
       "1  HD070002  155241  [http://www.trismegistos.org/place/003201, htt...   \n",
       "2  HD070003  155242  [http://www.trismegistos.org/place/003201, htt...   \n",
       "3  HD070004  155243  [http://www.trismegistos.org/place/003201, htt...   \n",
       "4  HD070005  155244  [http://www.trismegistos.org/place/003201, htt...   \n",
       "\n",
       "  text_edition                                      origdate_text  \\\n",
       "0               201 AD \\xe2\\x80\\x93 300 AD\\n                  ...   \n",
       "1               101 AD \\xe2\\x80\\x93 300 AD\\n                  ...   \n",
       "2               101 AD \\xe2\\x80\\x93 300 AD\\n                  ...   \n",
       "3               101 AD \\xe2\\x80\\x93 300 AD\\n                  ...   \n",
       "4               101 AD \\xe2\\x80\\x93 300 AD\\n                  ...   \n",
       "\n",
       "  layout_execution layout_execution_text support_objecttype  \\\n",
       "0               21            unbestimmt                309   \n",
       "1               21            unbestimmt                250   \n",
       "2               21            unbestimmt                257   \n",
       "3               21            unbestimmt                250   \n",
       "4               21            unbestimmt                250   \n",
       "\n",
       "  support_objecttype_text support_material support_material_text  \\\n",
       "0                  Platte                               Gesteine   \n",
       "1                  Stele?                               Gesteine   \n",
       "2                   Tafel                               Gesteine   \n",
       "3                  Stele?                               Gesteine   \n",
       "4                  Stele?                               Gesteine   \n",
       "\n",
       "  support_decoration keywords_term  \\\n",
       "0               1000           261   \n",
       "1               1000            92   \n",
       "2               1000            92   \n",
       "3               1000            92   \n",
       "4               1000            92   \n",
       "\n",
       "                                  keywords_term_text  \n",
       "0  \\n                    Bau-/Stifterinschrift\\n ...  \n",
       "1  \\n                    Grabinschrift\\n         ...  \n",
       "2  \\n                    Grabinschrift\\n         ...  \n",
       "3  \\n                    Grabinschrift\\n         ...  \n",
       "4  \\n                    Grabinschrift\\n         ...  "
      ]
     },
     "execution_count": 87,
     "metadata": {},
     "output_type": "execute_result"
    }
   ],
   "source": [
    "# make a dataframe from \n",
    "edh_xml_data_df = pd.DataFrame(edh_xml_data_f)\n",
    "edh_xml_data_df.head(5)"
   ]
  },
  {
   "cell_type": "code",
   "execution_count": 88,
   "metadata": {},
   "outputs": [
    {
     "name": "stdout",
     "output_type": "stream",
     "text": [
      "Your <class 'pandas.core.frame.DataFrame'> object has been succefully written as \"https://sciencedata.dk/files/SDAM_root/SDAM_data/EDH/edh_xml_data_2020-11-09.json\"\n"
     ]
    }
   ],
   "source": [
    "sddk.write_file(\"SDAM_data/EDH/edh_xml_data_2020-11-09.json\", edh_xml_data_df, conf)"
   ]
  },
  {
   "cell_type": "markdown",
   "metadata": {},
   "source": [
    "# Read the data back"
   ]
  },
  {
   "cell_type": "code",
   "execution_count": 42,
   "metadata": {},
   "outputs": [],
   "source": [
    "edh_xml_data_df = sddk.read_file(\"SDAM_data/EDH/edh_xml_data_2020-11-09.json\", \"df\", conf)"
   ]
  },
  {
   "cell_type": "code",
   "execution_count": 43,
   "metadata": {},
   "outputs": [
    {
     "data": {
      "text/plain": [
       "81151"
      ]
     },
     "execution_count": 43,
     "metadata": {},
     "output_type": "execute_result"
    }
   ],
   "source": [
    "len(edh_xml_data_df)"
   ]
  },
  {
   "cell_type": "code",
   "execution_count": null,
   "metadata": {},
   "outputs": [],
   "source": []
  }
 ],
 "metadata": {
  "colab": {
   "collapsed_sections": [],
   "include_colab_link": true,
   "machine_shape": "hm",
   "name": "1_2_py_EXTRACTION_edh-xml_files.ipynb",
   "provenance": []
  },
  "kernelspec": {
   "display_name": "Python 3",
   "language": "python",
   "name": "python3"
  },
  "language_info": {
   "codemirror_mode": {
    "name": "ipython",
    "version": 3
   },
   "file_extension": ".py",
   "mimetype": "text/x-python",
   "name": "python",
   "nbconvert_exporter": "python",
   "pygments_lexer": "ipython3",
   "version": "3.6.9"
  }
 },
 "nbformat": 4,
 "nbformat_minor": 1
}
