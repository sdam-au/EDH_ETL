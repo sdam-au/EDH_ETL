{
 "cells": [
  {
   "cell_type": "markdown",
   "metadata": {
    "colab_type": "text",
    "id": "W3ztOiWkjdYL"
   },
   "source": [
    "This notebook serves to get additional data from the EDH XML/epidoc files. The reason is that some information is missing in the API data.\n"
   ]
  },
  {
   "cell_type": "code",
   "execution_count": 2,
   "metadata": {
    "colab": {},
    "colab_type": "code",
    "id": "mjj6VCcLkERG"
   },
   "outputs": [],
   "source": [
    "### REQUIREMENTS\n",
    "import numpy as np\n",
    "import math\n",
    "import pandas as pd\n",
    "\n",
    "import sys\n",
    "### we do a lot of requests during the scrapping. Some of them with requests package, some of them with urllib\n",
    "import requests\n",
    "from urllib.request import urlopen \n",
    "from urllib.parse import quote  \n",
    "from bs4 import BeautifulSoup\n",
    "import xml.etree.cElementTree as ET\n",
    "import re\n",
    "\n",
    "import zipfile\n",
    "import io\n",
    "\n",
    "# to avoid errors, we sometime use time.sleep(N) before retrying a request\n",
    "import time\n",
    "# the input data have typically a json structure\n",
    "import json\n",
    "import getpass\n",
    "\n",
    "import datetime as dt\n",
    "# for simple paralel computing:\n",
    "from concurrent.futures import ThreadPoolExecutor\n",
    "\n",
    "import sddk"
   ]
  },
  {
   "cell_type": "markdown",
   "metadata": {},
   "source": [
    "Now we turn to the download section of the EDH website, where we can find zip archives containing xml files with individual inscriptions. Instead of downloading them manually, we will download them directly into our Python environment."
   ]
  },
  {
   "cell_type": "code",
   "execution_count": 27,
   "metadata": {},
   "outputs": [],
   "source": [
    "# extract the download page\n",
    "resp = requests.get(\"https://edh-www.adw.uni-heidelberg.de/data/export\")\n",
    "url_text = resp.text"
   ]
  },
  {
   "cell_type": "code",
   "execution_count": 28,
   "metadata": {},
   "outputs": [
    {
     "data": {
      "text/plain": [
       "['download/edhEpidocDump_HD000001-HD010000.zip',\n",
       " 'download/edhEpidocDump_HD010001-HD020000.zip',\n",
       " 'download/edhEpidocDump_HD020001-HD030000.zip',\n",
       " 'download/edhEpidocDump_HD030001-HD040000.zip',\n",
       " 'download/edhEpidocDump_HD040001-HD050000.zip',\n",
       " 'download/edhEpidocDump_HD050001-HD060000.zip',\n",
       " 'download/edhEpidocDump_HD060001-HD070000.zip',\n",
       " 'download/edhEpidocDump_HD070001-HD082046.zip']"
      ]
     },
     "execution_count": 28,
     "metadata": {},
     "output_type": "execute_result"
    }
   ],
   "source": [
    "# extract urls of individual zip archives for download\n",
    "download_urls = re.findall(\"download\\/edhEpidocDump_HD.+\", url_text)\n",
    "download_urls"
   ]
  },
  {
   "cell_type": "code",
   "execution_count": 30,
   "metadata": {},
   "outputs": [],
   "source": [
    "# define function for data parsing\n",
    "def get_data_from_filename(filename, zipped):\n",
    "    try:\n",
    "        soup = BeautifulSoup(zipped.read(filename))\n",
    "        idno_uri = soup.find(\"idno\", attrs={\"type\" : \"URI\"}).get_text()\n",
    "        idno_tm = soup.find(\"idno\", attrs={\"type\" : \"TM\"}).get_text()\n",
    "        placenames_refs = []\n",
    "        try: \n",
    "          placenames = soup.find_all(\"placename\")\n",
    "          for placename in placenames:\n",
    "            placenames_refs.append(placename[\"ref\"])\n",
    "        except: placenames_refs = []\n",
    "        text_tag = soup.find(\"div\", attrs={\"type\" : \"edition\"})\n",
    "        commentary = soup.find(\"div\", attrs={\"type\" : \"commentary\"}).get_text()\n",
    "        text = \" \".join(text_tag.get_text().splitlines()[1:])\n",
    "        origdate_text = soup.find(\"origdate\").get_text().replace(\"\\n\", \"\")\n",
    "        origdate_attrs = soup.origdate.attrs\n",
    "        objecttype = [soup.find(\"objecttype\").get_text(), str(soup.find(\"objecttype\")).partition(\"lod/\")[2].partition(\"\\\">\")[0]]\n",
    "        return [idno_uri, idno_tm, placenames_refs, text, origdate_text, origdate_attrs, objecttype, commentary]\n",
    "    except:\n",
    "        pass"
   ]
  },
  {
   "cell_type": "code",
   "execution_count": 32,
   "metadata": {},
   "outputs": [
    {
     "name": "stdout",
     "output_type": "stream",
     "text": [
      "https://edh-www.adw.uni-heidelberg.de/download/edhEpidocDump_HD000001-HD010000.zip\n",
      "https://edh-www.adw.uni-heidelberg.de/download/edhEpidocDump_HD010001-HD020000.zip\n",
      "https://edh-www.adw.uni-heidelberg.de/download/edhEpidocDump_HD020001-HD030000.zip\n",
      "https://edh-www.adw.uni-heidelberg.de/download/edhEpidocDump_HD030001-HD040000.zip\n",
      "https://edh-www.adw.uni-heidelberg.de/download/edhEpidocDump_HD040001-HD050000.zip\n",
      "https://edh-www.adw.uni-heidelberg.de/download/edhEpidocDump_HD050001-HD060000.zip\n",
      "https://edh-www.adw.uni-heidelberg.de/download/edhEpidocDump_HD060001-HD070000.zip\n",
      "https://edh-www.adw.uni-heidelberg.de/download/edhEpidocDump_HD070001-HD082046.zip\n",
      "CPU times: user 11min 22s, sys: 4.89 s, total: 11min 27s\n",
      "Wall time: 28min 47s\n"
     ]
    }
   ],
   "source": [
    "%%time\n",
    "\n",
    "# to make a request for downloading a file, we have to use headers to somehow specify who we are-\n",
    "headers = {'User-Agent': 'Mozilla/5.0 (Macintosh; Intel Mac OS X 10_11_5) AppleWebKit/537.36 (KHTML, like Gecko) Chrome/50.0.2661.102 Safari/537.36'}\n",
    "\n",
    "url_base = \"https://edh-www.adw.uni-heidelberg.de/\"\n",
    "edh_xml_data = []\n",
    "\n",
    "for d_url in download_urls:\n",
    "    url = url_base + d_url\n",
    "    print(url)\n",
    "    resp = requests.get(url, headers=headers)\n",
    "    zipped = zipfile.ZipFile(io.BytesIO(resp.content))\n",
    "    ### names of all files within the zipped directory\n",
    "    namelist = zipped.namelist()[1:]\n",
    "    for filename in namelist:\n",
    "        try:\n",
    "            edh_xml_data.append(get_data_from_filename(filename, zipped))\n",
    "        except:\n",
    "            pass\n",
    "        ### index \"0\" is for main directory"
   ]
  },
  {
   "cell_type": "code",
   "execution_count": 40,
   "metadata": {},
   "outputs": [
    {
     "data": {
      "text/plain": [
       "81143"
      ]
     },
     "execution_count": 40,
     "metadata": {},
     "output_type": "execute_result"
    }
   ],
   "source": [
    "# remove empty\n",
    "edh_xml_data = [elem for elem in edh_xml_data if elem != None]\n",
    "# how many we have\n",
    "len(edh_xml_data)"
   ]
  },
  {
   "cell_type": "code",
   "execution_count": 41,
   "metadata": {},
   "outputs": [
    {
     "data": {
      "text/plain": [
       "[['http://edh-www.adw.uni-heidelberg.de/edh/inschrift/HD000002',\n",
       "  '265631',\n",
       "  ['http://www.trismegistos.org/place/000172',\n",
       "   'http://www.trismegistos.org/place/000172',\n",
       "   'http://www.geonames.org/',\n",
       "   'http://www.geonames.org/',\n",
       "   'http://www.geonames.org/countries/it/'],\n",
       "  'Caius Sextius Paris qui vixit annis LXX             ',\n",
       "  '51 AD – 200 AD                            ',\n",
       "  {'notbefore-custom': '0051',\n",
       "   'notafter-custom': '0200',\n",
       "   'datingmethod': 'http://en.wikipedia.org/wiki/Julian_calendar'},\n",
       "  ['Tafel', '257'],\n",
       "  '\\n AE 1983: Breite: 35 cm.\\n'],\n",
       " ['http://edh-www.adw.uni-heidelberg.de/edh/inschrift/HD000003',\n",
       "  '220675',\n",
       "  ['http://www.trismegistos.org/place/025443',\n",
       "   'http://www.trismegistos.org/place/002036',\n",
       "   'http://www.geonames.org/2510394',\n",
       "   'http://www.geonames.org/',\n",
       "   'http://www.geonames.org/countries/es/'],\n",
       "  'Publio Mummio Publi filio Galeria Sisennae Rutiliano Xviro stlitibus iudicandis  ',\n",
       "  '131 AD – 170 AD                            ',\n",
       "  {'notbefore-custom': '0131',\n",
       "   'notafter-custom': '0170',\n",
       "   'datingmethod': 'http://en.wikipedia.org/wiki/Julian_calendar'},\n",
       "  ['Statuenbasis', '57'],\n",
       "  '\\n (B): [S]isenna ist falscher Kasus; folgende Ergänzung notwendig: [S]isenna[e]. Y: Text bezieht sich eher auf P. Mummius P.f. Sisenna Rutilianus (cos. suff. 146) als auf dessen Vater P. Mummius Sisenna (cos. ord. 133). Die Statuenbasis war in einem Gebäude vermauert.\\n']]"
      ]
     },
     "execution_count": 41,
     "metadata": {},
     "output_type": "execute_result"
    }
   ],
   "source": [
    "# take a look at the first two entries\n",
    "edh_xml_data[:2]"
   ]
  },
  {
   "cell_type": "code",
   "execution_count": 42,
   "metadata": {},
   "outputs": [
    {
     "data": {
      "text/html": [
       "<div>\n",
       "<style scoped>\n",
       "    .dataframe tbody tr th:only-of-type {\n",
       "        vertical-align: middle;\n",
       "    }\n",
       "\n",
       "    .dataframe tbody tr th {\n",
       "        vertical-align: top;\n",
       "    }\n",
       "\n",
       "    .dataframe thead th {\n",
       "        text-align: right;\n",
       "    }\n",
       "</style>\n",
       "<table border=\"1\" class=\"dataframe\">\n",
       "  <thead>\n",
       "    <tr style=\"text-align: right;\">\n",
       "      <th></th>\n",
       "      <th>idno_uri</th>\n",
       "      <th>idno_tm</th>\n",
       "      <th>placenames_refs</th>\n",
       "      <th>text</th>\n",
       "      <th>origdate_text</th>\n",
       "      <th>origdate_attrs</th>\n",
       "      <th>objecttype</th>\n",
       "      <th>commentary</th>\n",
       "    </tr>\n",
       "  </thead>\n",
       "  <tbody>\n",
       "    <tr>\n",
       "      <th>0</th>\n",
       "      <td>http://edh-www.adw.uni-heidelberg.de/edh/insch...</td>\n",
       "      <td>265631</td>\n",
       "      <td>[http://www.trismegistos.org/place/000172, htt...</td>\n",
       "      <td>Caius Sextius Paris qui vixit annis LXX       ...</td>\n",
       "      <td>51 AD – 200 AD</td>\n",
       "      <td>{'notbefore-custom': '0051', 'notafter-custom'...</td>\n",
       "      <td>[Tafel, 257]</td>\n",
       "      <td>\\n AE 1983: Breite: 35 cm.\\n</td>\n",
       "    </tr>\n",
       "    <tr>\n",
       "      <th>1</th>\n",
       "      <td>http://edh-www.adw.uni-heidelberg.de/edh/insch...</td>\n",
       "      <td>220675</td>\n",
       "      <td>[http://www.trismegistos.org/place/025443, htt...</td>\n",
       "      <td>Publio Mummio Publi filio Galeria Sisennae Rut...</td>\n",
       "      <td>131 AD – 170 AD</td>\n",
       "      <td>{'notbefore-custom': '0131', 'notafter-custom'...</td>\n",
       "      <td>[Statuenbasis, 57]</td>\n",
       "      <td>\\n (B): [S]isenna ist falscher Kasus; folgende...</td>\n",
       "    </tr>\n",
       "    <tr>\n",
       "      <th>2</th>\n",
       "      <td>http://edh-www.adw.uni-heidelberg.de/edh/insch...</td>\n",
       "      <td>222102</td>\n",
       "      <td>[http://www.trismegistos.org/place/025443, htt...</td>\n",
       "      <td>AVSLLA Marci Porci Nigri serva dominae Veneri ...</td>\n",
       "      <td>151 AD – 200 AD</td>\n",
       "      <td>{'notbefore-custom': '0151', 'notafter-custom'...</td>\n",
       "      <td>[Altar, 29]</td>\n",
       "      <td>\\n Material: lokaler grauer Kalkstein. (B): St...</td>\n",
       "    </tr>\n",
       "    <tr>\n",
       "      <th>3</th>\n",
       "      <td>http://edh-www.adw.uni-heidelberg.de/edh/insch...</td>\n",
       "      <td>265629</td>\n",
       "      <td>[http://www.trismegistos.org/place/000172, htt...</td>\n",
       "      <td>libertus Successus  Luci libertus Irenaeus  C...</td>\n",
       "      <td>1 AD – 200 AD</td>\n",
       "      <td>{'notbefore-custom': '0001', 'notafter-custom'...</td>\n",
       "      <td>[Stele, 250]</td>\n",
       "      <td>\\n (B): Z. 3: C(ai) l(ibertae) Tyches.\\n</td>\n",
       "    </tr>\n",
       "    <tr>\n",
       "      <th>4</th>\n",
       "      <td>http://edh-www.adw.uni-heidelberg.de/edh/insch...</td>\n",
       "      <td>222924</td>\n",
       "      <td>[http://www.trismegistos.org/place/025443, htt...</td>\n",
       "      <td>Dis Manibus sacrum  Memmia Auctina annorum LXX...</td>\n",
       "      <td>71 AD – 150 AD</td>\n",
       "      <td>{'notbefore-custom': '0071', 'notafter-custom'...</td>\n",
       "      <td>[Stele, 250]</td>\n",
       "      <td>\\n Der Stein ist aus 2 aneinanderpassenden Fra...</td>\n",
       "    </tr>\n",
       "  </tbody>\n",
       "</table>\n",
       "</div>"
      ],
      "text/plain": [
       "                                            idno_uri idno_tm  \\\n",
       "0  http://edh-www.adw.uni-heidelberg.de/edh/insch...  265631   \n",
       "1  http://edh-www.adw.uni-heidelberg.de/edh/insch...  220675   \n",
       "2  http://edh-www.adw.uni-heidelberg.de/edh/insch...  222102   \n",
       "3  http://edh-www.adw.uni-heidelberg.de/edh/insch...  265629   \n",
       "4  http://edh-www.adw.uni-heidelberg.de/edh/insch...  222924   \n",
       "\n",
       "                                     placenames_refs  \\\n",
       "0  [http://www.trismegistos.org/place/000172, htt...   \n",
       "1  [http://www.trismegistos.org/place/025443, htt...   \n",
       "2  [http://www.trismegistos.org/place/025443, htt...   \n",
       "3  [http://www.trismegistos.org/place/000172, htt...   \n",
       "4  [http://www.trismegistos.org/place/025443, htt...   \n",
       "\n",
       "                                                text  \\\n",
       "0  Caius Sextius Paris qui vixit annis LXX       ...   \n",
       "1  Publio Mummio Publi filio Galeria Sisennae Rut...   \n",
       "2  AVSLLA Marci Porci Nigri serva dominae Veneri ...   \n",
       "3   libertus Successus  Luci libertus Irenaeus  C...   \n",
       "4  Dis Manibus sacrum  Memmia Auctina annorum LXX...   \n",
       "\n",
       "                                 origdate_text  \\\n",
       "0   51 AD – 200 AD                               \n",
       "1  131 AD – 170 AD                               \n",
       "2  151 AD – 200 AD                               \n",
       "3    1 AD – 200 AD                               \n",
       "4   71 AD – 150 AD                               \n",
       "\n",
       "                                      origdate_attrs          objecttype  \\\n",
       "0  {'notbefore-custom': '0051', 'notafter-custom'...        [Tafel, 257]   \n",
       "1  {'notbefore-custom': '0131', 'notafter-custom'...  [Statuenbasis, 57]   \n",
       "2  {'notbefore-custom': '0151', 'notafter-custom'...         [Altar, 29]   \n",
       "3  {'notbefore-custom': '0001', 'notafter-custom'...        [Stele, 250]   \n",
       "4  {'notbefore-custom': '0071', 'notafter-custom'...        [Stele, 250]   \n",
       "\n",
       "                                          commentary  \n",
       "0                       \\n AE 1983: Breite: 35 cm.\\n  \n",
       "1  \\n (B): [S]isenna ist falscher Kasus; folgende...  \n",
       "2  \\n Material: lokaler grauer Kalkstein. (B): St...  \n",
       "3           \\n (B): Z. 3: C(ai) l(ibertae) Tyches.\\n  \n",
       "4  \\n Der Stein ist aus 2 aneinanderpassenden Fra...  "
      ]
     },
     "execution_count": 42,
     "metadata": {},
     "output_type": "execute_result"
    }
   ],
   "source": [
    "# make a dataframe from \n",
    "edh_xml_data_df = pd.DataFrame(edh_xml_data, columns=[\"idno_uri\", \"idno_tm\", \"placenames_refs\", \"text\", \"origdate_text\", \"origdate_attrs\",\"objecttype\", \"commentary\"])\n",
    "edh_xml_data_df.head(5)"
   ]
  },
  {
   "cell_type": "code",
   "execution_count": 43,
   "metadata": {
    "colab": {
     "base_uri": "https://localhost:8080/",
     "height": 85
    },
    "colab_type": "code",
    "id": "KhmUoj2ROAWk",
    "outputId": "26979ec3-c241-4ad0-cc7d-5e17e3ac9c75"
   },
   "outputs": [
    {
     "name": "stdout",
     "output_type": "stream",
     "text": [
      "sciencedata.dk username (format '123456@au.dk'): 648597@au.dk\n",
      "sciencedata.dk password: ········\n",
      "connection with shared folder established with you as its owner\n",
      "endpoint variable has been configured to: https://sciencedata.dk/files/SDAM_root/\n"
     ]
    }
   ],
   "source": [
    "### configure session and groupurl\n",
    "conf = sddk.configure(\"SDAM_root\", \"648597@au.dk\")"
   ]
  },
  {
   "cell_type": "code",
   "execution_count": 44,
   "metadata": {},
   "outputs": [
    {
     "name": "stdout",
     "output_type": "stream",
     "text": [
      "Your <class 'pandas.core.frame.DataFrame'> object has been succefully written as \"https://sciencedata.dk/files/SDAM_root/SDAM_data/EDH/edh_xml_data_2020-09-14.json\"\n"
     ]
    }
   ],
   "source": [
    "sddk.write_file(\"SDAM_data/EDH/edh_xml_data_2020-09-14.json\", edh_xml_data_df, conf)"
   ]
  }
 ],
 "metadata": {
  "colab": {
   "collapsed_sections": [],
   "include_colab_link": true,
   "machine_shape": "hm",
   "name": "1_2_py_EXTRACTION_edh-xml_files.ipynb",
   "provenance": []
  },
  "kernelspec": {
   "display_name": "Python 3",
   "language": "python",
   "name": "python3"
  },
  "language_info": {
   "codemirror_mode": {
    "name": "ipython",
    "version": 3
   },
   "file_extension": ".py",
   "mimetype": "text/x-python",
   "name": "python",
   "nbconvert_exporter": "python",
   "pygments_lexer": "ipython3",
   "version": "3.7.8"
  }
 },
 "nbformat": 4,
 "nbformat_minor": 1
}
