{
  "nbformat": 4,
  "nbformat_minor": 0,
  "metadata": {
    "colab": {
      "name": "1_2_py_EXTRACTION_edh-xml_files.ipynb",
      "provenance": [],
      "collapsed_sections": [],
      "machine_shape": "hm",
      "include_colab_link": true
    },
    "kernelspec": {
      "name": "python3",
      "display_name": "Python 3"
    }
  },
  "cells": [
    {
      "cell_type": "markdown",
      "metadata": {
        "id": "view-in-github",
        "colab_type": "text"
      },
      "source": [
        "<a href=\"https://colab.research.google.com/github/sdam-au/edh_workflow/blob/master/scripts/1_2_py_EXTRACTION_edh-xml_files.ipynb\" target=\"_parent\"><img src=\"https://colab.research.google.com/assets/colab-badge.svg\" alt=\"Open In Colab\"/></a>"
      ]
    },
    {
      "cell_type": "markdown",
      "metadata": {
        "id": "W3ztOiWkjdYL",
        "colab_type": "text"
      },
      "source": [
        "This notebook serves to get additional data from the EDH XML/epidoc files. The reason is that some information is missing in the API data.\n"
      ]
    },
    {
      "cell_type": "code",
      "metadata": {
        "id": "mjj6VCcLkERG",
        "colab_type": "code",
        "colab": {}
      },
      "source": [
        "### REQUIREMENTS\n",
        "import numpy as np\n",
        "import math\n",
        "import pandas as pd\n",
        "\n",
        "import sys\n",
        "### we do a lot of requests during the scrapping. Some of them with requests package, some of them with urllib\n",
        "import requests\n",
        "from urllib.request import urlopen \n",
        "from urllib.parse import quote  \n",
        "from bs4 import BeautifulSoup\n",
        "import xml.etree.cElementTree as ET\n",
        "\n",
        "import zipfile\n",
        "import io\n",
        "\n",
        "# to avoid errors, we sometime use time.sleep(N) before retrying a request\n",
        "import time\n",
        "# the input data have typically a json structure\n",
        "import json\n",
        "import getpass\n",
        "\n",
        "import datetime as dt\n",
        "# for simple paralel computing:\n",
        "from concurrent.futures import ThreadPoolExecutor"
      ],
      "execution_count": 1,
      "outputs": []
    },
    {
      "cell_type": "code",
      "metadata": {
        "id": "Vxke1ehCnUtd",
        "colab_type": "code",
        "colab": {
          "base_uri": "https://localhost:8080/",
          "height": 786
        },
        "outputId": "4865f3af-a80c-46de-9eaa-91ddb9cd25b8"
      },
      "source": [
        "!pip install sddk --ignore-installed ### our own package under construction, always install to have up-to-date version\n",
        "import sddk"
      ],
      "execution_count": 2,
      "outputs": [
        {
          "output_type": "stream",
          "text": [
            "Collecting sddk\n",
            "  Using cached https://files.pythonhosted.org/packages/bf/96/3ae43f2d8ac06fc16ba111916970e5a1f3b96a3e41732fa3f099e2e5cd1c/sddk-2.6-py3-none-any.whl\n",
            "Collecting pandas\n",
            "  Using cached https://files.pythonhosted.org/packages/c0/95/cb9820560a2713384ef49060b0087dfa2591c6db6f240215c2bce1f4211c/pandas-1.0.5-cp36-cp36m-manylinux1_x86_64.whl\n",
            "Collecting numpy\n",
            "  Using cached https://files.pythonhosted.org/packages/93/0b/71ae818646c1a80fbe6776d41f480649523ed31243f1f34d9d7e41d70195/numpy-1.19.0-cp36-cp36m-manylinux2010_x86_64.whl\n",
            "Collecting requests\n",
            "  Using cached https://files.pythonhosted.org/packages/45/1e/0c169c6a5381e241ba7404532c16a21d86ab872c9bed8bdcd4c423954103/requests-2.24.0-py2.py3-none-any.whl\n",
            "Collecting matplotlib\n",
            "  Using cached https://files.pythonhosted.org/packages/e3/a8/bfd8e9ddac55a4a80235f7ccc286e4a08c97e6c4f035f21a27bcab7a51c8/matplotlib-3.2.2-cp36-cp36m-manylinux1_x86_64.whl\n",
            "Collecting pyarrow\n",
            "  Using cached https://files.pythonhosted.org/packages/ba/3f/6cac1714fff444664603f92cb9fbe91c7ae25375880158b9e9691c4584c8/pyarrow-0.17.1-cp36-cp36m-manylinux2014_x86_64.whl\n",
            "Collecting pytz>=2017.2\n",
            "  Using cached https://files.pythonhosted.org/packages/4f/a4/879454d49688e2fad93e59d7d4efda580b783c745fd2ec2a3adf87b0808d/pytz-2020.1-py2.py3-none-any.whl\n",
            "Collecting python-dateutil>=2.6.1\n",
            "  Using cached https://files.pythonhosted.org/packages/d4/70/d60450c3dd48ef87586924207ae8907090de0b306af2bce5d134d78615cb/python_dateutil-2.8.1-py2.py3-none-any.whl\n",
            "Collecting chardet<4,>=3.0.2\n",
            "  Using cached https://files.pythonhosted.org/packages/bc/a9/01ffebfb562e4274b6487b4bb1ddec7ca55ec7510b22e4c51f14098443b8/chardet-3.0.4-py2.py3-none-any.whl\n",
            "Collecting urllib3!=1.25.0,!=1.25.1,<1.26,>=1.21.1\n",
            "  Using cached https://files.pythonhosted.org/packages/e1/e5/df302e8017440f111c11cc41a6b432838672f5a70aa29227bf58149dc72f/urllib3-1.25.9-py2.py3-none-any.whl\n",
            "Collecting idna<3,>=2.5\n",
            "  Using cached https://files.pythonhosted.org/packages/89/e3/afebe61c546d18fb1709a61bee788254b40e736cff7271c7de5de2dc4128/idna-2.9-py2.py3-none-any.whl\n",
            "Collecting certifi>=2017.4.17\n",
            "  Using cached https://files.pythonhosted.org/packages/5e/c4/6c4fe722df5343c33226f0b4e0bb042e4dc13483228b4718baf286f86d87/certifi-2020.6.20-py2.py3-none-any.whl\n",
            "Collecting pyparsing!=2.0.4,!=2.1.2,!=2.1.6,>=2.0.1\n",
            "  Using cached https://files.pythonhosted.org/packages/8a/bb/488841f56197b13700afd5658fc279a2025a39e22449b7cf29864669b15d/pyparsing-2.4.7-py2.py3-none-any.whl\n",
            "Collecting cycler>=0.10\n",
            "  Using cached https://files.pythonhosted.org/packages/f7/d2/e07d3ebb2bd7af696440ce7e754c59dd546ffe1bbe732c8ab68b9c834e61/cycler-0.10.0-py2.py3-none-any.whl\n",
            "Collecting kiwisolver>=1.0.1\n",
            "  Using cached https://files.pythonhosted.org/packages/ae/23/147de658aabbf968324551ea22c0c13a00284c4ef49a77002e91f79657b7/kiwisolver-1.2.0-cp36-cp36m-manylinux1_x86_64.whl\n",
            "Collecting six>=1.5\n",
            "  Using cached https://files.pythonhosted.org/packages/ee/ff/48bde5c0f013094d729fe4b0316ba2a24774b3ff1c52d924a8a4cb04078a/six-1.15.0-py2.py3-none-any.whl\n",
            "\u001b[31mERROR: kaggle 1.5.6 has requirement urllib3<1.25,>=1.21.1, but you'll have urllib3 1.25.9 which is incompatible.\u001b[0m\n",
            "\u001b[31mERROR: google-colab 1.0.0 has requirement requests~=2.23.0, but you'll have requests 2.24.0 which is incompatible.\u001b[0m\n",
            "\u001b[31mERROR: google-colab 1.0.0 has requirement six~=1.12.0, but you'll have six 1.15.0 which is incompatible.\u001b[0m\n",
            "\u001b[31mERROR: datascience 0.10.6 has requirement folium==0.2.1, but you'll have folium 0.8.3 which is incompatible.\u001b[0m\n",
            "\u001b[31mERROR: albumentations 0.1.12 has requirement imgaug<0.2.7,>=0.2.5, but you'll have imgaug 0.2.9 which is incompatible.\u001b[0m\n",
            "Installing collected packages: numpy, pytz, six, python-dateutil, pandas, chardet, urllib3, idna, certifi, requests, pyparsing, cycler, kiwisolver, matplotlib, pyarrow, sddk\n",
            "Successfully installed certifi-2020.6.20 chardet-3.0.4 cycler-0.10.0 idna-2.9 kiwisolver-1.2.0 matplotlib-3.2.2 numpy-1.19.0 pandas-1.0.5 pyarrow-0.17.1 pyparsing-2.4.7 python-dateutil-2.8.1 pytz-2020.1 requests-2.24.0 sddk-2.6 six-1.15.0 urllib3-1.25.9\n"
          ],
          "name": "stdout"
        },
        {
          "output_type": "display_data",
          "data": {
            "application/vnd.colab-display-data+json": {
              "pip_warning": {
                "packages": [
                  "certifi",
                  "chardet",
                  "cycler",
                  "dateutil",
                  "idna",
                  "kiwisolver",
                  "matplotlib",
                  "mpl_toolkits",
                  "numpy",
                  "pandas",
                  "pyarrow",
                  "pyparsing",
                  "pytz",
                  "requests",
                  "six",
                  "urllib3"
                ]
              }
            }
          },
          "metadata": {
            "tags": []
          }
        }
      ]
    },
    {
      "cell_type": "code",
      "metadata": {
        "id": "KhmUoj2ROAWk",
        "colab_type": "code",
        "colab": {
          "base_uri": "https://localhost:8080/",
          "height": 85
        },
        "outputId": "26979ec3-c241-4ad0-cc7d-5e17e3ac9c75"
      },
      "source": [
        "### configure session and groupurl\n",
        "conf = sddk.configure(\"SDAM_root\", \"648597@au.dk\")"
      ],
      "execution_count": 3,
      "outputs": [
        {
          "output_type": "stream",
          "text": [
            "sciencedata.dk username (format '123456@au.dk'): 648597@au.dk\n",
            "sciencedata.dk password: ··········\n",
            "connection with shared folder established with you as its owner\n",
            "endpoint variable has been configured to: https://sciencedata.dk/files/SDAM_root/\n"
          ],
          "name": "stdout"
        }
      ]
    },
    {
      "cell_type": "markdown",
      "metadata": {
        "id": "9HhqXs_-Eu9m",
        "colab_type": "text"
      },
      "source": [
        "# EDH_dump.zip from sciencedata.dk"
      ]
    },
    {
      "cell_type": "code",
      "metadata": {
        "id": "Uem5tNljBiwM",
        "colab_type": "code",
        "colab": {
          "base_uri": "https://localhost:8080/",
          "height": 68
        },
        "outputId": "a0b93c82-c50e-4e32-ff8b-157989ecb2e7"
      },
      "source": [
        "### based on this: https://stackoverflow.com/questions/9419162/download-returned-zip-file-from-url\n",
        "%%time\n",
        "response = conf[0].get(conf[1] + \"SDAM_data/EDH/EDH_dump.zip\")\n",
        "### check the response status\n",
        "print(response)"
      ],
      "execution_count": 7,
      "outputs": [
        {
          "output_type": "stream",
          "text": [
            "<Response [200]>\n",
            "CPU times: user 576 ms, sys: 425 ms, total: 1 s\n",
            "Wall time: 37.1 s\n"
          ],
          "name": "stdout"
        }
      ]
    },
    {
      "cell_type": "code",
      "metadata": {
        "id": "Vdd2SAkACl0w",
        "colab_type": "code",
        "colab": {
          "base_uri": "https://localhost:8080/",
          "height": 51
        },
        "outputId": "3ac41ec8-e7ec-48fc-a6c5-3228661a0395"
      },
      "source": [
        "%%time\n",
        "zipped = zipfile.ZipFile(io.BytesIO(response.content))"
      ],
      "execution_count": 8,
      "outputs": [
        {
          "output_type": "stream",
          "text": [
            "CPU times: user 1.35 s, sys: 129 ms, total: 1.47 s\n",
            "Wall time: 1.47 s\n"
          ],
          "name": "stdout"
        }
      ]
    },
    {
      "cell_type": "code",
      "metadata": {
        "id": "eHhYPvVTDkgS",
        "colab_type": "code",
        "colab": {
          "base_uri": "https://localhost:8080/",
          "height": 34
        },
        "outputId": "db0fab65-e477-4c0e-c643-4842e6a91f68"
      },
      "source": [
        "### names of all files within the zipped directory\n",
        "namelist = zipped.namelist()[1:] ### index \"0\" is for main directory\n",
        "len(namelist)"
      ],
      "execution_count": 9,
      "outputs": [
        {
          "output_type": "execute_result",
          "data": {
            "text/plain": [
              "157271"
            ]
          },
          "metadata": {
            "tags": []
          },
          "execution_count": 9
        }
      ]
    },
    {
      "cell_type": "code",
      "metadata": {
        "id": "JK7ax_PkOj0g",
        "colab_type": "code",
        "colab": {
          "base_uri": "https://localhost:8080/",
          "height": 34
        },
        "outputId": "7cb4d4bb-a67e-4a12-ce7a-551909db3c6c"
      },
      "source": [
        "### it is too long, there are probably some mac hidden files included as well. \n",
        "### Let's remove them\n",
        "namelist = [name for name in namelist if not \"._\" in name]\n",
        "namelist = [name for name in namelist if  \".xml\" in name]\n",
        "len(namelist)"
      ],
      "execution_count": 10,
      "outputs": [
        {
          "output_type": "execute_result",
          "data": {
            "text/plain": [
              "78634"
            ]
          },
          "metadata": {
            "tags": []
          },
          "execution_count": 10
        }
      ]
    },
    {
      "cell_type": "code",
      "metadata": {
        "id": "xZRCyB13OtjI",
        "colab_type": "code",
        "colab": {
          "base_uri": "https://localhost:8080/",
          "height": 187
        },
        "outputId": "f8f171a1-452b-4e5e-94a9-f067361cd7e1"
      },
      "source": [
        "### show first 10 files\n",
        "namelist[:10]"
      ],
      "execution_count": 12,
      "outputs": [
        {
          "output_type": "execute_result",
          "data": {
            "text/plain": [
              "['EDH_dump/HD046916.xml',\n",
              " 'EDH_dump/HD078620.xml',\n",
              " 'EDH_dump/HD000943.xml',\n",
              " 'EDH_dump/HD011696.xml',\n",
              " 'EDH_dump/HD031546.xml',\n",
              " 'EDH_dump/HD077513.xml',\n",
              " 'EDH_dump/HD029309.xml',\n",
              " 'EDH_dump/HD001485.xml',\n",
              " 'EDH_dump/HD036229.xml',\n",
              " 'EDH_dump/HD068433.xml']"
            ]
          },
          "metadata": {
            "tags": []
          },
          "execution_count": 12
        }
      ]
    },
    {
      "cell_type": "code",
      "metadata": {
        "id": "dWkxTU0dSj3N",
        "colab_type": "code",
        "colab": {}
      },
      "source": [
        "### look how it works in generating soups\n",
        "list_of_soups = []\n",
        "for filename in namelist[:10000]:\n",
        "  soup = BeautifulSoup(zipped.read(filename))\n",
        "  list_of_soups.append(soup)"
      ],
      "execution_count": 18,
      "outputs": []
    },
    {
      "cell_type": "code",
      "metadata": {
        "id": "mfZnCXsfqRkm",
        "colab_type": "code",
        "colab": {
          "base_uri": "https://localhost:8080/",
          "height": 1000
        },
        "outputId": "295265ce-99a5-4d3f-8af2-405d54a690c8"
      },
      "source": [
        "### look at one soup\n",
        "print(list_of_soups[0].prettify)"
      ],
      "execution_count": 15,
      "outputs": [
        {
          "output_type": "stream",
          "text": [
            "<bound method Tag.prettify of <?xml version=\"1.0\" encoding=\"UTF-8\"?><?xml-model href=\"http://www.stoa.org/epidoc/schema/latest/tei-epidoc.rng\" schematypens=\"http://relaxng.org/ns/structure/1.0\"?><html><body><tei xml:base=\"ex-epidoctemplate.xml\" xml:lang=\"de\" xml:space=\"preserve\" xmlns=\"http://www.tei-c.org/ns/1.0\">\n",
            "<teiheader>\n",
            "<filedesc>\n",
            "<titlestmt>\n",
            "<title>Grabinschrift auf Tafel</title>\n",
            "</titlestmt>\n",
            "<publicationstmt>\n",
            "<authority>Epigraphische Datenbank Heidelberg</authority>\n",
            "<idno type=\"URI\">http://edh-www.adw.uni-heidelberg.de/edh/inschrift/HD046916</idno>\n",
            "<idno type=\"TM\">214091</idno><idno type=\"localID\">HD046916</idno>\n",
            "<availability>\n",
            "<p>© Heidelberg Academy of Sciences and Humanities</p>\n",
            "<licence target=\"http://creativecommons.org/licenses/by-sa/4.0/\">This file is licensed under the Creative Commons Attribution-ShareAlike 4.0 license.\n",
            "                    </licence>\n",
            "</availability>\n",
            "</publicationstmt>\n",
            "<sourcedesc>\n",
            "<msdesc>\n",
            "<msidentifier>\n",
            "<repository ref=\"www.trismegistos.org/\">Grenoble, Mus. de l'ancien évêché</repository>\n",
            "<collection></collection>\n",
            "<idno></idno>\n",
            "</msidentifier>\n",
            "<physdesc>\n",
            "<objectdesc>\n",
            "<supportdesc>\n",
            "<support>\n",
            "<objecttype ref=\"http://www.eagle-network.eu/voc/objtyp/lod/257\">Tafel</objecttype>\n",
            "<material ref=\"http://www.eagle-network.eu/voc/material/lod/138\">unbestimmt</material>\n",
            "<p></p>\n",
            "<dimensions unit=\"cm\">\n",
            "<height>19.6</height>\n",
            "<width>19</width>\n",
            "<depth>3</depth>\n",
            "</dimensions>\n",
            "<rs ref=\"http://www.eagle-network.eu/voc/decor/lod/2000\" type=\"decoration\">Ja</rs>\n",
            "</support>\n",
            "</supportdesc>\n",
            "<layoutdesc>\n",
            "<layout>\n",
            "<rs ref=\"http://www.eagle-network.eu/voc/writing/lod/21\" type=\"execution\">unbestimmt</rs>\n",
            "</layout>\n",
            "</layoutdesc>\n",
            "</objectdesc>\n",
            "<handdesc>\n",
            "<handnote>\n",
            "<dimensions>\n",
            "<width unit=\"cm\"></width>\n",
            "<height unit=\"cm\">1-2.3</height>\n",
            "</dimensions>\n",
            "</handnote>\n",
            "</handdesc>\n",
            "</physdesc>\n",
            "<history>\n",
            "<origin>\n",
            "<origplace><placename ref=\"http://www.trismegistos.org/place/019860\" type=\"provinceItalicRegion\">Narbonensis</placename><placename ref=\"http://www.trismegistos.org/place/002036\"></placename></origplace>\n",
            "<origdate datingmethod=\"http://en.wikipedia.org/wiki/Julian_calendar\" notafter-custom=\"0600\" notbefore-custom=\"0551\">551 AD – 600 AD\n",
            "                            </origdate>\n",
            "</origin>\n",
            "<provenance type=\"found\">\n",
            "<date when=\"1996\">1996</date>\n",
            "<placename ref=\"http://www.geonames.org/2970735\">Varces-Allières-et-Risset</placename><placename ref=\"http://www.geonames.org/\" type=\"modern_region\"></placename><placename ref=\"http://www.geonames.org/countries/fr/\" type=\"modernCountry\">Frankreich</placename></provenance>\n",
            "</history>\n",
            "</msdesc>\n",
            "</sourcedesc>\n",
            "</filedesc>\n",
            "<encodingdesc>\n",
            "<p>Marked-up according to the EpiDoc Guidelines</p>\n",
            "<classdecl>\n",
            "<taxonomy>\n",
            "<category xml:id=\"representation\">\n",
            "<catdesc>Digitized other representations</catdesc>\n",
            "</category>\n",
            "</taxonomy>\n",
            "</classdecl>\n",
            "</encodingdesc>\n",
            "<profiledesc>\n",
            "<textclass>\n",
            "<keywords>\n",
            "<term ref=\"http://www.eagle-network.eu/voc/typeins/lod/92\">Grabinschrift</term>\n",
            "</keywords>\n",
            "</textclass>\n",
            "<langusage>\n",
            "<language ident=\"ar\">Arabic</language>\n",
            "<language ident=\"en\">English</language>\n",
            "<language ident=\"fr\">French</language>\n",
            "<language ident=\"de\">German</language>\n",
            "<language ident=\"grc\">Ancient Greek</language>\n",
            "<language ident=\"grc-Latn\">Transliterated Greek</language>\n",
            "<language ident=\"el\">Modern Greek</language>\n",
            "<language ident=\"he\">Hebrew</language>\n",
            "<language ident=\"it\">Italian</language>\n",
            "<language ident=\"la\">Latin</language>\n",
            "<language ident=\"sp\">Spanish</language>\n",
            "</langusage>\n",
            "<creation>EAGLE - Europeana Network of Ancient Greek and Latin Epigraphy</creation></profiledesc>\n",
            "<revisiondesc>\n",
            "<change when=\"2008-02-11\" who=\"Platz\">\n",
            "             provisorisch bearbeitet\n",
            "         </change>\n",
            "</revisiondesc>\n",
            "</teiheader>\n",
            "<text>\n",
            "<div type=\"bibliography\">\n",
            "<listbibl>\n",
            "<bibl>\n",
            "                        AE 2001, 1338. \n",
            "                    </bibl>\n",
            "</listbibl>\n",
            "</div>\n",
            "<!--\n",
            "                [In h]oc tumu/[lo m]eserecor/[dia! Ch]risti re/[quiesc]et in / [pace b]on(a)e / [memoriae] / [- - - - - -\n",
            "            --><div type=\"edition\" xml:lang=\"la\">Text<ab><lb n=\"1\"></lb>\n",
            "<supplied reason=\"lost\">In h</supplied>oc tumu<lb break=\"no\" n=\"2\"></lb><supplied reason=\"lost\">lo m</supplied>eserecor<lb break=\"no\" n=\"3\"></lb><supplied reason=\"lost\">dia! Ch</supplied>risti re<lb break=\"no\" n=\"4\"></lb><supplied reason=\"lost\">quiesc</supplied>et in <lb n=\"5\"></lb><supplied reason=\"lost\">pace b</supplied>on<expan><ex>a</ex><abbr>e</abbr></expan> <lb n=\"6\"></lb><supplied reason=\"lost\">memoriae</supplied> <lb n=\"0\"></lb><gap extent=\"unknown\" reason=\"lost\" unit=\"line\"></gap>\n",
            "</ab></div>\n",
            "<div type=\"apparatus\">\n",
            "<p></p>\n",
            "</div>\n",
            "<div type=\"commentary\">\n",
            "<p></p>\n",
            "</div>\n",
            "</text>\n",
            "</tei></body></html>>\n"
          ],
          "name": "stdout"
        }
      ]
    },
    {
      "cell_type": "markdown",
      "metadata": {
        "id": "ODzmqKmNlJHJ",
        "colab_type": "text"
      },
      "source": [
        "# Make soups and extract useful data from them"
      ]
    },
    {
      "cell_type": "code",
      "metadata": {
        "id": "tnZnn-2hVDFN",
        "colab_type": "code",
        "colab": {
          "base_uri": "https://localhost:8080/",
          "height": 51
        },
        "outputId": "a8a94c57-7f15-4a27-8c1f-a222a9b514ad"
      },
      "source": [
        "%%time\n",
        "edh_xml_data = []\n",
        "for filename in namelist:\n",
        "  soup = BeautifulSoup(zipped.read(filename))\n",
        "  try:\n",
        "    idno_uri = soup.find(\"idno\", attrs={\"type\" : \"URI\"}).get_text()\n",
        "    idno_tm = soup.find(\"idno\", attrs={\"type\" : \"TM\"}).get_text()\n",
        "    placenames_refs = []\n",
        "    try: \n",
        "      placenames = soup.find_all(\"placename\")\n",
        "      for placename in placenames:\n",
        "        placenames_refs.append(placename[\"ref\"])\n",
        "    except: placenames_refs = []\n",
        "    text_tag = soup.find(\"div\", attrs={\"type\" : \"edition\"})\n",
        "    commentary = soup.find(\"div\", attrs={\"type\" : \"commentary\"}).get_text()\n",
        "    text = \" \".join(text_tag.get_text().splitlines()[1:])\n",
        "    origdate_text = soup.find(\"origdate\").get_text().replace(\"\\n\", \"\")\n",
        "    origdate_attrs = soup.origdate.attrs\n",
        "    objecttype = [soup.find(\"objecttype\").get_text(), str(soup.find(\"objecttype\")).partition(\"lod/\")[2].partition(\"\\\">\")[0]]\n",
        "    edh_xml_data.append([idno_uri, idno_tm, placenames_refs, text, origdate_text, origdate_attrs, objecttype, commentary])\n",
        "  except:\n",
        "    pass"
      ],
      "execution_count": 21,
      "outputs": [
        {
          "output_type": "stream",
          "text": [
            "CPU times: user 8min 48s, sys: 825 ms, total: 8min 49s\n",
            "Wall time: 8min 49s\n"
          ],
          "name": "stdout"
        }
      ]
    },
    {
      "cell_type": "code",
      "metadata": {
        "id": "7pMUNWo4j_Br",
        "colab_type": "code",
        "colab": {
          "base_uri": "https://localhost:8080/",
          "height": 51
        },
        "outputId": "254949bd-d763-446d-aff6-1073fa0d1cfa"
      },
      "source": [
        "%%time\n",
        "edh_xml_data_df = pd.DataFrame(edh_xml_data, columns=[\"idno_uri\", \"idno_tm\", \"placenames_refs\", \"text\", \"origdate_text\", \"origdate_attrs\",\"objecttype\", \"commentary\"])\n",
        "edh_xml_data_df.head(5)"
      ],
      "execution_count": 22,
      "outputs": [
        {
          "output_type": "stream",
          "text": [
            "CPU times: user 189 ms, sys: 6 ms, total: 195 ms\n",
            "Wall time: 194 ms\n"
          ],
          "name": "stdout"
        }
      ]
    },
    {
      "cell_type": "code",
      "metadata": {
        "id": "5bmkc8qBpzbI",
        "colab_type": "code",
        "colab": {
          "base_uri": "https://localhost:8080/",
          "height": 34
        },
        "outputId": "6ed3b832-5359-4dd2-825e-6ed623823195"
      },
      "source": [
        "len(edh_xml_data_df) # 78631"
      ],
      "execution_count": 23,
      "outputs": [
        {
          "output_type": "execute_result",
          "data": {
            "text/plain": [
              "78631"
            ]
          },
          "metadata": {
            "tags": []
          },
          "execution_count": 23
        }
      ]
    },
    {
      "cell_type": "code",
      "metadata": {
        "id": "RPibe-pnlpbg",
        "colab_type": "code",
        "colab": {
          "base_uri": "https://localhost:8080/",
          "height": 34
        },
        "outputId": "7e240a69-7107-4591-9fd0-2c72ad564c0d"
      },
      "source": [
        "### put your dataframe data into this folder\n",
        "sddk.write_file(\"SDAM_data/EDH/edh_xml_data_2020-06-23.json\", edh_xml_data_df, conf)\n",
        "# original\n",
        "# s.put(sciencedata_groupurl + \"SDAM_data/EDH/edh_xml_data_df.json\", data=edh_xml_data_df.to_json())"
      ],
      "execution_count": 27,
      "outputs": [
        {
          "output_type": "stream",
          "text": [
            "Your <class 'pandas.core.frame.DataFrame'> object has been succefully written as \"https://sciencedata.dk/files/SDAM_root/SDAM_data/EDH/edh_xml_data_2020-06-23.json\"\n"
          ],
          "name": "stdout"
        }
      ]
    },
    {
      "cell_type": "code",
      "metadata": {
        "id": "FPO19Oo8vchl",
        "colab_type": "code",
        "colab": {}
      },
      "source": [
        ""
      ],
      "execution_count": null,
      "outputs": []
    }
  ]
}